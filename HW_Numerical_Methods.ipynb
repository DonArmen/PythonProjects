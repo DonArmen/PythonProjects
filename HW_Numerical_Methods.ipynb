{
  "nbformat": 4,
  "nbformat_minor": 0,
  "metadata": {
    "kernelspec": {
      "display_name": "Python 3",
      "language": "python",
      "name": "python3"
    },
    "language_info": {
      "codemirror_mode": {
        "name": "ipython",
        "version": 3
      },
      "file_extension": ".py",
      "mimetype": "text/x-python",
      "name": "python",
      "nbconvert_exporter": "python",
      "pygments_lexer": "ipython3",
      "version": "3.6.3"
    },
    "colab": {
      "name": "HW_Numerical_Methods.ipynb",
      "provenance": []
    }
  },
  "cells": [
    {
      "cell_type": "markdown",
      "metadata": {
        "id": "PNfJFxGeOcSA",
        "colab_type": "text"
      },
      "source": [
        "## Задание 2.1"
      ]
    },
    {
      "cell_type": "markdown",
      "metadata": {
        "id": "Y3GfwSX-OcSC",
        "colab_type": "text"
      },
      "source": [
        "### Для Функции f(x)"
      ]
    },
    {
      "cell_type": "code",
      "metadata": {
        "id": "s9G0mpQfOcSE",
        "colab_type": "code",
        "colab": {}
      },
      "source": [
        "from scipy.misc import derivative\n",
        "import math as mth\n",
        "import matplotlib.pyplot as plt\n",
        "import numpy as np\n",
        "from sympy import *\n",
        "%matplotlib inline"
      ],
      "execution_count": null,
      "outputs": []
    },
    {
      "cell_type": "code",
      "metadata": {
        "id": "a285B0HROcSN",
        "colab_type": "code",
        "colab": {},
        "outputId": "d855f327-e753-468e-b832-aa65d7e39660"
      },
      "source": [
        "#Аналитическое решение для f(x)\n",
        "t = Symbol('t')\n",
        "print(solve(cos(t)**(2) - (1/(2**(1/2))+1/4)*cos(t) + 1/(4*(2**(1/2))), t))"
      ],
      "execution_count": null,
      "outputs": [
        {
          "output_type": "stream",
          "text": [
            "[0.785398163397450, 1.31811607165282, 4.96506923552677, 5.49778714378214]\n"
          ],
          "name": "stdout"
        }
      ]
    },
    {
      "cell_type": "code",
      "metadata": {
        "id": "SuRRF593OcSU",
        "colab_type": "code",
        "colab": {}
      },
      "source": [
        "#Инициализируем заданную функцию\n",
        "def f(x):\n",
        "    return np.cos(x)**(2) - (1/(2**(1/2))+1/4)*np.cos(x) + 1/(4*(2**(1/2)))"
      ],
      "execution_count": null,
      "outputs": []
    },
    {
      "cell_type": "code",
      "metadata": {
        "scrolled": true,
        "id": "xaiGM7mEOcSY",
        "colab_type": "code",
        "colab": {},
        "outputId": "277cca11-88e3-47f3-c9e5-9965ecf8d151"
      },
      "source": [
        "#Графически локализуем корни f(x)\n",
        "x = np.linspace(0, 2, 200)\n",
        "plt.plot(x, f(x))\n",
        "plt.grid(True)"
      ],
      "execution_count": null,
      "outputs": [
        {
          "output_type": "display_data",
          "data": {
            "image/png": "[encoded data removed]",
            "text/plain": [
              "<matplotlib.figure.Figure at 0x2738a87be0>"
            ]
          },
          "metadata": {
            "tags": []
          }
        }
      ]
    },
    {
      "cell_type": "code",
      "metadata": {
        "id": "W_MEClcjOcSb",
        "colab_type": "code",
        "colab": {}
      },
      "source": [
        "#Функция реализующая алгоритм Бисекции с заданной точностью для отрезка [a,b]\n",
        "def bis(a, b, e, x0):\n",
        "    while ((b-a)/2)>(e):\n",
        "        if f(a)*f(x0)<0:\n",
        "            b = x0\n",
        "        elif f(b)*f(x0)<0:\n",
        "            a = x0\n",
        "        else:\n",
        "            break\n",
        "        x0 = (b+a)/2\n",
        "    return x0"
      ],
      "execution_count": null,
      "outputs": []
    },
    {
      "cell_type": "code",
      "metadata": {
        "id": "v5M6PDd6OcSe",
        "colab_type": "code",
        "colab": {},
        "outputId": "fc4451b1-fbdb-486f-ac1c-fb9850ed5d8f"
      },
      "source": [
        "#Нахождение корней методом бисекции \n",
        "a1 = 0\n",
        "b1 = 1\n",
        "e1 = 10**(-10)\n",
        "x01 = (b1+a1)/2\n",
        "print(bis(a1, b1, e1, x01))\n",
        "\n",
        "\n",
        "a2 = 1\n",
        "b2 = 1.5\n",
        "e2 = 10**(-10)\n",
        "x02 = (b2+a2)/2\n",
        "print(bis(a2, b2, e2, x02))"
      ],
      "execution_count": null,
      "outputs": [
        {
          "output_type": "stream",
          "text": [
            "0.7853981634252705\n",
            "1.3181160716922022\n"
          ],
          "name": "stdout"
        }
      ]
    },
    {
      "cell_type": "markdown",
      "metadata": {
        "id": "-GM7oSSsOcSg",
        "colab_type": "text"
      },
      "source": [
        "### Для Функции g(x)"
      ]
    },
    {
      "cell_type": "code",
      "metadata": {
        "id": "rmOFggVaOcSg",
        "colab_type": "code",
        "colab": {},
        "outputId": "0868c64e-c3db-4378-8c55-8bd3660d329b"
      },
      "source": [
        "#Аналитическое решение для g(x)\n",
        "print(solve(cos(t)**(2) - (2/(2**(1/2)))*cos(t) + 1/2, t))"
      ],
      "execution_count": null,
      "outputs": [
        {
          "output_type": "stream",
          "text": [
            "[0.785398163397455 - 8.44990166920631e-8*I, 0.785398163397455 + 8.44990166920631e-8*I, 5.49778714378213 - 8.44990166920647e-8*I, 5.49778714378213 + 8.44990166920647e-8*I]\n"
          ],
          "name": "stdout"
        }
      ]
    },
    {
      "cell_type": "code",
      "metadata": {
        "id": "ln-0__5OOcSj",
        "colab_type": "code",
        "colab": {}
      },
      "source": [
        "#Инициализация функции g(x)\n",
        "def g(x):\n",
        "    return np.cos(x)**(2) - (2/(2**(1/2)))*np.cos(x) + 1/2"
      ],
      "execution_count": null,
      "outputs": []
    },
    {
      "cell_type": "code",
      "metadata": {
        "id": "pg28EyGpOcSl",
        "colab_type": "code",
        "colab": {},
        "outputId": "deb69647-36dd-4c43-d0d9-bc61d8724b1c"
      },
      "source": [
        "#Локализируем корни графически\n",
        "plt.plot(x, g(x))\n",
        "plt.grid(True)"
      ],
      "execution_count": null,
      "outputs": [
        {
          "output_type": "display_data",
          "data": {
            "image/png": "[encoded data removed]",
            "text/plain": [
              "<matplotlib.figure.Figure at 0x2738a87b70>"
            ]
          },
          "metadata": {
            "tags": []
          }
        }
      ]
    },
    {
      "cell_type": "code",
      "metadata": {
        "id": "_0ky2UtQOcSm",
        "colab_type": "code",
        "colab": {}
      },
      "source": [
        "#Реализация алгоритма бисекции для g(x)\n",
        "def bis1(a, b, e, x0):\n",
        "    while ((b-a)/2)>(e):\n",
        "        if g(a)*g(x0)<0:\n",
        "            b = x0\n",
        "        elif g(b)*g(x0)<0:\n",
        "            a = x0\n",
        "        else:\n",
        "            break\n",
        "        x0 = (b+a)/2\n",
        "    return x0"
      ],
      "execution_count": null,
      "outputs": []
    },
    {
      "cell_type": "code",
      "metadata": {
        "id": "CNFpMI85OcSo",
        "colab_type": "code",
        "colab": {},
        "outputId": "3d9d9a50-665b-4fef-e9c9-070f04585e22"
      },
      "source": [
        "#Нахождение корней методом бисекции для g(x) \n",
        "a3 = 0\n",
        "b3 = 1.5\n",
        "e3 = 10**(-10)\n",
        "x03 = (b3+a3)/2\n",
        "print(bis1(a3, b3, e3, x03))"
      ],
      "execution_count": null,
      "outputs": [
        {
          "output_type": "stream",
          "text": [
            "0.75\n"
          ],
          "name": "stdout"
        }
      ]
    },
    {
      "cell_type": "code",
      "metadata": {
        "id": "GTRriBm8OcSq",
        "colab_type": "code",
        "colab": {}
      },
      "source": [
        "#Так как корень кратности 2 то его методом бисекции найти нельзя,\n",
        "#следовательно алоритм выдаст нам просто середину отрезка локализаии."
      ],
      "execution_count": null,
      "outputs": []
    },
    {
      "cell_type": "markdown",
      "metadata": {
        "id": "HF_t7NqSOcSs",
        "colab_type": "text"
      },
      "source": [
        "## Задание 2.2"
      ]
    },
    {
      "cell_type": "code",
      "metadata": {
        "id": "4Ws4YMjPOcSs",
        "colab_type": "code",
        "colab": {}
      },
      "source": [
        "#Инициализируем заданую функцию\n",
        "def f2(x):\n",
        "    return (x**(1/2)-np.cos(x))"
      ],
      "execution_count": null,
      "outputs": []
    },
    {
      "cell_type": "code",
      "metadata": {
        "scrolled": true,
        "id": "UzzWMicbOcSu",
        "colab_type": "code",
        "colab": {},
        "outputId": "d75a9437-f650-4148-ba60-bfdcbcf78c89"
      },
      "source": [
        "#Находим ее производную\n",
        "diff(t**(1/2)-cos(t))"
      ],
      "execution_count": null,
      "outputs": [
        {
          "output_type": "execute_result",
          "data": {
            "text/plain": [
              "0.5*t**(-0.5) + sin(t)"
            ]
          },
          "metadata": {
            "tags": []
          },
          "execution_count": 14
        }
      ]
    },
    {
      "cell_type": "code",
      "metadata": {
        "id": "34ja3NO1OcSw",
        "colab_type": "code",
        "colab": {}
      },
      "source": [
        "#Инициализируем производную\n",
        "def f22(x):\n",
        "    return (0.5*x**(-0.5) + np.sin(x))"
      ],
      "execution_count": null,
      "outputs": []
    },
    {
      "cell_type": "code",
      "metadata": {
        "scrolled": true,
        "id": "jvGlAIQROcSx",
        "colab_type": "code",
        "colab": {},
        "outputId": "6bc63c19-3d76-442b-a432-ed4313e2c064"
      },
      "source": [
        "#Локазируем корни граически, для того чтобы найти отрезок локализации\n",
        "x1 = np.linspace(0,2)\n",
        "plt.grid(True)\n",
        "plt.plot(x1, f2(x1))"
      ],
      "execution_count": null,
      "outputs": [
        {
          "output_type": "execute_result",
          "data": {
            "text/plain": [
              "[<matplotlib.lines.Line2D at 0x2738f54978>]"
            ]
          },
          "metadata": {
            "tags": []
          },
          "execution_count": 16
        },
        {
          "output_type": "display_data",
          "data": {
            "image/png": "[encoded data removed]",
            "text/plain": [
              "<matplotlib.figure.Figure at 0x2738f0ff98>"
            ]
          },
          "metadata": {
            "tags": []
          }
        }
      ]
    },
    {
      "cell_type": "code",
      "metadata": {
        "id": "CLdnFBvGOcS0",
        "colab_type": "code",
        "colab": {}
      },
      "source": [
        "#Реализация алгоритма для метода бисекции\n",
        "def bis2(a, b, e, x0, f):\n",
        "    n = 0\n",
        "    while ((b-a)/2)>(e):\n",
        "        if f(a)*f(x0)<0:\n",
        "            b = x0\n",
        "        elif f(b)*f(x0)<0:\n",
        "            a = x0\n",
        "        else:\n",
        "            break\n",
        "        x0 = (b+a)/2\n",
        "        n = n + 1\n",
        "    return (x0, n)"
      ],
      "execution_count": null,
      "outputs": []
    },
    {
      "cell_type": "code",
      "metadata": {
        "id": "jp-By7B4OcS2",
        "colab_type": "code",
        "colab": {},
        "outputId": "21b8757b-8dde-4edb-845f-cda245a8c41d"
      },
      "source": [
        "#Нахождение корня методом бисекции, на отрезке локализации от a22 до b22\n",
        "a22 = 0\n",
        "b22 = 2\n",
        "x022 = (a22+b22)/2\n",
        "e22 = 10**(-6)\n",
        "print(bis2(a22, b22, e22, x022, f2))"
      ],
      "execution_count": null,
      "outputs": [
        {
          "output_type": "stream",
          "text": [
            "(0.6417150497436523, 20)\n"
          ],
          "name": "stdout"
        }
      ]
    },
    {
      "cell_type": "code",
      "metadata": {
        "id": "hzDMOD17OcS3",
        "colab_type": "code",
        "colab": {}
      },
      "source": [
        "#Реализация алгоритма методом бисекции\n",
        "def newton22(xn, xn1, e, f0, f1):\n",
        "    n = 0\n",
        "    while (abs(xn1-xn)>e):\n",
        "        \n",
        "        xn = xn1\n",
        "        \n",
        "        xn1 = xn - f0(xn)/f1(xn)\n",
        "        n = n + 1\n",
        "    return (xn1, n)"
      ],
      "execution_count": null,
      "outputs": []
    },
    {
      "cell_type": "code",
      "metadata": {
        "id": "lhILdy7WOcS5",
        "colab_type": "code",
        "colab": {},
        "outputId": "561c0259-49cb-47e5-fd72-7ba196332301"
      },
      "source": [
        "#Нахождение корня методом Ньютона, в каествестве начального приближения середина отрезка [0, 2], т.е. xn22\n",
        "xn22 = 1\n",
        "xn122 = xn22 - f2(xn22)/derivative(f2,xn22)\n",
        "print(newton22(xn22, xn122, e22, f2,f22))"
      ],
      "execution_count": null,
      "outputs": [
        {
          "output_type": "stream",
          "text": [
            "(0.64171437087288263, 3)\n"
          ],
          "name": "stdout"
        }
      ]
    },
    {
      "cell_type": "code",
      "metadata": {
        "id": "paZaJ4HVOcS7",
        "colab_type": "code",
        "colab": {}
      },
      "source": [
        "#Метод бисекции сходится линейно со скорстью 1/2\n",
        "#https://math.semestr.ru/optim/dichotomy.php\n",
        "#Метод Ньютона сходится квадратично"
      ],
      "execution_count": null,
      "outputs": []
    },
    {
      "cell_type": "markdown",
      "metadata": {
        "id": "pftsWCmjOcS8",
        "colab_type": "text"
      },
      "source": [
        "### Задание 2.3"
      ]
    },
    {
      "cell_type": "code",
      "metadata": {
        "id": "zbB1d4mdOcS8",
        "colab_type": "code",
        "colab": {}
      },
      "source": [
        "#Правая часть в преобраховании функции f(x)=0 к виду х=f1(x)\n",
        "def g1(x):\n",
        "    return(np.exp(-x**2))"
      ],
      "execution_count": null,
      "outputs": []
    },
    {
      "cell_type": "code",
      "metadata": {
        "id": "164VWkCMOcS9",
        "colab_type": "code",
        "colab": {}
      },
      "source": [
        "#Инициализация f(x)\n",
        "def cg1(x):\n",
        "    return(x - np.exp(-x**2))"
      ],
      "execution_count": null,
      "outputs": []
    },
    {
      "cell_type": "code",
      "metadata": {
        "id": "VyaMXQhVOcS_",
        "colab_type": "code",
        "colab": {}
      },
      "source": [
        "#Производная функции f(x)\n",
        "def g11(x):\n",
        "    return(2*x*np.exp(-x**2)+1)"
      ],
      "execution_count": null,
      "outputs": []
    },
    {
      "cell_type": "code",
      "metadata": {
        "id": "MSzyA0vFOcTA",
        "colab_type": "code",
        "colab": {}
      },
      "source": [
        "def x(x):\n",
        "    return(x)"
      ],
      "execution_count": null,
      "outputs": []
    },
    {
      "cell_type": "code",
      "metadata": {
        "id": "3MHCNV21OcTC",
        "colab_type": "code",
        "colab": {},
        "outputId": "c9124eef-ed6a-4c50-ab01-a0b2bffc2bc9"
      },
      "source": [
        "# Графическое отображение функций y = x, y = g1(x), y = g11(x)\n",
        "x1 = np.linspace(-2,2)\n",
        "plt.grid(True)\n",
        "plt.plot(x1, g1(x1), 'r')\n",
        "plt.plot(x1, g11(x1), 'g')\n",
        "plt.plot(x1, x(x1), 'b')"
      ],
      "execution_count": null,
      "outputs": [
        {
          "output_type": "execute_result",
          "data": {
            "text/plain": [
              "[<matplotlib.lines.Line2D at 0x2738fcc748>]"
            ]
          },
          "metadata": {
            "tags": []
          },
          "execution_count": 26
        },
        {
          "output_type": "display_data",
          "data": {
            "image/png": "[encoded data removed]",
            "text/plain": [
              "<matplotlib.figure.Figure at 0x2738eb7278>"
            ]
          },
          "metadata": {
            "tags": []
          }
        }
      ]
    },
    {
      "cell_type": "code",
      "metadata": {
        "id": "FXygc9d-OcTD",
        "colab_type": "code",
        "colab": {}
      },
      "source": [
        "#Метод итерации для пеобразовния в пункте 2.3.а\n",
        "def iterac1(xn, xn1, e, q, f, a):\n",
        "    n = 0\n",
        "    while(abs(xn-xn1)>(((1-q)*e)/q)):\n",
        "        xn = xn1\n",
        "        xn1 =xn1 - a*f(xn1)\n",
        "        n = n + 1\n",
        "    return (xn1, n, q)"
      ],
      "execution_count": null,
      "outputs": []
    },
    {
      "cell_type": "code",
      "metadata": {
        "id": "EGm99-2zOcTE",
        "colab_type": "code",
        "colab": {}
      },
      "source": [
        "#Метод итерации для пеобразовния в пункте 2.3.б\n",
        "def iterac(xn, xn1, e, q, f):\n",
        "    n = 0\n",
        "    while(abs(xn-xn1)>(((1-q)*e)/q)):\n",
        "        xn = xn1\n",
        "        xn1 = f(xn1)\n",
        "        n = n + 1\n",
        "    return (xn1, n, q)"
      ],
      "execution_count": null,
      "outputs": []
    },
    {
      "cell_type": "code",
      "metadata": {
        "id": "dfOIIjg2OcTF",
        "colab_type": "code",
        "colab": {},
        "outputId": "90a20612-f006-43a6-eb08-e95715472e75"
      },
      "source": [
        "#Инициализация параметров для метода простойитерации\n",
        "x2 = np.linspace(-100, 100)\n",
        "\n",
        "m = min(g11(x1))\n",
        "M = max(g11(x1))\n",
        "\n",
        "xn = 2\n",
        "\n",
        "e = 10**(-5)\n",
        "q1 = (M-m)/(m + M)\n",
        "q2 = max((-2)*x2*np.exp(-x2**2))\n",
        "a = 2/(M + m)\n",
        "\n",
        "xn1 = xn -  a*cg1(xn)\n",
        "xn12 = g1(xn)\n",
        "\n",
        "print(iterac1(xn, xn1, e, q1, cg1, a))#первое число- корень, вторе - число итераций, третье - параметр q для 2-х разных пунктов\n",
        "print(iterac(xn, xn12, e, q2, g1))"
      ],
      "execution_count": null,
      "outputs": [
        {
          "output_type": "stream",
          "text": [
            "(0.65291796948090475, 82, 0.85746180025269014)\n",
            "(0.65286033130448606, 54, 0.063390947591838442)\n"
          ],
          "name": "stdout"
        }
      ]
    },
    {
      "cell_type": "code",
      "metadata": {
        "id": "-MxD8RU2OcTG",
        "colab_type": "code",
        "colab": {}
      },
      "source": [
        ""
      ],
      "execution_count": null,
      "outputs": []
    }
  ]
}