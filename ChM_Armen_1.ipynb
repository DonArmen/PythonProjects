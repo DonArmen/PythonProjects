{
 "cells": [
  {
   "cell_type": "markdown",
   "metadata": {},
   "source": [
    "####  Правительство Российской Федерации \n",
    "####  Федеральное государственное автономное образовательное учреждение высшего профессионального образования \"Национальный исследовательский университет \"Высшая школа экономики\"\n",
    "\n",
    "####   Московский институт электроники и математики Национального исследовательского университета \"Высшая школа экономики\"\n",
    "\n",
    "####                  Департамент прикладной математики\n",
    "\n",
    "####                                               ОТЧЕТ\n",
    "\n",
    "####  По лабораторной работе № 1\n",
    "\n",
    "#### По курсу «Численные методы»\n",
    "\n",
    "\n",
    "#### ПРИМЕР 39\n",
    "Хачатрян Армен БПМ-153\n",
    "\n",
    "#### Москва – 2018г."
   ]
  },
  {
   "cell_type": "code",
   "execution_count": 2,
   "metadata": {},
   "outputs": [],
   "source": [
    "import numpy as np\n",
    "import matplotlib.pyplot as plt\n",
    "%matplotlib inline"
   ]
  },
  {
   "cell_type": "markdown",
   "metadata": {},
   "source": [
    "$$ \\begin{cases} \\frac{d}{dx}y(x) = y(x)^2 + \\frac{y(x)}{x} + \\frac{1}{x^2} , \\\\\n",
    "y(1) = 0 \\end{cases}$$\n",
    "$ h = 0.1, \\space x \\in[1,1.5] $"
   ]
  },
  {
   "cell_type": "markdown",
   "metadata": {},
   "source": [
    "##### Аналитическое решение уравнения \n",
    "$$  \\\\ y(x) = \\frac{-C - \\ln{x} - 1}{x(c+\\ln{x})} \\\\\n",
    "y(1) = 0 \\Rightarrow C = -1\\\\\n",
    "Ответ: y(x) = \\frac{-\\ln{x}}{x(\\ln{x}-1)}$$"
   ]
  },
  {
   "cell_type": "code",
   "execution_count": 12,
   "metadata": {},
   "outputs": [],
   "source": [
    "# точное решение\n",
    "def y(x):\n",
    "    return -np.log(x)/(x*(np.log(x)-1))"
   ]
  },
  {
   "cell_type": "markdown",
   "metadata": {},
   "source": [
    "### 1) Метод Эйлера"
   ]
  },
  {
   "cell_type": "markdown",
   "metadata": {},
   "source": [
    "$$ y_{m+1} = y_{m} + h\\cdot f(x_{m},y_m) $$\n",
    "$$ \\max_{0 \\leq i \\leq 5} |y(t_i)-y_i| = O(h) $$"
   ]
  },
  {
   "cell_type": "code",
   "execution_count": 13,
   "metadata": {},
   "outputs": [],
   "source": [
    "# инициализируем функции и списки\n",
    "Y = []\n",
    "X = np.linspace(1,1.5,6)\n",
    "Y.append(0)\n",
    "h = 0.1\n",
    "def f(x,y):\n",
    "    return y**2+(y/x)+(1/(x**2))"
   ]
  },
  {
   "cell_type": "code",
   "execution_count": 14,
   "metadata": {},
   "outputs": [],
   "source": [
    "# сам метод Эйлера \n",
    "for i in range(1,6):\n",
    "    Y.append(Y[i-1] + h*f(X[i-1],Y[i-1]))"
   ]
  },
  {
   "cell_type": "code",
   "execution_count": 15,
   "metadata": {},
   "outputs": [],
   "source": [
    "Y_real = y(X)"
   ]
  },
  {
   "cell_type": "code",
   "execution_count": 16,
   "metadata": {},
   "outputs": [
    {
     "data": {
      "text/plain": [
       "<matplotlib.legend.Legend at 0x119f89780>"
      ]
     },
     "execution_count": 16,
     "metadata": {},
     "output_type": "execute_result"
    },
    {
     "data": {
      "image/png": "[encoded data removed]",
      "text/plain": [
       "<Figure size 432x288 with 1 Axes>"
      ]
     },
     "metadata": {
      "needs_background": "light"
     },
     "output_type": "display_data"
    }
   ],
   "source": [
    "plt.title('Метод Эйлера')\n",
    "plt.plot(X,Y,label = 'estimation')\n",
    "plt.plot(X,Y_real, label = 'real')\n",
    "plt.xlabel('x')\n",
    "plt.ylabel('y(x)')\n",
    "plt.legend()"
   ]
  },
  {
   "cell_type": "code",
   "execution_count": 17,
   "metadata": {},
   "outputs": [
    {
     "data": {
      "text/plain": [
       "[0,\n",
       " 0.1,\n",
       " 0.19273553719008266,\n",
       " 0.2819559751299623,\n",
       " 0.3707664111180904,\n",
       " 0.4620169075225582]"
      ]
     },
     "execution_count": 17,
     "metadata": {},
     "output_type": "execute_result"
    }
   ],
   "source": [
    "# Функция методом Эйлера (ответ_1)\n",
    "Y"
   ]
  },
  {
   "cell_type": "code",
   "execution_count": 18,
   "metadata": {},
   "outputs": [
    {
     "name": "stdout",
     "output_type": "stream",
     "text": [
      "Погрешности для метода Эйлера O(h)\n",
      "0.0\n",
      "-0.004226160094084844\n",
      "-0.00692333690031291\n",
      "-0.008353904008370605\n",
      "-0.008555023536567397\n",
      "-0.007358861782010839\n"
     ]
    }
   ],
   "source": [
    "# error\n",
    "Error_1 = []\n",
    "print('Погрешности для метода Эйлера O(h)')\n",
    "for i in range(6):\n",
    "    Error_1.append(Y_real[i] - Y[i])\n",
    "    print(Error_1[i])"
   ]
  },
  {
   "cell_type": "markdown",
   "metadata": {},
   "source": [
    "### 2) Метод серединных прямоугольников"
   ]
  },
  {
   "cell_type": "markdown",
   "metadata": {},
   "source": [
    "$$ y_{m+1} = y_{m} + h\\cdot f(x_{m}+\\frac{h}{2},y_m+\\frac{h}{2}f(x_m.y_m)) $$\n",
    "$$ \\max_{0 \\leq i \\leq 5} |y(t_i)-y_i| = O(h^2) $$"
   ]
  },
  {
   "cell_type": "code",
   "execution_count": 19,
   "metadata": {},
   "outputs": [],
   "source": [
    "Y_1 = []\n",
    "Y_1.append(0)\n",
    "for i in range(1,6):\n",
    "    Y_1.append(Y_1[i-1] + h*f(X[i-1]+h/2,Y_1[i-1]+h*f(X[i-1],Y_1[i-1])/2))"
   ]
  },
  {
   "cell_type": "code",
   "execution_count": 20,
   "metadata": {},
   "outputs": [
    {
     "data": {
      "text/plain": [
       "<matplotlib.legend.Legend at 0x11a0c3e80>"
      ]
     },
     "execution_count": 20,
     "metadata": {},
     "output_type": "execute_result"
    },
    {
     "data": {
      "image/png": "[encoded data removed]",
      "text/plain": [
       "<Figure size 432x288 with 1 Axes>"
      ]
     },
     "metadata": {
      "needs_background": "light"
     },
     "output_type": "display_data"
    }
   ],
   "source": [
    "plt.title('Серединные прямоугольники')\n",
    "plt.plot(X,Y_1,label = 'estimation')\n",
    "plt.plot(X,Y_real, label = 'real')\n",
    "plt.xlabel('x')\n",
    "plt.ylabel('y(x)')\n",
    "plt.legend()"
   ]
  },
  {
   "cell_type": "code",
   "execution_count": 21,
   "metadata": {},
   "outputs": [
    {
     "data": {
      "text/plain": [
       "[0,\n",
       " 0.09571485260770975,\n",
       " 0.18567567233079654,\n",
       " 0.2733478017046135,\n",
       " 0.3617730189639929,\n",
       " 0.45393137538291234]"
      ]
     },
     "execution_count": 21,
     "metadata": {},
     "output_type": "execute_result"
    }
   ],
   "source": [
    "# Функция методом сер. прямоуг. (ответ_2)\n",
    "Y_1"
   ]
  },
  {
   "cell_type": "code",
   "execution_count": 22,
   "metadata": {},
   "outputs": [
    {
     "name": "stdout",
     "output_type": "stream",
     "text": [
      "Погрешности метода серединных прямоугольников O(h^2)\n",
      "0.0\n",
      "5.898729820541515e-05\n",
      "0.0001365279589732038\n",
      "0.0002542694169782034\n",
      "0.0004383686175301049\n",
      "0.0007266703576350175\n"
     ]
    }
   ],
   "source": [
    "# error\n",
    "Error_2 =[]\n",
    "print('Погрешности метода серединных прямоугольников O(h^2)')\n",
    "for i in range(6):\n",
    "    Error_2.append(Y_real[i] - Y_1[i])\n",
    "    print(Error_2[i])"
   ]
  },
  {
   "cell_type": "markdown",
   "metadata": {},
   "source": [
    "### 3) Рунге-Кутта 4 порядка"
   ]
  },
  {
   "cell_type": "markdown",
   "metadata": {},
   "source": [
    "$$ y_{k+1} = y_{k} + \\frac{h}{6}(f_1+2f_2+2f_3 + f_4), \\text{где} \\\\\n",
    "f_1 = f(x_k,y_k), f_2 = f(x_k + \\frac{h}{2},y_{k}+\\frac{h}{2}f_{1}) \\\\\n",
    "f_3 = f(x_k + \\frac{h}{2}, y_k + \\frac{h}{2}f_2), f_4 = f(x_k + h, y_k + hf_3)$$\n",
    "$$ \\max_{0 \\leq i \\leq 5} |y(t_i)-y_i| = O(h^3)  $$"
   ]
  },
  {
   "cell_type": "code",
   "execution_count": 23,
   "metadata": {},
   "outputs": [],
   "source": [
    "def RK_4(x_k,y_k):\n",
    "    f1 = f(x_k,y_k)\n",
    "    f2 = f(x_k + h/2, y_k+h*f1/2)\n",
    "    f3 = f(x_k + h/2, y_k + h*f2/2)\n",
    "    f4 = f(x_k + h, y_k+ h*f3)\n",
    "    return y_k + h*(f1 + 2*f2 + 2*f3 + f4)/6"
   ]
  },
  {
   "cell_type": "code",
   "execution_count": 24,
   "metadata": {},
   "outputs": [],
   "source": [
    "Y_2 = []\n",
    "Y_2.append(0)\n",
    "for i in range(1,6):\n",
    "    Y_2.append(RK_4(X[i-1],Y_2[i-1]))"
   ]
  },
  {
   "cell_type": "code",
   "execution_count": 25,
   "metadata": {},
   "outputs": [
    {
     "data": {
      "text/plain": [
       "<matplotlib.legend.Legend at 0x11a19c668>"
      ]
     },
     "execution_count": 25,
     "metadata": {},
     "output_type": "execute_result"
    },
    {
     "data": {
      "image/png": "[encoded data removed]",
      "text/plain": [
       "<Figure size 432x288 with 1 Axes>"
      ]
     },
     "metadata": {
      "needs_background": "light"
     },
     "output_type": "display_data"
    }
   ],
   "source": [
    "plt.title('Рунге-Кутта 4')\n",
    "plt.plot(X,Y_2,label = 'estimation')\n",
    "plt.plot(X,Y_real, label = 'real')\n",
    "plt.xlabel('x')\n",
    "plt.ylabel('y(x)')\n",
    "plt.legend()"
   ]
  },
  {
   "cell_type": "code",
   "execution_count": 26,
   "metadata": {},
   "outputs": [
    {
     "data": {
      "text/plain": [
       "[0,\n",
       " 0.09577445340787209,\n",
       " 0.18581327438142586,\n",
       " 0.2736035388854841,\n",
       " 0.36221322834373254,\n",
       " 0.45466026360821765]"
      ]
     },
     "execution_count": 26,
     "metadata": {},
     "output_type": "execute_result"
    }
   ],
   "source": [
    "# Функция методом РК4 (ответ_3)\n",
    "Y_2"
   ]
  },
  {
   "cell_type": "code",
   "execution_count": 27,
   "metadata": {},
   "outputs": [
    {
     "name": "stdout",
     "output_type": "stream",
     "text": [
      "Погрешности метода РК4 O(h^4)\n",
      "0.0\n",
      "-6.135019569308842e-07\n",
      "-1.0740916561169378e-06\n",
      "-1.4677638924265324e-06\n",
      "-1.84076220954843e-06\n",
      "-2.2178676702955258e-06\n"
     ]
    }
   ],
   "source": [
    "Error_3 = []\n",
    "# error\n",
    "print('Погрешности метода РК4 O(h^4)')\n",
    "for i in range(6):\n",
    "    Error_3.append(Y_real[i] - Y_2[i])\n",
    "    print(Error_3[i])"
   ]
  },
  {
   "cell_type": "markdown",
   "metadata": {},
   "source": [
    "### Ответ"
   ]
  },
  {
   "cell_type": "code",
   "execution_count": 28,
   "metadata": {},
   "outputs": [
    {
     "data": {
      "text/html": [
       "<div>\n",
       "<style scoped>\n",
       "    .dataframe tbody tr th:only-of-type {\n",
       "        vertical-align: middle;\n",
       "    }\n",
       "\n",
       "    .dataframe tbody tr th {\n",
       "        vertical-align: top;\n",
       "    }\n",
       "\n",
       "    .dataframe thead th {\n",
       "        text-align: right;\n",
       "    }\n",
       "</style>\n",
       "<table border=\"1\" class=\"dataframe\">\n",
       "  <thead>\n",
       "    <tr style=\"text-align: right;\">\n",
       "      <th></th>\n",
       "      <th>0</th>\n",
       "      <th>1</th>\n",
       "      <th>2</th>\n",
       "      <th>3</th>\n",
       "      <th>4</th>\n",
       "      <th>5</th>\n",
       "    </tr>\n",
       "  </thead>\n",
       "  <tbody>\n",
       "    <tr>\n",
       "      <th>Истинное зн.</th>\n",
       "      <td>0.0</td>\n",
       "      <td>9.577384e-02</td>\n",
       "      <td>0.185812</td>\n",
       "      <td>0.273602</td>\n",
       "      <td>0.362211</td>\n",
       "      <td>0.454658</td>\n",
       "    </tr>\n",
       "    <tr>\n",
       "      <th>1) Метод Эйлера</th>\n",
       "      <td>0.0</td>\n",
       "      <td>1.000000e-01</td>\n",
       "      <td>0.192736</td>\n",
       "      <td>0.281956</td>\n",
       "      <td>0.370766</td>\n",
       "      <td>0.462017</td>\n",
       "    </tr>\n",
       "    <tr>\n",
       "      <th>погр. МЭ</th>\n",
       "      <td>0.0</td>\n",
       "      <td>-4.226160e-03</td>\n",
       "      <td>-0.006923</td>\n",
       "      <td>-0.008354</td>\n",
       "      <td>-0.008555</td>\n",
       "      <td>-0.007359</td>\n",
       "    </tr>\n",
       "    <tr>\n",
       "      <th>2) Метод Сер. Прям.</th>\n",
       "      <td>0.0</td>\n",
       "      <td>9.571485e-02</td>\n",
       "      <td>0.185676</td>\n",
       "      <td>0.273348</td>\n",
       "      <td>0.361773</td>\n",
       "      <td>0.453931</td>\n",
       "    </tr>\n",
       "    <tr>\n",
       "      <th>погр МСП</th>\n",
       "      <td>0.0</td>\n",
       "      <td>5.898730e-05</td>\n",
       "      <td>0.000137</td>\n",
       "      <td>0.000254</td>\n",
       "      <td>0.000438</td>\n",
       "      <td>0.000727</td>\n",
       "    </tr>\n",
       "    <tr>\n",
       "      <th>3) RK4</th>\n",
       "      <td>0.0</td>\n",
       "      <td>9.577445e-02</td>\n",
       "      <td>0.185813</td>\n",
       "      <td>0.273604</td>\n",
       "      <td>0.362213</td>\n",
       "      <td>0.454660</td>\n",
       "    </tr>\n",
       "    <tr>\n",
       "      <th>погр. RK4</th>\n",
       "      <td>0.0</td>\n",
       "      <td>-6.135020e-07</td>\n",
       "      <td>-0.000001</td>\n",
       "      <td>-0.000001</td>\n",
       "      <td>-0.000002</td>\n",
       "      <td>-0.000002</td>\n",
       "    </tr>\n",
       "  </tbody>\n",
       "</table>\n",
       "</div>"
      ],
      "text/plain": [
       "                       0             1         2         3         4         5\n",
       "Истинное зн.         0.0  9.577384e-02  0.185812  0.273602  0.362211  0.454658\n",
       "1) Метод Эйлера      0.0  1.000000e-01  0.192736  0.281956  0.370766  0.462017\n",
       "погр. МЭ             0.0 -4.226160e-03 -0.006923 -0.008354 -0.008555 -0.007359\n",
       "2) Метод Сер. Прям.  0.0  9.571485e-02  0.185676  0.273348  0.361773  0.453931\n",
       "погр МСП             0.0  5.898730e-05  0.000137  0.000254  0.000438  0.000727\n",
       "3) RK4               0.0  9.577445e-02  0.185813  0.273604  0.362213  0.454660\n",
       "погр. RK4            0.0 -6.135020e-07 -0.000001 -0.000001 -0.000002 -0.000002"
      ]
     },
     "execution_count": 28,
     "metadata": {},
     "output_type": "execute_result"
    }
   ],
   "source": [
    "import pandas as pd\n",
    "data = [Y_real,Y,Error_1,Y_1,Error_2,Y_2,Error_3]\n",
    "pd.DataFrame(data, index = ['Истинное зн.','1) Метод Эйлера','погр. МЭ',\n",
    "                            '2) Метод Сер. Прям.','погр МСП','3) RK4',\n",
    "                            'погр. RK4'])"
   ]
  }
 ],
 "metadata": {
  "kernelspec": {
   "display_name": "Python 3",
   "language": "python",
   "name": "python3"
  },
  "language_info": {
   "codemirror_mode": {
    "name": "ipython",
    "version": 3
   },
   "file_extension": ".py",
   "mimetype": "text/x-python",
   "name": "python",
   "nbconvert_exporter": "python",
   "pygments_lexer": "ipython3",
   "version": "3.7.0"
  }
 },
 "nbformat": 4,
 "nbformat_minor": 2
}
