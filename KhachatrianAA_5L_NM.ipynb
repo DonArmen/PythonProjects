{
  "nbformat": 4,
  "nbformat_minor": 0,
  "metadata": {
    "kernelspec": {
      "display_name": "Python 3",
      "language": "python",
      "name": "python3"
    },
    "language_info": {
      "codemirror_mode": {
        "name": "ipython",
        "version": 3
      },
      "file_extension": ".py",
      "mimetype": "text/x-python",
      "name": "python",
      "nbconvert_exporter": "python",
      "pygments_lexer": "ipython3",
      "version": "3.6.3"
    },
    "colab": {
      "name": "KhachatrianAA_5L_NM.ipynb",
      "provenance": []
    }
  },
  "cells": [
    {
      "cell_type": "markdown",
      "metadata": {
        "collapsed": true,
        "id": "vpS7YrGWPJje",
        "colab_type": "text"
      },
      "source": [
        "Лабораторная работа 5\n",
        "$$ \\text{Хачатрян Армен БПМ153} $$\n",
        "$$ \\text{Вариант 28} $$\n",
        "$$ \\text{5.1.28 }$$\n",
        "$$ A =  \\begin{pmatrix}\n",
        "  2.97& 0.4& 0.3& 1.98& 0& 0.1\\\\\n",
        "  0.99& 4.9& 0.4& 2.97& 0.2& -0.3\\\\\n",
        "  0& -1.8& 6.6& 3.3& 0.6& 0.8\\\\\n",
        "  4.95& 1.6& 1.2& 8.91& 0.8& 0.3\\\\\n",
        "  1.98& -1.5& 0.4& -1.98& 6.1& 0\\\\\n",
        "  9.9& 1.4& 2.4& 5.94& 3.2& 23.3\\\\\n",
        "\\end{pmatrix}  $$   \n",
        "$$ b =  \\begin{pmatrix}\n",
        "  -10.45\\\\ -8.28\\\\ 4.48\\\\ -26.93\\\\ 11.82\\\\ 38.84\\\\\\end{pmatrix}$$"
      ]
    },
    {
      "cell_type": "markdown",
      "metadata": {
        "id": "pfE8rFwpPJjf",
        "colab_type": "text"
      },
      "source": [
        "![%D0%A1%D0%BD%D0%B8%D0%BC%D0%BE%D0%BA%20%D1%8D%D0%BA%D1%80%D0%B0%D0%BD%D0%B0%202018-06-11%20%D0%B2%2012.41.27.png](attachment:%D0%A1%D0%BD%D0%B8%D0%BC%D0%BE%D0%BA%20%D1%8D%D0%BA%D1%80%D0%B0%D0%BD%D0%B0%202018-06-11%20%D0%B2%2012.41.27.png)"
      ]
    },
    {
      "cell_type": "markdown",
      "metadata": {
        "id": "ImXLqeMhPJjh",
        "colab_type": "text"
      },
      "source": [
        "# ТЕОРИЯ"
      ]
    },
    {
      "cell_type": "markdown",
      "metadata": {
        "id": "YMwALez1PJji",
        "colab_type": "text"
      },
      "source": [
        "## Метод Гаусса"
      ]
    },
    {
      "cell_type": "markdown",
      "metadata": {
        "id": "BETjgx1wPJjj",
        "colab_type": "text"
      },
      "source": [
        "$$ A\\overline{x}=\\overline{b} $$\n",
        "\n",
        "$$ \\overline{x} = (x_1,\\ldots,x_m)^T $$\n",
        "$$ \\overline{b} = (b_1,\\ldots,b_m)^T $$\n",
        "$$ A =  \\begin{pmatrix}\n",
        "  a_11& a_12& \\ldots& a_1m\\\\\n",
        "  a_21& a_22& \\ldots& a_2m\\\\\n",
        "  \\ldots& \\ldots& \\ldots& \\ldots\\\\\n",
        "  a_m1& a_m2& \\ldots& a_mm\n",
        "\\end{pmatrix}  $$\n",
        "### Прямой ход\n",
        "Состоит из m-1 шагов исключения\n",
        "$$ \\textbf{Первый шаг: } \\text{исключение }  x_1 \\text{ из уравнений с номерами i = 2,3,...,m} $$\n",
        "$$ a_{11} \\neq 0,  \\mu_{i1} = {a_{i1}\\over{a_{11}}}, i = 2,3,...,m, \\mu_{i1} \\text{ - множитель первого шага} $$\n",
        "$$ a_{ij}^{(1)} = a_{ij} - \\mu_{i1}a_{1j} $$\n",
        "$$ b_{i}^{(1)} = b_{i} - \\mu_{i1}b_{1} $$\n",
        "$$ i,j = 2,3,...,m $$\n",
        "$$ \\textbf{Второй шаг: } \\text{исключение }  x_2 \\text{ из уравнений с номерами i = 3,4,...,m} $$\n",
        "$$ a_{22}^{(1)} \\neq 0,  \\mu_{i2} = {a_{i2}^{(1)}\\over{a_{22}^{(1)}}}, i = 3,4,...,m, \\mu_{i2} \\text{ - множитель второго шага} $$\n",
        "$$ a_{ij}^{(2)} = a_{ij}^{(1)} - \\mu_{i2}a_{2j}^{(1)} $$\n",
        "$$ b_{i}^{(2)} = b_{i}^{(1)} - \\mu_{i2}b_{2}^{(1)} $$\n",
        "$$ i,j = 3,4,...,m $$\n",
        "$$ \\textbf{K-ый шаг: } $$ \n",
        "$$ a_{kk}^{(k-1)} \\neq 0 \\mu_{i2} = {a_{ik}^{(k-1)}\\over{a_{kk}^{(k-1)}}}, i = k+1,...,m$$\n",
        "### Обратный ход\n",
        "$$x_m = {{b_{m}^{m-1}}\\over{a_{mm}^{m-1}}} $$\n",
        "$$ x_k = (b_{k}^{(k-1)} - a_{k,k+1}^{(k-1)}x_{k+1} - \\ldots - a_{k,m}^{(k-1)}x_{m}){{1}\\over{a_{kk}^{(k-1)}}}$$\n",
        "$$ k = m-1,\\ldots,1 $$"
      ]
    },
    {
      "cell_type": "markdown",
      "metadata": {
        "id": "gzzI_89BPJjl",
        "colab_type": "text"
      },
      "source": [
        "## Метод Зейделя"
      ]
    },
    {
      "cell_type": "markdown",
      "metadata": {
        "id": "X5FWgVmfPJjm",
        "colab_type": "text"
      },
      "source": [
        "$$ x_1^{(k+1)} = 0+b_{12}x_2^{(k)}+b_{13}x_3^{(k)}+\\ldots+b_{1m}x_m^{(k)}+c_1 $$\n",
        "$$ x_2^{(k+1)} = b_{21}x_1^{(k+1)}+0+b_{23}x_3^{(k)}+\\ldots+b_{2m}x_m^{(k)}+c_2 $$\n",
        "$$\\ldots$$\n",
        "$$ x_m^{(k+1)} = b_{m1}x_1^{(k+1)}+b_{m2}x_2^{(k+1)}+\\ldots+c_m $$\n",
        "$$B=B_1+B_2, $$\n",
        "$$\\text{ где } {B_1} \\text{ - нижняя треугольная матрица, а } {B_2} \\text{ - верхняя треугольная матрица}$$\n",
        "$$\\overline{x}^{(k+1)} = B_1\\overline{x}^{(k+1)}+B_2\\overline{x}^{(k)}+\\overline{c}$$\n",
        "$$\\textbf{Теорема 1: }{||B||<1 (||B||_1 \\text{ или }||B||_{\\infty})} $$\n",
        "$$ \\text{Тогда при любом } {\\overline{x}^{(0)}} \\text{ метод Зейделя сходится со скоростью геометрической прогрессии, } {q\\leq||B||}$$\n",
        "$$\\textbf{Теорема 2: } \\text{Пусть } {||B_1||+||B_2||<1}$$\n",
        "$$\\text{Тогда для любого } {\\overline{x}^{(0)}} \\text{ метод сходится и } {||\\overline{x}^{(n)} - \\overline{x}||\\leq q^n||\\overline{x}^{(0)}-\\overline{x}||} \\text{ , где } {q = {{||B_2||}\\over{1-||B_1||}}} $$\n",
        "$$\\text{Критерий окончания: } {||\\overline{x}^{(n)}-\\overline{x}^{(n-1)}||<{{1-||B||}\\over {B_2}}\\varepsilon}$$"
      ]
    },
    {
      "cell_type": "markdown",
      "metadata": {
        "id": "3qcpmOobPJjn",
        "colab_type": "text"
      },
      "source": [
        "Начало"
      ]
    },
    {
      "cell_type": "code",
      "metadata": {
        "id": "SVKJkvPRPJjp",
        "colab_type": "code",
        "colab": {}
      },
      "source": [
        "import numpy as np\n",
        "import matplotlib.pyplot as plt\n",
        "%matplotlib inline"
      ],
      "execution_count": null,
      "outputs": []
    },
    {
      "cell_type": "markdown",
      "metadata": {
        "id": "xv28GK9NPJju",
        "colab_type": "text"
      },
      "source": [
        "#### Задание 1"
      ]
    },
    {
      "cell_type": "code",
      "metadata": {
        "id": "uvdCmgkbPJjv",
        "colab_type": "code",
        "colab": {},
        "outputId": "ccacd011-5c77-42af-dd26-0b43dd137396"
      },
      "source": [
        "A = np.array([[2.97,0.4,0.3,1.98,0,0.1],[0.99,4.9,0.4,2.97,0.2,-0.3],[0,-1.8,6.6,3.3,0.6,0.8],[4.95,1.6,1.2,8.91,0.8,0.3],[1.98,-1.5,0.4,-1.98,6.1,0],[9.9,1.4,2.4,5.94,3.2,23.3]])\n",
        "A"
      ],
      "execution_count": null,
      "outputs": [
        {
          "output_type": "execute_result",
          "data": {
            "text/plain": [
              "array([[  2.97,   0.4 ,   0.3 ,   1.98,   0.  ,   0.1 ],\n",
              "       [  0.99,   4.9 ,   0.4 ,   2.97,   0.2 ,  -0.3 ],\n",
              "       [  0.  ,  -1.8 ,   6.6 ,   3.3 ,   0.6 ,   0.8 ],\n",
              "       [  4.95,   1.6 ,   1.2 ,   8.91,   0.8 ,   0.3 ],\n",
              "       [  1.98,  -1.5 ,   0.4 ,  -1.98,   6.1 ,   0.  ],\n",
              "       [  9.9 ,   1.4 ,   2.4 ,   5.94,   3.2 ,  23.3 ]])"
            ]
          },
          "metadata": {
            "tags": []
          },
          "execution_count": 123
        }
      ]
    },
    {
      "cell_type": "code",
      "metadata": {
        "id": "ophJ1FpoPJj0",
        "colab_type": "code",
        "colab": {},
        "outputId": "44c95e0f-a19c-4967-aeae-4d37006bc7a3"
      },
      "source": [
        "b = np.array([-10.45,-8.28,4.48,-26.93,11.82,38.84])\n",
        "b"
      ],
      "execution_count": null,
      "outputs": [
        {
          "output_type": "execute_result",
          "data": {
            "text/plain": [
              "array([-10.45,  -8.28,   4.48, -26.93,  11.82,  38.84])"
            ]
          },
          "metadata": {
            "tags": []
          },
          "execution_count": 124
        }
      ]
    },
    {
      "cell_type": "code",
      "metadata": {
        "id": "xyP1GcAzPJj3",
        "colab_type": "code",
        "colab": {},
        "outputId": "2e957e5c-bfaf-4d75-e46b-c8e1947c12cc"
      },
      "source": [
        "x = np.linalg.solve(A,b)\n",
        "x"
      ],
      "execution_count": null,
      "outputs": [
        {
          "output_type": "execute_result",
          "data": {
            "text/plain": [
              "array([-2.28282828,  0.1       ,  1.3       , -2.21212121,  1.9       ,\n",
              "        2.8       ])"
            ]
          },
          "metadata": {
            "tags": []
          },
          "execution_count": 125
        }
      ]
    },
    {
      "cell_type": "code",
      "metadata": {
        "id": "A4sJuddpPJj6",
        "colab_type": "code",
        "colab": {}
      },
      "source": [
        "def Zeid_10(A, b, x_0):\n",
        "    # приведение системы к удобному виду\n",
        "    # пустые списки B1,B2 и c\n",
        "    B1 = np.zeros((A.shape[0],A.shape[0]),dtype=np.float)\n",
        "    B2 = np.zeros((A.shape[0],A.shape[0]),dtype=np.float)\n",
        "    c = np.zeros(b.shape[0],dtype=np.float)\n",
        "    # инициализируем B1, B2, c\n",
        "    for i in range(B1.shape[0]):\n",
        "        c[i]=b[i]/A[i,i]\n",
        "        for j in range(B1.shape[0]):\n",
        "            if i > j:\n",
        "                B1[i,j] = -(A[i,j])/(A[i,i])\n",
        "            elif i < j:\n",
        "                B2[i,j] = -(A[i,j])/(A[i,i])\n",
        "                \n",
        "    # Проверка нормы B = B1+B2\n",
        "    if np.linalg.norm(B1+B2,np.inf) >=1:\n",
        "        print('Does not converge, norm of B = ', np.linalg.norm(B1+B2,np.inf))\n",
        "        return np.linalg.norm(B1+B2,np.inf)\n",
        "    print('Norm of B =',np.linalg.norm(B1+B2,np.inf))\n",
        "    \n",
        "    # непосредственно метод Зейделя\n",
        "\n",
        "    x_k = x_0\n",
        "    x_k_1 = x_0\n",
        "    \n",
        "    for _ in range(10):\n",
        "        x_k = np.matmul(B1,x_k)+np.matmul(B2,x_k_1)+c\n",
        "        x_k_1=x_k\n",
        "\n",
        "    return x_k \n",
        "    \n",
        "    "
      ],
      "execution_count": null,
      "outputs": []
    },
    {
      "cell_type": "code",
      "metadata": {
        "id": "z5WP1HfLPJj8",
        "colab_type": "code",
        "colab": {},
        "outputId": "d2370a1c-e5d8-4a53-9f4f-6dc6afd19cc3"
      },
      "source": [
        "x_10=Zeid_10(A, b, np.array([1,1,1,1,1,1]))\n",
        "x_10"
      ],
      "execution_count": null,
      "outputs": [
        {
          "output_type": "stream",
          "text": [
            "Norm of B = 0.993265993266\n"
          ],
          "name": "stdout"
        },
        {
          "output_type": "execute_result",
          "data": {
            "text/plain": [
              "array([-1.90902895,  0.43866009,  1.43984244, -1.85189854,  1.82009872,\n",
              "        3.13479167])"
            ]
          },
          "metadata": {
            "tags": []
          },
          "execution_count": 127
        }
      ]
    },
    {
      "cell_type": "code",
      "metadata": {
        "id": "hFj2iopYPJj-",
        "colab_type": "code",
        "colab": {},
        "outputId": "6a03b64f-e50b-40f6-fd9e-86c8f7bade40"
      },
      "source": [
        "print('Абсолютная погрешность решения x_10:', np.linalg.norm(x-x_10,np.inf))\n",
        "print('Истинное решение:', x)\n",
        "print('Приближенное решение:',x_10)"
      ],
      "execution_count": null,
      "outputs": [
        {
          "output_type": "stream",
          "text": [
            "Абсолютная погрешность решения x_10: 0.373799333672\n",
            "Истинное решение: [-2.28282828  0.1         1.3        -2.21212121  1.9         2.8       ]\n",
            "Приближенное решение: [-1.90902895  0.43866009  1.43984244 -1.85189854  1.82009872  3.13479167]\n"
          ],
          "name": "stdout"
        }
      ]
    },
    {
      "cell_type": "code",
      "metadata": {
        "id": "VwKKZ3FsPJkA",
        "colab_type": "code",
        "colab": {},
        "outputId": "f6145aae-d788-4b75-d79a-20c4deb621cc"
      },
      "source": [
        "x_10=Zeid_10(A, b, np.array([100,-20,40,80,50,-10]))\n",
        "x_10"
      ],
      "execution_count": null,
      "outputs": [
        {
          "output_type": "stream",
          "text": [
            "Norm of B = 0.993265993266\n"
          ],
          "name": "stdout"
        },
        {
          "output_type": "execute_result",
          "data": {
            "text/plain": [
              "array([  9.76660395,  11.00845507,   5.90707503,   9.2198233 ,\n",
              "        -0.74354991,  13.50151144])"
            ]
          },
          "metadata": {
            "tags": []
          },
          "execution_count": 129
        }
      ]
    },
    {
      "cell_type": "code",
      "metadata": {
        "id": "1NuZm00jPJkB",
        "colab_type": "code",
        "colab": {},
        "outputId": "37024141-cc01-4e0d-c129-960daa9d8d3e"
      },
      "source": [
        "print('Абсолютная погрешность решения x_10:', np.linalg.norm(x-x_10,np.inf))\n",
        "print('Истинное решение:', x)\n",
        "print('Приближенное решение:',x_10)"
      ],
      "execution_count": null,
      "outputs": [
        {
          "output_type": "stream",
          "text": [
            "Абсолютная погрешность решения x_10: 12.0494322278\n",
            "Истинное решение: [-2.28282828  0.1         1.3        -2.21212121  1.9         2.8       ]\n",
            "Приближенное решение: [  9.76660395  11.00845507   5.90707503   9.2198233   -0.74354991\n",
            "  13.50151144]\n"
          ],
          "name": "stdout"
        }
      ]
    },
    {
      "cell_type": "markdown",
      "metadata": {
        "id": "ROxb0QDmPJkD",
        "colab_type": "text"
      },
      "source": [
        "В первом случае взяли начальное приближение очень близко к корню, поэтому абсолютная погрешность значительно ниже, чем во втором случае."
      ]
    },
    {
      "cell_type": "markdown",
      "metadata": {
        "id": "kMSojY1QPJkD",
        "colab_type": "text"
      },
      "source": [
        "### Задание 2"
      ]
    },
    {
      "cell_type": "code",
      "metadata": {
        "id": "bpxLugfgPJkD",
        "colab_type": "code",
        "colab": {}
      },
      "source": [
        "def Zeid(A, b, x_0, eps):\n",
        "    # приведение системы к удобному виду\n",
        "    # пустые списки B и c\n",
        "    B1 = np.zeros((A.shape[0],A.shape[0]),dtype=np.float)\n",
        "    B2 = np.zeros((A.shape[0],A.shape[0]),dtype=np.float)\n",
        "    c = np.zeros(b.shape[0],dtype=np.float)\n",
        "    # инициализируем B1, B2, c\n",
        "    for i in range(B1.shape[0]):\n",
        "        c[i]=b[i]/A[i,i]\n",
        "        for j in range(B1.shape[0]):\n",
        "            if i > j:\n",
        "                B1[i,j] = -(A[i,j])/(A[i,i])\n",
        "            elif i < j:\n",
        "                B2[i,j] = -(A[i,j])/(A[i,i])\n",
        "                \n",
        "    # проверка нормы B\n",
        "    if np.linalg.norm(B1+B2,np.inf) >=1:\n",
        "        print('Does not converge')\n",
        "        return np.linalg.norm(B1+B2,np.inf)\n",
        "    \n",
        "    # непосредественно метод Зейделя\n",
        "\n",
        "    x_k = x_0\n",
        "    x_k_1 = x_0\n",
        "    \n",
        "    x_k = np.matmul(B1,x_k)+np.matmul(B2,x_k_1)+c\n",
        "    k = 1\n",
        "    w = ((1-np.linalg.norm(B1+B2,np.inf))/(np.linalg.norm(B2,np.inf)))*eps\n",
        "    while np.linalg.norm(x_k-x_k_1,np.inf)>=w:\n",
        "        x_k_1=x_k\n",
        "        x_k = np.matmul(B1,x_k)+np.matmul(B2,x_k_1)+c\n",
        "        k=k+1\n",
        "    return x_k, k-1\n",
        "    "
      ],
      "execution_count": null,
      "outputs": []
    },
    {
      "cell_type": "code",
      "metadata": {
        "id": "M7p7u2DoPJkF",
        "colab_type": "code",
        "colab": {},
        "outputId": "7e658f37-9a79-499a-d389-6d6ff208cd8b"
      },
      "source": [
        "x0=np.random.randint(-100,100,6)\n",
        "x0"
      ],
      "execution_count": null,
      "outputs": [
        {
          "output_type": "execute_result",
          "data": {
            "text/plain": [
              "array([-44, -75, -60,  64,  22, -97])"
            ]
          },
          "metadata": {
            "tags": []
          },
          "execution_count": 132
        }
      ]
    },
    {
      "cell_type": "code",
      "metadata": {
        "id": "n8RCIKQkPJkG",
        "colab_type": "code",
        "colab": {},
        "outputId": "1ad5b704-97b6-4ede-be0a-83d5e2539691"
      },
      "source": [
        "print('Converges to', Zeid(A, b, x0, 10**(-6))[0], 'in',Zeid(A, b, x0, 10**(-6))[1], 'steps')"
      ],
      "execution_count": null,
      "outputs": [
        {
          "output_type": "stream",
          "text": [
            "Converges to [-2.28282828  0.1         1.3        -2.21212121  1.9         2.8       ] in 108 steps\n"
          ],
          "name": "stdout"
        }
      ]
    },
    {
      "cell_type": "code",
      "metadata": {
        "id": "uYgdf4HFPJkI",
        "colab_type": "code",
        "colab": {}
      },
      "source": [
        "x_n = Zeid(A, b, x0, 10**(-6))[0]"
      ],
      "execution_count": null,
      "outputs": []
    },
    {
      "cell_type": "code",
      "metadata": {
        "id": "7IcR2KbJPJkJ",
        "colab_type": "code",
        "colab": {},
        "outputId": "b2c6b3d1-e18c-4b3f-bdb9-4ec3458da975"
      },
      "source": [
        "print('Абсолютная погрешность решения x_n:', np.linalg.norm(x-x_n,np.inf))\n",
        "print('Истинное решение:', x)\n",
        "print('Приближенное решение:',x_n)"
      ],
      "execution_count": null,
      "outputs": [
        {
          "output_type": "stream",
          "text": [
            "Абсолютная погрешность решения x_n: 2.99749958188e-09\n",
            "Истинное решение: [-2.28282828  0.1         1.3        -2.21212121  1.9         2.8       ]\n",
            "Приближенное решение: [-2.28282828  0.1         1.3        -2.21212121  1.9         2.8       ]\n"
          ],
          "name": "stdout"
        }
      ]
    },
    {
      "cell_type": "code",
      "metadata": {
        "id": "mJP8qhV7PJkL",
        "colab_type": "code",
        "colab": {},
        "outputId": "5f62e024-b0eb-4f5e-c2db-d40e28c93c96"
      },
      "source": [
        "Zeid(A, b, x0, 10**(-6))[1]"
      ],
      "execution_count": null,
      "outputs": [
        {
          "output_type": "execute_result",
          "data": {
            "text/plain": [
              "108"
            ]
          },
          "metadata": {
            "tags": []
          },
          "execution_count": 136
        }
      ]
    },
    {
      "cell_type": "markdown",
      "metadata": {
        "id": "Hqmv0JKlPJkN",
        "colab_type": "text"
      },
      "source": [
        "$$ \\text{Конец}$$"
      ]
    }
  ]
}