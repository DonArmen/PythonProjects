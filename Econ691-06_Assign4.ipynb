{
 "cells": [
  {
   "cell_type": "code",
   "execution_count": 33,
   "metadata": {},
   "outputs": [],
   "source": [
    "#libraries\n",
    "import pandas as pd\n",
    "import numpy as np\n",
    "import matplotlib.pyplot as plt\n",
    "from sklearn.preprocessing import LabelEncoder\n",
    "import statsmodels.formula.api as sm\n",
    "from linearmodels.iv import IV2SLS\n",
    "%matplotlib inline\n"
   ]
  },
  {
   "cell_type": "markdown",
   "metadata": {},
   "source": [
    "## Problem 1"
   ]
  },
  {
   "cell_type": "code",
   "execution_count": 34,
   "metadata": {},
   "outputs": [
    {
     "data": {
      "text/html": [
       "<div>\n",
       "<style scoped>\n",
       "    .dataframe tbody tr th:only-of-type {\n",
       "        vertical-align: middle;\n",
       "    }\n",
       "\n",
       "    .dataframe tbody tr th {\n",
       "        vertical-align: top;\n",
       "    }\n",
       "\n",
       "    .dataframe thead th {\n",
       "        text-align: right;\n",
       "    }\n",
       "</style>\n",
       "<table border=\"1\" class=\"dataframe\">\n",
       "  <thead>\n",
       "    <tr style=\"text-align: right;\">\n",
       "      <th></th>\n",
       "      <th>country</th>\n",
       "      <th>month</th>\n",
       "      <th>satisfaction</th>\n",
       "    </tr>\n",
       "  </thead>\n",
       "  <tbody>\n",
       "    <tr>\n",
       "      <th>0</th>\n",
       "      <td>US</td>\n",
       "      <td>April</td>\n",
       "      <td>4.0</td>\n",
       "    </tr>\n",
       "    <tr>\n",
       "      <th>1</th>\n",
       "      <td>US</td>\n",
       "      <td>April</td>\n",
       "      <td>5.0</td>\n",
       "    </tr>\n",
       "    <tr>\n",
       "      <th>2</th>\n",
       "      <td>US</td>\n",
       "      <td>April</td>\n",
       "      <td>NaN</td>\n",
       "    </tr>\n",
       "    <tr>\n",
       "      <th>3</th>\n",
       "      <td>US</td>\n",
       "      <td>April</td>\n",
       "      <td>5.0</td>\n",
       "    </tr>\n",
       "    <tr>\n",
       "      <th>4</th>\n",
       "      <td>US</td>\n",
       "      <td>April</td>\n",
       "      <td>1.0</td>\n",
       "    </tr>\n",
       "  </tbody>\n",
       "</table>\n",
       "</div>"
      ],
      "text/plain": [
       "  country  month  satisfaction\n",
       "0      US  April           4.0\n",
       "1      US  April           5.0\n",
       "2      US  April           NaN\n",
       "3      US  April           5.0\n",
       "4      US  April           1.0"
      ]
     },
     "execution_count": 34,
     "metadata": {},
     "output_type": "execute_result"
    }
   ],
   "source": [
    "data = pd.read_csv('data_assignment4_1.csv')\n",
    "data.head()"
   ]
  },
  {
   "cell_type": "code",
   "execution_count": 35,
   "metadata": {},
   "outputs": [
    {
     "data": {
      "text/plain": [
       "country          0\n",
       "month            0\n",
       "satisfaction    49\n",
       "dtype: int64"
      ]
     },
     "execution_count": 35,
     "metadata": {},
     "output_type": "execute_result"
    }
   ],
   "source": [
    "data.isna().sum()"
   ]
  },
  {
   "cell_type": "code",
   "execution_count": 36,
   "metadata": {},
   "outputs": [
    {
     "data": {
      "text/plain": [
       "(3000, 3)"
      ]
     },
     "execution_count": 36,
     "metadata": {},
     "output_type": "execute_result"
    }
   ],
   "source": [
    "data.shape"
   ]
  },
  {
   "cell_type": "code",
   "execution_count": 37,
   "metadata": {},
   "outputs": [],
   "source": [
    "#filling nans with the mean value\n",
    "data['satisfaction'].fillna(round(data['satisfaction'].mean()), inplace=True)"
   ]
  },
  {
   "cell_type": "code",
   "execution_count": 38,
   "metadata": {},
   "outputs": [
    {
     "data": {
      "text/plain": [
       "country         0\n",
       "month           0\n",
       "satisfaction    0\n",
       "dtype: int64"
      ]
     },
     "execution_count": 38,
     "metadata": {},
     "output_type": "execute_result"
    }
   ],
   "source": [
    "data.isnull().sum()"
   ]
  },
  {
   "cell_type": "code",
   "execution_count": 39,
   "metadata": {},
   "outputs": [
    {
     "data": {
      "text/plain": [
       "0       4.0\n",
       "1       5.0\n",
       "2       5.0\n",
       "3       5.0\n",
       "4       1.0\n",
       "       ... \n",
       "2995    0.0\n",
       "2996    4.0\n",
       "2997    4.0\n",
       "2998    3.0\n",
       "2999    5.0\n",
       "Name: satisfaction, Length: 3000, dtype: float64"
      ]
     },
     "execution_count": 39,
     "metadata": {},
     "output_type": "execute_result"
    }
   ],
   "source": [
    "data['satisfaction']"
   ]
  },
  {
   "cell_type": "code",
   "execution_count": 40,
   "metadata": {},
   "outputs": [
    {
     "data": {
      "image/png": "[encoded data removed]",
      "text/plain": [
       "<Figure size 1080x576 with 1 Axes>"
      ]
     },
     "metadata": {
      "needs_background": "light"
     },
     "output_type": "display_data"
    }
   ],
   "source": [
    "data.satisfaction.hist(bins=50, figsize=(15,8))\n",
    "plt.show()"
   ]
  },
  {
   "cell_type": "code",
   "execution_count": 41,
   "metadata": {},
   "outputs": [
    {
     "data": {
      "text/plain": [
       "array([ 4.,  5.,  1.,  7.,  8.,  3., 10.,  6.,  2.,  9.,  0.])"
      ]
     },
     "execution_count": 41,
     "metadata": {},
     "output_type": "execute_result"
    }
   ],
   "source": [
    "data.satisfaction.unique()"
   ]
  },
  {
   "cell_type": "code",
   "execution_count": 42,
   "metadata": {},
   "outputs": [
    {
     "data": {
      "text/plain": [
       "array(['April', 'May', 'June', 'July', 'August'], dtype=object)"
      ]
     },
     "execution_count": 42,
     "metadata": {},
     "output_type": "execute_result"
    }
   ],
   "source": [
    "data.month.unique()"
   ]
  },
  {
   "cell_type": "code",
   "execution_count": 43,
   "metadata": {},
   "outputs": [
    {
     "data": {
      "text/plain": [
       "array(['US', 'CA', 'AU'], dtype=object)"
      ]
     },
     "execution_count": 43,
     "metadata": {},
     "output_type": "execute_result"
    }
   ],
   "source": [
    "data.country.unique()"
   ]
  },
  {
   "cell_type": "markdown",
   "metadata": {},
   "source": [
    "##### Question 1"
   ]
  },
  {
   "cell_type": "code",
   "execution_count": 44,
   "metadata": {},
   "outputs": [],
   "source": [
    "#labelencoder = LabelEncoder()\n",
    "#df = data.copy()\n",
    "#df['country_num'] = labelencoder.fit_transform(df['country'])\n",
    "#df['month_num'] = labelencoder.fit_transform(df['month'])\n",
    "#df"
   ]
  },
  {
   "cell_type": "code",
   "execution_count": 45,
   "metadata": {},
   "outputs": [
    {
     "data": {
      "text/html": [
       "<div>\n",
       "<style scoped>\n",
       "    .dataframe tbody tr th:only-of-type {\n",
       "        vertical-align: middle;\n",
       "    }\n",
       "\n",
       "    .dataframe tbody tr th {\n",
       "        vertical-align: top;\n",
       "    }\n",
       "\n",
       "    .dataframe thead th {\n",
       "        text-align: right;\n",
       "    }\n",
       "</style>\n",
       "<table border=\"1\" class=\"dataframe\">\n",
       "  <thead>\n",
       "    <tr style=\"text-align: right;\">\n",
       "      <th></th>\n",
       "      <th>country</th>\n",
       "      <th>month</th>\n",
       "      <th>satisfaction</th>\n",
       "    </tr>\n",
       "  </thead>\n",
       "  <tbody>\n",
       "    <tr>\n",
       "      <th>600</th>\n",
       "      <td>US</td>\n",
       "      <td>July</td>\n",
       "      <td>4.0</td>\n",
       "    </tr>\n",
       "    <tr>\n",
       "      <th>601</th>\n",
       "      <td>US</td>\n",
       "      <td>July</td>\n",
       "      <td>1.0</td>\n",
       "    </tr>\n",
       "    <tr>\n",
       "      <th>602</th>\n",
       "      <td>US</td>\n",
       "      <td>July</td>\n",
       "      <td>4.0</td>\n",
       "    </tr>\n",
       "    <tr>\n",
       "      <th>603</th>\n",
       "      <td>US</td>\n",
       "      <td>July</td>\n",
       "      <td>2.0</td>\n",
       "    </tr>\n",
       "    <tr>\n",
       "      <th>604</th>\n",
       "      <td>US</td>\n",
       "      <td>July</td>\n",
       "      <td>3.0</td>\n",
       "    </tr>\n",
       "    <tr>\n",
       "      <th>...</th>\n",
       "      <td>...</td>\n",
       "      <td>...</td>\n",
       "      <td>...</td>\n",
       "    </tr>\n",
       "    <tr>\n",
       "      <th>995</th>\n",
       "      <td>US</td>\n",
       "      <td>August</td>\n",
       "      <td>6.0</td>\n",
       "    </tr>\n",
       "    <tr>\n",
       "      <th>996</th>\n",
       "      <td>US</td>\n",
       "      <td>August</td>\n",
       "      <td>4.0</td>\n",
       "    </tr>\n",
       "    <tr>\n",
       "      <th>997</th>\n",
       "      <td>US</td>\n",
       "      <td>August</td>\n",
       "      <td>7.0</td>\n",
       "    </tr>\n",
       "    <tr>\n",
       "      <th>998</th>\n",
       "      <td>US</td>\n",
       "      <td>August</td>\n",
       "      <td>5.0</td>\n",
       "    </tr>\n",
       "    <tr>\n",
       "      <th>999</th>\n",
       "      <td>US</td>\n",
       "      <td>August</td>\n",
       "      <td>4.0</td>\n",
       "    </tr>\n",
       "  </tbody>\n",
       "</table>\n",
       "<p>400 rows × 3 columns</p>\n",
       "</div>"
      ],
      "text/plain": [
       "    country   month  satisfaction\n",
       "600      US    July           4.0\n",
       "601      US    July           1.0\n",
       "602      US    July           4.0\n",
       "603      US    July           2.0\n",
       "604      US    July           3.0\n",
       "..      ...     ...           ...\n",
       "995      US  August           6.0\n",
       "996      US  August           4.0\n",
       "997      US  August           7.0\n",
       "998      US  August           5.0\n",
       "999      US  August           4.0\n",
       "\n",
       "[400 rows x 3 columns]"
      ]
     },
     "execution_count": 45,
     "metadata": {},
     "output_type": "execute_result"
    }
   ],
   "source": [
    "df = data.loc[(data.country == 'US') & ((data.month == 'July')|(data.month == 'August'))]\n",
    "df"
   ]
  },
  {
   "cell_type": "code",
   "execution_count": 46,
   "metadata": {},
   "outputs": [
    {
     "name": "stderr",
     "output_type": "stream",
     "text": [
      "/Users/a.khachatryan/anaconda3/lib/python3.6/site-packages/pandas/core/indexing.py:376: SettingWithCopyWarning: \n",
      "A value is trying to be set on a copy of a slice from a DataFrame.\n",
      "Try using .loc[row_indexer,col_indexer] = value instead\n",
      "\n",
      "See the caveats in the documentation: http://pandas.pydata.org/pandas-docs/stable/user_guide/indexing.html#returning-a-view-versus-a-copy\n",
      "  self.obj[key] = _infer_fill_value(value)\n",
      "/Users/a.khachatryan/anaconda3/lib/python3.6/site-packages/pandas/core/indexing.py:494: SettingWithCopyWarning: \n",
      "A value is trying to be set on a copy of a slice from a DataFrame.\n",
      "Try using .loc[row_indexer,col_indexer] = value instead\n",
      "\n",
      "See the caveats in the documentation: http://pandas.pydata.org/pandas-docs/stable/user_guide/indexing.html#returning-a-view-versus-a-copy\n",
      "  self.obj[item] = s\n"
     ]
    },
    {
     "data": {
      "text/html": [
       "<div>\n",
       "<style scoped>\n",
       "    .dataframe tbody tr th:only-of-type {\n",
       "        vertical-align: middle;\n",
       "    }\n",
       "\n",
       "    .dataframe tbody tr th {\n",
       "        vertical-align: top;\n",
       "    }\n",
       "\n",
       "    .dataframe thead th {\n",
       "        text-align: right;\n",
       "    }\n",
       "</style>\n",
       "<table border=\"1\" class=\"dataframe\">\n",
       "  <thead>\n",
       "    <tr style=\"text-align: right;\">\n",
       "      <th></th>\n",
       "      <th>country</th>\n",
       "      <th>month</th>\n",
       "      <th>satisfaction</th>\n",
       "      <th>treatment</th>\n",
       "    </tr>\n",
       "  </thead>\n",
       "  <tbody>\n",
       "    <tr>\n",
       "      <th>600</th>\n",
       "      <td>US</td>\n",
       "      <td>July</td>\n",
       "      <td>4.0</td>\n",
       "      <td>0.0</td>\n",
       "    </tr>\n",
       "    <tr>\n",
       "      <th>601</th>\n",
       "      <td>US</td>\n",
       "      <td>July</td>\n",
       "      <td>1.0</td>\n",
       "      <td>0.0</td>\n",
       "    </tr>\n",
       "    <tr>\n",
       "      <th>602</th>\n",
       "      <td>US</td>\n",
       "      <td>July</td>\n",
       "      <td>4.0</td>\n",
       "      <td>0.0</td>\n",
       "    </tr>\n",
       "    <tr>\n",
       "      <th>603</th>\n",
       "      <td>US</td>\n",
       "      <td>July</td>\n",
       "      <td>2.0</td>\n",
       "      <td>0.0</td>\n",
       "    </tr>\n",
       "    <tr>\n",
       "      <th>604</th>\n",
       "      <td>US</td>\n",
       "      <td>July</td>\n",
       "      <td>3.0</td>\n",
       "      <td>0.0</td>\n",
       "    </tr>\n",
       "    <tr>\n",
       "      <th>...</th>\n",
       "      <td>...</td>\n",
       "      <td>...</td>\n",
       "      <td>...</td>\n",
       "      <td>...</td>\n",
       "    </tr>\n",
       "    <tr>\n",
       "      <th>995</th>\n",
       "      <td>US</td>\n",
       "      <td>August</td>\n",
       "      <td>6.0</td>\n",
       "      <td>1.0</td>\n",
       "    </tr>\n",
       "    <tr>\n",
       "      <th>996</th>\n",
       "      <td>US</td>\n",
       "      <td>August</td>\n",
       "      <td>4.0</td>\n",
       "      <td>1.0</td>\n",
       "    </tr>\n",
       "    <tr>\n",
       "      <th>997</th>\n",
       "      <td>US</td>\n",
       "      <td>August</td>\n",
       "      <td>7.0</td>\n",
       "      <td>1.0</td>\n",
       "    </tr>\n",
       "    <tr>\n",
       "      <th>998</th>\n",
       "      <td>US</td>\n",
       "      <td>August</td>\n",
       "      <td>5.0</td>\n",
       "      <td>1.0</td>\n",
       "    </tr>\n",
       "    <tr>\n",
       "      <th>999</th>\n",
       "      <td>US</td>\n",
       "      <td>August</td>\n",
       "      <td>4.0</td>\n",
       "      <td>1.0</td>\n",
       "    </tr>\n",
       "  </tbody>\n",
       "</table>\n",
       "<p>400 rows × 4 columns</p>\n",
       "</div>"
      ],
      "text/plain": [
       "    country   month  satisfaction  treatment\n",
       "600      US    July           4.0        0.0\n",
       "601      US    July           1.0        0.0\n",
       "602      US    July           4.0        0.0\n",
       "603      US    July           2.0        0.0\n",
       "604      US    July           3.0        0.0\n",
       "..      ...     ...           ...        ...\n",
       "995      US  August           6.0        1.0\n",
       "996      US  August           4.0        1.0\n",
       "997      US  August           7.0        1.0\n",
       "998      US  August           5.0        1.0\n",
       "999      US  August           4.0        1.0\n",
       "\n",
       "[400 rows x 4 columns]"
      ]
     },
     "execution_count": 46,
     "metadata": {},
     "output_type": "execute_result"
    }
   ],
   "source": [
    "df.loc[df['month'] == 'August', 'treatment'] = 1 \n",
    "df.loc[df['month'] == 'July', 'treatment'] = 0\n",
    "df"
   ]
  },
  {
   "cell_type": "code",
   "execution_count": 47,
   "metadata": {},
   "outputs": [
    {
     "name": "stdout",
     "output_type": "stream",
     "text": [
      "                            OLS Regression Results                            \n",
      "==============================================================================\n",
      "Dep. Variable:           satisfaction   R-squared:                       0.050\n",
      "Model:                            OLS   Adj. R-squared:                  0.048\n",
      "Method:                 Least Squares   F-statistic:                     21.03\n",
      "Date:                Mon, 28 Sep 2020   Prob (F-statistic):           6.07e-06\n",
      "Time:                        00:47:45   Log-Likelihood:                -818.10\n",
      "No. Observations:                 400   AIC:                             1640.\n",
      "Df Residuals:                     398   BIC:                             1648.\n",
      "Df Model:                           1                                         \n",
      "Covariance Type:            nonrobust                                         \n",
      "==============================================================================\n",
      "                 coef    std err          t      P>|t|      [0.025      0.975]\n",
      "------------------------------------------------------------------------------\n",
      "Intercept      4.6450      0.133     35.028      0.000       4.384       4.906\n",
      "treatment      0.8600      0.188      4.586      0.000       0.491       1.229\n",
      "==============================================================================\n",
      "Omnibus:                        0.331   Durbin-Watson:                   2.247\n",
      "Prob(Omnibus):                  0.847   Jarque-Bera (JB):                0.195\n",
      "Skew:                           0.040   Prob(JB):                        0.907\n",
      "Kurtosis:                       3.072   Cond. No.                         2.62\n",
      "==============================================================================\n",
      "\n",
      "Warnings:\n",
      "[1] Standard Errors assume that the covariance matrix of the errors is correctly specified.\n"
     ]
    }
   ],
   "source": [
    "model = sm.ols(formula=\"satisfaction ~ treatment\", data=df).fit()\n",
    "print(model.summary())"
   ]
  },
  {
   "cell_type": "markdown",
   "metadata": {},
   "source": [
    "##### Question 3"
   ]
  },
  {
   "cell_type": "code",
   "execution_count": 48,
   "metadata": {},
   "outputs": [],
   "source": [
    "dff = data.copy()\n",
    "df_usca = dff.loc[((dff.country == 'US')|(dff.country == 'CA')) & ((dff.month == 'July')|(dff.month == 'August'))]"
   ]
  },
  {
   "cell_type": "code",
   "execution_count": 49,
   "metadata": {},
   "outputs": [],
   "source": [
    "df_usau = dff.loc[((dff.country == 'US')|(dff.country == 'AU')) & ((dff.month == 'July')|(dff.month == 'August'))]"
   ]
  },
  {
   "cell_type": "code",
   "execution_count": 50,
   "metadata": {},
   "outputs": [],
   "source": [
    "df_usca.loc[df_usca['month'] == 'August', 'month_tr'] = 1 \n",
    "df_usca.loc[df_usca['month'] == 'July', 'month_tr'] = 0\n",
    "df_usca.loc[df_usca['country'] == 'US', 'country_tr'] = 1 \n",
    "df_usca.loc[df_usca['country'] == 'CA', 'country_tr'] = 0\n",
    "df_usau.loc[df_usau['month'] == 'August', 'month_tr'] = 1 \n",
    "df_usau.loc[df_usau['month'] == 'July', 'month_tr'] = 0\n",
    "df_usau.loc[df_usau['country'] == 'US', 'country_tr'] = 1 \n",
    "df_usau.loc[df_usau['country'] != 'US', 'country_tr'] = 0 "
   ]
  },
  {
   "cell_type": "code",
   "execution_count": 51,
   "metadata": {},
   "outputs": [
    {
     "name": "stdout",
     "output_type": "stream",
     "text": [
      "                            OLS Regression Results                            \n",
      "==============================================================================\n",
      "Dep. Variable:           satisfaction   R-squared:                       0.160\n",
      "Model:                            OLS   Adj. R-squared:                  0.156\n",
      "Method:                 Least Squares   F-statistic:                     50.41\n",
      "Date:                Mon, 28 Sep 2020   Prob (F-statistic):           7.81e-30\n",
      "Time:                        00:47:45   Log-Likelihood:                -1633.6\n",
      "No. Observations:                 800   AIC:                             3275.\n",
      "Df Residuals:                     796   BIC:                             3294.\n",
      "Df Model:                           3                                         \n",
      "Covariance Type:            nonrobust                                         \n",
      "=======================================================================================\n",
      "                          coef    std err          t      P>|t|      [0.025      0.975]\n",
      "---------------------------------------------------------------------------------------\n",
      "Intercept               6.8000      0.132     51.447      0.000       6.541       7.059\n",
      "month_tr               -0.5300      0.187     -2.835      0.005      -0.897      -0.163\n",
      "country_tr             -2.1550      0.187    -11.529      0.000      -2.522      -1.788\n",
      "month_tr:country_tr     1.3900      0.264      5.258      0.000       0.871       1.909\n",
      "==============================================================================\n",
      "Omnibus:                        0.897   Durbin-Watson:                   2.162\n",
      "Prob(Omnibus):                  0.638   Jarque-Bera (JB):                0.955\n",
      "Skew:                          -0.022   Prob(JB):                        0.620\n",
      "Kurtosis:                       2.837   Cond. No.                         6.85\n",
      "==============================================================================\n",
      "\n",
      "Warnings:\n",
      "[1] Standard Errors assume that the covariance matrix of the errors is correctly specified.\n"
     ]
    }
   ],
   "source": [
    "model_ca = sm.ols(formula=\"satisfaction ~ month_tr + country_tr + month_tr*country_tr\", data=df_usca).fit()\n",
    "print(model_ca.summary())"
   ]
  },
  {
   "cell_type": "code",
   "execution_count": 52,
   "metadata": {},
   "outputs": [
    {
     "name": "stdout",
     "output_type": "stream",
     "text": [
      "                            OLS Regression Results                            \n",
      "==============================================================================\n",
      "Dep. Variable:           satisfaction   R-squared:                       0.075\n",
      "Model:                            OLS   Adj. R-squared:                  0.071\n",
      "Method:                 Least Squares   F-statistic:                     21.42\n",
      "Date:                Mon, 28 Sep 2020   Prob (F-statistic):           2.40e-13\n",
      "Time:                        00:47:45   Log-Likelihood:                -1653.7\n",
      "No. Observations:                 800   AIC:                             3315.\n",
      "Df Residuals:                     796   BIC:                             3334.\n",
      "Df Model:                           3                                         \n",
      "Covariance Type:            nonrobust                                         \n",
      "=======================================================================================\n",
      "                          coef    std err          t      P>|t|      [0.025      0.975]\n",
      "---------------------------------------------------------------------------------------\n",
      "Intercept               4.3400      0.136     32.018      0.000       4.074       4.606\n",
      "month_tr               -0.2850      0.192     -1.487      0.137      -0.661       0.091\n",
      "country_tr              0.3050      0.192      1.591      0.112      -0.071       0.681\n",
      "month_tr:country_tr     1.1450      0.271      4.224      0.000       0.613       1.677\n",
      "==============================================================================\n",
      "Omnibus:                        0.137   Durbin-Watson:                   2.137\n",
      "Prob(Omnibus):                  0.934   Jarque-Bera (JB):                0.173\n",
      "Skew:                           0.031   Prob(JB):                        0.917\n",
      "Kurtosis:                       2.962   Cond. No.                         6.85\n",
      "==============================================================================\n",
      "\n",
      "Warnings:\n",
      "[1] Standard Errors assume that the covariance matrix of the errors is correctly specified.\n"
     ]
    }
   ],
   "source": [
    "model_au = sm.ols(formula=\"satisfaction ~ month_tr + country_tr + month_tr*country_tr\", data=df_usau).fit()\n",
    "print(model_au.summary())"
   ]
  },
  {
   "cell_type": "markdown",
   "metadata": {},
   "source": [
    "##### Question 2"
   ]
  },
  {
   "cell_type": "code",
   "execution_count": 53,
   "metadata": {},
   "outputs": [
    {
     "data": {
      "text/html": [
       "<div>\n",
       "<style scoped>\n",
       "    .dataframe tbody tr th:only-of-type {\n",
       "        vertical-align: middle;\n",
       "    }\n",
       "\n",
       "    .dataframe tbody tr th {\n",
       "        vertical-align: top;\n",
       "    }\n",
       "\n",
       "    .dataframe thead th {\n",
       "        text-align: right;\n",
       "    }\n",
       "</style>\n",
       "<table border=\"1\" class=\"dataframe\">\n",
       "  <thead>\n",
       "    <tr style=\"text-align: right;\">\n",
       "      <th></th>\n",
       "      <th></th>\n",
       "      <th>satisfaction</th>\n",
       "    </tr>\n",
       "    <tr>\n",
       "      <th>country</th>\n",
       "      <th>month</th>\n",
       "      <th></th>\n",
       "    </tr>\n",
       "  </thead>\n",
       "  <tbody>\n",
       "    <tr>\n",
       "      <th rowspan=\"5\" valign=\"top\">US</th>\n",
       "      <th>April</th>\n",
       "      <td>5.270</td>\n",
       "    </tr>\n",
       "    <tr>\n",
       "      <th>May</th>\n",
       "      <td>4.870</td>\n",
       "    </tr>\n",
       "    <tr>\n",
       "      <th>June</th>\n",
       "      <td>4.600</td>\n",
       "    </tr>\n",
       "    <tr>\n",
       "      <th>July</th>\n",
       "      <td>4.645</td>\n",
       "    </tr>\n",
       "    <tr>\n",
       "      <th>August</th>\n",
       "      <td>5.505</td>\n",
       "    </tr>\n",
       "    <tr>\n",
       "      <th rowspan=\"5\" valign=\"top\">CA</th>\n",
       "      <th>April</th>\n",
       "      <td>7.155</td>\n",
       "    </tr>\n",
       "    <tr>\n",
       "      <th>May</th>\n",
       "      <td>6.755</td>\n",
       "    </tr>\n",
       "    <tr>\n",
       "      <th>June</th>\n",
       "      <td>6.385</td>\n",
       "    </tr>\n",
       "    <tr>\n",
       "      <th>July</th>\n",
       "      <td>6.800</td>\n",
       "    </tr>\n",
       "    <tr>\n",
       "      <th>August</th>\n",
       "      <td>6.270</td>\n",
       "    </tr>\n",
       "    <tr>\n",
       "      <th rowspan=\"5\" valign=\"top\">AU</th>\n",
       "      <th>April</th>\n",
       "      <td>3.685</td>\n",
       "    </tr>\n",
       "    <tr>\n",
       "      <th>May</th>\n",
       "      <td>4.115</td>\n",
       "    </tr>\n",
       "    <tr>\n",
       "      <th>June</th>\n",
       "      <td>3.680</td>\n",
       "    </tr>\n",
       "    <tr>\n",
       "      <th>July</th>\n",
       "      <td>4.340</td>\n",
       "    </tr>\n",
       "    <tr>\n",
       "      <th>August</th>\n",
       "      <td>4.055</td>\n",
       "    </tr>\n",
       "  </tbody>\n",
       "</table>\n",
       "</div>"
      ],
      "text/plain": [
       "                satisfaction\n",
       "country month               \n",
       "US      April          5.270\n",
       "        May            4.870\n",
       "        June           4.600\n",
       "        July           4.645\n",
       "        August         5.505\n",
       "CA      April          7.155\n",
       "        May            6.755\n",
       "        June           6.385\n",
       "        July           6.800\n",
       "        August         6.270\n",
       "AU      April          3.685\n",
       "        May            4.115\n",
       "        June           3.680\n",
       "        July           4.340\n",
       "        August         4.055"
      ]
     },
     "execution_count": 53,
     "metadata": {},
     "output_type": "execute_result"
    }
   ],
   "source": [
    "df_q2 = dff.groupby([dff.country, dff.month], sort=False).mean()\n",
    "df_q2"
   ]
  },
  {
   "cell_type": "code",
   "execution_count": 54,
   "metadata": {},
   "outputs": [
    {
     "data": {
      "text/plain": [
       "Text(0, 0.5, 'Mean satisfaction')"
      ]
     },
     "execution_count": 54,
     "metadata": {},
     "output_type": "execute_result"
    },
    {
     "data": {
      "image/png": "[encoded data removed]",
      "text/plain": [
       "<Figure size 1080x576 with 1 Axes>"
      ]
     },
     "metadata": {
      "needs_background": "light"
     },
     "output_type": "display_data"
    }
   ],
   "source": [
    "# plot data\n",
    "fig, ax = plt.subplots(figsize=(15,8))\n",
    "dff.groupby([dff.month, dff.country], sort = False).mean()['satisfaction'].unstack().plot(ax=ax)\n",
    "plt.title('Parallel trends')\n",
    "plt.xlabel('Months')\n",
    "plt.ylabel('Mean satisfaction')"
   ]
  },
  {
   "cell_type": "markdown",
   "metadata": {},
   "source": [
    "## Problem 2"
   ]
  },
  {
   "cell_type": "code",
   "execution_count": 55,
   "metadata": {},
   "outputs": [
    {
     "data": {
      "text/html": [
       "<div>\n",
       "<style scoped>\n",
       "    .dataframe tbody tr th:only-of-type {\n",
       "        vertical-align: middle;\n",
       "    }\n",
       "\n",
       "    .dataframe tbody tr th {\n",
       "        vertical-align: top;\n",
       "    }\n",
       "\n",
       "    .dataframe thead th {\n",
       "        text-align: right;\n",
       "    }\n",
       "</style>\n",
       "<table border=\"1\" class=\"dataframe\">\n",
       "  <thead>\n",
       "    <tr style=\"text-align: right;\">\n",
       "      <th></th>\n",
       "      <th>queue</th>\n",
       "      <th>treatment</th>\n",
       "      <th>satisfaction</th>\n",
       "      <th>popups</th>\n",
       "    </tr>\n",
       "  </thead>\n",
       "  <tbody>\n",
       "    <tr>\n",
       "      <th>0</th>\n",
       "      <td>NaN</td>\n",
       "      <td>0</td>\n",
       "      <td>3</td>\n",
       "      <td>1</td>\n",
       "    </tr>\n",
       "    <tr>\n",
       "      <th>1</th>\n",
       "      <td>NaN</td>\n",
       "      <td>0</td>\n",
       "      <td>7</td>\n",
       "      <td>1</td>\n",
       "    </tr>\n",
       "    <tr>\n",
       "      <th>2</th>\n",
       "      <td>NaN</td>\n",
       "      <td>0</td>\n",
       "      <td>6</td>\n",
       "      <td>1</td>\n",
       "    </tr>\n",
       "    <tr>\n",
       "      <th>3</th>\n",
       "      <td>17772.0</td>\n",
       "      <td>0</td>\n",
       "      <td>7</td>\n",
       "      <td>0</td>\n",
       "    </tr>\n",
       "    <tr>\n",
       "      <th>4</th>\n",
       "      <td>NaN</td>\n",
       "      <td>0</td>\n",
       "      <td>3</td>\n",
       "      <td>1</td>\n",
       "    </tr>\n",
       "  </tbody>\n",
       "</table>\n",
       "</div>"
      ],
      "text/plain": [
       "     queue  treatment  satisfaction  popups\n",
       "0      NaN          0             3       1\n",
       "1      NaN          0             7       1\n",
       "2      NaN          0             6       1\n",
       "3  17772.0          0             7       0\n",
       "4      NaN          0             3       1"
      ]
     },
     "execution_count": 55,
     "metadata": {},
     "output_type": "execute_result"
    }
   ],
   "source": [
    "data1 = pd.read_csv('data_assignment4_2.csv')\n",
    "data1.head()"
   ]
  },
  {
   "cell_type": "code",
   "execution_count": 56,
   "metadata": {},
   "outputs": [
    {
     "data": {
      "text/plain": [
       "queue           10000\n",
       "treatment           0\n",
       "satisfaction        0\n",
       "popups              0\n",
       "dtype: int64"
      ]
     },
     "execution_count": 56,
     "metadata": {},
     "output_type": "execute_result"
    }
   ],
   "source": [
    "data1.isna().sum()"
   ]
  },
  {
   "cell_type": "code",
   "execution_count": 57,
   "metadata": {},
   "outputs": [
    {
     "data": {
      "text/plain": [
       "(30000, 4)"
      ]
     },
     "execution_count": 57,
     "metadata": {},
     "output_type": "execute_result"
    }
   ],
   "source": [
    "data1.shape"
   ]
  },
  {
   "cell_type": "code",
   "execution_count": 58,
   "metadata": {},
   "outputs": [
    {
     "data": {
      "text/plain": [
       "array([   nan, 17772., 16780., ...,   906., 18141., 16974.])"
      ]
     },
     "execution_count": 58,
     "metadata": {},
     "output_type": "execute_result"
    }
   ],
   "source": [
    "data1.queue.unique()"
   ]
  },
  {
   "cell_type": "code",
   "execution_count": 59,
   "metadata": {},
   "outputs": [],
   "source": [
    "#dropping nans\n",
    "data = data1.dropna()"
   ]
  },
  {
   "cell_type": "code",
   "execution_count": 60,
   "metadata": {},
   "outputs": [
    {
     "data": {
      "text/plain": [
       "Text(0, 0.5, 'Satisfaction')"
      ]
     },
     "execution_count": 60,
     "metadata": {},
     "output_type": "execute_result"
    },
    {
     "data": {
      "image/png": "[encoded data removed]",
      "text/plain": [
       "<Figure size 1080x576 with 1 Axes>"
      ]
     },
     "metadata": {
      "needs_background": "light"
     },
     "output_type": "display_data"
    }
   ],
   "source": [
    "plt.figure(figsize = (15,8))\n",
    "plt.scatter(data1['treatment'], data1['satisfaction'], color = 'green')\n",
    "plt.title('Dataset overview')\n",
    "plt.xlabel('Treatment')\n",
    "plt.ylabel('Satisfaction')"
   ]
  },
  {
   "cell_type": "code",
   "execution_count": 61,
   "metadata": {},
   "outputs": [
    {
     "data": {
      "text/plain": [
       "(20000, 4)"
      ]
     },
     "execution_count": 61,
     "metadata": {},
     "output_type": "execute_result"
    }
   ],
   "source": [
    "data.shape"
   ]
  },
  {
   "cell_type": "markdown",
   "metadata": {},
   "source": [
    "##### Question 2"
   ]
  },
  {
   "cell_type": "markdown",
   "metadata": {},
   "source": [
    "##### part b"
   ]
  },
  {
   "cell_type": "code",
   "execution_count": 62,
   "metadata": {},
   "outputs": [
    {
     "name": "stdout",
     "output_type": "stream",
     "text": [
      "                            OLS Regression Results                            \n",
      "==============================================================================\n",
      "Dep. Variable:           satisfaction   R-squared:                       0.076\n",
      "Model:                            OLS   Adj. R-squared:                  0.076\n",
      "Method:                 Least Squares   F-statistic:                     825.1\n",
      "Date:                Mon, 28 Sep 2020   Prob (F-statistic):               0.00\n",
      "Time:                        00:57:59   Log-Likelihood:                -34548.\n",
      "No. Observations:               20000   AIC:                         6.910e+04\n",
      "Df Residuals:                   19997   BIC:                         6.913e+04\n",
      "Df Model:                           2                                         \n",
      "Covariance Type:            nonrobust                                         \n",
      "==============================================================================\n",
      "                 coef    std err          t      P>|t|      [0.025      0.975]\n",
      "------------------------------------------------------------------------------\n",
      "Intercept      2.2285      0.052     42.984      0.000       2.127       2.330\n",
      "queue          0.0001   3.33e-06     40.140      0.000       0.000       0.000\n",
      "treatment      1.2183      0.039     31.638      0.000       1.143       1.294\n",
      "==============================================================================\n",
      "Omnibus:                       16.716   Durbin-Watson:                   2.020\n",
      "Prob(Omnibus):                  0.000   Jarque-Bera (JB):               14.736\n",
      "Skew:                          -0.005   Prob(JB):                     0.000631\n",
      "Kurtosis:                       2.867   Cond. No.                     7.62e+04\n",
      "==============================================================================\n",
      "\n",
      "Warnings:\n",
      "[1] Standard Errors assume that the covariance matrix of the errors is correctly specified.\n",
      "[2] The condition number is large, 7.62e+04. This might indicate that there are\n",
      "strong multicollinearity or other numerical problems.\n"
     ]
    }
   ],
   "source": [
    "model = sm.ols(formula=\"satisfaction ~ queue + treatment\", data=data).fit()\n",
    "print(model.summary())"
   ]
  },
  {
   "cell_type": "markdown",
   "metadata": {},
   "source": [
    "##### part c"
   ]
  },
  {
   "cell_type": "code",
   "execution_count": 63,
   "metadata": {},
   "outputs": [
    {
     "name": "stdout",
     "output_type": "stream",
     "text": [
      "                            OLS Regression Results                            \n",
      "==============================================================================\n",
      "Dep. Variable:           satisfaction   R-squared:                       0.111\n",
      "Model:                            OLS   Adj. R-squared:                  0.110\n",
      "Method:                 Least Squares   F-statistic:                     124.2\n",
      "Date:                Mon, 28 Sep 2020   Prob (F-statistic):           1.45e-51\n",
      "Time:                        00:58:22   Log-Likelihood:                -3525.0\n",
      "No. Observations:                2001   AIC:                             7056.\n",
      "Df Residuals:                    1998   BIC:                             7073.\n",
      "Df Model:                           2                                         \n",
      "Covariance Type:            nonrobust                                         \n",
      "==============================================================================\n",
      "                 coef    std err          t      P>|t|      [0.025      0.975]\n",
      "------------------------------------------------------------------------------\n",
      "Intercept      3.5328      1.147      3.081      0.002       1.284       5.782\n",
      "queue       9.825e-06      0.000      0.090      0.928      -0.000       0.000\n",
      "treatment      1.0032      0.126      7.958      0.000       0.756       1.250\n",
      "==============================================================================\n",
      "Omnibus:                       14.641   Durbin-Watson:                   1.945\n",
      "Prob(Omnibus):                  0.001   Jarque-Bera (JB):               10.204\n",
      "Skew:                          -0.005   Prob(JB):                      0.00609\n",
      "Kurtosis:                       2.650   Cond. No.                     3.66e+05\n",
      "==============================================================================\n",
      "\n",
      "Warnings:\n",
      "[1] Standard Errors assume that the covariance matrix of the errors is correctly specified.\n",
      "[2] The condition number is large, 3.66e+05. This might indicate that there are\n",
      "strong multicollinearity or other numerical problems.\n"
     ]
    }
   ],
   "source": [
    "dff = data.loc[(data.queue >= 9000) & (data.queue <= 11000)]\n",
    "model = sm.ols(formula=\"satisfaction ~ queue + treatment\", data=dff).fit()\n",
    "print(model.summary())"
   ]
  },
  {
   "cell_type": "markdown",
   "metadata": {},
   "source": [
    "##### Question 3"
   ]
  },
  {
   "cell_type": "markdown",
   "metadata": {},
   "source": [
    "##### part b"
   ]
  },
  {
   "cell_type": "code",
   "execution_count": 64,
   "metadata": {},
   "outputs": [
    {
     "name": "stdout",
     "output_type": "stream",
     "text": [
      "                            OLS Regression Results                            \n",
      "==============================================================================\n",
      "Dep. Variable:              treatment   R-squared:                       0.179\n",
      "Model:                            OLS   Adj. R-squared:                  0.179\n",
      "Method:                 Least Squares   F-statistic:                     6551.\n",
      "Date:                Mon, 28 Sep 2020   Prob (F-statistic):               0.00\n",
      "Time:                        00:58:26   Log-Likelihood:                -17044.\n",
      "No. Observations:               30000   AIC:                         3.409e+04\n",
      "Df Residuals:                   29998   BIC:                         3.411e+04\n",
      "Df Model:                           1                                         \n",
      "Covariance Type:            nonrobust                                         \n",
      "==============================================================================\n",
      "                 coef    std err          t      P>|t|      [0.025      0.975]\n",
      "------------------------------------------------------------------------------\n",
      "Intercept      0.5333      0.003    152.788      0.000       0.526       0.540\n",
      "popups        -0.3992      0.005    -80.939      0.000      -0.409      -0.389\n",
      "==============================================================================\n",
      "Omnibus:                     5322.212   Durbin-Watson:                   2.014\n",
      "Prob(Omnibus):                  0.000   Jarque-Bera (JB):             2015.287\n",
      "Skew:                           0.440   Prob(JB):                         0.00\n",
      "Kurtosis:                       2.085   Cond. No.                         2.62\n",
      "==============================================================================\n",
      "\n",
      "Warnings:\n",
      "[1] Standard Errors assume that the covariance matrix of the errors is correctly specified.\n"
     ]
    }
   ],
   "source": [
    "#iv = popups\n",
    "#response = satisfaction \n",
    "#1 st regression:\n",
    "model_1s = sm.ols('treatment ~ popups', data = data1).fit()\n",
    "print(model_1s.summary())"
   ]
  },
  {
   "cell_type": "markdown",
   "metadata": {},
   "source": [
    "#### the regression says that only 60% of people are willing to consume low-sodium meals even though they got ads about that "
   ]
  },
  {
   "cell_type": "code",
   "execution_count": 67,
   "metadata": {
    "scrolled": true
   },
   "outputs": [],
   "source": [
    "#2nd regression\n",
    "#finding treatment hat\n",
    "data1['treatment_hat'] = 0.5333 - .3992 * data1.popups # treatment hat\n",
    "model_2d = sm.ols('satisfaction ~ treatment_hat', data = data1).fit()"
   ]
  },
  {
   "cell_type": "code",
   "execution_count": 68,
   "metadata": {},
   "outputs": [
    {
     "name": "stdout",
     "output_type": "stream",
     "text": [
      "                            OLS Regression Results                            \n",
      "==============================================================================\n",
      "Dep. Variable:           satisfaction   R-squared:                       0.018\n",
      "Model:                            OLS   Adj. R-squared:                  0.018\n",
      "Method:                 Least Squares   F-statistic:                     537.5\n",
      "Date:                Mon, 28 Sep 2020   Prob (F-statistic):          7.06e-118\n",
      "Time:                        00:59:06   Log-Likelihood:                -54324.\n",
      "No. Observations:               30000   AIC:                         1.087e+05\n",
      "Df Residuals:                   29998   BIC:                         1.087e+05\n",
      "Df Model:                           1                                         \n",
      "Covariance Type:            nonrobust                                         \n",
      "=================================================================================\n",
      "                    coef    std err          t      P>|t|      [0.025      0.975]\n",
      "---------------------------------------------------------------------------------\n",
      "Intercept         4.2540      0.017    255.791      0.000       4.221       4.287\n",
      "treatment_hat     0.9924      0.043     23.185      0.000       0.908       1.076\n",
      "==============================================================================\n",
      "Omnibus:                      125.542   Durbin-Watson:                   2.009\n",
      "Prob(Omnibus):                  0.000   Jarque-Bera (JB):               93.440\n",
      "Skew:                           0.012   Prob(JB):                     5.13e-21\n",
      "Kurtosis:                       2.728   Cond. No.                         5.59\n",
      "==============================================================================\n",
      "\n",
      "Warnings:\n",
      "[1] Standard Errors assume that the covariance matrix of the errors is correctly specified.\n"
     ]
    }
   ],
   "source": [
    "print(model_2d.summary())"
   ]
  },
  {
   "cell_type": "markdown",
   "metadata": {},
   "source": [
    "##### part c"
   ]
  },
  {
   "cell_type": "code",
   "execution_count": 69,
   "metadata": {},
   "outputs": [],
   "source": [
    "#RUN BOOTSTRAP\n",
    "samples = []\n",
    "t = data1.treatment\n",
    "y = data1.satisfaction\n",
    "# Pick a large number of iterations to wash away sampling noise\n",
    "for i in range(2000):\n",
    "    index = np.append(np.random.choice(y[(t==0)].index,len(y[(t==0)].index), replace=True),\n",
    "                      np.random.choice(y[(t==1)].index,len(y[(t==1)].index), replace=True))\n",
    "    samples.append(sm.ols(formula = \"satisfaction ~ treatment_hat\", data=data1.iloc[index]).fit().params[1])"
   ]
  },
  {
   "cell_type": "code",
   "execution_count": 71,
   "metadata": {},
   "outputs": [
    {
     "name": "stdout",
     "output_type": "stream",
     "text": [
      "Treatment effect via bootstrap: 0.992\n",
      "The standard error of estimated treatment effect = 0.043\n"
     ]
    }
   ],
   "source": [
    "print(\"Treatment effect via bootstrap: \" + str(round(np.mean(samples), 3)))\n",
    "print(\"The standard error of estimated treatment effect = \" + str(round(np.std(samples), 3)))"
   ]
  },
  {
   "cell_type": "markdown",
   "metadata": {},
   "source": [
    "## Problem 3"
   ]
  },
  {
   "cell_type": "code",
   "execution_count": 89,
   "metadata": {},
   "outputs": [],
   "source": [
    "# define bootstrap function\n",
    "def bootstrap(data, iterations = 1000):\n",
    "    np.random.seed(123)\n",
    "    data = np.array([data] * iterations) # create number of parellel bootstrap\n",
    "\n",
    "    s= np.zeros([data.shape[0],data.shape[1]])# starting with 0\n",
    "    n= np.zeros([data.shape[0],data.shape[1]])\n",
    "    w = np.random.poisson(1, [data.shape[0],data.shape[1]])\n",
    "    s = data * w \n",
    "    n = n + w\n",
    "    mean = np.sum(s, axis=1)/np.sum(n, axis=1)\n",
    "    return mean\n",
    "\n",
    "np.random.seed(123)\n",
    "stream = np.array([np.random.choice(np.arange(30,51), 100000) for _ in range(5)]) #5 batches of data"
   ]
  },
  {
   "cell_type": "code",
   "execution_count": 90,
   "metadata": {},
   "outputs": [],
   "source": [
    "#  \n",
    "generate streaming mean and SE per batch\n",
    "mean_list = []\n",
    "se_list = []\n",
    "for i,j in enumerate(stream):\n",
    "    se_list.append(np.std(bootstrap(j, 1000)))\n",
    "    mean_list.append(np.mean(bootstrap(j, 1000)))"
   ]
  },
  {
   "cell_type": "code",
   "execution_count": null,
   "metadata": {},
   "outputs": [],
   "source": [
    "\n",
    "# define bootstrap function\n",
    "def bootstrap(data, iterations = 1000):\n",
    "    np.random.seed(123)\n",
    "    data = np.array([data] * iterations) # create number of parellel bootstrap\n",
    "\n",
    "    s= np.zeros([data.shape[0],data.shape[1]])# starting with 0\n",
    "    n= np.zeros([data.shape[0],data.shape[1]])\n",
    "    w = np.random.poisson(1, [data.shape[0],data.shape[1]])\n",
    "    s = data * w \n",
    "    n = n + w\n",
    "    mean = np.sum(s, axis=1)/np.sum(n, axis=1)\n",
    "    return mean\n",
    "\n",
    "\n",
    "np.random.seed(123)\n",
    "#5 batches of data\n",
    "stream = np.array([np.random.choice(np.arange(30,51), 100000) for _ in range(5)]) \n",
    "mean_list = [] #create list for mean values\n",
    "se_list = [] #create list for se values\n",
    "for i,j in enumerate(stream):\n",
    "    se_list.append(np.std(bootstrap(j, 1000)))\n",
    "    mean_list.append(np.mean(bootstrap(j, 1000)))\n"
   ]
  },
  {
   "cell_type": "code",
   "execution_count": 93,
   "metadata": {},
   "outputs": [
    {
     "data": {
      "text/html": [
       "<div>\n",
       "<style scoped>\n",
       "    .dataframe tbody tr th:only-of-type {\n",
       "        vertical-align: middle;\n",
       "    }\n",
       "\n",
       "    .dataframe tbody tr th {\n",
       "        vertical-align: top;\n",
       "    }\n",
       "\n",
       "    .dataframe thead th {\n",
       "        text-align: right;\n",
       "    }\n",
       "</style>\n",
       "<table border=\"1\" class=\"dataframe\">\n",
       "  <thead>\n",
       "    <tr style=\"text-align: right;\">\n",
       "      <th></th>\n",
       "      <th>batch</th>\n",
       "      <th>Mean</th>\n",
       "      <th>Standard Error</th>\n",
       "    </tr>\n",
       "  </thead>\n",
       "  <tbody>\n",
       "    <tr>\n",
       "      <th>0</th>\n",
       "      <td>1</td>\n",
       "      <td>40.018590</td>\n",
       "      <td>0.018845</td>\n",
       "    </tr>\n",
       "    <tr>\n",
       "      <th>1</th>\n",
       "      <td>2</td>\n",
       "      <td>39.971242</td>\n",
       "      <td>0.018973</td>\n",
       "    </tr>\n",
       "    <tr>\n",
       "      <th>2</th>\n",
       "      <td>3</td>\n",
       "      <td>39.993500</td>\n",
       "      <td>0.019080</td>\n",
       "    </tr>\n",
       "    <tr>\n",
       "      <th>3</th>\n",
       "      <td>4</td>\n",
       "      <td>39.983950</td>\n",
       "      <td>0.018954</td>\n",
       "    </tr>\n",
       "    <tr>\n",
       "      <th>4</th>\n",
       "      <td>5</td>\n",
       "      <td>39.964986</td>\n",
       "      <td>0.019287</td>\n",
       "    </tr>\n",
       "  </tbody>\n",
       "</table>\n",
       "</div>"
      ],
      "text/plain": [
       "   batch       Mean  Standard Error\n",
       "0      1  40.018590        0.018845\n",
       "1      2  39.971242        0.018973\n",
       "2      3  39.993500        0.019080\n",
       "3      4  39.983950        0.018954\n",
       "4      5  39.964986        0.019287"
      ]
     },
     "execution_count": 93,
     "metadata": {},
     "output_type": "execute_result"
    }
   ],
   "source": [
    "lst1 = range(1, 6)\n",
    "mean_se_df = pd.DataFrame(\n",
    "    {'batch': lst1,\n",
    "     'Mean': mean_list,\n",
    "     'Standard Error': se_list\n",
    "    })\n",
    "mean_se_df"
   ]
  },
  {
   "cell_type": "code",
   "execution_count": null,
   "metadata": {},
   "outputs": [],
   "source": []
  }
 ],
 "metadata": {
  "kernelspec": {
   "display_name": "Python 3",
   "language": "python",
   "name": "python3"
  },
  "language_info": {
   "codemirror_mode": {
    "name": "ipython",
    "version": 3
   },
   "file_extension": ".py",
   "mimetype": "text/x-python",
   "name": "python",
   "nbconvert_exporter": "python",
   "pygments_lexer": "ipython3",
   "version": "3.6.8"
  }
 },
 "nbformat": 4,
 "nbformat_minor": 2
}
