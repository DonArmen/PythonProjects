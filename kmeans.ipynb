{
 "cells": [
  {
   "cell_type": "markdown",
   "metadata": {},
   "source": [
    "### Armen Khachatrian\n",
    "### CS 663 - Machine Learning\n",
    "#### K-Means"
   ]
  },
  {
   "cell_type": "code",
   "execution_count": 2,
   "metadata": {},
   "outputs": [],
   "source": [
    "class cluster:\n",
    "\n",
    "    def __init__(self):\n",
    "        pass\n",
    "\n",
    "    def fit(self, X):\n",
    "        pass"
   ]
  },
  {
   "cell_type": "code",
   "execution_count": 3,
   "metadata": {},
   "outputs": [],
   "source": [
    "class KMeans(cluster):\n",
    "    def __init__(self, k = 5, max_iterations = 100):\n",
    "        self.k = k\n",
    "        self.max_iterations = max_iterations\n",
    "        \n",
    "        \n",
    "    def init_centroids(self, X):\n",
    "        #np.random.RandomState(self.random_state)\n",
    "        random_idx = np.random.permutation(X.shape[0])\n",
    "        centroids = X[random_idx[:self.k]]\n",
    "        return centroids\n",
    "    \n",
    "    \n",
    "    def comp_centroids(self, X, hypotheses):\n",
    "        centroids = np.zeros((self.k, X.shape[1]))\n",
    "        for i in range(self.k):\n",
    "            centroids[i, :] = np.mean(X[hypotheses == i, :], axis=0)\n",
    "        return centroids\n",
    "    \n",
    "    \n",
    "    def comp_distance(self, X, centroids):\n",
    "        distance = np.zeros((X.shape[0], self.k))\n",
    "        for i in range(self.k):\n",
    "            row_norm = norm(X - centroids[i, :], axis=1)\n",
    "            distance[:, i] = np.square(row_norm)\n",
    "        return distance\n",
    "    \n",
    "    \n",
    "    def find_closest_cluster(self, distance):\n",
    "        return np.argmin(distance, axis=1)\n",
    "    \n",
    "    \n",
    "    def fit(self, X):\n",
    "        self.centroids = self.init_centroids(X)\n",
    "        centroids_list = []\n",
    "        hyp_list = []\n",
    "        for i in range(self.max_iterations):\n",
    "            old_centroids = self.centroids\n",
    "            distance = self.comp_distance(X, old_centroids)\n",
    "            self.hypotheses = self.find_closest_cluster(distance)\n",
    "            self.centroids = self.comp_centroids(X, self.hypotheses)\n",
    "            if np.all(old_centroids == self.centroids):\n",
    "                break\n",
    "            centroids_list = self.centroids\n",
    "            hyp_list = self.hypotheses\n",
    "        return hyp_list,centroids_list\n",
    "    \n",
    "    \n",
    "    def fit_extended(self, X, balanced = False):\n",
    "        self.balanced = balanced\n",
    "        if balanced == True:\n",
    "            self.centroids = self.init_centroids(X)\n",
    "            labels = -1 * np.ones(X.shape[0], dtype=np.int32)\n",
    "            mindist = np.infty * np.ones(X.shape[0])\n",
    "            best_labels, best_inertia, best_centers = None, None, None\n",
    "            for i in range(self.max_iterations):\n",
    "                # Init the old cluster centroids\n",
    "                old_centroids = self.centroids\n",
    "                distances = self.comp_distance(X, old_centroids)\n",
    "                for point_id in np.arange(X.shape[0]):\n",
    "                    # Sort points by distance\n",
    "                    sorted_points = sorted([(a, b) for a, b in enumerate(distances.T[:, point_id])],\n",
    "                                           key=lambda x: x[1])\n",
    "\n",
    "                    # Initial assignment of labels and mindist\n",
    "                    # Here we put the threshold of size\n",
    "                    for cluster_id, point_dist in sorted_points:\n",
    "                        if not (len(np.where(labels==cluster_id)[0]) >= X.shape[0]//self.k):\n",
    "                            labels[point_id], mindist[point_id] = cluster_id, point_dist\n",
    "                            break\n",
    "                    \n",
    "                transfer_list = [] #for point correspondings\n",
    "                best_mindist = mindist.copy()\n",
    "                best_labels = labels.copy()\n",
    "        \n",
    "                # Points by distance (from highest to lowest)\n",
    "                for point_id in np.argsort(mindist)[::-1]:\n",
    "                    point_cluster = labels[point_id]\n",
    "\n",
    "                    # see if there is an opening on the best cluster for this point\n",
    "                    cluster_id, point_dist = sorted([(a, b) for a, b in enumerate(distances.T[:, point_id])],\n",
    "                                                    key=lambda x: x[1])[0]\n",
    "\n",
    "                    if not ((len(np.where(labels==cluster_id)[0]) >= X.shape[0]//self.k) and\n",
    "                        (point_cluster != cluster_id)):\n",
    "                        labels[point_id], mindist[point_id] = cluster_id, point_dist\n",
    "                        best_labels, best_mindist = labels.copy(), mindist.copy()\n",
    "                        continue\n",
    "                    # iterate through candidates in the transfer list\n",
    "                    for swap_candidate_id in transfer_list:\n",
    "                        if point_cluster != labels[swap_candidate_id]:\n",
    "                            # calculate the current distance of swap candidate\n",
    "                            cand_distance = mindist[swap_candidate_id]\n",
    "\n",
    "                            # find the potential distance of point\n",
    "                            point_distance = distances.T[labels[swap_candidate_id], point_id]\n",
    "\n",
    "                            # proceeed if transfer will improve distance\n",
    "                            if point_distance < cand_distance:\n",
    "                                labels[point_id] = labels[swap_candidate_id]\n",
    "                                mindist[point_id] = distances.T[labels[swap_candidate_id], point_id]\n",
    "                                labels[swap_candidate_id] = point_cluster\n",
    "                                mindist[swap_candidate_id] = distances.T[point_cluster, swap_candidate_id]\n",
    "\n",
    "                                if np.abs(mindist).sum() <  np.abs(best_mindist).sum():\n",
    "                                    # update the labels since the transfer was a success\n",
    "                                    best_labels, best_mindist = labels.copy(), mindist.copy()\n",
    "                                    break\n",
    "                                else:\n",
    "                                    # reset since the transfer was not a success\n",
    "                                    labels, mindist = best_labels.copy(), best_mindist.copy()\n",
    "\n",
    "                    # Add point to transfer list\n",
    "                    transfer_list.append(point_id)\n",
    "\n",
    "                # Calculate final intertia\n",
    "                inertia = best_mindist.sum()\n",
    "                labels = best_labels\n",
    "\n",
    "                # Recalculate centers \n",
    "                centers = []\n",
    "                for group_id in range(self.k):\n",
    "                    centers.append(np.mean(X[np.where(best_labels == group_id)[0]], 0))\n",
    "                centers = np.array(centers)\n",
    "\n",
    "                # UPDATE RETURN VALUES\n",
    "                if best_inertia is None or inertia < best_inertia:\n",
    "                    best_labels = labels.copy()\n",
    "                    best_centers = centers.copy()\n",
    "                    best_inertia = inertia\n",
    "\n",
    "            # Test group sizes and raise AssertionError on non-uniform group sizes\n",
    "            best_group_sizes = [len(np.where(best_labels == group_id)[0]) for\n",
    "                                group_id in range(self.k)]\n",
    "            assert best_group_sizes == [len(X) // self.k] * self.k\n",
    "            return best_centers, best_labels, best_group_sizes\n",
    "        else:\n",
    "            self.centroids = self.init_centroids(X)\n",
    "            centroids_list = []\n",
    "            hyp_list = []\n",
    "            for i in range(self.max_iterations):\n",
    "                old_centroids = self.centroids\n",
    "                distance = self.comp_distance(X, old_centroids)\n",
    "                self.hypotheses = self.find_closest_cluster(distance)\n",
    "                self.centroids = self.comp_centroids(X, self.hypotheses)\n",
    "                if np.all(old_centroids == self.centroids):\n",
    "                    break\n",
    "                centroids_list = self.centroids\n",
    "                hyp_list = self.hypotheses\n",
    "            group_sizes = [len(np.where(self.hypotheses == group_id)[0]) for\n",
    "                            group_id in range(self.k)]\n",
    "            return hyp_list,centroids_list, group_sizes"
   ]
  },
  {
   "cell_type": "markdown",
   "metadata": {},
   "source": [
    ">Example:"
   ]
  },
  {
   "cell_type": "code",
   "execution_count": 4,
   "metadata": {},
   "outputs": [],
   "source": [
    "import pandas as pd\n",
    "import matplotlib.pyplot as plt\n",
    "import numpy as np\n",
    "from numpy.linalg import norm\n",
    "\n",
    "from sklearn.datasets.samples_generator import make_blobs\n",
    "X, cluster_assignments = make_blobs(n_samples=200, centers=4, cluster_std=0.60, random_state=0)"
   ]
  },
  {
   "cell_type": "markdown",
   "metadata": {},
   "source": [
    ">fit ():"
   ]
  },
  {
   "cell_type": "code",
   "execution_count": 11,
   "metadata": {},
   "outputs": [
    {
     "name": "stdout",
     "output_type": "stream",
     "text": [
      "Centroids:  [[ 0.90793962  4.35713791]\n",
      " [-1.62401415  2.9159629 ]\n",
      " [ 2.07187892  0.97422926]\n",
      " [-1.34842715  7.72096548]]\n",
      "Label Hypotheses:  [2 3 1 0 2 1 3 1 1 1 1 2 3 3 2 1 0 0 0 2 0 3 2 3 2 2 0 2 2 1 0 1 3 2 3 1 3\n",
      " 1 1 0 0 0 0 1 2 3 1 0 0 1 0 3 3 0 1 0 3 2 1 2 0 1 2 1 0 1 2 0 3 3 2 2 1 1\n",
      " 3 0 3 3 2 2 0 1 2 3 3 1 1 2 3 3 0 0 0 1 1 2 3 0 1 1 0 2 2 0 0 3 1 2 2 1 0\n",
      " 3 3 2 2 1 3 3 0 1 0 3 1 2 1 3 1 3 2 1 3 2 3 0 0 3 0 0 2 0 2 3 2 2 3 2 1 2\n",
      " 3 0 0 0 1 3 2 1 0 3 0 2 0 2 2 3 3 0 1 2 2 3 2 1 3 0 0 0 1 1 3 1 3 2 1 2 1\n",
      " 3 3 0 1 0 2 2 1 0 3 3 3 1 0 2]\n"
     ]
    }
   ],
   "source": [
    "model= KMeans(k=4, max_iterations=100)\n",
    "fit_centroids = model.fit(X)[1]\n",
    "fit_hypotheses = model.fit(X)[0]\n",
    "print('Centroids: ', fit_centroids)\n",
    "print('Label Hypotheses: ', fit_hypotheses)"
   ]
  },
  {
   "cell_type": "markdown",
   "metadata": {},
   "source": [
    "> fit_extended(balanced = True)"
   ]
  },
  {
   "cell_type": "code",
   "execution_count": 13,
   "metadata": {},
   "outputs": [
    {
     "name": "stdout",
     "output_type": "stream",
     "text": [
      "Centroids for fit_extended(True) [[ 2.06118278  1.01718475]\n",
      " [-1.604148    3.08649097]\n",
      " [ 0.87811963  4.17896102]\n",
      " [-1.32777718  7.68565882]]\n",
      "Label Hypotheses for fit_extended(True) [1 3 1 0 3 1 2 1 1 1 1 1 2 2 1 1 0 0 0 1 0 3 3 3 1 1 0 3 3 1 0 1 3 1 3 1 3\n",
      " 1 1 0 0 0 0 1 3 2 1 0 0 1 0 3 2 0 1 0 3 3 1 1 0 1 1 1 0 1 1 0 2 3 1 3 1 1\n",
      " 2 0 2 2 1 1 0 1 1 3 2 1 1 3 3 2 0 0 0 1 1 1 2 0 1 1 0 1 1 0 0 3 1 1 1 1 0\n",
      " 2 2 3 3 3 3 2 0 2 0 2 2 3 2 2 3 2 3 3 2 3 3 0 0 2 0 0 3 0 3 2 3 2 2 3 2 3\n",
      " 2 0 0 0 2 2 3 2 0 2 0 2 0 3 3 3 3 0 3 3 3 2 3 2 2 0 0 0 2 2 2 2 2 3 2 3 2\n",
      " 2 2 0 2 0 3 3 3 0 2 2 2 2 0 3]\n",
      "Best cluster sizes for fit_extended(True) [50, 50, 50, 50]\n"
     ]
    }
   ],
   "source": [
    "print('Centroids for fit_extended(True)', model.fit_extended(X, balanced =True)[0]) \n",
    "print('Label Hypotheses for fit_extended(True)', model.fit_extended(X, balanced =True)[1]) \n",
    "print('Best cluster sizes for fit_extended(True)', model.fit_extended(X, balanced =True)[2]) "
   ]
  },
  {
   "cell_type": "markdown",
   "metadata": {},
   "source": [
    "> fit_extended(balanced = False)"
   ]
  },
  {
   "cell_type": "code",
   "execution_count": 16,
   "metadata": {},
   "outputs": [
    {
     "name": "stdout",
     "output_type": "stream",
     "text": [
      "Centroids for fit_extended(False) [[-1.62401415  2.9159629 ]\n",
      " [-1.34842715  7.72096548]\n",
      " [ 0.90793962  4.35713791]\n",
      " [ 2.07187892  0.97422926]]\n",
      "Label Hypotheses for fit_extended(False) [0 1 2 3 0 2 1 2 2 2 2 0 1 1 0 2 3 3 3 0 3 1 0 1 0 0 3 0 0 2 3 2 1 0 1 2 1\n",
      " 2 2 3 3 3 3 2 0 1 2 3 3 2 3 1 1 3 2 3 1 0 2 0 3 2 0 2 3 2 0 3 1 1 0 0 2 2\n",
      " 1 3 1 1 0 0 3 2 0 1 1 2 2 0 1 1 3 3 3 2 2 0 1 3 2 2 3 0 0 3 3 1 2 0 0 2 3\n",
      " 1 1 0 0 2 1 1 3 2 3 1 2 0 2 1 2 1 0 2 1 0 1 3 3 1 3 3 0 3 0 1 0 0 1 0 2 0\n",
      " 1 3 3 3 2 1 0 2 3 1 3 0 3 0 0 1 1 3 2 0 0 1 0 2 1 3 3 3 2 2 1 2 1 0 2 0 2\n",
      " 1 1 3 2 3 0 0 2 3 1 1 1 2 3 0]\n",
      "Best cluster sizes for fit_extended(False) [22, 50, 97, 31]\n"
     ]
    }
   ],
   "source": [
    "print('Centroids for fit_extended(False)', model.fit_extended(X, balanced =False)[1]) \n",
    "print('Label Hypotheses for fit_extended(False)', model.fit_extended(X, balanced =False)[0]) \n",
    "print('Best cluster sizes for fit_extended(False)', model.fit_extended(X, balanced =False)[2]) "
   ]
  },
  {
   "cell_type": "code",
   "execution_count": 18,
   "metadata": {},
   "outputs": [
    {
     "data": {
      "image/png": "[encoded data removed]",
      "text/plain": [
       "<Figure size 432x288 with 1 Axes>"
      ]
     },
     "metadata": {
      "needs_background": "light"
     },
     "output_type": "display_data"
    }
   ],
   "source": [
    "plt.scatter(X[:,0], X[:,1])\n",
    "centroids_cluster = model.fit_extended(X, balanced =False)[1]\n",
    "plt.scatter(centroids_cluster[:,0], centroids_cluster[:,1], c='red')\n",
    "plt.title('Boolean parameter is False')\n",
    "plt.show()"
   ]
  },
  {
   "cell_type": "code",
   "execution_count": 24,
   "metadata": {},
   "outputs": [
    {
     "data": {
      "image/png": "[encoded data removed]",
      "text/plain": [
       "<Figure size 432x288 with 1 Axes>"
      ]
     },
     "metadata": {
      "needs_background": "light"
     },
     "output_type": "display_data"
    }
   ],
   "source": [
    "plt.scatter(X[:,0], X[:,1])\n",
    "centroids_cluster = model.fit_extended(X, balanced =True)[0]\n",
    "plt.scatter(centroids_cluster[:,0], centroids_cluster[:,1], c='red')\n",
    "plt.title('Boolean parameter is True')\n",
    "plt.show()"
   ]
  },
  {
   "cell_type": "code",
   "execution_count": 36,
   "metadata": {},
   "outputs": [
    {
     "data": {
      "text/plain": [
       "1.0"
      ]
     },
     "execution_count": 36,
     "metadata": {},
     "output_type": "execute_result"
    }
   ],
   "source": [
    "from sklearn import metrics \n",
    "metrics.v_measure_score(cluster_assignments, model.fit(X)[0])"
   ]
  },
  {
   "cell_type": "markdown",
   "metadata": {},
   "source": [
    "### Conclusion:"
   ]
  },
  {
   "cell_type": "markdown",
   "metadata": {},
   "source": []
  }
 ],
 "metadata": {
  "kernelspec": {
   "display_name": "Python 3",
   "language": "python",
   "name": "python3"
  },
  "language_info": {
   "codemirror_mode": {
    "name": "ipython",
    "version": 3
   },
   "file_extension": ".py",
   "mimetype": "text/x-python",
   "name": "python",
   "nbconvert_exporter": "python",
   "pygments_lexer": "ipython3",
   "version": "3.6.8"
  }
 },
 "nbformat": 4,
 "nbformat_minor": 2
}
