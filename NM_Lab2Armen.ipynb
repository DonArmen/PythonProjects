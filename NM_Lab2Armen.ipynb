{
  "nbformat": 4,
  "nbformat_minor": 0,
  "metadata": {
    "kernelspec": {
      "display_name": "Python 3",
      "language": "python",
      "name": "python3"
    },
    "language_info": {
      "codemirror_mode": {
        "name": "ipython",
        "version": 3
      },
      "file_extension": ".py",
      "mimetype": "text/x-python",
      "name": "python",
      "nbconvert_exporter": "python",
      "pygments_lexer": "ipython3",
      "version": "3.6.3"
    },
    "colab": {
      "name": "NM_Lab2Armen.ipynb",
      "provenance": []
    }
  },
  "cells": [
    {
      "cell_type": "markdown",
      "metadata": {
        "id": "CF40DuEGOk_m",
        "colab_type": "text"
      },
      "source": [
        "Вариант 28: $$ f(x) = x^4 - 11x^2 + 24 $$\n",
        "            $$ g(x) = x^4 - 6x^2 + 9 $$\n",
        "            $$ [a, b] = [1,3] $$\n",
        "Хачатрян Армен БПМ153"
      ]
    },
    {
      "cell_type": "markdown",
      "metadata": {
        "id": "xOWkSaeQOk_u",
        "colab_type": "text"
      },
      "source": [
        "НАЧАЛО"
      ]
    },
    {
      "cell_type": "code",
      "metadata": {
        "id": "H5mml3yhOk_w",
        "colab_type": "code",
        "colab": {}
      },
      "source": [
        "import numpy as np"
      ],
      "execution_count": null,
      "outputs": []
    },
    {
      "cell_type": "markdown",
      "metadata": {
        "id": "A2PWtfTJOk_9",
        "colab_type": "text"
      },
      "source": [
        "Найдем решения биквадратного уравнения (f(x))"
      ]
    },
    {
      "cell_type": "code",
      "metadata": {
        "id": "c8BudoFCOk__",
        "colab_type": "code",
        "colab": {},
        "outputId": "2f71433c-b997-4aec-8205-f8b813b19bbb"
      },
      "source": [
        "a = 1\n",
        "b = -11\n",
        "c = 24\n",
        "discr = b**2 - 4 * a * c;\n",
        "if discr >= 0:\n",
        "    import math\n",
        "    x1 = math.sqrt((-b + math.sqrt(discr)) / (2 * a))\n",
        "    x2 = math.sqrt((-b - math.sqrt(discr)) / (2 * a))\n",
        "    x3 = -math.sqrt((-b + math.sqrt(discr)) / (2 * a))\n",
        "    x4 = -math.sqrt((-b - math.sqrt(discr)) / (2 * a))\n",
        "    print('x1 = ', x1, 'x2 = ', x2, 'x3 = ', x3, 'x4 = ', x4)\n",
        "elif discr == 0:\n",
        "    x = -b / (2 * a)\n",
        "    print(\"x = %.2f\" % x)\n",
        "else:\n",
        "    print(\"Корней нет\")"
      ],
      "execution_count": null,
      "outputs": [
        {
          "output_type": "stream",
          "text": [
            "x1 =  2.8284271247461903 x2 =  1.7320508075688772 x3 =  -2.8284271247461903 x4 =  -1.7320508075688772\n"
          ],
          "name": "stdout"
        }
      ]
    },
    {
      "cell_type": "markdown",
      "metadata": {
        "id": "FnTfsBWYOlAJ",
        "colab_type": "text"
      },
      "source": [
        "Графически изобразим функцию f(x)"
      ]
    },
    {
      "cell_type": "code",
      "metadata": {
        "id": "H5y3wbcvOlAK",
        "colab_type": "code",
        "colab": {},
        "outputId": "b848d464-3e64-423f-da10-2ed642f40a47"
      },
      "source": [
        "import matplotlib.pyplot as plt\n",
        "%matplotlib inline\n",
        "def f(x):\n",
        "    return x**4-11*x**2+24\n",
        "X = np.linspace(-5,5,100)\n",
        "def os(x):\n",
        "    return x*0\n",
        "plt.plot(X, f(X), c='red')\n",
        "plt.plot(X, os(X))"
      ],
      "execution_count": null,
      "outputs": [
        {
          "output_type": "execute_result",
          "data": {
            "text/plain": [
              "[<matplotlib.lines.Line2D at 0x115f20c88>]"
            ]
          },
          "metadata": {
            "tags": []
          },
          "execution_count": 65
        },
        {
          "output_type": "display_data",
          "data": {
            "image/png": "[encoded data removed]",
            "text/plain": [
              "<matplotlib.figure.Figure at 0x115e448d0>"
            ]
          },
          "metadata": {
            "tags": []
          }
        }
      ]
    },
    {
      "cell_type": "markdown",
      "metadata": {
        "collapsed": true,
        "id": "pnbaoJ3zOlA3",
        "colab_type": "text"
      },
      "source": [
        "Отрезки локализации: $$x_{1} {\\in} (-2.9, -2.8),$$\n",
        "                     $$x_{2} {\\in} (-1.8, -1.7),$$ \n",
        "                     $$x_{3} {\\in} (2.8, 2.9),$$ \n",
        "                     $$x_{4} {\\in} (1.7, 1.8).$$"
      ]
    },
    {
      "cell_type": "markdown",
      "metadata": {
        "id": "Ioc59IZ1OlA5",
        "colab_type": "text"
      },
      "source": [
        "# Метод Биссекции"
      ]
    },
    {
      "cell_type": "markdown",
      "metadata": {
        "id": "SnoaAqwrOlA6",
        "colab_type": "text"
      },
      "source": [
        "$$ x^{(0)} = \\frac{a+b}{2} = \\frac{a^{(0)}+b^{(0)}}{2} \\text{,где } x^{(0)} \\text{-середина отрезка ab}  $$\n",
        "$$ \\overline{x} \\text{ - точка пересечения графика с осью абсцисс} $$\n",
        "$$ |\\overline{x} - x^{(0)}| \\leq \\frac{b^{(0)} - a^{(0)}}{2}$$\n",
        "$$ --------------------------------- $$\n",
        "$$ \\text{Запишем алгоритм:}$$\n",
        "$$ \\text{1) Считаем } f(x^{(n)}) $$\n",
        "$$ \\text{2) } f(x^{(n)}) f(a^{(n)}) < 0 \\Rightarrow [a^{(n)},x^{(n)}] = [a^{(n+1)},b^{(n+1)}] $$\n",
        "$$ \\text{     }f(x^{(n)}) f(b^{(n)}) < 0 \\Rightarrow [x^{(n)},b^{(n)}] = [a^{(n+1)},b^{(n+1)}] $$\n",
        "$$ \\text{3) } x^{(n+1)} = \\frac{a^{(n+1)}+b^{(n+1)}}{2}$$\n",
        "$$ --------------------------------- $$\n",
        "$$ \\text{Критерий окончания: } \\frac{b^{(n)} - a^{(n)}}{2} < \\varepsilon $$"
      ]
    },
    {
      "cell_type": "code",
      "metadata": {
        "id": "2PHfTkdZOlA7",
        "colab_type": "code",
        "colab": {}
      },
      "source": [
        "def bisec(f,a,b,E):\n",
        "    an = a\n",
        "    bn = b\n",
        "    k = 0\n",
        "    epsilon = E\n",
        "    while (bn - an) > 2*epsilon:\n",
        "        k=k+1\n",
        "        xn = (an+bn)/2\n",
        "        if f(an)*f(xn) <=0:\n",
        "            bn = xn\n",
        "        if f(bn)*f(xn) <=0:\n",
        "            an = xn\n",
        "    return xn, k"
      ],
      "execution_count": null,
      "outputs": []
    },
    {
      "cell_type": "markdown",
      "metadata": {
        "id": "Qxkzxv46OlBA",
        "colab_type": "text"
      },
      "source": [
        "$$ \\text{Найдем корни уравнения f(x)=0 с точностью }\\varepsilon \\text{ с помощью метода бисекции}$$"
      ]
    },
    {
      "cell_type": "code",
      "metadata": {
        "id": "7maREGiQOlBA",
        "colab_type": "code",
        "colab": {},
        "outputId": "f64c6425-90d5-4609-b52c-d1e3c4e28929"
      },
      "source": [
        "q = bisec(f, -2.9, -2.8, 10**(-10))\n",
        "print('Приближение для x_1 = ', q[0], '\\nЧисло итераций: ', q[1])"
      ],
      "execution_count": null,
      "outputs": [
        {
          "output_type": "stream",
          "text": [
            "Приближение для x_1 =  -2.8284271245822312 \n",
            "Число итераций:  29\n"
          ],
          "name": "stdout"
        }
      ]
    },
    {
      "cell_type": "code",
      "metadata": {
        "id": "7XssXPBIOlBD",
        "colab_type": "code",
        "colab": {},
        "outputId": "9a19f16f-94af-46fa-c539-8fc464529884"
      },
      "source": [
        "q = bisec(f, -1.8, -1.7, 10**(-10))\n",
        "print('Приближение для x_2 = ', q[0], '\\nЧисло итераций: ', q[1])"
      ],
      "execution_count": null,
      "outputs": [
        {
          "output_type": "stream",
          "text": [
            "Приближение для x_2 =  -1.7320508075878027 \n",
            "Число итераций:  29\n"
          ],
          "name": "stdout"
        }
      ]
    },
    {
      "cell_type": "code",
      "metadata": {
        "id": "wUvnNAmkOlDg",
        "colab_type": "code",
        "colab": {},
        "outputId": "a70f1c31-9a43-43f9-b649-310c49eb0190"
      },
      "source": [
        "q = bisec(f, 1.7, 1.8, 10**(-10))\n",
        "print('Приближение для x_3 = ', q[0], '\\nЧисло итераций: ', q[1])"
      ],
      "execution_count": null,
      "outputs": [
        {
          "output_type": "stream",
          "text": [
            "Приближение для x_3 =  1.7320508075878027 \n",
            "Число итераций:  29\n"
          ],
          "name": "stdout"
        }
      ]
    },
    {
      "cell_type": "code",
      "metadata": {
        "id": "-82tQu29OlDj",
        "colab_type": "code",
        "colab": {},
        "outputId": "845ad8d1-e49b-4fff-ddd0-0e27a040cb71"
      },
      "source": [
        "q = bisec(f, 2.8, 2.9, 10**(-10))\n",
        "print('Приближение для x_4 = ', q[0], '\\nЧисло итераций: ', q[1])"
      ],
      "execution_count": null,
      "outputs": [
        {
          "output_type": "stream",
          "text": [
            "Приближение для x_4 =  2.8284271245822312 \n",
            "Число итераций:  29\n"
          ],
          "name": "stdout"
        }
      ]
    },
    {
      "cell_type": "markdown",
      "metadata": {
        "id": "qzyJjYpyOlDl",
        "colab_type": "text"
      },
      "source": [
        "$$ \\text{Используя встроенную функции optimize.root, найдем корни уравнения f(x)=0 с точностью }  \\varepsilon$$"
      ]
    },
    {
      "cell_type": "code",
      "metadata": {
        "id": "Xdr1gKXbOlDm",
        "colab_type": "code",
        "colab": {},
        "outputId": "56a4da85-df5b-404c-e113-2bb4f2ccfbd9"
      },
      "source": [
        "from scipy import optimize\n",
        "roots = optimize.root(f, -3, method='hybr', jac=None, tol=0.0000000001)\n",
        "roots.x"
      ],
      "execution_count": null,
      "outputs": [
        {
          "output_type": "execute_result",
          "data": {
            "text/plain": [
              "array([-2.82842712])"
            ]
          },
          "metadata": {
            "tags": []
          },
          "execution_count": 71
        }
      ]
    },
    {
      "cell_type": "code",
      "metadata": {
        "id": "mP6AE_OGOlDo",
        "colab_type": "code",
        "colab": {},
        "outputId": "59a4260f-8f44-4c4b-f0a3-e05d51233726"
      },
      "source": [
        "roots = optimize.root(f, -2, method='hybr', jac=None, tol=0.0000000001)\n",
        "roots.x"
      ],
      "execution_count": null,
      "outputs": [
        {
          "output_type": "execute_result",
          "data": {
            "text/plain": [
              "array([-1.73205081])"
            ]
          },
          "metadata": {
            "tags": []
          },
          "execution_count": 72
        }
      ]
    },
    {
      "cell_type": "code",
      "metadata": {
        "id": "5Z2QUMq-OlDp",
        "colab_type": "code",
        "colab": {},
        "outputId": "4142b391-5120-420e-9ae7-97bb1633cdca"
      },
      "source": [
        "roots = optimize.root(f, 2, method='hybr', jac=None, tol=0.0000000001)\n",
        "roots.x"
      ],
      "execution_count": null,
      "outputs": [
        {
          "output_type": "execute_result",
          "data": {
            "text/plain": [
              "array([ 1.73205081])"
            ]
          },
          "metadata": {
            "tags": []
          },
          "execution_count": 73
        }
      ]
    },
    {
      "cell_type": "code",
      "metadata": {
        "id": "9pBIzE3IOlDr",
        "colab_type": "code",
        "colab": {},
        "outputId": "ff53dfac-7aa9-4052-98e7-ab37bc88d007"
      },
      "source": [
        "roots = optimize.root(f, 3, method='hybr', jac=None, tol=0.0000000001)\n",
        "roots.x"
      ],
      "execution_count": null,
      "outputs": [
        {
          "output_type": "execute_result",
          "data": {
            "text/plain": [
              "array([ 2.82842712])"
            ]
          },
          "metadata": {
            "tags": []
          },
          "execution_count": 74
        }
      ]
    },
    {
      "cell_type": "markdown",
      "metadata": {
        "id": "IDABYWkTOlDt",
        "colab_type": "text"
      },
      "source": [
        "$$\\text{Применим тот же алгоритм для функции g(x)}$$"
      ]
    },
    {
      "cell_type": "code",
      "metadata": {
        "id": "UzTx5pWqOlDt",
        "colab_type": "code",
        "colab": {},
        "outputId": "0e6d8ac5-92ba-43e7-a1bf-475ae84a2ab6"
      },
      "source": [
        "a = 1\n",
        "b = -6\n",
        "c = 9\n",
        "discr = b**2 - 4 * a * c;\n",
        "if discr >= 0:\n",
        "    import math\n",
        "    x1 = math.sqrt((-b + math.sqrt(discr)) / (2 * a))\n",
        "    x2 = math.sqrt((-b - math.sqrt(discr)) / (2 * a))\n",
        "    x3 = -math.sqrt((-b + math.sqrt(discr)) / (2 * a))\n",
        "    x4 = -math.sqrt((-b - math.sqrt(discr)) / (2 * a))\n",
        "    print('x1 = ', x1, 'x2 = ', x2, 'x3 = ', x3, 'x4 = ', x4)\n",
        "elif discr == 0:\n",
        "    x = -b / (2 * a)\n",
        "    print(\"x = %.2f\" % x)\n",
        "else:\n",
        "    print(\"Корней нет\")"
      ],
      "execution_count": null,
      "outputs": [
        {
          "output_type": "stream",
          "text": [
            "x1 =  1.7320508075688772 x2 =  1.7320508075688772 x3 =  -1.7320508075688772 x4 =  -1.7320508075688772\n"
          ],
          "name": "stdout"
        }
      ]
    },
    {
      "cell_type": "markdown",
      "metadata": {
        "id": "rYqeIMxrOlDv",
        "colab_type": "text"
      },
      "source": [
        "Графически изобразим функцию g(x)"
      ]
    },
    {
      "cell_type": "code",
      "metadata": {
        "id": "HUUqiORTOlDw",
        "colab_type": "code",
        "colab": {},
        "outputId": "9569bae2-4b3d-4bf5-ecba-a5284b90254a"
      },
      "source": [
        "import matplotlib.pyplot as plt\n",
        "%matplotlib inline\n",
        "def g(x):\n",
        "    return x**4-6*x**2+9\n",
        "X = np.linspace(-5,5,100)\n",
        "def os(x):\n",
        "    return x*0\n",
        "plt.plot(X, g(X), c='red')\n",
        "plt.plot(X, os(X))"
      ],
      "execution_count": null,
      "outputs": [
        {
          "output_type": "execute_result",
          "data": {
            "text/plain": [
              "[<matplotlib.lines.Line2D at 0x115d52668>]"
            ]
          },
          "metadata": {
            "tags": []
          },
          "execution_count": 76
        },
        {
          "output_type": "display_data",
          "data": {
            "image/png": "[encoded data removed]",
            "text/plain": [
              "<matplotlib.figure.Figure at 0x115f0dc88>"
            ]
          },
          "metadata": {
            "tags": []
          }
        }
      ]
    },
    {
      "cell_type": "markdown",
      "metadata": {
        "id": "F_iPEAZKOlDx",
        "colab_type": "text"
      },
      "source": [
        "Отрезки локализации: $$x_{1} {\\in} (1.7, 1.8),$$\n",
        "                     $$x_{2} {\\in} (-1.8, -1.7),$$ \n",
        "Замечание: Корня 4, но они повторяются"
      ]
    },
    {
      "cell_type": "markdown",
      "metadata": {
        "id": "s5pe_xtqOlDy",
        "colab_type": "text"
      },
      "source": [
        "$$ \\text{Метод Биссекции для функции g(x)} $$"
      ]
    },
    {
      "cell_type": "code",
      "metadata": {
        "id": "VmSMM4HGOlDy",
        "colab_type": "code",
        "colab": {}
      },
      "source": [
        "def bisec(g,a,b,E):\n",
        "    an = a\n",
        "    bn = b\n",
        "    k = 0\n",
        "    epsilon = E\n",
        "    while (bn - an) > 2*epsilon:\n",
        "        k=k+1\n",
        "        xn = (an+bn)/2\n",
        "        if g(an)*g(xn) <=0:\n",
        "            bn = xn\n",
        "        if g(bn)*g(xn) <=0:\n",
        "            an = xn\n",
        "    return xn, k"
      ],
      "execution_count": null,
      "outputs": []
    },
    {
      "cell_type": "markdown",
      "metadata": {
        "id": "2rqpd7JuOlDz",
        "colab_type": "text"
      },
      "source": [
        "При вызове функции bisec для функции g, получается бесконечный цикл, так как f(z) >= 0 для любого z из интервала [1,3]"
      ]
    },
    {
      "cell_type": "markdown",
      "metadata": {
        "id": "no41xW1POlDz",
        "colab_type": "text"
      },
      "source": [
        "$$ \\text{Используя встроенную функции optimize.root, найдем корни уравнения g(x)=0 с точностью }  \\varepsilon$$"
      ]
    },
    {
      "cell_type": "code",
      "metadata": {
        "id": "VdHkn-MhOlD0",
        "colab_type": "code",
        "colab": {},
        "outputId": "a8ecc370-492d-4ac5-93d5-0c8605341cac"
      },
      "source": [
        "roots = optimize.root(g, -2, method='hybr', jac=None, tol=0.0000000001)\n",
        "roots.x"
      ],
      "execution_count": null,
      "outputs": [
        {
          "output_type": "execute_result",
          "data": {
            "text/plain": [
              "array([-1.7320508])"
            ]
          },
          "metadata": {
            "tags": []
          },
          "execution_count": 78
        }
      ]
    },
    {
      "cell_type": "code",
      "metadata": {
        "id": "R9S-qINBOlD1",
        "colab_type": "code",
        "colab": {},
        "outputId": "03ee9970-905b-49d9-c7a8-de0d94c9a66e"
      },
      "source": [
        "roots = optimize.root(g, 2, method='hybr', jac=None, tol=0.0000000001)\n",
        "roots.x"
      ],
      "execution_count": null,
      "outputs": [
        {
          "output_type": "execute_result",
          "data": {
            "text/plain": [
              "array([ 1.73205082])"
            ]
          },
          "metadata": {
            "tags": []
          },
          "execution_count": 79
        }
      ]
    },
    {
      "cell_type": "markdown",
      "metadata": {
        "id": "Ywb3es61OlD3",
        "colab_type": "text"
      },
      "source": [
        "# Задача 2"
      ]
    },
    {
      "cell_type": "markdown",
      "metadata": {
        "id": "nxeARGhlOlD3",
        "colab_type": "text"
      },
      "source": [
        "2.2.3 $$ e^x+1-\\sqrt{9-x^2} $$\n",
        "Задание: найти положительный корень с заданной точностью $$ \\epsilon = 10^{-6}$$"
      ]
    },
    {
      "cell_type": "code",
      "metadata": {
        "id": "YdLKI1oAOlD4",
        "colab_type": "code",
        "colab": {}
      },
      "source": [
        "def F(x):\n",
        "    return np.exp(x)+1-np.sqrt(9-x**2)"
      ],
      "execution_count": null,
      "outputs": []
    },
    {
      "cell_type": "markdown",
      "metadata": {
        "id": "cDkCDWs0OlD5",
        "colab_type": "text"
      },
      "source": [
        "### 1 Способ: Метод биссекции"
      ]
    },
    {
      "cell_type": "code",
      "metadata": {
        "id": "JzSo1ee2OlD5",
        "colab_type": "code",
        "colab": {},
        "outputId": "db1f8461-469d-4fc9-ff4f-431de498ce05"
      },
      "source": [
        "X_1 = np.linspace(-10,10,100) \n",
        "plt.plot(X_1, F(X_1), c='red')\n",
        "plt.plot(X_1, os(X_1))"
      ],
      "execution_count": null,
      "outputs": [
        {
          "output_type": "stream",
          "text": [
            "/Users/donarmenito/anaconda3/lib/python3.6/site-packages/ipykernel_launcher.py:2: RuntimeWarning: invalid value encountered in sqrt\n",
            "  \n"
          ],
          "name": "stderr"
        },
        {
          "output_type": "execute_result",
          "data": {
            "text/plain": [
              "[<matplotlib.lines.Line2D at 0x11617ceb8>]"
            ]
          },
          "metadata": {
            "tags": []
          },
          "execution_count": 81
        },
        {
          "output_type": "display_data",
          "data": {
            "image/png": "[encoded data removed]",
            "text/plain": [
              "<matplotlib.figure.Figure at 0x11617c940>"
            ]
          },
          "metadata": {
            "tags": []
          }
        }
      ]
    },
    {
      "cell_type": "markdown",
      "metadata": {
        "id": "zzyknP5fOlD7",
        "colab_type": "text"
      },
      "source": [
        "Возьмем интервал меньше: [-3,3]"
      ]
    },
    {
      "cell_type": "code",
      "metadata": {
        "id": "7AOTgzMmOlD7",
        "colab_type": "code",
        "colab": {},
        "outputId": "ab961f50-6e20-49ab-f47b-6072cbeb7324"
      },
      "source": [
        "X_2 = np.linspace(-3, 3, 20)\n",
        "plt.plot(X_2, F(X_2), c='red')\n",
        "plt.plot(X_2, os(X_2))"
      ],
      "execution_count": null,
      "outputs": [
        {
          "output_type": "execute_result",
          "data": {
            "text/plain": [
              "[<matplotlib.lines.Line2D at 0x115ca0ef0>]"
            ]
          },
          "metadata": {
            "tags": []
          },
          "execution_count": 82
        },
        {
          "output_type": "display_data",
          "data": {
            "image/png": "[encoded data removed]",
            "text/plain": [
              "<matplotlib.figure.Figure at 0x115cd9940>"
            ]
          },
          "metadata": {
            "tags": []
          }
        }
      ]
    },
    {
      "cell_type": "markdown",
      "metadata": {
        "id": "023QDSF5OlD8",
        "colab_type": "text"
      },
      "source": [
        "Найдем положительный корень:"
      ]
    },
    {
      "cell_type": "code",
      "metadata": {
        "id": "A59Nd44mOlD8",
        "colab_type": "code",
        "colab": {},
        "outputId": "8bd8855f-b3f6-4ab9-f295-9fddc133080d"
      },
      "source": [
        "q = bisec(F, 0.5, 0.8, 10**(-10))\n",
        "print('Приближение для x = ', q[0], '\\nЧисло итераций: ', q[1])"
      ],
      "execution_count": null,
      "outputs": [
        {
          "output_type": "stream",
          "text": [
            "Приближение для x =  0.6561534966807813 \n",
            "Число итераций:  31\n"
          ],
          "name": "stdout"
        }
      ]
    },
    {
      "cell_type": "markdown",
      "metadata": {
        "id": "7zZhGypmOlD-",
        "colab_type": "text"
      },
      "source": [
        "Отрезок локализации: [0, 1]"
      ]
    },
    {
      "cell_type": "markdown",
      "metadata": {
        "id": "aYlIYafaOlD-",
        "colab_type": "text"
      },
      "source": [
        "### 2 Способ: Метод Ньютона"
      ]
    },
    {
      "cell_type": "markdown",
      "metadata": {
        "id": "RvPZop1JOlD-",
        "colab_type": "text"
      },
      "source": [
        "$$\\text{Необходимо найти приближение к решению $\\bar{x}$ уравнения $f(x) = 0$ с точностью } \\varepsilon > 0 $$\n",
        "\n",
        "$$ \\text{ на отрезке локализации $[a,b]$. Тогда итерационная схема будет выглядеть следующим образом: } $$\n",
        "\n",
        "$$ \\text{1. Выбрать начальное приближение $x_{0} \\in [a,b] $} $$\n",
        "\n",
        "$$ \\text{2. Следующее приближение вычисляется по формуле: }$$\n",
        "\n",
        "$$  x_{n+1} = x_{n} - \\frac{f(x_{n})}{f'(x_{n})}  $$\n",
        "\n",
        "$$ \\text{3. Критерий оконачания: }$$\n",
        "\n",
        "$$ |x_{n}-x_{n-1}| < \\varepsilon $$"
      ]
    },
    {
      "cell_type": "code",
      "metadata": {
        "collapsed": true,
        "id": "41Dj4heQOlD-",
        "colab_type": "code",
        "colab": {}
      },
      "source": [
        "def dF(x):\n",
        "    return x/(np.sqrt(9-x**2))+np.exp(x)"
      ],
      "execution_count": null,
      "outputs": []
    },
    {
      "cell_type": "code",
      "metadata": {
        "collapsed": true,
        "id": "eusnhLb7OlD_",
        "colab_type": "code",
        "colab": {}
      },
      "source": [
        "def newton_f(x0, E, F):\n",
        "    xn = x0\n",
        "    xn_1 = x0\n",
        "    xn = xn - F(xn)/dF(xn)\n",
        "    n = 1\n",
        "    while (abs(xn-xn_1) >= E):\n",
        "        xn_1 = xn\n",
        "        xn = xn - F(xn)/dF(xn)\n",
        "        n = n + 1\n",
        "    return (xn, n)"
      ],
      "execution_count": null,
      "outputs": []
    },
    {
      "cell_type": "code",
      "metadata": {
        "collapsed": true,
        "id": "cJQjhhpDOlEA",
        "colab_type": "code",
        "colab": {}
      },
      "source": [
        "solution = newton_f(0.5, 10**(-6), F)"
      ],
      "execution_count": null,
      "outputs": []
    },
    {
      "cell_type": "code",
      "metadata": {
        "id": "rpYEEP2dOlEB",
        "colab_type": "code",
        "colab": {},
        "outputId": "fa4d2850-2ead-4978-a72c-80663e9d7b0f"
      },
      "source": [
        "print(\"Приближение для х = \", solution[0], \"\\nКоличество итераций = \", solution[1])"
      ],
      "execution_count": null,
      "outputs": [
        {
          "output_type": "stream",
          "text": [
            "Приближение для х =  0.656153496685 \n",
            "Количество итераций =  4\n"
          ],
          "name": "stdout"
        }
      ]
    },
    {
      "cell_type": "markdown",
      "metadata": {
        "id": "dM-kq5jGOlEC",
        "colab_type": "text"
      },
      "source": [
        "### Вывод:\n",
        "Метод Ньютона сходится быстрее, чем метод биссекции(4 итерации против 31)\n",
        "\n",
        "Это имеет теоретическое подтверждением: метод Ньютона имеет порядок сходимости 2, а метод биссекции 1"
      ]
    },
    {
      "cell_type": "markdown",
      "metadata": {
        "id": "Og141LsMOlED",
        "colab_type": "text"
      },
      "source": [
        "# Задача 3"
      ]
    },
    {
      "cell_type": "markdown",
      "metadata": {
        "id": "fUx9g8YmOlED",
        "colab_type": "text"
      },
      "source": [
        "2.3.3 $$ sin(x+2)-x^2+2x-1 $$\n",
        "Задание: $$\\text{ Локализовать корни уравнения f(x)=0 и найти их с точностью  $ \\varepsilon = 10^{-5}$, \n",
        "используя метод простой итерации. }$$\n",
        "$$\\text{К виду $ x= \\varphi (x) $, удобному для итераций, уравнение $ f(x)=0 $ привести двумя способами.}$$ "
      ]
    },
    {
      "cell_type": "markdown",
      "metadata": {
        "id": "JM3Esp_GOlED",
        "colab_type": "text"
      },
      "source": [
        "### Метод простой итерации\n",
        "$$ f(x) = 0 \\Leftrightarrow x= \\varphi (x)$$\n",
        "\n",
        "$$ x^{(0)}, x^{(1)} = \\varphi (x^{(0)}), x^{(2)} = \\varphi (x^{(1)}),...,x^{(n)} = \\varphi (x^{(n-1)}) $$\n",
        "\n",
        "$$\\overline x = \\lim_{n\\to \\infty} x^{(n)}=\\lim_{n\\to \\infty} \\varphi(x^{(n)}) $$"
      ]
    },
    {
      "cell_type": "code",
      "metadata": {
        "collapsed": true,
        "id": "JJvMa1QsOlED",
        "colab_type": "code",
        "colab": {}
      },
      "source": [
        "def f(x):\n",
        "    return np.sin(x+2)-x**2+2*x-1"
      ],
      "execution_count": null,
      "outputs": []
    },
    {
      "cell_type": "code",
      "metadata": {
        "id": "lyRPeT1BOlEE",
        "colab_type": "code",
        "colab": {},
        "outputId": "9340d161-012c-4238-bb65-b07fff6bb699"
      },
      "source": [
        "X_3 = np.linspace(-1, 1.2, 20)\n",
        "plt.plot(X_3, f(X_3), c='red')\n",
        "plt.plot(X_3, os(X_3),'k')\n",
        "plt.grid()"
      ],
      "execution_count": null,
      "outputs": [
        {
          "output_type": "display_data",
          "data": {
            "image/png": "[encoded data removed]",
            "text/plain": [
              "<matplotlib.figure.Figure at 0x116207a20>"
            ]
          },
          "metadata": {
            "tags": []
          }
        }
      ]
    },
    {
      "cell_type": "markdown",
      "metadata": {
        "id": "buyc8qeDOlEG",
        "colab_type": "text"
      },
      "source": [
        "Отрезки локализации: $$x_{1} {\\in} (0.0, 0.2),$$\n",
        "                     $$x_{2} {\\in} (1.0, 1.2)$$ "
      ]
    },
    {
      "cell_type": "code",
      "metadata": {
        "collapsed": true,
        "id": "uLGk4gNnOlEG",
        "colab_type": "code",
        "colab": {}
      },
      "source": [
        "def df(x):\n",
        "    return -2*x + np.cos(x+2) + 2"
      ],
      "execution_count": null,
      "outputs": []
    },
    {
      "cell_type": "markdown",
      "metadata": {
        "id": "sC3pC6u9OlEH",
        "colab_type": "text"
      },
      "source": [
        "### 1 способ:\n",
        "1) Первый корень:  $$ x = x - \\alpha * f(x), $$ \n",
        "$$ {\\alpha} = {2\\over{m+M}},\\: 0<m \\leq |{df(x)\\over{dx}}|\\leq M, \\ x {\\in} (0.0, 0.2) $$"
      ]
    },
    {
      "cell_type": "code",
      "metadata": {
        "id": "8fHQoR18OlEH",
        "colab_type": "code",
        "colab": {},
        "outputId": "c59eac9c-b508-4c43-fe20-5e5e0c68d700"
      },
      "source": [
        "Z = np.linspace(0.0, 0.2, 100)\n",
        "plt.plot(Z, df(Z))"
      ],
      "execution_count": null,
      "outputs": [
        {
          "output_type": "execute_result",
          "data": {
            "text/plain": [
              "[<matplotlib.lines.Line2D at 0x11627cba8>]"
            ]
          },
          "metadata": {
            "tags": []
          },
          "execution_count": 91
        },
        {
          "output_type": "display_data",
          "data": {
            "image/png": "[encoded data removed]",
            "text/plain": [
              "<matplotlib.figure.Figure at 0x116207828>"
            ]
          },
          "metadata": {
            "tags": []
          }
        }
      ]
    },
    {
      "cell_type": "markdown",
      "metadata": {
        "id": "1zTErVb9OlEI",
        "colab_type": "text"
      },
      "source": [
        "Найдем значения M и m, для этого проанализируем поведение производной."
      ]
    },
    {
      "cell_type": "code",
      "metadata": {
        "id": "V1wizFOKOlEI",
        "colab_type": "code",
        "colab": {},
        "outputId": "fc2058dd-7632-4e89-92aa-476c66753223"
      },
      "source": [
        "print(df(0.0), df(0.2))"
      ],
      "execution_count": null,
      "outputs": [
        {
          "output_type": "stream",
          "text": [
            "1.58385316345 1.01149888274\n"
          ],
          "name": "stdout"
        }
      ]
    },
    {
      "cell_type": "code",
      "metadata": {
        "collapsed": true,
        "id": "qDnOWAZvOlEJ",
        "colab_type": "code",
        "colab": {}
      },
      "source": [
        "M = df(0.0)\n",
        "m = df(0.2)\n",
        "a = 2/(m+M)\n",
        "def phi(x):\n",
        "    return x - a*f(x)\n",
        "def dphi(x):\n",
        "    return 1 - a*df(x)"
      ],
      "execution_count": null,
      "outputs": []
    },
    {
      "cell_type": "markdown",
      "metadata": {
        "id": "S-AnHlJ7OlEK",
        "colab_type": "text"
      },
      "source": [
        "Инициализировали M и m, а также α. "
      ]
    },
    {
      "cell_type": "code",
      "metadata": {
        "id": "gb5gvZISOlEK",
        "colab_type": "code",
        "colab": {},
        "outputId": "907a4b52-7231-4fde-8029-dc7c0be971b6"
      },
      "source": [
        "q = (M-m)/(M+m)\n",
        "q"
      ],
      "execution_count": null,
      "outputs": [
        {
          "output_type": "execute_result",
          "data": {
            "text/plain": [
              "0.22053049856830328"
            ]
          },
          "metadata": {
            "tags": []
          },
          "execution_count": 94
        }
      ]
    },
    {
      "cell_type": "markdown",
      "metadata": {
        "id": "dOwD4NyIOlEL",
        "colab_type": "text"
      },
      "source": [
        "Замечание: \n",
        "\n",
        "Если $ |(\\varphi'(x))| \\leq q < 1$, то итерационная схема сходится, причем со скоростью геометрической прогрессии со знаменателем q:\n",
        "\n",
        "$|x^{(n)} - \\overline x| \\leq q^{n}|\\overline x - x^{(0)}| $"
      ]
    },
    {
      "cell_type": "markdown",
      "metadata": {
        "id": "lHATlVO0OlEL",
        "colab_type": "text"
      },
      "source": [
        "$$ \\max_{x {\\in} [0,0.2]} |(\\varphi'(x))| \\leq q$$\n",
        "\n",
        "Проверим критерий сходимости, построим график и убедимся в ограниченности производной. "
      ]
    },
    {
      "cell_type": "code",
      "metadata": {
        "id": "pphAdHZcOlEM",
        "colab_type": "code",
        "colab": {},
        "outputId": "a3a142c7-8462-4b0e-a4b1-5d05964701f3"
      },
      "source": [
        "plt.plot(Z,dphi(Z))"
      ],
      "execution_count": null,
      "outputs": [
        {
          "output_type": "execute_result",
          "data": {
            "text/plain": [
              "[<matplotlib.lines.Line2D at 0x1163a91d0>]"
            ]
          },
          "metadata": {
            "tags": []
          },
          "execution_count": 95
        },
        {
          "output_type": "display_data",
          "data": {
            "image/png": "[encoded data removed]",
            "text/plain": [
              "<matplotlib.figure.Figure at 0x1162f9358>"
            ]
          },
          "metadata": {
            "tags": []
          }
        }
      ]
    },
    {
      "cell_type": "markdown",
      "metadata": {
        "id": "ABVqgRy5OlEN",
        "colab_type": "text"
      },
      "source": [
        "Функция, в которой реализован алгоритм простой итерации."
      ]
    },
    {
      "cell_type": "code",
      "metadata": {
        "collapsed": true,
        "id": "0gL_9ksqOlEN",
        "colab_type": "code",
        "colab": {}
      },
      "source": [
        "def prost_iterac(x0, phi, E, q):\n",
        "    xn_1 = x0\n",
        "    xn = x0\n",
        "    xn = phi(xn)\n",
        "    n = 1\n",
        "    while (abs(xn-xn_1) >= ((1-q)/q) * E):\n",
        "        xn_1 = xn\n",
        "        xn = phi(xn)\n",
        "        n = n + 1\n",
        "    return (xn, n)"
      ],
      "execution_count": null,
      "outputs": []
    },
    {
      "cell_type": "code",
      "metadata": {
        "id": "Yysn7RVPOlEO",
        "colab_type": "code",
        "colab": {},
        "outputId": "40f9c6fd-dff4-487e-ec9d-529ae4f06903"
      },
      "source": [
        "solution_1 = prost_iterac(0.1, phi, 10**(-5), q)\n",
        "print(\"Приближение для х = \", solution_1[0], \"\\nКоличество итераций = \", solution_1[1])"
      ],
      "execution_count": null,
      "outputs": [
        {
          "output_type": "stream",
          "text": [
            "Приближение для х =  0.060634492837 \n",
            "Количество итераций =  4\n"
          ],
          "name": "stdout"
        }
      ]
    },
    {
      "cell_type": "markdown",
      "metadata": {
        "id": "wbKc1S0kOlEP",
        "colab_type": "text"
      },
      "source": [
        "2) Второй корень:  \n",
        "$$ x = x - \\alpha * f(x), $$ \n",
        "$$ {\\alpha} = {2\\over{m+M}},\\: 0<m \\leq {df(x)\\over{dx}}\\leq M, \\ x {\\in} (1.0, 1.2) $$"
      ]
    },
    {
      "cell_type": "code",
      "metadata": {
        "id": "vweCF4BqOlEP",
        "colab_type": "code",
        "colab": {},
        "outputId": "fdb1fd8a-eba0-46d2-88b3-e469926a1390"
      },
      "source": [
        "Z = np.linspace(1, 1.2, 100)\n",
        "plt.plot(Z, df(Z))"
      ],
      "execution_count": null,
      "outputs": [
        {
          "output_type": "execute_result",
          "data": {
            "text/plain": [
              "[<matplotlib.lines.Line2D at 0x116466ac8>]"
            ]
          },
          "metadata": {
            "tags": []
          },
          "execution_count": 98
        },
        {
          "output_type": "display_data",
          "data": {
            "image/png": "[encoded data removed]",
            "text/plain": [
              "<matplotlib.figure.Figure at 0x11625c940>"
            ]
          },
          "metadata": {
            "tags": []
          }
        }
      ]
    },
    {
      "cell_type": "code",
      "metadata": {
        "id": "Al2VivSbOlEQ",
        "colab_type": "code",
        "colab": {},
        "outputId": "79c19fb2-efb3-4cbb-de25-27f18988efee"
      },
      "source": [
        "print(df(1), df(1.2))"
      ],
      "execution_count": null,
      "outputs": [
        {
          "output_type": "stream",
          "text": [
            "-0.9899924966 -1.39829477579\n"
          ],
          "name": "stdout"
        }
      ]
    },
    {
      "cell_type": "code",
      "metadata": {
        "id": "r8GRRpZ1OlER",
        "colab_type": "code",
        "colab": {},
        "outputId": "2c17e910-eddb-4f67-ae4d-870a071f5a4e"
      },
      "source": [
        "M1 = -df(1.2)\n",
        "m1 = -df(1.0)\n",
        "q1 = (M1-m1)/(M1+m)\n",
        "q1"
      ],
      "execution_count": null,
      "outputs": [
        {
          "output_type": "execute_result",
          "data": {
            "text/plain": [
              "0.16943453965340025"
            ]
          },
          "metadata": {
            "tags": []
          },
          "execution_count": 100
        }
      ]
    },
    {
      "cell_type": "code",
      "metadata": {
        "id": "mRXb4WIAOlES",
        "colab_type": "code",
        "colab": {},
        "outputId": "7a410200-1c95-41d4-ef49-66a564402f53"
      },
      "source": [
        "solution_2 = prost_iterac(1.1, phi, 10**(-5), q1)\n",
        "print(\"Приближение для х = \", solution_2[0], \"\\nКоличество итераций = \", solution_2[1])"
      ],
      "execution_count": null,
      "outputs": [
        {
          "output_type": "stream",
          "text": [
            "Приближение для х =  0.0606344933717 \n",
            "Количество итераций =  11\n"
          ],
          "name": "stdout"
        }
      ]
    },
    {
      "cell_type": "markdown",
      "metadata": {
        "id": "VYfUY00bOlET",
        "colab_type": "text"
      },
      "source": [
        "### 2 способ:"
      ]
    },
    {
      "cell_type": "code",
      "metadata": {
        "collapsed": true,
        "id": "IJkTCGRxOlEU",
        "colab_type": "code",
        "colab": {}
      },
      "source": [
        "def k(x):\n",
        "    return (1+x**2-np.sin(x+2))/2\n",
        "def dk(x):\n",
        "    return (2*x-np.cos(x+2))/2"
      ],
      "execution_count": null,
      "outputs": []
    },
    {
      "cell_type": "code",
      "metadata": {
        "id": "epoaEFz4OlEU",
        "colab_type": "code",
        "colab": {},
        "outputId": "40b4bf7c-f14f-48f2-e5a4-45f4c5b6c4c0"
      },
      "source": [
        "X=np.linspace(-5,5,100)\n",
        "plt.plot(X,dk(X))\n",
        "plt.grid()"
      ],
      "execution_count": null,
      "outputs": [
        {
          "output_type": "display_data",
          "data": {
            "image/png": "[encoded data removed]",
            "text/plain": [
              "<matplotlib.figure.Figure at 0x11649dc18>"
            ]
          },
          "metadata": {
            "tags": []
          }
        }
      ]
    },
    {
      "cell_type": "code",
      "metadata": {
        "id": "PZEN4hkpOlEV",
        "colab_type": "code",
        "colab": {},
        "outputId": "9d810dc6-7825-4d11-8b3f-fd63fda229cd"
      },
      "source": [
        "Mk=dk(0.2)\n",
        "mk = dk(0)\n",
        "qk=(Mk-mk)/(Mk+mk)\n",
        "qk"
      ],
      "execution_count": null,
      "outputs": [
        {
          "output_type": "execute_result",
          "data": {
            "text/plain": [
              "0.40747169364309188"
            ]
          },
          "metadata": {
            "tags": []
          },
          "execution_count": 104
        }
      ]
    },
    {
      "cell_type": "code",
      "metadata": {
        "id": "tNwCkdZkOlEW",
        "colab_type": "code",
        "colab": {},
        "outputId": "9f5d2274-d7fc-49c5-9bb7-3a44d76544f2"
      },
      "source": [
        "solution__1 = prost_iterac(0.1, k, 10**(-5), qk)\n",
        "print(\"Приближение для х = \", solution__1[0], \"\\nКоличество итераций = \", solution__1[1])"
      ],
      "execution_count": null,
      "outputs": [
        {
          "output_type": "stream",
          "text": [
            "Приближение для х =  0.0606361073922 \n",
            "Количество итераций =  8\n"
          ],
          "name": "stdout"
        }
      ]
    },
    {
      "cell_type": "code",
      "metadata": {
        "id": "BXBgB9PdOlEX",
        "colab_type": "code",
        "colab": {},
        "outputId": "d50f0b37-4c6a-46db-8374-ecd842ddc242"
      },
      "source": [
        "print(dk(1.2),dk(1))"
      ],
      "execution_count": null,
      "outputs": [
        {
          "output_type": "stream",
          "text": [
            "1.6991473879 1.4949962483\n"
          ],
          "name": "stdout"
        }
      ]
    },
    {
      "cell_type": "code",
      "metadata": {
        "id": "5zjR461COlEZ",
        "colab_type": "code",
        "colab": {},
        "outputId": "8d5ff6be-fd2c-42a1-da8f-1172c3104780"
      },
      "source": [
        "Mk=dk(1.2)\n",
        "mk = dk(1)\n",
        "qk=(Mk-mk)/(Mk+mk)\n",
        "qk"
      ],
      "execution_count": null,
      "outputs": [
        {
          "output_type": "execute_result",
          "data": {
            "text/plain": [
              "0.063914201378927726"
            ]
          },
          "metadata": {
            "tags": []
          },
          "execution_count": 107
        }
      ]
    },
    {
      "cell_type": "code",
      "metadata": {
        "id": "EwKneNKMOlEa",
        "colab_type": "code",
        "colab": {},
        "outputId": "a0f9cb14-5b28-411c-9bc1-cefd5742fc6e"
      },
      "source": [
        "solution__2 = prost_iterac(1.1, k, 10**(-5), qk)\n",
        "print(\"Приближение для х = \", solution__2[0], \"\\nКоличество итераций = \", solution__2[1])"
      ],
      "execution_count": null,
      "outputs": [
        {
          "output_type": "stream",
          "text": [
            "Приближение для х =  0.0606539981585 \n",
            "Количество итераций =  17\n"
          ],
          "name": "stdout"
        }
      ]
    },
    {
      "cell_type": "markdown",
      "metadata": {
        "id": "kRIU04MSOlEb",
        "colab_type": "text"
      },
      "source": [
        "КОНЕЦ"
      ]
    }
  ]
}