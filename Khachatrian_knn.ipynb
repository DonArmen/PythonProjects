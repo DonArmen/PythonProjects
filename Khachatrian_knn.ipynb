{
  "nbformat": 4,
  "nbformat_minor": 0,
  "metadata": {
    "kernelspec": {
      "display_name": "Python 3",
      "language": "python",
      "name": "python3"
    },
    "language_info": {
      "codemirror_mode": {
        "name": "ipython",
        "version": 3
      },
      "file_extension": ".py",
      "mimetype": "text/x-python",
      "name": "python",
      "nbconvert_exporter": "python",
      "pygments_lexer": "ipython3",
      "version": "3.6.8"
    },
    "colab": {
      "name": "Khachatrian-knn.ipynb",
      "provenance": []
    }
  },
  "cells": [
    {
      "cell_type": "markdown",
      "metadata": {
        "id": "S21jDArDUBDo",
        "colab_type": "text"
      },
      "source": [
        "## CS663 - Machine Learning\n",
        "### Armen Khachatrian\n",
        "### KNN"
      ]
    },
    {
      "cell_type": "markdown",
      "metadata": {
        "id": "MPryYqgdUBDq",
        "colab_type": "text"
      },
      "source": [
        ">  IRIS DATASET"
      ]
    },
    {
      "cell_type": "code",
      "metadata": {
        "id": "7FJDTabMUBDr",
        "colab_type": "code",
        "colab": {},
        "outputId": "16164263-bfb4-4c41-e637-3a7465eb91f9"
      },
      "source": [
        "import pandas as pd\n",
        "\n",
        "train_df = pd.read_csv('iris-train.data', header=None)\n",
        "test_df = pd.read_csv('iris-test.data', header=None)\n",
        "test_df.head()"
      ],
      "execution_count": null,
      "outputs": [
        {
          "output_type": "execute_result",
          "data": {
            "text/html": [
              "<div>\n",
              "<style scoped>\n",
              "    .dataframe tbody tr th:only-of-type {\n",
              "        vertical-align: middle;\n",
              "    }\n",
              "\n",
              "    .dataframe tbody tr th {\n",
              "        vertical-align: top;\n",
              "    }\n",
              "\n",
              "    .dataframe thead th {\n",
              "        text-align: right;\n",
              "    }\n",
              "</style>\n",
              "<table border=\"1\" class=\"dataframe\">\n",
              "  <thead>\n",
              "    <tr style=\"text-align: right;\">\n",
              "      <th></th>\n",
              "      <th>0</th>\n",
              "      <th>1</th>\n",
              "      <th>2</th>\n",
              "      <th>3</th>\n",
              "      <th>4</th>\n",
              "    </tr>\n",
              "  </thead>\n",
              "  <tbody>\n",
              "    <tr>\n",
              "      <th>0</th>\n",
              "      <td>5.0</td>\n",
              "      <td>3.5</td>\n",
              "      <td>1.6</td>\n",
              "      <td>0.6</td>\n",
              "      <td>0</td>\n",
              "    </tr>\n",
              "    <tr>\n",
              "      <th>1</th>\n",
              "      <td>5.1</td>\n",
              "      <td>3.8</td>\n",
              "      <td>1.9</td>\n",
              "      <td>0.4</td>\n",
              "      <td>0</td>\n",
              "    </tr>\n",
              "    <tr>\n",
              "      <th>2</th>\n",
              "      <td>4.8</td>\n",
              "      <td>3.0</td>\n",
              "      <td>1.4</td>\n",
              "      <td>0.3</td>\n",
              "      <td>0</td>\n",
              "    </tr>\n",
              "    <tr>\n",
              "      <th>3</th>\n",
              "      <td>5.1</td>\n",
              "      <td>3.8</td>\n",
              "      <td>1.6</td>\n",
              "      <td>0.2</td>\n",
              "      <td>0</td>\n",
              "    </tr>\n",
              "    <tr>\n",
              "      <th>4</th>\n",
              "      <td>4.6</td>\n",
              "      <td>3.2</td>\n",
              "      <td>1.4</td>\n",
              "      <td>0.2</td>\n",
              "      <td>0</td>\n",
              "    </tr>\n",
              "  </tbody>\n",
              "</table>\n",
              "</div>"
            ],
            "text/plain": [
              "     0    1    2    3  4\n",
              "0  5.0  3.5  1.6  0.6  0\n",
              "1  5.1  3.8  1.9  0.4  0\n",
              "2  4.8  3.0  1.4  0.3  0\n",
              "3  5.1  3.8  1.6  0.2  0\n",
              "4  4.6  3.2  1.4  0.2  0"
            ]
          },
          "metadata": {
            "tags": []
          },
          "execution_count": 1
        }
      ]
    },
    {
      "cell_type": "code",
      "metadata": {
        "id": "JZ0sr7xFUBDx",
        "colab_type": "code",
        "colab": {}
      },
      "source": [
        "train_x = train_df.iloc[:,:-1]\n",
        "train_y = train_df.iloc[:,-1]\n",
        "test_x = test_df.iloc[:,:-1]\n",
        "test_y = test_df.iloc[:,-1]"
      ],
      "execution_count": null,
      "outputs": []
    },
    {
      "cell_type": "code",
      "metadata": {
        "id": "SRoRqO7pUBD0",
        "colab_type": "code",
        "colab": {},
        "outputId": "6ab9b61a-cbac-4086-cc88-cf29d722a1ae"
      },
      "source": [
        "from sklearn.neighbors import KNeighborsClassifier\n",
        "\n",
        "clf = KNeighborsClassifier(n_neighbors=50)\n",
        "clf.fit(train_x, train_y)"
      ],
      "execution_count": null,
      "outputs": [
        {
          "output_type": "execute_result",
          "data": {
            "text/plain": [
              "KNeighborsClassifier(algorithm='auto', leaf_size=30, metric='minkowski',\n",
              "                     metric_params=None, n_jobs=None, n_neighbors=50, p=2,\n",
              "                     weights='uniform')"
            ]
          },
          "metadata": {
            "tags": []
          },
          "execution_count": 3
        }
      ]
    },
    {
      "cell_type": "code",
      "metadata": {
        "id": "SW_H7FYWUBD2",
        "colab_type": "code",
        "colab": {},
        "outputId": "6e984f7f-1251-4072-820f-19af4e399b03"
      },
      "source": [
        "from sklearn.metrics import accuracy_score\n",
        "\n",
        "accuracy_score(clf.predict(test_x), test_y)"
      ],
      "execution_count": null,
      "outputs": [
        {
          "output_type": "execute_result",
          "data": {
            "text/plain": [
              "1.0"
            ]
          },
          "metadata": {
            "tags": []
          },
          "execution_count": 4
        }
      ]
    },
    {
      "cell_type": "markdown",
      "metadata": {
        "id": "Xedv9QVJUBD5",
        "colab_type": "text"
      },
      "source": [
        "> SPIRAL DATASET"
      ]
    },
    {
      "cell_type": "code",
      "metadata": {
        "id": "L0qRm7R1UBD5",
        "colab_type": "code",
        "colab": {},
        "outputId": "a228b121-e0af-4701-a301-74a88a72e4d7"
      },
      "source": [
        "spiral_train = pd.read_csv('spiral-train1.txt', header=None)\n",
        "spiral_test = pd.read_csv('spiral-test.txt', header=None)\n",
        "spiral_test.head()"
      ],
      "execution_count": null,
      "outputs": [
        {
          "output_type": "execute_result",
          "data": {
            "text/html": [
              "<div>\n",
              "<style scoped>\n",
              "    .dataframe tbody tr th:only-of-type {\n",
              "        vertical-align: middle;\n",
              "    }\n",
              "\n",
              "    .dataframe tbody tr th {\n",
              "        vertical-align: top;\n",
              "    }\n",
              "\n",
              "    .dataframe thead th {\n",
              "        text-align: right;\n",
              "    }\n",
              "</style>\n",
              "<table border=\"1\" class=\"dataframe\">\n",
              "  <thead>\n",
              "    <tr style=\"text-align: right;\">\n",
              "      <th></th>\n",
              "      <th>0</th>\n",
              "      <th>1</th>\n",
              "      <th>2</th>\n",
              "    </tr>\n",
              "  </thead>\n",
              "  <tbody>\n",
              "    <tr>\n",
              "      <th>0</th>\n",
              "      <td>0.006456</td>\n",
              "      <td>0.039885</td>\n",
              "      <td>0</td>\n",
              "    </tr>\n",
              "    <tr>\n",
              "      <th>1</th>\n",
              "      <td>0.004187</td>\n",
              "      <td>0.050331</td>\n",
              "      <td>0</td>\n",
              "    </tr>\n",
              "    <tr>\n",
              "      <th>2</th>\n",
              "      <td>0.001634</td>\n",
              "      <td>0.070688</td>\n",
              "      <td>0</td>\n",
              "    </tr>\n",
              "    <tr>\n",
              "      <th>3</th>\n",
              "      <td>0.056388</td>\n",
              "      <td>0.095740</td>\n",
              "      <td>0</td>\n",
              "    </tr>\n",
              "    <tr>\n",
              "      <th>4</th>\n",
              "      <td>0.038288</td>\n",
              "      <td>0.115006</td>\n",
              "      <td>0</td>\n",
              "    </tr>\n",
              "  </tbody>\n",
              "</table>\n",
              "</div>"
            ],
            "text/plain": [
              "          0         1  2\n",
              "0  0.006456  0.039885  0\n",
              "1  0.004187  0.050331  0\n",
              "2  0.001634  0.070688  0\n",
              "3  0.056388  0.095740  0\n",
              "4  0.038288  0.115006  0"
            ]
          },
          "metadata": {
            "tags": []
          },
          "execution_count": 5
        }
      ]
    },
    {
      "cell_type": "code",
      "metadata": {
        "id": "ulsRLLDSUBD7",
        "colab_type": "code",
        "colab": {},
        "outputId": "ad72cc22-5a0a-497d-fe9a-d95e1a513b88"
      },
      "source": [
        "spiral_train.head()"
      ],
      "execution_count": null,
      "outputs": [
        {
          "output_type": "execute_result",
          "data": {
            "text/html": [
              "<div>\n",
              "<style scoped>\n",
              "    .dataframe tbody tr th:only-of-type {\n",
              "        vertical-align: middle;\n",
              "    }\n",
              "\n",
              "    .dataframe tbody tr th {\n",
              "        vertical-align: top;\n",
              "    }\n",
              "\n",
              "    .dataframe thead th {\n",
              "        text-align: right;\n",
              "    }\n",
              "</style>\n",
              "<table border=\"1\" class=\"dataframe\">\n",
              "  <thead>\n",
              "    <tr style=\"text-align: right;\">\n",
              "      <th></th>\n",
              "      <th>0</th>\n",
              "      <th>1</th>\n",
              "      <th>2</th>\n",
              "    </tr>\n",
              "  </thead>\n",
              "  <tbody>\n",
              "    <tr>\n",
              "      <th>0</th>\n",
              "      <td>0.002428</td>\n",
              "      <td>0.020056</td>\n",
              "      <td>0</td>\n",
              "    </tr>\n",
              "    <tr>\n",
              "      <th>1</th>\n",
              "      <td>0.000438</td>\n",
              "      <td>0.030300</td>\n",
              "      <td>0</td>\n",
              "    </tr>\n",
              "    <tr>\n",
              "      <th>2</th>\n",
              "      <td>0.035561</td>\n",
              "      <td>0.049077</td>\n",
              "      <td>0</td>\n",
              "    </tr>\n",
              "    <tr>\n",
              "      <th>3</th>\n",
              "      <td>0.038891</td>\n",
              "      <td>0.070834</td>\n",
              "      <td>0</td>\n",
              "    </tr>\n",
              "    <tr>\n",
              "      <th>4</th>\n",
              "      <td>0.026560</td>\n",
              "      <td>0.086943</td>\n",
              "      <td>0</td>\n",
              "    </tr>\n",
              "  </tbody>\n",
              "</table>\n",
              "</div>"
            ],
            "text/plain": [
              "          0         1  2\n",
              "0  0.002428  0.020056  0\n",
              "1  0.000438  0.030300  0\n",
              "2  0.035561  0.049077  0\n",
              "3  0.038891  0.070834  0\n",
              "4  0.026560  0.086943  0"
            ]
          },
          "metadata": {
            "tags": []
          },
          "execution_count": 6
        }
      ]
    },
    {
      "cell_type": "code",
      "metadata": {
        "id": "Gy8Zc8_5UBD-",
        "colab_type": "code",
        "colab": {}
      },
      "source": [
        "train_x = spiral_train.iloc[:,:-1]\n",
        "train_y = spiral_train.iloc[:,-1]\n",
        "test_x = spiral_test.iloc[:,:-1]\n",
        "test_y = spiral_test.iloc[:,-1]"
      ],
      "execution_count": null,
      "outputs": []
    },
    {
      "cell_type": "code",
      "metadata": {
        "id": "lwinUw6kUBEB",
        "colab_type": "code",
        "colab": {},
        "outputId": "81ebf45d-0e94-49d4-8389-d5ae140d2b56"
      },
      "source": [
        "test_y.head()"
      ],
      "execution_count": null,
      "outputs": [
        {
          "output_type": "execute_result",
          "data": {
            "text/plain": [
              "0    0\n",
              "1    0\n",
              "2    0\n",
              "3    0\n",
              "4    0\n",
              "Name: 2, dtype: int64"
            ]
          },
          "metadata": {
            "tags": []
          },
          "execution_count": 8
        }
      ]
    },
    {
      "cell_type": "markdown",
      "metadata": {
        "id": "DkxbW-LKUBEE",
        "colab_type": "text"
      },
      "source": [
        "> Cross Validation"
      ]
    },
    {
      "cell_type": "code",
      "metadata": {
        "id": "MNn7drboUBEE",
        "colab_type": "code",
        "colab": {},
        "outputId": "b1b6217b-5d5c-4a76-8803-a41b993fbe41"
      },
      "source": [
        "spiral_val = pd.read_csv('spiral-dev.txt', header=None)\n",
        "spiral_val.head()"
      ],
      "execution_count": null,
      "outputs": [
        {
          "output_type": "execute_result",
          "data": {
            "text/html": [
              "<div>\n",
              "<style scoped>\n",
              "    .dataframe tbody tr th:only-of-type {\n",
              "        vertical-align: middle;\n",
              "    }\n",
              "\n",
              "    .dataframe tbody tr th {\n",
              "        vertical-align: top;\n",
              "    }\n",
              "\n",
              "    .dataframe thead th {\n",
              "        text-align: right;\n",
              "    }\n",
              "</style>\n",
              "<table border=\"1\" class=\"dataframe\">\n",
              "  <thead>\n",
              "    <tr style=\"text-align: right;\">\n",
              "      <th></th>\n",
              "      <th>0</th>\n",
              "      <th>1</th>\n",
              "      <th>2</th>\n",
              "    </tr>\n",
              "  </thead>\n",
              "  <tbody>\n",
              "    <tr>\n",
              "      <th>0</th>\n",
              "      <td>0.088400</td>\n",
              "      <td>0.135297</td>\n",
              "      <td>0</td>\n",
              "    </tr>\n",
              "    <tr>\n",
              "      <th>1</th>\n",
              "      <td>0.174942</td>\n",
              "      <td>0.152871</td>\n",
              "      <td>0</td>\n",
              "    </tr>\n",
              "    <tr>\n",
              "      <th>2</th>\n",
              "      <td>0.340908</td>\n",
              "      <td>0.126543</td>\n",
              "      <td>0</td>\n",
              "    </tr>\n",
              "    <tr>\n",
              "      <th>3</th>\n",
              "      <td>0.358322</td>\n",
              "      <td>0.137613</td>\n",
              "      <td>0</td>\n",
              "    </tr>\n",
              "    <tr>\n",
              "      <th>4</th>\n",
              "      <td>0.371794</td>\n",
              "      <td>0.130222</td>\n",
              "      <td>0</td>\n",
              "    </tr>\n",
              "  </tbody>\n",
              "</table>\n",
              "</div>"
            ],
            "text/plain": [
              "          0         1  2\n",
              "0  0.088400  0.135297  0\n",
              "1  0.174942  0.152871  0\n",
              "2  0.340908  0.126543  0\n",
              "3  0.358322  0.137613  0\n",
              "4  0.371794  0.130222  0"
            ]
          },
          "metadata": {
            "tags": []
          },
          "execution_count": 9
        }
      ]
    },
    {
      "cell_type": "code",
      "metadata": {
        "id": "2NcfpuGUUBEH",
        "colab_type": "code",
        "colab": {}
      },
      "source": [
        "val_x = spiral_val.iloc[:,:-1]\n",
        "val_y = spiral_val.iloc[:,-1]"
      ],
      "execution_count": null,
      "outputs": []
    },
    {
      "cell_type": "code",
      "metadata": {
        "id": "_7RbsgGyUBEI",
        "colab_type": "code",
        "colab": {}
      },
      "source": [
        "# empty list that will hold cv scores\n",
        "scores = []\n",
        "neighbors = list(range(1, 40, 1))\n",
        "# perform 10-fold cross validation\n",
        "for k in neighbors:\n",
        "    knn = KNeighborsClassifier(n_neighbors=k)\n",
        "    knn.fit(train_x, train_y)\n",
        "    scores.append(accuracy_score(knn.predict(val_x), val_y))    "
      ],
      "execution_count": null,
      "outputs": []
    },
    {
      "cell_type": "code",
      "metadata": {
        "id": "gtR4jKplUBEL",
        "colab_type": "code",
        "colab": {},
        "outputId": "3e2c836d-af33-4ddd-9d89-d352e9525bc1"
      },
      "source": [
        "scores"
      ],
      "execution_count": null,
      "outputs": [
        {
          "output_type": "execute_result",
          "data": {
            "text/plain": [
              "[0.975609756097561,\n",
              " 0.975609756097561,\n",
              " 1.0,\n",
              " 0.975609756097561,\n",
              " 1.0,\n",
              " 1.0,\n",
              " 0.975609756097561,\n",
              " 0.975609756097561,\n",
              " 0.975609756097561,\n",
              " 0.975609756097561,\n",
              " 1.0,\n",
              " 1.0,\n",
              " 0.975609756097561,\n",
              " 1.0,\n",
              " 0.975609756097561,\n",
              " 0.975609756097561,\n",
              " 0.975609756097561,\n",
              " 0.975609756097561,\n",
              " 0.975609756097561,\n",
              " 0.975609756097561,\n",
              " 0.975609756097561,\n",
              " 0.9512195121951219,\n",
              " 0.9512195121951219,\n",
              " 0.9512195121951219,\n",
              " 0.926829268292683,\n",
              " 0.926829268292683,\n",
              " 0.9512195121951219,\n",
              " 0.926829268292683,\n",
              " 0.926829268292683,\n",
              " 0.926829268292683,\n",
              " 0.9024390243902439,\n",
              " 0.926829268292683,\n",
              " 0.926829268292683,\n",
              " 0.926829268292683,\n",
              " 0.9024390243902439,\n",
              " 0.926829268292683,\n",
              " 0.9024390243902439,\n",
              " 0.9024390243902439,\n",
              " 0.8780487804878049]"
            ]
          },
          "metadata": {
            "tags": []
          },
          "execution_count": 12
        }
      ]
    },
    {
      "cell_type": "code",
      "metadata": {
        "id": "wCKngE62UBEM",
        "colab_type": "code",
        "colab": {},
        "outputId": "759283be-7deb-4f9e-cf16-9bdc3fe67ae0"
      },
      "source": [
        "# changing to misclassification error\n",
        "mse = [1 - x for x in scores]\n",
        "\n",
        "# determining best k\n",
        "optimal_k = neighbors[mse.index(min(mse))]\n",
        "print(\"The optimal number of neighbors is {}\".format(optimal_k))"
      ],
      "execution_count": null,
      "outputs": [
        {
          "output_type": "stream",
          "text": [
            "The optimal number of neighbors is 3\n"
          ],
          "name": "stdout"
        }
      ]
    },
    {
      "cell_type": "code",
      "metadata": {
        "id": "vt4R1t95UBEP",
        "colab_type": "code",
        "colab": {},
        "outputId": "e96e1437-a843-449c-9db6-6167e015270f"
      },
      "source": [
        "import matplotlib.pyplot as plt\n",
        "%matplotlib inline\n",
        "\n",
        "plt.plot(neighbors, mse)\n",
        "plt.xlabel(\"Number of Neighbors K\")\n",
        "plt.ylabel(\"Misclassification Error\")\n",
        "plt.show()"
      ],
      "execution_count": null,
      "outputs": [
        {
          "output_type": "display_data",
          "data": {
            "image/png": "[encoded data removed]",
            "text/plain": [
              "<Figure size 432x288 with 1 Axes>"
            ]
          },
          "metadata": {
            "tags": [],
            "needs_background": "light"
          }
        }
      ]
    },
    {
      "cell_type": "code",
      "metadata": {
        "id": "zV6VWJq2UBER",
        "colab_type": "code",
        "colab": {},
        "outputId": "ec24e5f2-5101-4d93-856d-5e6442e3363c"
      },
      "source": [
        "clf_spiral = KNeighborsClassifier(n_neighbors=3)\n",
        "clf_spiral.fit(train_x, train_y)\n",
        "accuracy_score(clf_spiral.predict(test_x), test_y)"
      ],
      "execution_count": null,
      "outputs": [
        {
          "output_type": "execute_result",
          "data": {
            "text/plain": [
              "1.0"
            ]
          },
          "metadata": {
            "tags": []
          },
          "execution_count": 16
        }
      ]
    },
    {
      "cell_type": "markdown",
      "metadata": {
        "id": "h0bctTDFUBES",
        "colab_type": "text"
      },
      "source": [
        "End."
      ]
    }
  ]
}