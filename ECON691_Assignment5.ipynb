{
 "cells": [
  {
   "cell_type": "markdown",
   "metadata": {},
   "source": [
    "# Economics 691-06: Assignment 5\n",
    "#### Armen Khachatrian\n",
    "##### Collaboration with Joseph Oon"
   ]
  },
  {
   "cell_type": "markdown",
   "metadata": {},
   "source": [
    "## Problem:  Shrinkage"
   ]
  },
  {
   "cell_type": "markdown",
   "metadata": {},
   "source": [
    "The data scientists at Youtube have been running a series of week-long experiments to improve time  spent  on  the  platform.   Specifically,  the  Youtube  team  has  run  fifty  experiments  over  the last few months, each of which includes 2,000 users, split between 1,000 treated and 1,000 control users.  For each experiment and for each user in that experiment, Youtube records the change in time spent on the website (in minutes) for that week,  relative to the user’s previous week.  The data scientists have of course analyzed each experiment in isolation and using standard frequentist approaches;  but they have asked you to explore if shrinkage analysis can potentially improve on the estimates of the treatment effect. The raw data from these fifty experiments is in the file data assignment5_1.csv.  The file has 100,000 rows.  Each row corresponds to a separate user in a separate experiment, for which there are three columns.  The first column is the change in time spent on the website.  The second column is an indicator for whether they are in the treated or control group.  The third column indicates which experiment (1 - 50) that the user is in. While the true treatment effects are generally unknown in practice, I have provided them in the file data assignment5_2.csv to illustrate the improvements in the various techniques.  This file has\n",
    "50 rows.  Each row corresponds to a separate experiment,  for which there are two columns:  the true treatment effect in the first column, and the experiment number in the second column.  Note that this file should only be used for assessing the mean-squared error of your estimated treatment effects, and not for generating those estimates in the first place."
   ]
  },
  {
   "cell_type": "markdown",
   "metadata": {},
   "source": [
    "#### EDA (dataset: data assignment5_1.csv)"
   ]
  },
  {
   "cell_type": "code",
   "execution_count": 1,
   "metadata": {},
   "outputs": [],
   "source": [
    "#libraries\n",
    "import pandas as pd\n",
    "import numpy as np\n",
    "import seaborn as sns\n",
    "import statsmodels.formula.api as sm\n",
    "from sklearn.model_selection import KFold\n",
    "from sklearn.linear_model import Ridge, Lasso\n",
    "import matplotlib.pyplot as plt\n",
    "%matplotlib inline"
   ]
  },
  {
   "cell_type": "code",
   "execution_count": 2,
   "metadata": {},
   "outputs": [
    {
     "data": {
      "text/html": [
       "<div>\n",
       "<style scoped>\n",
       "    .dataframe tbody tr th:only-of-type {\n",
       "        vertical-align: middle;\n",
       "    }\n",
       "\n",
       "    .dataframe tbody tr th {\n",
       "        vertical-align: top;\n",
       "    }\n",
       "\n",
       "    .dataframe thead th {\n",
       "        text-align: right;\n",
       "    }\n",
       "</style>\n",
       "<table border=\"1\" class=\"dataframe\">\n",
       "  <thead>\n",
       "    <tr style=\"text-align: right;\">\n",
       "      <th></th>\n",
       "      <th>outcome</th>\n",
       "      <th>treatment</th>\n",
       "      <th>experiment_number</th>\n",
       "    </tr>\n",
       "  </thead>\n",
       "  <tbody>\n",
       "    <tr>\n",
       "      <th>0</th>\n",
       "      <td>-21.648186</td>\n",
       "      <td>1</td>\n",
       "      <td>1</td>\n",
       "    </tr>\n",
       "    <tr>\n",
       "      <th>1</th>\n",
       "      <td>-11.598603</td>\n",
       "      <td>1</td>\n",
       "      <td>1</td>\n",
       "    </tr>\n",
       "    <tr>\n",
       "      <th>2</th>\n",
       "      <td>-5.958612</td>\n",
       "      <td>1</td>\n",
       "      <td>1</td>\n",
       "    </tr>\n",
       "    <tr>\n",
       "      <th>3</th>\n",
       "      <td>-17.126220</td>\n",
       "      <td>1</td>\n",
       "      <td>1</td>\n",
       "    </tr>\n",
       "    <tr>\n",
       "      <th>4</th>\n",
       "      <td>-16.658352</td>\n",
       "      <td>1</td>\n",
       "      <td>1</td>\n",
       "    </tr>\n",
       "  </tbody>\n",
       "</table>\n",
       "</div>"
      ],
      "text/plain": [
       "     outcome  treatment  experiment_number\n",
       "0 -21.648186          1                  1\n",
       "1 -11.598603          1                  1\n",
       "2  -5.958612          1                  1\n",
       "3 -17.126220          1                  1\n",
       "4 -16.658352          1                  1"
      ]
     },
     "execution_count": 2,
     "metadata": {},
     "output_type": "execute_result"
    }
   ],
   "source": [
    "data = pd.read_csv('data_assignment5_1.csv')\n",
    "data.head()"
   ]
  },
  {
   "cell_type": "code",
   "execution_count": 3,
   "metadata": {},
   "outputs": [
    {
     "data": {
      "text/plain": [
       "(100000, 3)"
      ]
     },
     "execution_count": 3,
     "metadata": {},
     "output_type": "execute_result"
    }
   ],
   "source": [
    "data.shape"
   ]
  },
  {
   "cell_type": "code",
   "execution_count": 4,
   "metadata": {},
   "outputs": [
    {
     "data": {
      "text/plain": [
       "outcome              0\n",
       "treatment            0\n",
       "experiment_number    0\n",
       "dtype: int64"
      ]
     },
     "execution_count": 4,
     "metadata": {},
     "output_type": "execute_result"
    }
   ],
   "source": [
    "data.isnull().sum()"
   ]
  },
  {
   "cell_type": "code",
   "execution_count": 5,
   "metadata": {},
   "outputs": [
    {
     "data": {
      "image/png": "[encoded data removed]",
      "text/plain": [
       "<Figure size 1080x576 with 1 Axes>"
      ]
     },
     "metadata": {
      "needs_background": "light"
     },
     "output_type": "display_data"
    }
   ],
   "source": [
    "data.outcome.hist(bins=50, figsize=(15,8))\n",
    "plt.show()"
   ]
  },
  {
   "cell_type": "code",
   "execution_count": 6,
   "metadata": {},
   "outputs": [
    {
     "data": {
      "text/plain": [
       "array([ 1,  2,  3,  4,  5,  6,  7,  8,  9, 10, 11, 12, 13, 14, 15, 16, 17,\n",
       "       18, 19, 20, 21, 22, 23, 24, 25, 26, 27, 28, 29, 30, 31, 32, 33, 34,\n",
       "       35, 36, 37, 38, 39, 40, 41, 42, 43, 44, 45, 46, 47, 48, 49, 50])"
      ]
     },
     "execution_count": 6,
     "metadata": {},
     "output_type": "execute_result"
    }
   ],
   "source": [
    "data.experiment_number.unique()"
   ]
  },
  {
   "cell_type": "code",
   "execution_count": 7,
   "metadata": {},
   "outputs": [
    {
     "data": {
      "text/plain": [
       "array([1, 0])"
      ]
     },
     "execution_count": 7,
     "metadata": {},
     "output_type": "execute_result"
    }
   ],
   "source": [
    "data.treatment.unique()"
   ]
  },
  {
   "cell_type": "code",
   "execution_count": 8,
   "metadata": {},
   "outputs": [
    {
     "data": {
      "text/html": [
       "<div>\n",
       "<style scoped>\n",
       "    .dataframe tbody tr th:only-of-type {\n",
       "        vertical-align: middle;\n",
       "    }\n",
       "\n",
       "    .dataframe tbody tr th {\n",
       "        vertical-align: top;\n",
       "    }\n",
       "\n",
       "    .dataframe thead th {\n",
       "        text-align: right;\n",
       "    }\n",
       "</style>\n",
       "<table border=\"1\" class=\"dataframe\">\n",
       "  <thead>\n",
       "    <tr style=\"text-align: right;\">\n",
       "      <th></th>\n",
       "      <th>outcome</th>\n",
       "      <th>treatment</th>\n",
       "      <th>experiment_number</th>\n",
       "    </tr>\n",
       "  </thead>\n",
       "  <tbody>\n",
       "    <tr>\n",
       "      <th>0</th>\n",
       "      <td>-21.648186</td>\n",
       "      <td>1</td>\n",
       "      <td>1</td>\n",
       "    </tr>\n",
       "    <tr>\n",
       "      <th>1</th>\n",
       "      <td>-11.598603</td>\n",
       "      <td>1</td>\n",
       "      <td>1</td>\n",
       "    </tr>\n",
       "    <tr>\n",
       "      <th>2</th>\n",
       "      <td>-5.958612</td>\n",
       "      <td>1</td>\n",
       "      <td>1</td>\n",
       "    </tr>\n",
       "    <tr>\n",
       "      <th>3</th>\n",
       "      <td>-17.126220</td>\n",
       "      <td>1</td>\n",
       "      <td>1</td>\n",
       "    </tr>\n",
       "    <tr>\n",
       "      <th>4</th>\n",
       "      <td>-16.658352</td>\n",
       "      <td>1</td>\n",
       "      <td>1</td>\n",
       "    </tr>\n",
       "    <tr>\n",
       "      <th>...</th>\n",
       "      <td>...</td>\n",
       "      <td>...</td>\n",
       "      <td>...</td>\n",
       "    </tr>\n",
       "    <tr>\n",
       "      <th>1995</th>\n",
       "      <td>19.596830</td>\n",
       "      <td>0</td>\n",
       "      <td>1</td>\n",
       "    </tr>\n",
       "    <tr>\n",
       "      <th>1996</th>\n",
       "      <td>4.988050</td>\n",
       "      <td>0</td>\n",
       "      <td>1</td>\n",
       "    </tr>\n",
       "    <tr>\n",
       "      <th>1997</th>\n",
       "      <td>22.235978</td>\n",
       "      <td>0</td>\n",
       "      <td>1</td>\n",
       "    </tr>\n",
       "    <tr>\n",
       "      <th>1998</th>\n",
       "      <td>-11.322655</td>\n",
       "      <td>0</td>\n",
       "      <td>1</td>\n",
       "    </tr>\n",
       "    <tr>\n",
       "      <th>1999</th>\n",
       "      <td>28.294970</td>\n",
       "      <td>0</td>\n",
       "      <td>1</td>\n",
       "    </tr>\n",
       "  </tbody>\n",
       "</table>\n",
       "<p>2000 rows × 3 columns</p>\n",
       "</div>"
      ],
      "text/plain": [
       "        outcome  treatment  experiment_number\n",
       "0    -21.648186          1                  1\n",
       "1    -11.598603          1                  1\n",
       "2     -5.958612          1                  1\n",
       "3    -17.126220          1                  1\n",
       "4    -16.658352          1                  1\n",
       "...         ...        ...                ...\n",
       "1995  19.596830          0                  1\n",
       "1996   4.988050          0                  1\n",
       "1997  22.235978          0                  1\n",
       "1998 -11.322655          0                  1\n",
       "1999  28.294970          0                  1\n",
       "\n",
       "[2000 rows x 3 columns]"
      ]
     },
     "execution_count": 8,
     "metadata": {},
     "output_type": "execute_result"
    }
   ],
   "source": [
    "data[data.experiment_number == 1]"
   ]
  },
  {
   "cell_type": "markdown",
   "metadata": {},
   "source": [
    "-----------------------------"
   ]
  },
  {
   "cell_type": "markdown",
   "metadata": {},
   "source": [
    "> 1. (10 points) Using the experimental data only, estimate the effect of each of the fifty experiments per standard (i.e.  frequentist) regression analysis.  Report the mean-squared error of your estimates across the fifty experiments, by comparing them to the true treatment effects."
   ]
  },
  {
   "cell_type": "code",
   "execution_count": 9,
   "metadata": {},
   "outputs": [],
   "source": [
    "effect = []\n",
    "for i in data.experiment_number.unique():\n",
    "    model1 = sm.ols(formula=\"outcome ~ treatment\", data=data[data.experiment_number == i]).fit()\n",
    "    effect.append(model1.params[1])"
   ]
  },
  {
   "cell_type": "code",
   "execution_count": 10,
   "metadata": {},
   "outputs": [
    {
     "data": {
      "text/plain": [
       "[-2.3267941619375074,\n",
       " 1.8006478196943192,\n",
       " -2.1840877302139408,\n",
       " 0.2390950751034059]"
      ]
     },
     "execution_count": 10,
     "metadata": {},
     "output_type": "execute_result"
    }
   ],
   "source": [
    "effect[1:5]"
   ]
  },
  {
   "cell_type": "code",
   "execution_count": 11,
   "metadata": {},
   "outputs": [
    {
     "data": {
      "text/html": [
       "<div>\n",
       "<style scoped>\n",
       "    .dataframe tbody tr th:only-of-type {\n",
       "        vertical-align: middle;\n",
       "    }\n",
       "\n",
       "    .dataframe tbody tr th {\n",
       "        vertical-align: top;\n",
       "    }\n",
       "\n",
       "    .dataframe thead th {\n",
       "        text-align: right;\n",
       "    }\n",
       "</style>\n",
       "<table border=\"1\" class=\"dataframe\">\n",
       "  <thead>\n",
       "    <tr style=\"text-align: right;\">\n",
       "      <th></th>\n",
       "      <th>Experiment_number</th>\n",
       "      <th>Treatment_effect</th>\n",
       "    </tr>\n",
       "  </thead>\n",
       "  <tbody>\n",
       "    <tr>\n",
       "      <th>0</th>\n",
       "      <td>1</td>\n",
       "      <td>1.951373</td>\n",
       "    </tr>\n",
       "    <tr>\n",
       "      <th>1</th>\n",
       "      <td>2</td>\n",
       "      <td>-2.326794</td>\n",
       "    </tr>\n",
       "    <tr>\n",
       "      <th>2</th>\n",
       "      <td>3</td>\n",
       "      <td>1.800648</td>\n",
       "    </tr>\n",
       "    <tr>\n",
       "      <th>3</th>\n",
       "      <td>4</td>\n",
       "      <td>-2.184088</td>\n",
       "    </tr>\n",
       "    <tr>\n",
       "      <th>4</th>\n",
       "      <td>5</td>\n",
       "      <td>0.239095</td>\n",
       "    </tr>\n",
       "    <tr>\n",
       "      <th>5</th>\n",
       "      <td>6</td>\n",
       "      <td>0.745346</td>\n",
       "    </tr>\n",
       "    <tr>\n",
       "      <th>6</th>\n",
       "      <td>7</td>\n",
       "      <td>0.613068</td>\n",
       "    </tr>\n",
       "    <tr>\n",
       "      <th>7</th>\n",
       "      <td>8</td>\n",
       "      <td>3.505125</td>\n",
       "    </tr>\n",
       "    <tr>\n",
       "      <th>8</th>\n",
       "      <td>9</td>\n",
       "      <td>0.922175</td>\n",
       "    </tr>\n",
       "    <tr>\n",
       "      <th>9</th>\n",
       "      <td>10</td>\n",
       "      <td>0.553500</td>\n",
       "    </tr>\n",
       "  </tbody>\n",
       "</table>\n",
       "</div>"
      ],
      "text/plain": [
       "   Experiment_number  Treatment_effect\n",
       "0                  1          1.951373\n",
       "1                  2         -2.326794\n",
       "2                  3          1.800648\n",
       "3                  4         -2.184088\n",
       "4                  5          0.239095\n",
       "5                  6          0.745346\n",
       "6                  7          0.613068\n",
       "7                  8          3.505125\n",
       "8                  9          0.922175\n",
       "9                 10          0.553500"
      ]
     },
     "execution_count": 11,
     "metadata": {},
     "output_type": "execute_result"
    }
   ],
   "source": [
    "lst1 = range(1, 51)\n",
    "df = pd.DataFrame(\n",
    "    {'Experiment_number': lst1,\n",
    "     'Treatment_effect': effect\n",
    "    })\n",
    "df.head(10)"
   ]
  },
  {
   "cell_type": "markdown",
   "metadata": {},
   "source": [
    "*Note:* The new DataFrame with estimated treatment effects for each experiment. Here we presented the estimated treatment effect of the first 10 experiments."
   ]
  },
  {
   "cell_type": "code",
   "execution_count": 12,
   "metadata": {},
   "outputs": [
    {
     "name": "stdout",
     "output_type": "stream",
     "text": [
      "The mean-squared error of the simple estimate is: 1.0606\n"
     ]
    }
   ],
   "source": [
    "#download the dataset with true treatment effect\n",
    "data_true = pd.read_csv('data_assignment5_2.csv')\n",
    "#calculate the mean\n",
    "print(\"The mean-squared error of the simple estimate is: \" + \n",
    "      str(round(np.mean((df.Treatment_effect - data_true.true_effect)**2), 4)))"
   ]
  },
  {
   "cell_type": "markdown",
   "metadata": {},
   "source": [
    "***Conclusion:*** The mean-squared error of the simple estimate is: 1.0606"
   ]
  },
  {
   "cell_type": "markdown",
   "metadata": {},
   "source": [
    "> 2. (15 points) Using the James-Stein estimator, adjust your estimates from Question 1.  Report the shrinkage factor that you are using. Then report the mean-squared error of your estimates, by comparing them to the true treatment effects."
   ]
  },
  {
   "cell_type": "code",
   "execution_count": 13,
   "metadata": {},
   "outputs": [],
   "source": [
    "sd = np.std(df.Treatment_effect) #calculating standard deviation of the observed treatment effect"
   ]
  },
  {
   "cell_type": "code",
   "execution_count": 14,
   "metadata": {},
   "outputs": [
    {
     "name": "stdout",
     "output_type": "stream",
     "text": [
      "The factor is: 0.0518\n"
     ]
    }
   ],
   "source": [
    "factor_js = (1 - (sd**2)*(len(effect) - 2)/sum(df.Treatment_effect**2))#factor James-Stein\n",
    "print(\"The factor is: \" + str(round(factor_js, 4)))"
   ]
  },
  {
   "cell_type": "code",
   "execution_count": 15,
   "metadata": {},
   "outputs": [
    {
     "name": "stdout",
     "output_type": "stream",
     "text": [
      "The mean-squared error of the adjusted estimate (James-Stein): 1.3605\n"
     ]
    }
   ],
   "source": [
    "print(\"The mean-squared error of the adjusted estimate (James-Stein): \" + \n",
    "      str(round(np.mean((df.Treatment_effect * factor_js - data_true.true_effect)**2), 4)))"
   ]
  },
  {
   "cell_type": "markdown",
   "metadata": {},
   "source": [
    "***Conclusion:*** The mean-squared error of the adjusted estimate (James-Stein): 1.3605"
   ]
  },
  {
   "cell_type": "markdown",
   "metadata": {},
   "source": [
    "> 3. (15 points) Using the split-sample empirical Bayesian estimator, adjust your estimates from Question 1.  Report the parameters of the shrinkage model you are using.  Then report the mean-squared error of your estimates, by comparing them to the true treatment effects."
   ]
  },
  {
   "cell_type": "code",
   "execution_count": 16,
   "metadata": {},
   "outputs": [],
   "source": [
    "#the split-sample empirical Bayesian estimator\n",
    "#Step-by-step\n",
    "#1. Take a set of experiments and split each into half\n",
    "# Split data into two folds\n",
    "model_coef1 = []\n",
    "model_coef2 = []\n",
    "for i in data.experiment_number.unique():\n",
    "    np.random.seed(10)\n",
    "    treatment_i = np.where((data.experiment_number == i) & (data['treatment'] == 1))[0]\n",
    "    control_i = np.where((data.experiment_number == i) & (data['treatment'] == 0))[0]\n",
    "    index1 = np.random.choice(treatment_i, round(len(treatment_i)/2), replace = False)\n",
    "    index1 = np.append(index1, np.random.choice(control_i, round(len(control_i)/2), replace = False)) #1st half\n",
    "    index2 = list(set(data.loc[(data.experiment_number == i)].index) - set(index1)) #2nd half\n",
    "#2.Estimate a treatment effect within each half\n",
    "    model1 = sm.ols(formula=\"outcome ~ treatment\", \n",
    "                    data = data.iloc[index1]).fit()\n",
    "    model2 = sm.ols(formula=\"outcome ~ treatment\", \n",
    "                    data = data.iloc[index2]).fit()\n",
    "    model_coef1.append(model1.params[1])\n",
    "    model_coef2.append(model2.params[1])"
   ]
  },
  {
   "cell_type": "code",
   "execution_count": 17,
   "metadata": {},
   "outputs": [
    {
     "data": {
      "text/plain": [
       "50"
      ]
     },
     "execution_count": 17,
     "metadata": {},
     "output_type": "execute_result"
    }
   ],
   "source": [
    "len(model_coef1) #checking the length of predicted coef"
   ]
  },
  {
   "cell_type": "code",
   "execution_count": 18,
   "metadata": {},
   "outputs": [
    {
     "data": {
      "text/plain": [
       "50"
      ]
     },
     "execution_count": 18,
     "metadata": {},
     "output_type": "execute_result"
    }
   ],
   "source": [
    "len(model_coef2)"
   ]
  },
  {
   "cell_type": "code",
   "execution_count": 19,
   "metadata": {},
   "outputs": [
    {
     "data": {
      "text/html": [
       "<div>\n",
       "<style scoped>\n",
       "    .dataframe tbody tr th:only-of-type {\n",
       "        vertical-align: middle;\n",
       "    }\n",
       "\n",
       "    .dataframe tbody tr th {\n",
       "        vertical-align: top;\n",
       "    }\n",
       "\n",
       "    .dataframe thead th {\n",
       "        text-align: right;\n",
       "    }\n",
       "</style>\n",
       "<table border=\"1\" class=\"dataframe\">\n",
       "  <thead>\n",
       "    <tr style=\"text-align: right;\">\n",
       "      <th></th>\n",
       "      <th>Model1_treatment</th>\n",
       "      <th>Model2_treatment</th>\n",
       "    </tr>\n",
       "  </thead>\n",
       "  <tbody>\n",
       "    <tr>\n",
       "      <th>0</th>\n",
       "      <td>2.024285</td>\n",
       "      <td>1.878460</td>\n",
       "    </tr>\n",
       "    <tr>\n",
       "      <th>1</th>\n",
       "      <td>-1.386206</td>\n",
       "      <td>-3.267382</td>\n",
       "    </tr>\n",
       "    <tr>\n",
       "      <th>2</th>\n",
       "      <td>0.835850</td>\n",
       "      <td>2.765446</td>\n",
       "    </tr>\n",
       "    <tr>\n",
       "      <th>3</th>\n",
       "      <td>-2.249633</td>\n",
       "      <td>-2.118543</td>\n",
       "    </tr>\n",
       "    <tr>\n",
       "      <th>4</th>\n",
       "      <td>-0.211651</td>\n",
       "      <td>0.689841</td>\n",
       "    </tr>\n",
       "    <tr>\n",
       "      <th>5</th>\n",
       "      <td>1.737354</td>\n",
       "      <td>-0.246663</td>\n",
       "    </tr>\n",
       "    <tr>\n",
       "      <th>6</th>\n",
       "      <td>0.568540</td>\n",
       "      <td>0.657596</td>\n",
       "    </tr>\n",
       "    <tr>\n",
       "      <th>7</th>\n",
       "      <td>3.575874</td>\n",
       "      <td>3.434375</td>\n",
       "    </tr>\n",
       "    <tr>\n",
       "      <th>8</th>\n",
       "      <td>1.091343</td>\n",
       "      <td>0.753007</td>\n",
       "    </tr>\n",
       "    <tr>\n",
       "      <th>9</th>\n",
       "      <td>-0.064122</td>\n",
       "      <td>1.171122</td>\n",
       "    </tr>\n",
       "  </tbody>\n",
       "</table>\n",
       "</div>"
      ],
      "text/plain": [
       "   Model1_treatment  Model2_treatment\n",
       "0          2.024285          1.878460\n",
       "1         -1.386206         -3.267382\n",
       "2          0.835850          2.765446\n",
       "3         -2.249633         -2.118543\n",
       "4         -0.211651          0.689841\n",
       "5          1.737354         -0.246663\n",
       "6          0.568540          0.657596\n",
       "7          3.575874          3.434375\n",
       "8          1.091343          0.753007\n",
       "9         -0.064122          1.171122"
      ]
     },
     "execution_count": 19,
     "metadata": {},
     "output_type": "execute_result"
    }
   ],
   "source": [
    "regression_df = pd.DataFrame(\n",
    "    {'Model1_treatment': model_coef1,\n",
    "     'Model2_treatment': model_coef2\n",
    "    })\n",
    "regression_df.head(10) #Dataframe: Coefficients for each half and experiments"
   ]
  },
  {
   "cell_type": "code",
   "execution_count": 20,
   "metadata": {},
   "outputs": [
    {
     "name": "stdout",
     "output_type": "stream",
     "text": [
      "                            OLS Regression Results                            \n",
      "==============================================================================\n",
      "Dep. Variable:       Model2_treatment   R-squared:                       0.427\n",
      "Model:                            OLS   Adj. R-squared:                  0.415\n",
      "Method:                 Least Squares   F-statistic:                     35.82\n",
      "Date:                Mon, 05 Oct 2020   Prob (F-statistic):           2.64e-07\n",
      "Time:                        00:09:52   Log-Likelihood:                -89.368\n",
      "No. Observations:                  50   AIC:                             182.7\n",
      "Df Residuals:                      48   BIC:                             186.6\n",
      "Df Model:                           1                                         \n",
      "Covariance Type:            nonrobust                                         \n",
      "====================================================================================\n",
      "                       coef    std err          t      P>|t|      [0.025      0.975]\n",
      "------------------------------------------------------------------------------------\n",
      "Intercept           -0.1050      0.211     -0.497      0.622      -0.530       0.320\n",
      "Model1_treatment     0.7022      0.117      5.985      0.000       0.466       0.938\n",
      "==============================================================================\n",
      "Omnibus:                        2.351   Durbin-Watson:                   2.020\n",
      "Prob(Omnibus):                  0.309   Jarque-Bera (JB):                1.427\n",
      "Skew:                           0.273   Prob(JB):                        0.490\n",
      "Kurtosis:                       3.621   Cond. No.                         1.84\n",
      "==============================================================================\n",
      "\n",
      "Warnings:\n",
      "[1] Standard Errors assume that the covariance matrix of the errors is correctly specified.\n"
     ]
    }
   ],
   "source": [
    "#3. Regress the first treatment effect on the second\n",
    "#how much we need to shrink\n",
    "#0.7022\n",
    "model = sm.ols('Model2_treatment ~ Model1_treatment', data = regression_df).fit()\n",
    "print(model.summary())"
   ]
  },
  {
   "cell_type": "code",
   "execution_count": 21,
   "metadata": {},
   "outputs": [
    {
     "name": "stdout",
     "output_type": "stream",
     "text": [
      "The mean-squared error of the adjusted estimate is (Bayes): 0.6031\n"
     ]
    }
   ],
   "source": [
    "factor_Bayes = model.params[1]\n",
    "print(\"The mean-squared error of the adjusted estimate is (Bayes): \" + \n",
    "      str(round(np.mean((df.Treatment_effect * factor_Bayes - data_true.true_effect)**2), 4)))"
   ]
  },
  {
   "cell_type": "markdown",
   "metadata": {},
   "source": [
    "***Conclusion:*** The mean-squared error of the adjusted estimate is (Bayes): 0.6031, shrinkage parameter: 0.7022"
   ]
  },
  {
   "cell_type": "markdown",
   "metadata": {},
   "source": [
    "> 4. (20 points) Using LASSO, create new estimates of treatment effects for each experiment. In  order  to  tune  the  parameter $\\alpha$,  demonstrate  two  different  cross-validation  approaches, both  using  the  mean-squared  error  in  the  predicted  versus  actual  response  values  as  the metric.  First, set the optimal $\\alpha$ within each experiment, defined as the alpha correspondingto the lowest mean-squared error for that experiment.  Second, find the optimal $\\alpha$ across all experiments,  defined  as  the  alpha  corresponding  to  the  lowest  average  mean-squared  error across all experiments.  For this second approach, report the optimal $\\alpha$ you find.  Under both approaches, you should use five cross-validation folds.  Once you have generated your set of estimates for each of the two tuning approaches, report the mean-squared error for that set of estimates, by comparing them to the true treatment effects.  Thus, you should have two mean-squared errors for this question.\n",
    "\n",
    "* You should search $\\alpha$ ∈ [0.001,0.005,0.01,0.05,0.1,0.5,1,5,10,50,100].  You also should not use any inbuilt functions to search for the optimal $\\alpha$, such as GridSearchCV (Python); but should code from scratch, as we did in class.\n",
    "\n",
    "* As a hint, remember that you fit each experiment and compute each metric (e.g.  mean-squared  error  between $\\hat{y}$ and y)  individually  under  both  approaches.   The  difference between computing a per-experiment or pooled $\\alpha$ only comes once you have all metrics. At that point,  you can either find the minimum metric and corresponding $\\alpha$ for each experiment; or you can find the average minimum metric and corresponding $\\alpha$ across all experiments.\n",
    "\n",
    "* Given the number of folds and the variation in inputs, you are strongly encouraged to write a modular function to keep your code efficient and readable."
   ]
  },
  {
   "cell_type": "code",
   "execution_count": 22,
   "metadata": {},
   "outputs": [],
   "source": [
    "kf = KFold(n_splits = 5, shuffle = True, random_state = 10) #split way\n",
    "alphas = [0.001, 0.005, 0.01, 0.05, 0.1, 0.5, 1, 5, 10, 50, 100]\n",
    "diff = []\n",
    "lst = []\n",
    "for i in data.experiment_number.unique(): #we have 50 experiments\n",
    "    for alpha in alphas: # 11 alpha values\n",
    "        lassoreg = Lasso(alpha, normalize = True, fit_intercept = True, random_state = 10)\n",
    "        for k in range(5): #5 Fold CV\n",
    "            result = next(kf.split(data[['treatment']].loc[data.experiment_number == i]), None)\n",
    "            x_train = data[['treatment']].loc[data.experiment_number == i].iloc[result[0]]\n",
    "            x_test = data[['treatment']].loc[data.experiment_number == i].iloc[result[1]]\n",
    "            y_train = data['outcome'].loc[data.experiment_number == i].iloc[result[0]]\n",
    "            y_test = data['outcome'].loc[data.experiment_number == i].iloc[result[1]] #actual values\n",
    "            lassoreg.fit(x_train,y_train)\n",
    "            y_pred = lassoreg.predict(x_test)#400 predictions\n",
    "            diffsq = (y_pred - y_test)**2\n",
    "            diff.append(diffsq)\n",
    "        mse = np.mean(diff) #calc mse\n",
    "        lst.append(mse)\n",
    "        diff.clear()"
   ]
  },
  {
   "cell_type": "code",
   "execution_count": 23,
   "metadata": {},
   "outputs": [],
   "source": [
    "mse_list = []\n",
    "for i in range(len(lst)):\n",
    "    mse_list.append(float(lst[i]))\n",
    "df_mse = pd.DataFrame(mse_list,columns=['MSE'])"
   ]
  },
  {
   "cell_type": "code",
   "execution_count": 24,
   "metadata": {},
   "outputs": [],
   "source": [
    "df_mse.loc[df_mse.iloc[:11].index, 'Experiment_number'] = 1\n",
    "for i in range(49):\n",
    "    df_mse.loc[df_mse.iloc[11+11*i:22+11*i].index, 'Experiment_number'] = i+2"
   ]
  },
  {
   "cell_type": "code",
   "execution_count": 25,
   "metadata": {},
   "outputs": [],
   "source": [
    "n = 50\n",
    "alphas50 = alphas*n"
   ]
  },
  {
   "cell_type": "code",
   "execution_count": 26,
   "metadata": {},
   "outputs": [
    {
     "data": {
      "text/html": [
       "<div>\n",
       "<style scoped>\n",
       "    .dataframe tbody tr th:only-of-type {\n",
       "        vertical-align: middle;\n",
       "    }\n",
       "\n",
       "    .dataframe tbody tr th {\n",
       "        vertical-align: top;\n",
       "    }\n",
       "\n",
       "    .dataframe thead th {\n",
       "        text-align: right;\n",
       "    }\n",
       "</style>\n",
       "<table border=\"1\" class=\"dataframe\">\n",
       "  <thead>\n",
       "    <tr style=\"text-align: right;\">\n",
       "      <th></th>\n",
       "      <th>MSE</th>\n",
       "      <th>Experiment_number</th>\n",
       "      <th>Alpha</th>\n",
       "    </tr>\n",
       "  </thead>\n",
       "  <tbody>\n",
       "    <tr>\n",
       "      <th>0</th>\n",
       "      <td>393.754360</td>\n",
       "      <td>1.0</td>\n",
       "      <td>0.001</td>\n",
       "    </tr>\n",
       "    <tr>\n",
       "      <th>1</th>\n",
       "      <td>393.860502</td>\n",
       "      <td>1.0</td>\n",
       "      <td>0.005</td>\n",
       "    </tr>\n",
       "    <tr>\n",
       "      <th>2</th>\n",
       "      <td>394.065208</td>\n",
       "      <td>1.0</td>\n",
       "      <td>0.010</td>\n",
       "    </tr>\n",
       "    <tr>\n",
       "      <th>3</th>\n",
       "      <td>395.003727</td>\n",
       "      <td>1.0</td>\n",
       "      <td>0.050</td>\n",
       "    </tr>\n",
       "    <tr>\n",
       "      <th>4</th>\n",
       "      <td>395.003727</td>\n",
       "      <td>1.0</td>\n",
       "      <td>0.100</td>\n",
       "    </tr>\n",
       "    <tr>\n",
       "      <th>5</th>\n",
       "      <td>395.003727</td>\n",
       "      <td>1.0</td>\n",
       "      <td>0.500</td>\n",
       "    </tr>\n",
       "    <tr>\n",
       "      <th>6</th>\n",
       "      <td>395.003727</td>\n",
       "      <td>1.0</td>\n",
       "      <td>1.000</td>\n",
       "    </tr>\n",
       "    <tr>\n",
       "      <th>7</th>\n",
       "      <td>395.003727</td>\n",
       "      <td>1.0</td>\n",
       "      <td>5.000</td>\n",
       "    </tr>\n",
       "    <tr>\n",
       "      <th>8</th>\n",
       "      <td>395.003727</td>\n",
       "      <td>1.0</td>\n",
       "      <td>10.000</td>\n",
       "    </tr>\n",
       "    <tr>\n",
       "      <th>9</th>\n",
       "      <td>395.003727</td>\n",
       "      <td>1.0</td>\n",
       "      <td>50.000</td>\n",
       "    </tr>\n",
       "    <tr>\n",
       "      <th>10</th>\n",
       "      <td>395.003727</td>\n",
       "      <td>1.0</td>\n",
       "      <td>100.000</td>\n",
       "    </tr>\n",
       "    <tr>\n",
       "      <th>11</th>\n",
       "      <td>390.592429</td>\n",
       "      <td>2.0</td>\n",
       "      <td>0.001</td>\n",
       "    </tr>\n",
       "    <tr>\n",
       "      <th>12</th>\n",
       "      <td>390.504401</td>\n",
       "      <td>2.0</td>\n",
       "      <td>0.005</td>\n",
       "    </tr>\n",
       "    <tr>\n",
       "      <th>13</th>\n",
       "      <td>390.466394</td>\n",
       "      <td>2.0</td>\n",
       "      <td>0.010</td>\n",
       "    </tr>\n",
       "    <tr>\n",
       "      <th>14</th>\n",
       "      <td>391.186147</td>\n",
       "      <td>2.0</td>\n",
       "      <td>0.050</td>\n",
       "    </tr>\n",
       "  </tbody>\n",
       "</table>\n",
       "</div>"
      ],
      "text/plain": [
       "           MSE  Experiment_number    Alpha\n",
       "0   393.754360                1.0    0.001\n",
       "1   393.860502                1.0    0.005\n",
       "2   394.065208                1.0    0.010\n",
       "3   395.003727                1.0    0.050\n",
       "4   395.003727                1.0    0.100\n",
       "5   395.003727                1.0    0.500\n",
       "6   395.003727                1.0    1.000\n",
       "7   395.003727                1.0    5.000\n",
       "8   395.003727                1.0   10.000\n",
       "9   395.003727                1.0   50.000\n",
       "10  395.003727                1.0  100.000\n",
       "11  390.592429                2.0    0.001\n",
       "12  390.504401                2.0    0.005\n",
       "13  390.466394                2.0    0.010\n",
       "14  391.186147                2.0    0.050"
      ]
     },
     "execution_count": 26,
     "metadata": {},
     "output_type": "execute_result"
    }
   ],
   "source": [
    "#DF calculated CV MSE for each experiment and alpha values. Overall, 550 observations\n",
    "df_mse['Alpha'] = alphas50\n",
    "df_mse.head(15) # cross-validation MSE"
   ]
  },
  {
   "cell_type": "code",
   "execution_count": 27,
   "metadata": {},
   "outputs": [
    {
     "data": {
      "text/plain": [
       "(50, 3)"
      ]
     },
     "execution_count": 27,
     "metadata": {},
     "output_type": "execute_result"
    }
   ],
   "source": [
    "#1st approach: min MSE for each experiment\n",
    "dff = df_mse.loc[df_mse.groupby('Experiment_number')['MSE'].idxmin()]\n",
    "dff.shape"
   ]
  },
  {
   "cell_type": "code",
   "execution_count": 28,
   "metadata": {},
   "outputs": [
    {
     "data": {
      "text/html": [
       "<div>\n",
       "<style scoped>\n",
       "    .dataframe tbody tr th:only-of-type {\n",
       "        vertical-align: middle;\n",
       "    }\n",
       "\n",
       "    .dataframe tbody tr th {\n",
       "        vertical-align: top;\n",
       "    }\n",
       "\n",
       "    .dataframe thead th {\n",
       "        text-align: right;\n",
       "    }\n",
       "</style>\n",
       "<table border=\"1\" class=\"dataframe\">\n",
       "  <thead>\n",
       "    <tr style=\"text-align: right;\">\n",
       "      <th></th>\n",
       "      <th>MSE</th>\n",
       "      <th>Experiment_number</th>\n",
       "      <th>Alpha</th>\n",
       "    </tr>\n",
       "  </thead>\n",
       "  <tbody>\n",
       "    <tr>\n",
       "      <th>0</th>\n",
       "      <td>393.754360</td>\n",
       "      <td>1.0</td>\n",
       "      <td>0.001</td>\n",
       "    </tr>\n",
       "    <tr>\n",
       "      <th>13</th>\n",
       "      <td>390.466394</td>\n",
       "      <td>2.0</td>\n",
       "      <td>0.010</td>\n",
       "    </tr>\n",
       "    <tr>\n",
       "      <th>25</th>\n",
       "      <td>434.445266</td>\n",
       "      <td>3.0</td>\n",
       "      <td>0.050</td>\n",
       "    </tr>\n",
       "    <tr>\n",
       "      <th>33</th>\n",
       "      <td>408.177065</td>\n",
       "      <td>4.0</td>\n",
       "      <td>0.001</td>\n",
       "    </tr>\n",
       "    <tr>\n",
       "      <th>47</th>\n",
       "      <td>367.029973</td>\n",
       "      <td>5.0</td>\n",
       "      <td>0.050</td>\n",
       "    </tr>\n",
       "  </tbody>\n",
       "</table>\n",
       "</div>"
      ],
      "text/plain": [
       "           MSE  Experiment_number  Alpha\n",
       "0   393.754360                1.0  0.001\n",
       "13  390.466394                2.0  0.010\n",
       "25  434.445266                3.0  0.050\n",
       "33  408.177065                4.0  0.001\n",
       "47  367.029973                5.0  0.050"
      ]
     },
     "execution_count": 28,
     "metadata": {},
     "output_type": "execute_result"
    }
   ],
   "source": [
    "dff.head()"
   ]
  },
  {
   "cell_type": "markdown",
   "metadata": {},
   "source": [
    "#### 1st approach"
   ]
  },
  {
   "cell_type": "code",
   "execution_count": 29,
   "metadata": {},
   "outputs": [],
   "source": [
    "#1st approach LASSO regression\n",
    "lst = []\n",
    "for i in range(len(dff.Alpha)):\n",
    "    #run LASSO regression with each particular alpha value\n",
    "    lassoreg = Lasso(alpha = dff.Alpha.iloc[i], fit_intercept=True, normalize=True, random_state=10) \n",
    "    x = data[['treatment']].loc[data.experiment_number == i+1]\n",
    "    y = data['outcome'].loc[data.experiment_number == i+1]\n",
    "    lassoreg.fit(x, y)\n",
    "    lst.append(lassoreg.coef_)"
   ]
  },
  {
   "cell_type": "code",
   "execution_count": 30,
   "metadata": {},
   "outputs": [
    {
     "data": {
      "text/plain": [
       "array([1.0628848])"
      ]
     },
     "execution_count": 30,
     "metadata": {},
     "output_type": "execute_result"
    }
   ],
   "source": [
    "experiment_number = range(1, 51)\n",
    "df1 = pd.DataFrame(\n",
    "    {'Experiment_number': experiment_number,\n",
    "     'Coef': lst\n",
    "    })\n",
    "mse_1 = np.mean((df1.Coef - data_true.true_effect)**2)\n",
    "mse_1 #this approach can lead to overfitting. \n",
    "#We have only 50 coefficients, so it is hard to estimate the presence of overfitting\n",
    "#Moreover, we can guess that choosing the specific alpha level for each experiment tends to overfit the model "
   ]
  },
  {
   "cell_type": "markdown",
   "metadata": {},
   "source": [
    "#### 2nd approach"
   ]
  },
  {
   "cell_type": "code",
   "execution_count": 31,
   "metadata": {},
   "outputs": [
    {
     "data": {
      "text/plain": [
       "Alpha\n",
       "0.001      402.677403\n",
       "0.005      402.637709\n",
       "0.010      402.641720\n",
       "0.050      403.071442\n",
       "0.100      403.145660\n",
       "0.500      403.145660\n",
       "1.000      403.145660\n",
       "5.000      403.145660\n",
       "10.000     403.145660\n",
       "50.000     403.145660\n",
       "100.000    403.145660\n",
       "Name: MSE, dtype: float64"
      ]
     },
     "execution_count": 31,
     "metadata": {},
     "output_type": "execute_result"
    }
   ],
   "source": [
    "#2nd approach LASSO regression\n",
    "df_mse.MSE.groupby(df_mse.Alpha).mean()"
   ]
  },
  {
   "cell_type": "code",
   "execution_count": 32,
   "metadata": {},
   "outputs": [
    {
     "data": {
      "text/plain": [
       "402.6377088773912"
      ]
     },
     "execution_count": 32,
     "metadata": {},
     "output_type": "execute_result"
    }
   ],
   "source": [
    "df_mse.MSE.groupby(df_mse.Alpha).mean().min()"
   ]
  },
  {
   "cell_type": "code",
   "execution_count": 33,
   "metadata": {},
   "outputs": [],
   "source": [
    "lst2 = []\n",
    "for i in range(50): #we found that the minimum MSE is obtained via alpha = 0.005\n",
    "    lassoreg = Lasso(alpha = 0.005, normalize = True, fit_intercept = True)\n",
    "    x = data[['treatment']].loc[data.experiment_number == i+1]\n",
    "    y = data['outcome'].loc[data.experiment_number == i+1]\n",
    "    lassoreg.fit(x, y)\n",
    "    lst2.append(lassoreg.coef_)"
   ]
  },
  {
   "cell_type": "code",
   "execution_count": 34,
   "metadata": {},
   "outputs": [
    {
     "data": {
      "text/plain": [
       "array([0.74766054])"
      ]
     },
     "execution_count": 34,
     "metadata": {},
     "output_type": "execute_result"
    }
   ],
   "source": [
    "experiment_number = range(1, 51)\n",
    "df2 = pd.DataFrame(\n",
    "    {'Experiment_number': experiment_number,\n",
    "     'Coef2': lst2\n",
    "    })\n",
    "mse_2 = np.mean((df2.Coef2 - data_true.true_effect)**2)\n",
    "mse_2"
   ]
  },
  {
   "cell_type": "markdown",
   "metadata": {},
   "source": [
    "***Conclusion:*** \n",
    "\n",
    "1) MSE 1st approach: 1.0628848\n",
    "\n",
    "2) MSE 2nd approach: 0.74766054"
   ]
  },
  {
   "cell_type": "markdown",
   "metadata": {},
   "source": [
    "> 5. (10 points) Using  Ridge  Regression,  create  new  estimates  of  treatment  effects  for  each experiment, utilizing a third cross-validation approach.  Continue to use five cross-validation folds,  and  continue  to  find  the  optimal $\\alpha$ across  all  experiments  (rather  than  within  each experiment)  as  in  the  second  approach  previously.   However,  now  use  the  mean-squared difference between the estimated and OLS coefficient as the metric.  Report the optimal $\\alpha$ you find.  Moreover, report the mean-squared error of your estimates, by comparing them tothe true treatment effects."
   ]
  },
  {
   "cell_type": "code",
   "execution_count": 35,
   "metadata": {},
   "outputs": [],
   "source": [
    "#Ridge Regression\n",
    "coef_f = []\n",
    "lst_ = []\n",
    "for i in data.experiment_number.unique():\n",
    "    for alpha in alphas:\n",
    "        ridgereg_ = Ridge(alpha, normalize = True, fit_intercept = True, random_state = 10)\n",
    "        for k in range(5):\n",
    "            result = next(kf.split(data[['treatment']].loc[data.experiment_number == i]), None)\n",
    "            x_train = data[['treatment']].loc[data.experiment_number == i].iloc[result[0]]\n",
    "            x_test = data[['treatment']].loc[data.experiment_number == i].iloc[result[1]]\n",
    "            y_train = data['outcome'].loc[data.experiment_number == i].iloc[result[0]]\n",
    "            y_test = data['outcome'].loc[data.experiment_number == i].iloc[result[1]] #actual values\n",
    "            ridgereg_.fit(x_train,y_train)\n",
    "            coef = ridgereg_.coef_#400 predictions ///just predict (RETURN COEF)\n",
    "            coef_f.append(coef)\n",
    "        mean_coef = np.mean(coef_f)\n",
    "        lst_.append(mean_coef)\n",
    "        coef_f.clear()\n",
    "#/compare coef ols coef is biased - no biased (law ln) and compare with real data result"
   ]
  },
  {
   "cell_type": "code",
   "execution_count": 36,
   "metadata": {},
   "outputs": [
    {
     "data": {
      "text/plain": [
       "Alpha\n",
       "0.001      0.287223\n",
       "0.005      0.286080\n",
       "0.010      0.284663\n",
       "0.050      0.273819\n",
       "0.100      0.261373\n",
       "0.500      0.191673\n",
       "1.000      0.143755\n",
       "5.000      0.047918\n",
       "10.000     0.026137\n",
       "50.000     0.005637\n",
       "100.000    0.002847\n",
       "Name: Mean_coef_ridge, dtype: float64"
      ]
     },
     "execution_count": 36,
     "metadata": {},
     "output_type": "execute_result"
    }
   ],
   "source": [
    "#Dataframe: particular alpha value with each mean RR coefficient\n",
    "mean_coef_r = []\n",
    "for i in range(len(lst_)):\n",
    "    mean_coef_r.append(float(lst_[i]))\n",
    "df_r_coef = pd.DataFrame(mean_coef_r,columns=['Mean_coef_ridge'])\n",
    "df_r_coef.loc[df_r_coef.iloc[:11].index, 'Experiment_number'] = 1\n",
    "for i in range(49):\n",
    "    df_r_coef.loc[df_r_coef.iloc[11+11*i:22+11*i].index, 'Experiment_number'] = i+2\n",
    "df_r_coef['Alpha'] = alphas50\n",
    "df_r_coef.Mean_coef_ridge.groupby(df_r_coef.Alpha).mean()"
   ]
  },
  {
   "cell_type": "code",
   "execution_count": 37,
   "metadata": {},
   "outputs": [
    {
     "data": {
      "text/html": [
       "<div>\n",
       "<style scoped>\n",
       "    .dataframe tbody tr th:only-of-type {\n",
       "        vertical-align: middle;\n",
       "    }\n",
       "\n",
       "    .dataframe tbody tr th {\n",
       "        vertical-align: top;\n",
       "    }\n",
       "\n",
       "    .dataframe thead th {\n",
       "        text-align: right;\n",
       "    }\n",
       "</style>\n",
       "<table border=\"1\" class=\"dataframe\">\n",
       "  <thead>\n",
       "    <tr style=\"text-align: right;\">\n",
       "      <th></th>\n",
       "      <th>MSD</th>\n",
       "      <th>Alpha</th>\n",
       "    </tr>\n",
       "    <tr>\n",
       "      <th>Alpha</th>\n",
       "      <th></th>\n",
       "      <th></th>\n",
       "    </tr>\n",
       "  </thead>\n",
       "  <tbody>\n",
       "    <tr>\n",
       "      <th>0.001</th>\n",
       "      <td>0.233291</td>\n",
       "      <td>0.001</td>\n",
       "    </tr>\n",
       "    <tr>\n",
       "      <th>0.005</th>\n",
       "      <td>0.232547</td>\n",
       "      <td>0.005</td>\n",
       "    </tr>\n",
       "    <tr>\n",
       "      <th>0.010</th>\n",
       "      <td>0.231750</td>\n",
       "      <td>0.010</td>\n",
       "    </tr>\n",
       "    <tr>\n",
       "      <th>0.050</th>\n",
       "      <td>0.230178</td>\n",
       "      <td>0.050</td>\n",
       "    </tr>\n",
       "    <tr>\n",
       "      <th>0.100</th>\n",
       "      <td>0.238258</td>\n",
       "      <td>0.100</td>\n",
       "    </tr>\n",
       "    <tr>\n",
       "      <th>0.500</th>\n",
       "      <td>0.478719</td>\n",
       "      <td>0.500</td>\n",
       "    </tr>\n",
       "    <tr>\n",
       "      <th>1.000</th>\n",
       "      <td>0.836201</td>\n",
       "      <td>1.000</td>\n",
       "    </tr>\n",
       "    <tr>\n",
       "      <th>5.000</th>\n",
       "      <td>2.020899</td>\n",
       "      <td>5.000</td>\n",
       "    </tr>\n",
       "    <tr>\n",
       "      <th>10.000</th>\n",
       "      <td>2.377496</td>\n",
       "      <td>10.000</td>\n",
       "    </tr>\n",
       "    <tr>\n",
       "      <th>50.000</th>\n",
       "      <td>2.742669</td>\n",
       "      <td>50.000</td>\n",
       "    </tr>\n",
       "    <tr>\n",
       "      <th>100.000</th>\n",
       "      <td>2.794599</td>\n",
       "      <td>100.000</td>\n",
       "    </tr>\n",
       "  </tbody>\n",
       "</table>\n",
       "</div>"
      ],
      "text/plain": [
       "              MSD    Alpha\n",
       "Alpha                     \n",
       "0.001    0.233291    0.001\n",
       "0.005    0.232547    0.005\n",
       "0.010    0.231750    0.010\n",
       "0.050    0.230178    0.050\n",
       "0.100    0.238258    0.100\n",
       "0.500    0.478719    0.500\n",
       "1.000    0.836201    1.000\n",
       "5.000    2.020899    5.000\n",
       "10.000   2.377496   10.000\n",
       "50.000   2.742669   50.000\n",
       "100.000  2.794599  100.000"
      ]
     },
     "execution_count": 37,
     "metadata": {},
     "output_type": "execute_result"
    }
   ],
   "source": [
    "#calcualting mean-squared difference between \n",
    "#the estimated and OLS coefficient for each experiment and alpha value\n",
    "msd_coef = []\n",
    "for e in experiment_number:    \n",
    "    for i in alphas:\n",
    "        coef_r = df_r_coef.Mean_coef_ridge\n",
    "        coef_ols = df.Treatment_effect\n",
    "        diff = float(coef_r.loc[(df_r_coef.Alpha == i) & (df_r_coef.Experiment_number == e)]) - coef_ols.loc[df.Experiment_number == e]\n",
    "        diffsq = diff**2\n",
    "        msd_coef.append(diffsq)\n",
    "        \n",
    "n = 50\n",
    "alphas50 = alphas*n\n",
    "msd_ = []\n",
    "for i in range(len(msd_coef)):\n",
    "    msd_.append(float(msd_coef[i]))\n",
    "df_msd_c = pd.DataFrame(msd_,columns=['MSD'])\n",
    "df_msd_c['Alpha'] = alphas50\n",
    "#DF: the averaged MSD for each alpha\n",
    "df_msd_c.groupby(df_msd_c.Alpha).mean()"
   ]
  },
  {
   "cell_type": "code",
   "execution_count": 38,
   "metadata": {},
   "outputs": [
    {
     "data": {
      "text/plain": [
       "MSD    0.230178\n",
       "dtype: float64"
      ]
     },
     "execution_count": 38,
     "metadata": {},
     "output_type": "execute_result"
    }
   ],
   "source": [
    "#min msd\n",
    "df_msd_c.groupby(df_msd_c.Alpha).mean().min()"
   ]
  },
  {
   "cell_type": "code",
   "execution_count": 39,
   "metadata": {},
   "outputs": [],
   "source": [
    "#\n",
    "#alpha = 0.05\n",
    "lst_r_ = []\n",
    "for i in range(50):\n",
    "    ridgereg = Ridge(alpha = 0.05, normalize = True, fit_intercept = True)\n",
    "    x = data[['treatment']].loc[data.experiment_number == i+1]\n",
    "    y = data['outcome'].loc[data.experiment_number == i+1]\n",
    "    ridgereg.fit(x, y)\n",
    "    lst_r_.append(ridgereg.coef_)\n",
    "experiment_number = range(1, 51)\n",
    "df2r = pd.DataFrame(\n",
    "    {'Experiment_number': experiment_number,\n",
    "     'Coef_r': lst_r_\n",
    "    })"
   ]
  },
  {
   "cell_type": "code",
   "execution_count": 40,
   "metadata": {},
   "outputs": [
    {
     "data": {
      "text/plain": [
       "array([0.95354846])"
      ]
     },
     "execution_count": 40,
     "metadata": {},
     "output_type": "execute_result"
    }
   ],
   "source": [
    "mse_r_true = np.mean((df2r.Coef_r - data_true.true_effect)**2)\n",
    "mse_r_true"
   ]
  },
  {
   "cell_type": "markdown",
   "metadata": {},
   "source": [
    "***Conclusion:*** the optimal alpha: 0.05, the mean-squared error: 0.95354846"
   ]
  },
  {
   "cell_type": "markdown",
   "metadata": {},
   "source": [
    "> 6. (10 points) You  now  have  six  sets  of  estimates  from  six  distinct  approaches:  the  simple frequentist estimates, the James-Stein estimates, the split-sample estimates, the LASSO estimates with the per-experiment $\\alpha$, the LASSO experiments with the single $\\alpha$, and the Ridge Regression estimates.  On a single histogram or density plot, graph the the differences between the estimated treatment effect and the true treatment effect, across all fifty experiments andusing different colors for each approach.  As always, points will be awarded on the basis ofthe ease of understanding your visualization."
   ]
  },
  {
   "cell_type": "code",
   "execution_count": 41,
   "metadata": {},
   "outputs": [
    {
     "data": {
      "text/plain": [
       "Text(0.5, 1.0, 'The differences between the estimated treatment effect and the true treatment effect')"
      ]
     },
     "execution_count": 41,
     "metadata": {},
     "output_type": "execute_result"
    },
    {
     "data": {
      "image/png": "[encoded data removed]",
      "text/plain": [
       "<Figure size 720x576 with 1 Axes>"
      ]
     },
     "metadata": {
      "needs_background": "light"
     },
     "output_type": "display_data"
    }
   ],
   "source": [
    "ols = df.Treatment_effect - data_true.true_effect\n",
    "js = df.Treatment_effect*factor_js - data_true.true_effect\n",
    "bayes = df.Treatment_effect * factor_Bayes - data_true.true_effect\n",
    "lasso1 = df1.Coef - data_true.true_effect\n",
    "lasso2 = df2.Coef2 - data_true.true_effect\n",
    "rr = df2r.Coef_r - data_true.true_effect\n",
    "df_ols = pd.DataFrame({'Exp':ols.index, 'Diff': ols.values})\n",
    "df_js = pd.DataFrame({'Exp':js.index, 'Diff': js.values})\n",
    "df_bayes = pd.DataFrame({'Exp':bayes.index, 'Diff': bayes.values})\n",
    "df_lasso1 = pd.DataFrame({'Exp':lasso1.index, 'Diff': lasso1.values})\n",
    "df_lasso2 = pd.DataFrame({'Exp':lasso2.index, 'Diff': lasso2.values})\n",
    "df_rr = pd.DataFrame({'Exp':rr.index, 'Diff': rr.values})\n",
    "\n",
    "plt.figure(figsize=[10,8])\n",
    "\n",
    "\n",
    "sns.kdeplot(df_ols['Diff'], shade=True, color=\"#00FF00\", label = 'OLS')\n",
    "sns.kdeplot(df_js['Diff'], shade=True, color=\"#000000\", label = 'James-Stein')\n",
    "sns.kdeplot(df_bayes['Diff'], shade=True, color=\"#FDE725FF\", label = 'Bayesian estimate')\n",
    "sns.kdeplot(df_lasso1['Diff'], shade=True, color=\"#CC33FF\", label = 'LASSO 1')\n",
    "sns.kdeplot(df_lasso2['Diff'], shade=True, color='r', label = 'LASSO 2')\n",
    "sns.kdeplot(df_rr['Diff'], shade=True, color=\"#0000FF\", label = 'Ridge')\n",
    "\n",
    "plt.xlabel('Differences',fontsize=15)\n",
    "plt.ylabel('Density',fontsize=15)\n",
    "plt.xticks(fontsize=15)\n",
    "plt.yticks(fontsize=15)\n",
    "plt.title('The differences between the estimated treatment effect and the true treatment effect',fontsize=15)\n"
   ]
  },
  {
   "cell_type": "markdown",
   "metadata": {},
   "source": [
    "> 7. (10 points) Discuss the advantages and disadvantages of each of the six approaches.  Which would  you  recommend  the  Youtube  data  scientists  use  going  forward?   Limit  your  entire answer to approximately three hundred words."
   ]
  },
  {
   "cell_type": "markdown",
   "metadata": {},
   "source": [
    "OLS:\n",
    "The Ordinary Least Squares is one of the easiest and computationally inexpensive ways of prediction if our target is a continuous variable (find a function that best fits the data). According to advantages, OLS is easy to understand and implement, and also this approach converges quickly. However, we have a parametric regression (OLS), and this model tends to be too simple. It's hard to hold assumptions: exogeneity and homoskedasticity when adding a new explanatory variable.\n",
    "\n",
    "James-Stein:\n",
    "The James-Stein method is an easy fix to the simple OLS model where we introduce a factor term that reduces the variance in the estimate but increases the bias. This shrinkage factor could be useful if the team can optimize the bias-variance trade-off. However, it is hard to achieve in the real world, more than often, we will end up with a biased estimate.\n",
    "\n",
    "Bayes split sample:\n",
    "It requires the researchers to split the data in 2 and use half to determine the degree of shrinkage required to achieve an unbiased estimate. Then apply this shrinkage model to any dataset for an improved estimation. This approach is easy to implement. But theoretically, this method works worse with complicated models because computing a posterior may be extremely difficult.\n",
    "\n",
    "LASSO:\n",
    "LASSO approach goal is to improve model accuracy through regularisation/penalization and avoid overfitting/underfitting. To find the most appropriate alpha is hard without using cross-validation. LASSO is also helpful for \"sparse\" solutions — dropping the number of features from some (too) high number to fewer. When alpha = 0, LASSO generates the same coefficients as OLS, when alpha is large, LASSO generates all-zero coefficients. This approach is computationally expensive when we add more data ( the model should improve (greatly) when adding more data/parameters). Even though we try to avoid overfitting, LASSO 1 can be inappropriate due to choosing the particular threshold level for each experiment (-> overfit), although at the same time choosing only one alpha(LASSO 2) value seems to have a good result.   \n",
    "\n",
    "Ridge:\n",
    "Ridge regression is similar to LASSO (same goals, same assumptions, same approach). However, ridge regression does no assign beta to zero, unlike Lasso, and is mostly used to reduce variance without removing covariates. However, in this scenario, we only have 1 covariate. \n",
    "\n",
    "In conclusion, I think the best approach for the YouTube data scientists would be to adopt the Bayes split sample strategy for several reasons. First, we assume that in the real world, we do not have the true values to check our answers, using OLS and James-Stein could give us a biased estimate. Next, looking at the dataset corresponding to this scenario, we only have 1 covariate to make LASSO and Ridge inappropriate because these methodologies are mainly used for multi-covariate models. Furthermore, the computation power required to do these computations makes it even less optimal. Hence, I will recommend the Bayes split-sample method. "
   ]
  }
 ],
 "metadata": {
  "kernelspec": {
   "display_name": "Python 3",
   "language": "python",
   "name": "python3"
  },
  "language_info": {
   "codemirror_mode": {
    "name": "ipython",
    "version": 3
   },
   "file_extension": ".py",
   "mimetype": "text/x-python",
   "name": "python",
   "nbconvert_exporter": "python",
   "pygments_lexer": "ipython3",
   "version": "3.6.8"
  }
 },
 "nbformat": 4,
 "nbformat_minor": 2
}
