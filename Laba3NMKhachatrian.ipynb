{
  "nbformat": 4,
  "nbformat_minor": 0,
  "metadata": {
    "kernelspec": {
      "display_name": "Python 3",
      "language": "python",
      "name": "python3"
    },
    "language_info": {
      "codemirror_mode": {
        "name": "ipython",
        "version": 3
      },
      "file_extension": ".py",
      "mimetype": "text/x-python",
      "name": "python",
      "nbconvert_exporter": "python",
      "pygments_lexer": "ipython3",
      "version": "3.6.3"
    },
    "colab": {
      "name": "Laba3NMKhachatrian.ipynb",
      "provenance": []
    }
  },
  "cells": [
    {
      "cell_type": "markdown",
      "metadata": {
        "id": "REU0J6L3Oqf1",
        "colab_type": "text"
      },
      "source": [
        "Вариант 28: \n",
        "\n",
        "Хачатрян Армен БПМ153"
      ]
    },
    {
      "cell_type": "markdown",
      "metadata": {
        "id": "rMzd3PloOqf3",
        "colab_type": "text"
      },
      "source": [
        "3.1.28 \n",
        "$$ \\text{Матрица размерности 5x5 }$$\n",
        "$$ a_{i,j} = \\frac{500}{(8c-5)^{2}}$$\n",
        "$$ Ax=b $$"
      ]
    },
    {
      "cell_type": "markdown",
      "metadata": {
        "id": "WPHyOYYkOqf4",
        "colab_type": "text"
      },
      "source": [
        "НАЧАЛО"
      ]
    },
    {
      "cell_type": "code",
      "metadata": {
        "id": "g_qZL-nzOqf6",
        "colab_type": "code",
        "colab": {}
      },
      "source": [
        "import numpy as np"
      ],
      "execution_count": null,
      "outputs": []
    },
    {
      "cell_type": "markdown",
      "metadata": {
        "id": "Skqo-O7HOqgC",
        "colab_type": "text"
      },
      "source": [
        "Функция, которая решает СЛАУ методом Гаусса"
      ]
    },
    {
      "cell_type": "code",
      "metadata": {
        "id": "D2YzvhaJOqgD",
        "colab_type": "code",
        "colab": {}
      },
      "source": [
        "def gauss(A,b):\n",
        "    # прямой ход\n",
        "    for k in range(A.shape[0]-1):\n",
        "        # число шагов метода = число строк - 1\n",
        "        # фиксируем k-ую строку\n",
        "        for i in range(k+1, A.shape[0]):\n",
        "            # ходим по оставшимся строкам\n",
        "            m = A[i][k]/A[k][k] # множитель k-ого шага\n",
        "            for j in range(A.shape[1]):\n",
        "                # преобразовываем строку i\n",
        "                A[i][j] = A[i][j] - m*A[k][j]\n",
        "            # преобразовываем правую часть строки i\n",
        "            b[i] = b[i] - m*b[k] \n",
        "            \n",
        "    # обратный ход\n",
        "    X = np.zeros(A.shape[0]) # вектор из нулей \n",
        "    X[-1] = b[-1]/A[-1][-1] # инициализация последнего значения\n",
        "    # все остальные значения\n",
        "    for k in range(A.shape[0]-2,-1,-1):\n",
        "        X[k] = (b[k] - sum(X[k+1:]*A[k][k+1:]))/A[k][k]\n",
        "            \n",
        "    return X "
      ],
      "execution_count": null,
      "outputs": []
    },
    {
      "cell_type": "markdown",
      "metadata": {
        "id": "aPCxXET0OqgI",
        "colab_type": "text"
      },
      "source": [
        "Найдем С"
      ]
    },
    {
      "cell_type": "code",
      "metadata": {
        "id": "QJ-fw1i_OqgJ",
        "colab_type": "code",
        "colab": {},
        "outputId": "278cc6a8-e2ad-40bf-91c2-77513eb48461"
      },
      "source": [
        "C = np.zeros((5,5),dtype=np.float)\n",
        "\n",
        "for i in range(1,6):\n",
        "    for j in range(1,6):\n",
        "        C[i-1][j-1] = 0.1*28*i*j\n",
        "C"
      ],
      "execution_count": null,
      "outputs": [
        {
          "output_type": "execute_result",
          "data": {
            "text/plain": [
              "array([[  2.8,   5.6,   8.4,  11.2,  14. ],\n",
              "       [  5.6,  11.2,  16.8,  22.4,  28. ],\n",
              "       [  8.4,  16.8,  25.2,  33.6,  42. ],\n",
              "       [ 11.2,  22.4,  33.6,  44.8,  56. ],\n",
              "       [ 14. ,  28. ,  42. ,  56. ,  70. ]])"
            ]
          },
          "metadata": {
            "tags": []
          },
          "execution_count": 240
        }
      ]
    },
    {
      "cell_type": "markdown",
      "metadata": {
        "id": "4oiqIbXWOqgN",
        "colab_type": "text"
      },
      "source": [
        "Подставим полученное С в $a_{i,j}$\n",
        "\n",
        "Получим матрицу А"
      ]
    },
    {
      "cell_type": "code",
      "metadata": {
        "id": "TyC8lrOyOqgO",
        "colab_type": "code",
        "colab": {},
        "outputId": "c625e95f-670f-41ce-f9ef-6a189412b8bc"
      },
      "source": [
        "A = 500/((8*C-5)**2)\n",
        "A"
      ],
      "execution_count": null,
      "outputs": [
        {
          "output_type": "execute_result",
          "data": {
            "text/plain": [
              "array([[  1.65147311e+00,   3.15648595e-01,   1.29237704e-01,\n",
              "          6.98601121e-02,   4.36719364e-02],\n",
              "       [  3.15648595e-01,   6.98601121e-02,   2.98608009e-02,\n",
              "          1.64768316e-02,   1.04251371e-02],\n",
              "       [  1.29237704e-01,   2.98608009e-02,   1.29360885e-02,\n",
              "          7.18489494e-03,   4.56366773e-03],\n",
              "       [  6.98601121e-02,   1.64768316e-02,   7.18489494e-03,\n",
              "          4.00347309e-03,   2.54778368e-03],\n",
              "       [  4.36719364e-02,   1.04251371e-02,   4.56366773e-03,\n",
              "          2.54778368e-03,   1.62324487e-03]])"
            ]
          },
          "metadata": {
            "tags": []
          },
          "execution_count": 241
        }
      ]
    },
    {
      "cell_type": "markdown",
      "metadata": {
        "id": "s-gY2yCyOqgR",
        "colab_type": "text"
      },
      "source": [
        "Вектор правой части b (Вариант = 28)"
      ]
    },
    {
      "cell_type": "code",
      "metadata": {
        "id": "93EWa66uOqgR",
        "colab_type": "code",
        "colab": {},
        "outputId": "43a705e3-886e-47bc-98f3-a0eb9ef7e00d"
      },
      "source": [
        "b = np.zeros(5,dtype=np.float)\n",
        "b = b+28\n",
        "b"
      ],
      "execution_count": null,
      "outputs": [
        {
          "output_type": "execute_result",
          "data": {
            "text/plain": [
              "array([ 28.,  28.,  28.,  28.,  28.])"
            ]
          },
          "metadata": {
            "tags": []
          },
          "execution_count": 242
        }
      ]
    },
    {
      "cell_type": "markdown",
      "metadata": {
        "id": "jAPKpa_KOqgU",
        "colab_type": "text"
      },
      "source": [
        "Решение с помощью написанной вручную функции"
      ]
    },
    {
      "cell_type": "code",
      "metadata": {
        "id": "9uMCVAjDOqgU",
        "colab_type": "code",
        "colab": {},
        "outputId": "3ce5c290-d6d8-4129-834a-8c90a20eaf51"
      },
      "source": [
        "gauss(A,b)"
      ],
      "execution_count": null,
      "outputs": [
        {
          "output_type": "execute_result",
          "data": {
            "text/plain": [
              "array([  1.05970533e+07,  -1.92512995e+09,   2.44723013e+10,\n",
              "        -7.25452970e+10,   5.71406396e+10])"
            ]
          },
          "metadata": {
            "tags": []
          },
          "execution_count": 243
        }
      ]
    },
    {
      "cell_type": "markdown",
      "metadata": {
        "id": "Zf1Qo7TROqgW",
        "colab_type": "text"
      },
      "source": [
        "Решение с помощью библиотеки linalg"
      ]
    },
    {
      "cell_type": "code",
      "metadata": {
        "id": "CsiI0oAlOqgW",
        "colab_type": "code",
        "colab": {},
        "outputId": "27d163a1-5ac1-412b-d471-4f8d0cc6cbe7"
      },
      "source": [
        "X = np.linalg.solve(A, b)\n",
        "X"
      ],
      "execution_count": null,
      "outputs": [
        {
          "output_type": "execute_result",
          "data": {
            "text/plain": [
              "array([  1.05970533e+07,  -1.92512995e+09,   2.44723013e+10,\n",
              "        -7.25452970e+10,   5.71406396e+10])"
            ]
          },
          "metadata": {
            "tags": []
          },
          "execution_count": 244
        }
      ]
    },
    {
      "cell_type": "markdown",
      "metadata": {
        "id": "YRpxPI4WOqgZ",
        "colab_type": "text"
      },
      "source": [
        "Число обусловленности"
      ]
    },
    {
      "cell_type": "code",
      "metadata": {
        "id": "d6PabwuWOqgZ",
        "colab_type": "code",
        "colab": {},
        "outputId": "75cda260-29bc-4f37-ddb8-bec190a016b2"
      },
      "source": [
        "cond = np.linalg.cond(A,np.inf)\n",
        "cond"
      ],
      "execution_count": null,
      "outputs": [
        {
          "output_type": "execute_result",
          "data": {
            "text/plain": [
              "46090728447.953392"
            ]
          },
          "metadata": {
            "tags": []
          },
          "execution_count": 245
        }
      ]
    },
    {
      "cell_type": "markdown",
      "metadata": {
        "id": "_GgMqiBBOqgb",
        "colab_type": "text"
      },
      "source": [
        "Зададим функцию relative_error, с помощью которой получим вектор относительных погрешностей d\n",
        "$$ d = (d_{1},...,d_{n})^{T} $$\n",
        "\n",
        "$$ d_{i}=\\frac{||x-x^{i}||_{\\infty}}{||x||_{\\infty}} \\text{ , где i =1,...,n} $$\n",
        "\n",
        "Получим затем новые компоненты векторов $b^{i}$, которые появляются из-за решений $x^{i}$ систем $Ax^{i}=b^{i}$, i =1,...,n\n",
        "\n",
        "Они вычисляются по формулам:\n",
        "$$ \\begin{equation*}\n",
        "    b^{i}_{k} = \n",
        "    \\begin{cases}\n",
        "    b_{k}+\\Delta & k=i\\\\\n",
        "    b_{k} & k \\neq i\n",
        "    \\end{cases}\n",
        "    \\end{equation*}  \\text{, где k = 1,...,n} $$\n",
        "($\\Delta$ - произвольная величина погрешности)"
      ]
    },
    {
      "cell_type": "code",
      "metadata": {
        "id": "9Kku64ygOqgb",
        "colab_type": "code",
        "colab": {}
      },
      "source": [
        "def relative_error(A,b,delta):\n",
        "    \n",
        "    n = A.shape[0]\n",
        "    d = np.zeros(n,dtype=np.float)\n",
        "    X1 = gauss(A,b)\n",
        "    \n",
        "    for i in range(n): \n",
        "        b_i = np.zeros(n,dtype=np.float)\n",
        "        \n",
        "        for k in range(n):\n",
        "            if i == k:\n",
        "                b_i[k] = b[k]+delta\n",
        "            else:\n",
        "                b_i[k] = b[k]\n",
        "                \n",
        "        x_i = gauss(A,b_i)\n",
        "        d[i] = np.linalg.norm(X1-x_i,np.inf)/np.linalg.norm(X1,np.inf)\n",
        "        \n",
        "    return d\n",
        "        "
      ],
      "execution_count": null,
      "outputs": []
    },
    {
      "cell_type": "code",
      "metadata": {
        "id": "m6sCseC4Oqgc",
        "colab_type": "code",
        "colab": {},
        "outputId": "4c26b14a-236a-4709-98d6-bd89b641298c"
      },
      "source": [
        "relative_error(A,b,0.01)"
      ],
      "execution_count": null,
      "outputs": [
        {
          "output_type": "execute_result",
          "data": {
            "text/plain": [
              "array([  8.34678570e-14,   1.44647560e-11,   4.72816405e-09,\n",
              "         2.63703507e-06,   2.87233328e-03])"
            ]
          },
          "metadata": {
            "tags": []
          },
          "execution_count": 247
        }
      ]
    },
    {
      "cell_type": "markdown",
      "metadata": {
        "id": "qUqz81UgOqge",
        "colab_type": "text"
      },
      "source": [
        "Новые компоненты вектора"
      ]
    },
    {
      "cell_type": "code",
      "metadata": {
        "id": "-BnJgbF4Oqgf",
        "colab_type": "code",
        "colab": {},
        "outputId": "b89d9470-66c1-4b96-9f0e-498f1c9944eb"
      },
      "source": [
        "b"
      ],
      "execution_count": null,
      "outputs": [
        {
          "output_type": "execute_result",
          "data": {
            "text/plain": [
              "array([ 28.        ,  22.64831696,  13.54699888,   7.12881968,   3.48803497])"
            ]
          },
          "metadata": {
            "tags": []
          },
          "execution_count": 248
        }
      ]
    },
    {
      "cell_type": "markdown",
      "metadata": {
        "id": "KVcCbqIdOqgg",
        "colab_type": "text"
      },
      "source": [
        "На основе вычисленного вектора d построить гистограмму"
      ]
    },
    {
      "cell_type": "code",
      "metadata": {
        "id": "wt2G1TyzOqgg",
        "colab_type": "code",
        "colab": {},
        "outputId": "eb826ccd-1fd4-42cd-bf68-c3b4abe4b530"
      },
      "source": [
        "import matplotlib.pyplot as plt\n",
        "%matplotlib inline\n",
        "plt.figure(figsize=(16,8))\n",
        "plt.bar(np.arange(1,6), relative_error(A,b,0.001))"
      ],
      "execution_count": null,
      "outputs": [
        {
          "output_type": "execute_result",
          "data": {
            "text/plain": [
              "<Container object of 5 artists>"
            ]
          },
          "metadata": {
            "tags": []
          },
          "execution_count": 249
        },
        {
          "output_type": "display_data",
          "data": {
            "image/png": "[encoded data removed]",
            "text/plain": [
              "<matplotlib.figure.Figure at 0x117d4a400>"
            ]
          },
          "metadata": {
            "tags": []
          }
        }
      ]
    },
    {
      "cell_type": "markdown",
      "metadata": {
        "id": "ladRORMFOqgi",
        "colab_type": "text"
      },
      "source": [
        "Получилось, что $b_{5}$ оказывает наибольшее вляиние на погрешность решения"
      ]
    },
    {
      "cell_type": "code",
      "metadata": {
        "id": "DZKcsl4JOqgi",
        "colab_type": "code",
        "colab": {},
        "outputId": "f79e42af-5ee4-439f-8475-197c72ac6e47"
      },
      "source": [
        "b = np.array([28,28,28,28,28])\n",
        "b_5 = np.array([28,28,28,28,28.00001])\n",
        "del_b_5=np.linalg.norm(b-b_5,np.inf)/np.linalg.norm(b,np.inf)\n",
        "cond*del_b_5"
      ],
      "execution_count": null,
      "outputs": [
        {
          "output_type": "execute_result",
          "data": {
            "text/plain": [
              "16460.974445074466"
            ]
          },
          "metadata": {
            "tags": []
          },
          "execution_count": 250
        }
      ]
    },
    {
      "cell_type": "markdown",
      "metadata": {
        "id": "NaHifpuLOqgk",
        "colab_type": "text"
      },
      "source": [
        "Число обусловленности"
      ]
    },
    {
      "cell_type": "code",
      "metadata": {
        "id": "83qWxtkiOqgk",
        "colab_type": "code",
        "colab": {},
        "outputId": "971e4120-3d44-4233-d629-61435daa7fb7"
      },
      "source": [
        "cond"
      ],
      "execution_count": null,
      "outputs": [
        {
          "output_type": "execute_result",
          "data": {
            "text/plain": [
              "46090728447.953392"
            ]
          },
          "metadata": {
            "tags": []
          },
          "execution_count": 251
        }
      ]
    },
    {
      "cell_type": "code",
      "metadata": {
        "id": "z6vmQD6YOqgl",
        "colab_type": "code",
        "colab": {},
        "outputId": "aa5cf419-2558-4614-9d91-656f1ebff598"
      },
      "source": [
        "X"
      ],
      "execution_count": null,
      "outputs": [
        {
          "output_type": "execute_result",
          "data": {
            "text/plain": [
              "array([  1.05970533e+07,  -1.92512995e+09,   2.44723013e+10,\n",
              "        -7.25452970e+10,   5.71406396e+10])"
            ]
          },
          "metadata": {
            "tags": []
          },
          "execution_count": 252
        }
      ]
    },
    {
      "cell_type": "code",
      "metadata": {
        "id": "58qfsbs_Oqgn",
        "colab_type": "code",
        "colab": {},
        "outputId": "f16094c8-ffdc-4c74-f492-a671fe83af11"
      },
      "source": [
        "d=relative_error(A,b,0.01)\n",
        "d[4]"
      ],
      "execution_count": null,
      "outputs": [
        {
          "output_type": "execute_result",
          "data": {
            "text/plain": [
              "0.0003574710445737672"
            ]
          },
          "metadata": {
            "tags": []
          },
          "execution_count": 253
        }
      ]
    },
    {
      "cell_type": "code",
      "metadata": {
        "id": "ipTFxcqNOqgp",
        "colab_type": "code",
        "colab": {},
        "outputId": "dfd38cbe-e511-475c-f6af-3369af7db7bf"
      },
      "source": [
        "b"
      ],
      "execution_count": null,
      "outputs": [
        {
          "output_type": "execute_result",
          "data": {
            "text/plain": [
              "array([28, 28, 28, 28, 28])"
            ]
          },
          "metadata": {
            "tags": []
          },
          "execution_count": 254
        }
      ]
    },
    {
      "cell_type": "markdown",
      "metadata": {
        "id": "VLFDPbUWOqgr",
        "colab_type": "text"
      },
      "source": [
        "КОНЕЦ"
      ]
    }
  ]
}