{
  "nbformat": 4,
  "nbformat_minor": 0,
  "metadata": {
    "colab": {
      "name": "Khachatrian PS3.ipynb",
      "provenance": [],
      "collapsed_sections": []
    },
    "kernelspec": {
      "name": "python3",
      "display_name": "Python 3"
    }
  },
  "cells": [
    {
      "cell_type": "code",
      "metadata": {
        "id": "UH0QvNB1uhQg",
        "colab_type": "code",
        "colab": {}
      },
      "source": [
        "%matplotlib inline\n",
        "import pandas as pd\n",
        "import numpy as np\n",
        "import statsmodels.formula.api as sfa\n",
        "from progressbar import progressbar\n",
        "from statsmodels.iolib.summary2 import summary_col\n",
        "import matplotlib.pyplot as plt"
      ],
      "execution_count": null,
      "outputs": []
    },
    {
      "cell_type": "markdown",
      "metadata": {
        "id": "bF00omVLRO9V",
        "colab_type": "text"
      },
      "source": [
        "# Exercises\n",
        "\n",
        "We will be working from this notebook:\n",
        "[Regression and experiments](https://colab.research.google.com/drive/1mn3iogugMBo02uNSgjFoq3EfbZuqQfPn)\n",
        "\n",
        "## Part 1\n",
        "\n",
        "See the notebook section \"Reproducing results from a real field experiment\" and associated slides.\n",
        "\n",
        "We are going to elaborate on the results from the Karlan et al. study.\n",
        "\n",
        "1. Print out the full set of regression results from the tops of column 3 and column 4 in the results table. You can just use the `summary()` method on the regression results to print these. These are the two models already fitted in the notebook.\n",
        "\n",
        "2. Which one has more control variables? Which one has a higher R-squared? R-squared is the proportion of variance in $Y$ explained by the model. Which one has a smaller standard error on the estimated ATE?\n",
        "\n",
        "3. Let's do a simulation to better understand the results. You can start with the data-generating process in the section \"Commentary on the standard errors and covariates\" of the notebook. In the section \"Modeling the simulated data\" I printed out two different models fit to the data (Model 1 and Model 2). How does the regression estimate of the treatment effect in the simulated data compare to the estimate for the effect of `rem_any` in the real experiment results? Look at the estimated coefficient and the standard error. Did we do a reasonably good job of simulating data that resembles the real data?\n",
        "\n",
        "4. Now we will simulate repeated samples from the data-generating process in the notebook. Set `beta_hs` = 0.35 for your simulations. Simulate B=1000 data samples and fit Model 1 to all 1000 samples. *See the `compare_lpm_prop_test` function in the notebook to get an idea of how you can package the results in a convenient way.\n",
        "\n",
        "4. Across the simulations, what is the standard deviation of the estimated treatment effects for each of the two models? Make a histogram of the estimated treatment effects. (Hint: Use `.params['d']` on your regression results.)\n",
        "\n",
        "5. How does your answer in 4 compare to the standard error in your regression output from question 3? *The standard errors in the regression output are estimates of the standard deviation of the sampling distribution of the coefficient estimate!*\n",
        "\n",
        "6. Across the simulations, what percentage of the confidence intervals include the true ATE in each model? Reference the lecture slides on about the \"Confidence interval machine.\"\n",
        "\n",
        "## Part 2\n",
        "\n",
        "See the notebook section \"Classic blocking example: Shoe technology experiment\". \n",
        "\n",
        "1. The baseline \"inter-person variability\" is set to 5. What are the sampling standard deviations of the estimated ATE (aka standard error) for the non-blocking and blocking design?\n",
        "\n",
        "2. Blocking reduces the impact of heterogeneity in the data. What is your guess for how the blocking and non-blocking designs will compare when we increase the \"inter-person variability\"?\n",
        "\n",
        "3. Make a plot of the standard errors for several different levels of inter-person variability: 0, 1, 5, 10, 20. It can just be a scatter plot or line plot.\n",
        "\n",
        "4. In terms of the people in our model, generally what does it mean to have inter-person variability = 0? What does it mean when we increase it to a larger number like 20?\n",
        "\n",
        "5. Now imagine that each person's wear rate is a known function of their weight, strength, and steps per day and we have it (the wear rate) in our data (it is already there!). (Alternative story: We know from the past how fast they wear down their shoes.) Use a regression to estimate the ATE and include the wear rate as a covariate in your model.  (Hint: Use the function `regression_ate`.) Simulate the distrubtion of ATE for a blocked and non-blocked design using the regression estimator. Use \"inter-person variability\" of 20. How do the standard errors compare now? \n",
        "\n",
        "6. That's great but what if we do not have data about each person's wear rate? We can try another strategy. Let's have each person run through 5 pairs of shoes during the experiment. This is easy to change: You just need to add replicates to `df = pd.concat([df_left, df_right], axis=0)`. Then cut the sample to just N=20 people so we use the same number of shoes in total. Run a simulation with inter-person variability of 20 again. Estimate the ATE using a regression with a dummy variable for each person (use `C(i)` in your formula). What is the standard error of the ATE estimate now? Practically, what is the tradeoff of this strategy vs. covariate strategy vs. the blocked strategy?\n"
      ]
    },
    {
      "cell_type": "markdown",
      "metadata": {
        "id": "XsVbCIpAeIL6",
        "colab_type": "text"
      },
      "source": [
        "#Part 1\n",
        "###1"
      ]
    },
    {
      "cell_type": "code",
      "metadata": {
        "id": "GoDFrmJJpn7s",
        "colab_type": "code",
        "colab": {
          "base_uri": "https://localhost:8080/",
          "height": 68
        },
        "outputId": "fb6e8aaa-565f-4115-cdae-e88fc2674967"
      },
      "source": [
        "rem = pd.read_csv(\"https://raw.githubusercontent.com/kyleco/kyleco.github.io/master/data/analysis_dataallcountries.csv\")\n",
        "print(rem[['reached_b4goal', 'rem_any']].mean())"
      ],
      "execution_count": null,
      "outputs": [
        {
          "output_type": "stream",
          "text": [
            "reached_b4goal    0.553319\n",
            "rem_any           0.611578\n",
            "dtype: float64\n"
          ],
          "name": "stdout"
        }
      ]
    },
    {
      "cell_type": "code",
      "metadata": {
        "id": "w0_uur9teQOc",
        "colab_type": "code",
        "colab": {}
      },
      "source": [
        "# Set up our variables\n",
        "randfeature = \"highint rewardint joint dc joint_single\"\n",
        "covariates = \"female  highschool_completed married inc_7d wealthy hyperbolic spent_b4isaved saved_asmuch missing_female missing_age missing_highschool_completed missing_married missing_saved_asmuch missing_spent_b4isaved\"\n",
        "\n",
        "Xrandfeature = \"+\".join(randfeature.split())\n",
        "Xfull = \"+\".join(randfeature.split() + covariates.split())\n",
        "\n",
        "# NOTE: In a LPM in Statsmodels the outcome has to be a float!\n",
        "# It will complain if this is an int!\n",
        "rem['reached_b4goal'] = rem['reached_b4goal'].astype('float')\n",
        "rem['female'] = rem['female'].astype('float')\n",
        "\n",
        "\n",
        "\n",
        "formula_col3 = \"reached_b4goal ~ rem_any + {Xs} + C(country)\".format(Xs=Xrandfeature)\n",
        "r_col3 = sfa.ols(formula_col3, data=rem).fit(cov_type='HC1')\n",
        "\n",
        "formula_col4 = \"reached_b4goal ~ rem_any + {Xs} + C(depart) + C(provincia) + C(marketer) + C(branch) + C(country)\".format(Xs=Xfull)\n",
        "r_col4 = sfa.ols(formula_col4, data=rem).fit(cov_type='HC1')\n",
        "\n",
        "\n"
      ],
      "execution_count": null,
      "outputs": []
    },
    {
      "cell_type": "code",
      "metadata": {
        "id": "Du3a-VcTeTZ1",
        "colab_type": "code",
        "colab": {
          "base_uri": "https://localhost:8080/",
          "height": 578
        },
        "outputId": "592d1128-5d7a-4d6d-ba50-3069eb3deeda"
      },
      "source": [
        "#r = sfa.ols(\"y ~ d\", data=df).fit(cov_type='HC1')\n",
        "print('Column 3')\n",
        "print(r_col3.summary())"
      ],
      "execution_count": null,
      "outputs": [
        {
          "output_type": "stream",
          "text": [
            "Column 3\n",
            "                            OLS Regression Results                            \n",
            "==============================================================================\n",
            "Dep. Variable:         reached_b4goal   R-squared:                       0.067\n",
            "Model:                            OLS   Adj. R-squared:                  0.067\n",
            "Method:                 Least Squares   F-statistic:                     163.4\n",
            "Date:                Tue, 17 Sep 2019   Prob (F-statistic):          3.20e-264\n",
            "Time:                        00:16:49   Log-Likelihood:                -9293.0\n",
            "No. Observations:               13560   AIC:                         1.860e+04\n",
            "Df Residuals:                   13551   BIC:                         1.867e+04\n",
            "Df Model:                           8                                         \n",
            "Covariance Type:                  HC1                                         \n",
            "===================================================================================\n",
            "                      coef    std err          z      P>|z|      [0.025      0.975]\n",
            "-----------------------------------------------------------------------------------\n",
            "Intercept           0.6628      0.012     55.544      0.000       0.639       0.686\n",
            "C(country)[T.2]    -0.1144      0.011    -10.660      0.000      -0.135      -0.093\n",
            "C(country)[T.3]    -0.4871      0.026    -18.592      0.000      -0.538      -0.436\n",
            "rem_any             0.0319      0.009      3.480      0.001       0.014       0.050\n",
            "highint            -0.0017      0.026     -0.066      0.947      -0.052       0.049\n",
            "rewardint           0.0462      0.027      1.716      0.086      -0.007       0.099\n",
            "joint               0.0036      0.027      0.132      0.895      -0.050       0.057\n",
            "dc                  0.0120      0.025      0.478      0.632      -0.037       0.061\n",
            "joint_single       -0.0354      0.026     -1.387      0.165      -0.086       0.015\n",
            "==============================================================================\n",
            "Omnibus:                    58698.376   Durbin-Watson:                   1.915\n",
            "Prob(Omnibus):                  0.000   Jarque-Bera (JB):             1789.817\n",
            "Skew:                          -0.259   Prob(JB):                         0.00\n",
            "Kurtosis:                       1.297   Cond. No.                         16.1\n",
            "==============================================================================\n",
            "\n",
            "Warnings:\n",
            "[1] Standard Errors are heteroscedasticity robust (HC1)\n"
          ],
          "name": "stdout"
        }
      ]
    },
    {
      "cell_type": "code",
      "metadata": {
        "id": "8gZGd5NkeXVI",
        "colab_type": "code",
        "colab": {
          "base_uri": "https://localhost:8080/",
          "height": 1000
        },
        "outputId": "b936a282-8f2e-4658-830f-25c3611e8793"
      },
      "source": [
        "print('Column 4')\n",
        "print(r_col4.summary())"
      ],
      "execution_count": null,
      "outputs": [
        {
          "output_type": "stream",
          "text": [
            "Column 4\n",
            "                            OLS Regression Results                            \n",
            "==============================================================================\n",
            "Dep. Variable:         reached_b4goal   R-squared:                       0.108\n",
            "Model:                            OLS   Adj. R-squared:                  0.105\n",
            "Method:                 Least Squares   F-statistic:                 2.496e+04\n",
            "Date:                Tue, 17 Sep 2019   Prob (F-statistic):               0.00\n",
            "Time:                        00:16:49   Log-Likelihood:                -8987.8\n",
            "No. Observations:               13560   AIC:                         1.809e+04\n",
            "Df Residuals:                   13504   BIC:                         1.851e+04\n",
            "Df Model:                          55                                         \n",
            "Covariance Type:                  HC1                                         \n",
            "================================================================================================\n",
            "                                   coef    std err          z      P>|z|      [0.025      0.975]\n",
            "------------------------------------------------------------------------------------------------\n",
            "Intercept                        0.5494      0.047     11.768      0.000       0.458       0.641\n",
            "C(depart)[T.1]                  -0.2187      0.092     -2.366      0.018      -0.400      -0.038\n",
            "C(depart)[T.2]                  -0.0346      0.020     -1.719      0.086      -0.074       0.005\n",
            "C(depart)[T.3]                  -0.0459      0.018     -2.619      0.009      -0.080      -0.012\n",
            "C(depart)[T.4]                   0.0373      0.016      2.312      0.021       0.006       0.069\n",
            "C(depart)[T.5]                   0.2436      0.018     13.577      0.000       0.208       0.279\n",
            "C(depart)[T.6]                   0.0188      0.028      0.670      0.503      -0.036       0.074\n",
            "C(depart)[T.7]                  -0.1465      0.016     -8.990      0.000      -0.178      -0.115\n",
            "C(depart)[T.8]                   0.1518      0.023      6.474      0.000       0.106       0.198\n",
            "C(provincia)[T.1]                0.1515      0.045      3.348      0.001       0.063       0.240\n",
            "C(provincia)[T.2]                0.1500      0.254      0.590      0.555      -0.348       0.648\n",
            "C(provincia)[T.3]                0.1086      0.115      0.941      0.347      -0.118       0.335\n",
            "C(provincia)[T.4]               -0.0452      0.318     -0.142      0.887      -0.669       0.578\n",
            "C(provincia)[T.5]                0.4421      0.046      9.651      0.000       0.352       0.532\n",
            "C(provincia)[T.6]                0.4563      0.046     10.023      0.000       0.367       0.546\n",
            "C(provincia)[T.7]                0.4725      0.048      9.925      0.000       0.379       0.566\n",
            "C(provincia)[T.8]               -0.4946      0.045    -10.881      0.000      -0.584      -0.405\n",
            "C(provincia)[T.9]                0.0994      0.163      0.611      0.541      -0.219       0.418\n",
            "C(provincia)[T.10]              -0.0422      0.340     -0.124      0.901      -0.709       0.625\n",
            "C(provincia)[T.11]              -0.5264      0.045    -11.675      0.000      -0.615      -0.438\n",
            "C(marketer)[T.1]                -0.1420      0.049     -2.889      0.004      -0.238      -0.046\n",
            "C(marketer)[T.2]                -0.1099      0.050     -2.209      0.027      -0.207      -0.012\n",
            "C(marketer)[T.3]                -0.1037      0.053     -1.939      0.052      -0.209       0.001\n",
            "C(marketer)[T.4]                 0.0064      0.060      0.106      0.915      -0.112       0.125\n",
            "C(marketer)[T.5]                 0.0025      0.050      0.050      0.960      -0.096       0.101\n",
            "C(marketer)[T.6]                 0.0277      0.049      0.562      0.574      -0.069       0.124\n",
            "C(marketer)[T.7]                -0.0447      0.041     -1.086      0.278      -0.125       0.036\n",
            "C(marketer)[T.8]                 0.0615      0.040      1.552      0.121      -0.016       0.139\n",
            "C(marketer)[T.9]                -0.0258      0.112     -0.229      0.819      -0.246       0.195\n",
            "C(marketer)[T.10]                0.0035      0.049      0.072      0.943      -0.093       0.100\n",
            "C(marketer)[T.11]                0.0247      0.052      0.474      0.636      -0.078       0.127\n",
            "C(marketer)[T.12]               -0.1341      0.050     -2.685      0.007      -0.232      -0.036\n",
            "C(marketer)[T.13]                0.3334      0.184      1.815      0.069      -0.027       0.693\n",
            "C(marketer)[T.14]               -0.0462      0.053     -0.877      0.380      -0.150       0.057\n",
            "C(marketer)[T.15]               -0.0223      0.045     -0.500      0.617      -0.110       0.065\n",
            "C(marketer)[T.16]               -0.0594      0.046     -1.286      0.199      -0.150       0.031\n",
            "C(branch)[T.1]                  -0.1522      0.035     -4.328      0.000      -0.221      -0.083\n",
            "C(branch)[T.2]                  -0.0992      0.027     -3.679      0.000      -0.152      -0.046\n",
            "C(branch)[T.3]                   0.0229      0.032      0.717      0.474      -0.040       0.086\n",
            "C(country)[T.2]                  0.0058      0.042      0.139      0.890      -0.077       0.089\n",
            "C(country)[T.3]                 -0.2285      0.041     -5.629      0.000      -0.308      -0.149\n",
            "rem_any                          0.0319      0.009      3.560      0.000       0.014       0.049\n",
            "highint                         -0.0108      0.026     -0.421      0.674      -0.061       0.039\n",
            "rewardint                        0.0428      0.027      1.596      0.110      -0.010       0.095\n",
            "joint                            0.0008      0.027      0.030      0.976      -0.053       0.054\n",
            "dc                               0.0132      0.025      0.529      0.597      -0.036       0.062\n",
            "joint_single                    -0.0370      0.025     -1.462      0.144      -0.087       0.013\n",
            "female                           0.0147      0.009      1.702      0.089      -0.002       0.032\n",
            "highschool_completed            -0.0380      0.010     -3.925      0.000      -0.057      -0.019\n",
            "married                          0.0411      0.012      3.353      0.001       0.017       0.065\n",
            "inc_7d                        5.671e-05      0.000      0.336      0.737      -0.000       0.000\n",
            "wealthy                         -0.0315      0.016     -1.934      0.053      -0.063       0.000\n",
            "hyperbolic                       0.0230      0.032      0.727      0.467      -0.039       0.085\n",
            "spent_b4isaved                   0.0005      0.029      0.017      0.986      -0.056       0.057\n",
            "saved_asmuch                    -0.0308      0.032     -0.971      0.331      -0.093       0.031\n",
            "missing_female                   0.0086      0.142      0.061      0.951      -0.269       0.286\n",
            "missing_age                      0.0340      0.036      0.952      0.341      -0.036       0.104\n",
            "missing_highschool_completed    -0.1482      0.079     -1.868      0.062      -0.304       0.007\n",
            "missing_married                  0.0377      0.134      0.280      0.779      -0.226       0.301\n",
            "missing_saved_asmuch            -0.0358      0.029     -1.230      0.219      -0.093       0.021\n",
            "missing_spent_b4isaved          -0.0358      0.029     -1.230      0.219      -0.093       0.021\n",
            "==============================================================================\n",
            "Omnibus:                    74504.891   Durbin-Watson:                   1.993\n",
            "Prob(Omnibus):                  0.000   Jarque-Bera (JB):             1469.303\n",
            "Skew:                          -0.234   Prob(JB):                         0.00\n",
            "Kurtosis:                       1.457   Cond. No.                     1.08e+16\n",
            "==============================================================================\n",
            "\n",
            "Warnings:\n",
            "[1] Standard Errors are heteroscedasticity robust (HC1)\n",
            "[2] The smallest eigenvalue is 5.15e-26. This might indicate that there are\n",
            "strong multicollinearity problems or that the design matrix is singular.\n"
          ],
          "name": "stdout"
        },
        {
          "output_type": "stream",
          "text": [
            "/usr/local/lib/python3.6/dist-packages/statsmodels/base/model.py:1752: ValueWarning: covariance of constraints does not have full rank. The number of constraints is 60, but rank is 52\n",
            "  'rank is %d' % (J, J_), ValueWarning)\n"
          ],
          "name": "stderr"
        }
      ]
    },
    {
      "cell_type": "markdown",
      "metadata": {
        "id": "5l3-oGAxea7C",
        "colab_type": "text"
      },
      "source": [
        "###2"
      ]
    },
    {
      "cell_type": "code",
      "metadata": {
        "id": "6HZq0-JweZ-8",
        "colab_type": "code",
        "colab": {
          "base_uri": "https://localhost:8080/",
          "height": 51
        },
        "outputId": "55076176-ceca-4daa-b05d-388af06372fc"
      },
      "source": [
        "ctrl_var = r_col3.params.count()-r_col4.params.count()\n",
        "print('The difference in control variables =' , ctrl_var)\n",
        "if ctrl_var > 0:\n",
        "  print('Column 3 has more control variables')\n",
        "elif ctrl_var == 0:\n",
        "  print('Columns 3 and 4 have the same number of control variables')\n",
        "else:\n",
        "  print('Column 4 has more control variables')"
      ],
      "execution_count": null,
      "outputs": [
        {
          "output_type": "stream",
          "text": [
            "The difference in control variables = -52\n",
            "Column 4 has more control variables\n"
          ],
          "name": "stdout"
        }
      ]
    },
    {
      "cell_type": "code",
      "metadata": {
        "id": "Jkou3yIshmbe",
        "colab_type": "code",
        "colab": {
          "base_uri": "https://localhost:8080/",
          "height": 34
        },
        "outputId": "d8d41c99-0c83-42ad-e953-a31827807550"
      },
      "source": [
        "rsq = r_col3.rsquared - r_col4.rsquared\n",
        "#print(rsq)\n",
        "if rsq > 0:\n",
        "  print('Column 3 has a higher R-squared: ', r_col3.rsquared)\n",
        "elif rsq == 0:\n",
        "  print('Column 3 and 4 have the same R-squared', r_col3.rsquared)\n",
        "else:\n",
        "  print('Column 4 has a higher R-squared: ', r_col4.rsquared)"
      ],
      "execution_count": null,
      "outputs": [
        {
          "output_type": "stream",
          "text": [
            "Column 4 has a higher R-squared:  0.10819457890249662\n"
          ],
          "name": "stdout"
        }
      ]
    },
    {
      "cell_type": "code",
      "metadata": {
        "id": "1QkAjXuqj20f",
        "colab_type": "code",
        "colab": {
          "base_uri": "https://localhost:8080/",
          "height": 34
        },
        "outputId": "3d401ee4-a6ae-4e87-904a-5357fb57317c"
      },
      "source": [
        "sterror = r_col3.bse.rem_any - r_col4.bse.rem_any\n",
        "#print(sterror)\n",
        "if sterror > 0:\n",
        "  print('Column 4 has a smaller standard error on the estimated ATE: ', r_col4.bse.rem_any)\n",
        "elif sterror == 0:\n",
        "  print('Column 3 and 4 have the same standart error on the estimated ATE: ', r_col3.bse.rem_any)\n",
        "else:\n",
        "  print('Column 3 has a smaller standard error on the estimated ATE: ', r_col3.bse.rem_any)"
      ],
      "execution_count": null,
      "outputs": [
        {
          "output_type": "stream",
          "text": [
            "Column 4 has a smaller standard error on the estimated ATE:  0.008949743622819572\n"
          ],
          "name": "stdout"
        }
      ]
    },
    {
      "cell_type": "markdown",
      "metadata": {
        "id": "FPe8xQijmI5l",
        "colab_type": "text"
      },
      "source": [
        "###3"
      ]
    },
    {
      "cell_type": "code",
      "metadata": {
        "id": "M4v_DaRhlt3m",
        "colab_type": "code",
        "colab": {
          "base_uri": "https://localhost:8080/",
          "height": 119
        },
        "outputId": "5847ce2e-b8a3-43e0-8f88-a3e20ec8cec9"
      },
      "source": [
        "# This cell contains the \"data-generating process.\"\n",
        "# We will make it up, but try to create something close to\n",
        "# what we saw in the Karlan experiment above.\n",
        "# That will help us get a better sense of how the regression is behaving.\n",
        "\n",
        "# Set the same size like the real data.\n",
        "N = 13560\n",
        "\n",
        "# Our \"control variable\" will be an indicator for graduating from high-school.\n",
        "grad_high_school = np.random.binomial(n=1, p=0.5, size=N)\n",
        "beta_hs = 0.1\n",
        "\n",
        "\n",
        "# Set the data-generating process to have on average\n",
        "# 61% of people in the treatment group, like in the paper.\n",
        "# Set the ATE to be 0.032, similar to what we see in the real data.\n",
        "D = np.random.binomial(n=1, p=0.61, size=N)\n",
        "ATE = 0.032\n",
        "\n",
        "# Generate the potential outcomes.\n",
        "# We have to be careful tha the probabilities remain in the valid\n",
        "# range [0, 1] or else we will get an error.\n",
        "baseline_probability = 0.25 + beta_hs * grad_high_school\n",
        "Y0 = np.random.binomial(n=1, p=baseline_probability)\n",
        "Y1 = np.random.binomial(n=1, p=baseline_probability + ATE * D)\n",
        "\n",
        "df = pd.DataFrame({\n",
        "    'grad_high_school': grad_high_school,\n",
        "    'd': D,\n",
        "    'y0': Y0,\n",
        "    'y1': Y1\n",
        "})\n",
        "df['y'] = df.eval(\"y1 * d + y0 * (1 - d)\")\n",
        "print(df.mean())"
      ],
      "execution_count": null,
      "outputs": [
        {
          "output_type": "stream",
          "text": [
            "grad_high_school    0.508038\n",
            "d                   0.606858\n",
            "y0                  0.306490\n",
            "y1                  0.313348\n",
            "y                   0.320870\n",
            "dtype: float64\n"
          ],
          "name": "stdout"
        }
      ]
    },
    {
      "cell_type": "code",
      "metadata": {
        "id": "LNKZURSfmKvH",
        "colab_type": "code",
        "colab": {
          "base_uri": "https://localhost:8080/",
          "height": 238
        },
        "outputId": "712dddf9-b536-46a3-e758-73cebfa3ee71"
      },
      "source": [
        "# This cells fits two different models. \n",
        "# One model has the control variable and the other doesn't.\n",
        "\n",
        "# We call this model a bivariate one\n",
        "# because it is just a relationship between two variables.\n",
        "r_sim_biv = sfa.ols(\"y ~ d\", df).fit()\n",
        "\n",
        "# This model is more complex because it has an additional covariate\n",
        "# (aka control variable).\n",
        "r_sim_control = sfa.ols(\"y ~ d + grad_high_school\", df).fit()\n",
        "\n",
        "\n",
        "info_dict={'R-squared' : lambda x: f\"{x.rsquared:0.4f}\",\n",
        "           'No. coefficients': lambda x: f\"{x.params.shape[0]}\"}\n",
        "\n",
        "results_table = summary_col(results=[r_sim_biv, r_sim_control],\n",
        "                            float_format='%0.4f',\n",
        "                            stars = True,\n",
        "                            model_names=[\n",
        "                                'Model 1',\n",
        "                                'Model 2',\n",
        "                            ],\n",
        "                            info_dict=info_dict,\n",
        "                            regressor_order=['d', 'grad_high_school'],\n",
        "                            drop_omitted=True)\n",
        "\n",
        "print(results_table)"
      ],
      "execution_count": null,
      "outputs": [
        {
          "output_type": "stream",
          "text": [
            "\n",
            "====================================\n",
            "                  Model 1   Model 2 \n",
            "------------------------------------\n",
            "d                0.0212*** 0.0211***\n",
            "                 (0.0082)  (0.0082) \n",
            "grad_high_school           0.1055***\n",
            "                           (0.0080) \n",
            "R-squared        0.0005    0.0133   \n",
            "No. coefficients 2         3        \n",
            "====================================\n",
            "Standard errors in parentheses.\n",
            "* p<.1, ** p<.05, ***p<.01\n"
          ],
          "name": "stdout"
        }
      ]
    },
    {
      "cell_type": "code",
      "metadata": {
        "id": "a980bCQamUke",
        "colab_type": "code",
        "colab": {
          "base_uri": "https://localhost:8080/",
          "height": 119
        },
        "outputId": "b0434583-549a-40ab-a6f5-5d71e9afe3ae"
      },
      "source": [
        "print(r_col3.params.rem_any)\n",
        "print(r_col4.params.rem_any)\n",
        "print(r_sim_biv.params.d)\n",
        "print(r_sim_control.params.d)\n",
        "print('The difference is in the thousandths of estimates, what means that our estimate is quite accurate') \n",
        "print('I suppose we did good job as it was the small difference in standart errors, which starts in the thousandths, so it means that our resembling is precise')"
      ],
      "execution_count": null,
      "outputs": [
        {
          "output_type": "stream",
          "text": [
            "0.03185505049068642\n",
            "0.03186131518614749\n",
            "0.021191849815628407\n",
            "0.021147753295286287\n",
            "The difference is in the thousandths of estimates, what means that our estimate is quite accurate\n",
            "I suppose we did good job as it was the small difference in standart errors, which starts in the thousandths, so it means that our resembling is precise\n"
          ],
          "name": "stdout"
        }
      ]
    },
    {
      "cell_type": "markdown",
      "metadata": {
        "id": "AOjyVWQCuTB1",
        "colab_type": "text"
      },
      "source": [
        "###4"
      ]
    },
    {
      "cell_type": "code",
      "metadata": {
        "id": "SEUbjl343SfJ",
        "colab_type": "code",
        "colab": {}
      },
      "source": [
        "# Import rpy2 which lets us use R functions in Python.\n",
        "# This is useful because R has many statistical functions\n",
        "# that we don't have in Python and these are more likely to\n",
        "# be written by professional statisticians and be battle-proven.\n",
        "from rpy2.robjects import IntVector, default_converter\n",
        "from rpy2.robjects.packages import importr\n",
        "\n",
        "stats = importr('stats')\n",
        "\n",
        "def stats_prop_test(e1, e2, n1, n2):\n",
        "  x = IntVector([e1, e2])\n",
        "  ns = [n1, n2]\n",
        "  n = IntVector(ns)\n",
        "  n_array = np.array([n1, n2])\n",
        "  \n",
        "  # Recommended to not use continuity correction for large sample sizes:\n",
        "  # https://en.wikipedia.org/wiki/Yates%27s_correction_for_continuity\n",
        "  result = stats.prop_test(x=x, n=n, correct=False)\n",
        "  z = result.rx('statistic')[0][0] ** 0.5\n",
        "  r_estimate = result.rx('estimate')[0]\n",
        "  estimates = np.array([r_estimate[0], r_estimate[1]])\n",
        "  var = np.array(list(map(lambda p: p * (1 - p), estimates)))\n",
        "  \n",
        "  se = np.sqrt(np.divide(var, n_array))\n",
        "  difference = estimates[1] - estimates[0]\n",
        "  p_value = result.rx('p.value')[0][0]\n",
        "  return {\n",
        "      'estimates': estimates,\n",
        "      'difference': difference,\n",
        "      'se': se,\n",
        "      'difference_se': np.sqrt((se ** 2).sum()),\n",
        "      'z': z, \n",
        "      'p_value': p_value\n",
        "  }"
      ],
      "execution_count": null,
      "outputs": []
    },
    {
      "cell_type": "code",
      "metadata": {
        "id": "f9Z_fPKZqxk5",
        "colab_type": "code",
        "colab": {
          "base_uri": "https://localhost:8080/",
          "height": 119
        },
        "outputId": "ed066533-45bd-4df8-e69a-f7ef4215a7bd"
      },
      "source": [
        "# This cell contains the \"data-generating process.\"\n",
        "# We will make it up, but try to create something close to\n",
        "# what we saw in the Karlan experiment above.\n",
        "# That will help us get a better sense of how the regression is behaving.\n",
        "\n",
        "# Set the same size like the real data.\n",
        "N = 13560\n",
        "B = 1000\n",
        "# Our \"control variable\" will be an indicator for graduating from high-school.\n",
        "grad_high_school = np.random.binomial(n=1, p=0.5, size=N)\n",
        "beta_hs = 0.35\n",
        "\n",
        "\n",
        "# Set the data-generating process to have on average\n",
        "# 61% of people in the treatment group, like in the paper.\n",
        "# Set the ATE to be 0.032, similar to what we see in the real data.\n",
        "D = np.random.binomial(n=1, p=0.61, size=N)\n",
        "ATE = 0.032\n",
        "\n",
        "# Generate the potential outcomes.\n",
        "# We have to be careful tha the probabilities remain in the valid\n",
        "# range [0, 1] or else we will get an error.\n",
        "baseline_probability = 0.25 + beta_hs * grad_high_school\n",
        "Y0 = np.random.binomial(n=1, p=baseline_probability)\n",
        "Y1 = np.random.binomial(n=1, p=baseline_probability + ATE * D)\n",
        "\n",
        "df = pd.DataFrame({\n",
        "    'grad_high_school': grad_high_school,\n",
        "    'd': D,\n",
        "    'y0': Y0,\n",
        "    'y1': Y1\n",
        "})\n",
        "df['y'] = df.eval(\"y1 * d + y0 * (1 - d)\")\n",
        "print(df.mean())\n",
        "#print(df['y0'].count())\n",
        "#df"
      ],
      "execution_count": null,
      "outputs": [
        {
          "output_type": "stream",
          "text": [
            "grad_high_school    0.497935\n",
            "d                   0.610472\n",
            "y0                  0.413938\n",
            "y1                  0.445723\n",
            "y                   0.441814\n",
            "dtype: float64\n"
          ],
          "name": "stdout"
        }
      ]
    },
    {
      "cell_type": "code",
      "metadata": {
        "id": "5RMv9GmwrmjC",
        "colab_type": "code",
        "colab": {}
      },
      "source": [
        "\n",
        "def compare_lpm_prop_test(\n",
        "  N = 10000,\n",
        "  P_Y0 = 0.35,\n",
        "  ATE = 0.02,\n",
        "  P_treatment = 0.5\n",
        "):\n",
        "  params = locals().copy()\n",
        "  \n",
        "  #treatment_units = np.random.choice(units, int(len(units) * share_treatment), replace=False)\n",
        "  #df = pd.DataFrame({'i': units})\n",
        "  ## Set the treatment units to have d_i = 1\n",
        "  #df['d'] = df['i'].isin(treatment_units).astype('float')\n",
        "  Y0 = np.random.binomial(n=1, p=P_Y0, size=N)\n",
        "  Y1 = np.random.binomial(n=1, p=P_Y0 + ATE, size=N)\n",
        "  D = np.random.binomial(n=1, p=P_treatment, size=N)\n",
        "\n",
        "  units = np.arange(0, N)\n",
        "  df = pd.DataFrame({\n",
        "      'i': units,\n",
        "      'y0': Y0,\n",
        "      'y1': Y1,\n",
        "  })\n",
        "  treatment_units = np.random.choice(units, int(len(units) * P_treatment), replace=False)\n",
        "  df['d'] = df['i'].isin(treatment_units).astype('float')\n",
        "  df['y'] = df.eval(\"y1 * d + y0 * (1 - d)\")\n",
        "\n",
        "  # Get regression results\n",
        "  result_reg = sfa.ols(\"y ~ d\", data=df).fit(cov_type='HC1')\n",
        "  #result_reg = sfa.ols(\"y ~ d\", data=df).fit()\n",
        "\n",
        "  # Get prop_test results\n",
        "  result_prop_test = stats_prop_test(\n",
        "      df.query(\"d==0\")['y'].sum(),\n",
        "      df.query(\"d==1\")['y'].sum(),\n",
        "      df.query(\"d==0\")['y'].count(),\n",
        "      df.query(\"d==1\")['y'].count(),\n",
        "  )\n",
        "  diffs = {\n",
        "      'difference': (result_reg.params['d'] - result_prop_test['difference']),\n",
        "      'se': (result_reg.bse['d'] - result_prop_test['difference_se']),\n",
        "      'p': (result_reg.pvalues['d'] - result_prop_test['p_value'])\n",
        "  }\n",
        "  diffs.update(params)\n",
        "  return diffs\n",
        "\n"
      ],
      "execution_count": null,
      "outputs": []
    },
    {
      "cell_type": "code",
      "metadata": {
        "id": "lHR_We9PYAig",
        "colab_type": "code",
        "colab": {
          "base_uri": "https://localhost:8080/",
          "height": 119
        },
        "outputId": "50d31cc7-7b6c-47ab-8509-58af64e43563"
      },
      "source": [
        "# This cell contains the \"data-generating process.\"\n",
        "# We will make it up, but try to create something close to\n",
        "# what we saw in the Karlan experiment above.\n",
        "# That will help us get a better sense of how the regression is behaving.\n",
        "\n",
        "# Set the same size like the real data.\n",
        "N = 13560\n",
        "B = 1000\n",
        "# Our \"control variable\" will be an indicator for graduating from high-school.\n",
        "grad_high_school = np.random.binomial(n=1, p=0.5, size=N)\n",
        "beta_hs = 0.35\n",
        "\n",
        "\n",
        "# Set the data-generating process to have on average\n",
        "# 61% of people in the treatment group, like in the paper.\n",
        "# Set the ATE to be 0.032, similar to what we see in the real data.\n",
        "D = np.random.binomial(n=1, p=0.61, size=N)\n",
        "ATE = 0.032\n",
        "\n",
        "# Generate the potential outcomes.\n",
        "# We have to be careful tha the probabilities remain in the valid\n",
        "# range [0, 1] or else we will get an error.\n",
        "baseline_probability = 0.25 + beta_hs * grad_high_school\n",
        "Y0 = np.random.binomial(n=1, p=baseline_probability)\n",
        "Y1 = np.random.binomial(n=1, p=baseline_probability + ATE * D)\n",
        "\n",
        "df = pd.DataFrame({\n",
        "    'grad_high_school': grad_high_school,\n",
        "    'd': D,\n",
        "    'y0': Y0,\n",
        "    'y1': Y1\n",
        "})\n",
        "df['y'] = df.eval(\"y1 * d + y0 * (1 - d)\")\n",
        "print(df.mean())"
      ],
      "execution_count": null,
      "outputs": [
        {
          "output_type": "stream",
          "text": [
            "grad_high_school    0.495944\n",
            "d                   0.607965\n",
            "y0                  0.425074\n",
            "y1                  0.441962\n",
            "y                   0.439897\n",
            "dtype: float64\n"
          ],
          "name": "stdout"
        }
      ]
    },
    {
      "cell_type": "code",
      "metadata": {
        "id": "qlvXsuILYjMW",
        "colab_type": "code",
        "colab": {}
      },
      "source": [
        "def newfunction(\n",
        "  N = 10000,\n",
        "  beta_hs = 0.35,\n",
        "  ATE = 0.032\n",
        "):\n",
        "  grad_high_school = np.random.binomial(n=1, p=0.5, size=N)\n",
        "  D = np.random.binomial(n=1, p=0.61, size=N)\n",
        "  baseline_probability = 0.25 + beta_hs * grad_high_school\n",
        "  Y0 = np.random.binomial(n=1, p=baseline_probability)\n",
        "  Y1 = np.random.binomial(n=1, p=baseline_probability + ATE * D)\n",
        "  dff = pd.DataFrame({\n",
        "    'grad_high_school': grad_high_school,\n",
        "    'd': D,\n",
        "    'y0': Y0,\n",
        "    'y1': Y1\n",
        "  })\n",
        "  dff['y'] = dff.eval(\"y1 * d + y0 * (1 - d)\")\n",
        "  regr = sfa.ols(\"y ~ d\", dff).fit()\n",
        "  a = regr.params['d']\n",
        "  return a"
      ],
      "execution_count": null,
      "outputs": []
    },
    {
      "cell_type": "code",
      "metadata": {
        "id": "M7vqNkCQdZlQ",
        "colab_type": "code",
        "colab": {}
      },
      "source": [
        "B = 1000\n",
        "ch = pd.DataFrame([newfunction() for i in np.arange(0, B)])"
      ],
      "execution_count": null,
      "outputs": []
    },
    {
      "cell_type": "markdown",
      "metadata": {
        "id": "FtQgYsqk_vnb",
        "colab_type": "text"
      },
      "source": [
        "###5"
      ]
    },
    {
      "cell_type": "code",
      "metadata": {
        "id": "7vzJVvLXe-Lb",
        "colab_type": "code",
        "colab": {
          "base_uri": "https://localhost:8080/",
          "height": 324
        },
        "outputId": "8777b7ea-4076-4e25-dae6-9cca3a0e7a27"
      },
      "source": [
        "ch.hist(bins = 100, density = True, color = 'green')\n",
        "plt.xlabel(\"Estimations\", fontsize=18, color = 'white')\n",
        "plt.ylabel(\"Density\", fontsize = 18, color = 'white')\n",
        "plt.title(\"Model 1\", color='white', fontsize = 18)"
      ],
      "execution_count": null,
      "outputs": [
        {
          "output_type": "execute_result",
          "data": {
            "text/plain": [
              "Text(0.5, 1.0, 'Model 1')"
            ]
          },
          "metadata": {
            "tags": []
          },
          "execution_count": 18
        },
        {
          "output_type": "display_data",
          "data": {
            "image/png": "[encoded data removed]",
            "text/plain": [
              "<Figure size 432x288 with 1 Axes>"
            ]
          },
          "metadata": {
            "tags": []
          }
        }
      ]
    },
    {
      "cell_type": "code",
      "metadata": {
        "id": "1cD7rZZ1-RIS",
        "colab_type": "code",
        "colab": {}
      },
      "source": [
        "def newfunction1(\n",
        "  N = 10000,\n",
        "  beta_hs = 0.35,\n",
        "  ATE = 0.032\n",
        "):\n",
        "  grad_high_school = np.random.binomial(n=1, p=0.5, size=N)\n",
        "  D = np.random.binomial(n=1, p=0.61, size=N)\n",
        "  baseline_probability = 0.25 + beta_hs * grad_high_school\n",
        "  Y0 = np.random.binomial(n=1, p=baseline_probability)\n",
        "  Y1 = np.random.binomial(n=1, p=baseline_probability + ATE * D)\n",
        "  dfff = pd.DataFrame({\n",
        "    'grad_high_school': grad_high_school,\n",
        "    'd': D,\n",
        "    'y0': Y0,\n",
        "    'y1': Y1\n",
        "  })\n",
        "  dfff['y'] = dfff.eval(\"y1 * d + y0 * (1 - d)\")\n",
        "  regr1 = sfa.ols(\"y ~ d + grad_high_school\", dfff).fit()\n",
        "  a1 = regr1.params['d']\n",
        "  return a1"
      ],
      "execution_count": null,
      "outputs": []
    },
    {
      "cell_type": "code",
      "metadata": {
        "id": "5H94PL6Z_4oa",
        "colab_type": "code",
        "colab": {}
      },
      "source": [
        "B = 1000\n",
        "ch1 = pd.DataFrame([newfunction1() for i in np.arange(0, B)])"
      ],
      "execution_count": null,
      "outputs": []
    },
    {
      "cell_type": "code",
      "metadata": {
        "id": "iVu6IYQEADHh",
        "colab_type": "code",
        "colab": {
          "base_uri": "https://localhost:8080/",
          "height": 324
        },
        "outputId": "c115ab19-29bd-4edf-c554-e7375fc2e880"
      },
      "source": [
        "ch1.hist(bins = 100, density = True, color = 'red')\n",
        "plt.xlabel(\"Estimations\", fontsize=18, color = 'white')\n",
        "plt.ylabel(\"Density\", fontsize = 18, color = 'white')\n",
        "plt.title(\"Model 2\", color='white', fontsize = 18)"
      ],
      "execution_count": null,
      "outputs": [
        {
          "output_type": "execute_result",
          "data": {
            "text/plain": [
              "Text(0.5, 1.0, 'Model 2')"
            ]
          },
          "metadata": {
            "tags": []
          },
          "execution_count": 21
        },
        {
          "output_type": "display_data",
          "data": {
            "image/png": "[encoded data removed]",
            "text/plain": [
              "<Figure size 432x288 with 1 Axes>"
            ]
          },
          "metadata": {
            "tags": []
          }
        }
      ]
    },
    {
      "cell_type": "code",
      "metadata": {
        "id": "8lPc0pWcAF_5",
        "colab_type": "code",
        "colab": {
          "base_uri": "https://localhost:8080/",
          "height": 85
        },
        "outputId": "1604cb58-70ff-46d3-97d3-390fbf0262f1"
      },
      "source": [
        "print(ch.std())\n",
        "print(ch1.std())"
      ],
      "execution_count": null,
      "outputs": [
        {
          "output_type": "stream",
          "text": [
            "0    0.010281\n",
            "dtype: float64\n",
            "0    0.009372\n",
            "dtype: float64\n"
          ],
          "name": "stdout"
        }
      ]
    },
    {
      "cell_type": "markdown",
      "metadata": {
        "id": "DZ5zUlxmpUYX",
        "colab_type": "text"
      },
      "source": [
        "##7"
      ]
    },
    {
      "cell_type": "code",
      "metadata": {
        "id": "mf17iTzzqhrm",
        "colab_type": "code",
        "colab": {
          "base_uri": "https://localhost:8080/",
          "height": 85
        },
        "outputId": "f7e37c94-71e6-4201-9b0e-0533b863f0b6"
      },
      "source": [
        "print(ch.mean())\n",
        "print(ch1.mean())"
      ],
      "execution_count": null,
      "outputs": [
        {
          "output_type": "stream",
          "text": [
            "0    0.032243\n",
            "dtype: float64\n",
            "0    0.031589\n",
            "dtype: float64\n"
          ],
          "name": "stdout"
        }
      ]
    },
    {
      "cell_type": "code",
      "metadata": {
        "id": "m8OiDMjYlWke",
        "colab_type": "code",
        "colab": {
          "base_uri": "https://localhost:8080/",
          "height": 85
        },
        "outputId": "c972f187-07d2-465f-b313-496601055372"
      },
      "source": [
        "# t = 1.962 for 0.025 and sample = 1000\n",
        "#Xmean +- t*std/sqrt(B)\n",
        "t = 1.962\n",
        "lboard1 = 0.032221 - t*(0.01011/B ** (1/2))\n",
        "rboard1 = 0.032221 + t*(0.01011/B ** (1/2))\n",
        "lboard2 = 0.031716 - t *(0.009199/B **(1/2))\n",
        "rboard2 = 0.031716 + t *(0.009199/B **(1/2))\n",
        "print('Left board of confidence lever for model 1 = ', lboard1)\n",
        "print('Right board of confidence lever for model 1 = ', rboard1)\n",
        "print('Left board of confidence lever for model 2 = ', lboard2)\n",
        "print('Right board of confidence lever for model 2 = ', rboard2)"
      ],
      "execution_count": null,
      "outputs": [
        {
          "output_type": "stream",
          "text": [
            "Left board of confidence lever for model 1 =  0.03159373629542879\n",
            "Right board of confidence lever for model 1 =  0.03284826370457121\n",
            "Left board of confidence lever for model 2 =  0.03114525827711666\n",
            "Right board of confidence lever for model 2 =  0.032286741722883344\n"
          ],
          "name": "stdout"
        }
      ]
    },
    {
      "cell_type": "code",
      "metadata": {
        "id": "WtdQf0xLs8x8",
        "colab_type": "code",
        "colab": {}
      },
      "source": [
        "k = 0\n",
        "for i in np.arange(0, B):\n",
        "  if ch[0][i] >= lboard1 and ch[0][i] <= rboard1:\n",
        "    k = k+1\n",
        "  else:\n",
        "    k = k + 0"
      ],
      "execution_count": null,
      "outputs": []
    },
    {
      "cell_type": "code",
      "metadata": {
        "id": "M1sXMaYVv_Pe",
        "colab_type": "code",
        "colab": {
          "base_uri": "https://localhost:8080/",
          "height": 34
        },
        "outputId": "90fcb301-1ed9-4696-fa17-d917a90a8f86"
      },
      "source": [
        "k"
      ],
      "execution_count": null,
      "outputs": [
        {
          "output_type": "execute_result",
          "data": {
            "text/plain": [
              "53"
            ]
          },
          "metadata": {
            "tags": []
          },
          "execution_count": 27
        }
      ]
    },
    {
      "cell_type": "code",
      "metadata": {
        "id": "yWMLD3xDwVVZ",
        "colab_type": "code",
        "colab": {
          "base_uri": "https://localhost:8080/",
          "height": 1000
        },
        "outputId": "b69454b4-f448-4139-8f17-b6caf8a79da3"
      },
      "source": [
        "ch[0]"
      ],
      "execution_count": null,
      "outputs": [
        {
          "output_type": "execute_result",
          "data": {
            "text/plain": [
              "0      0.040130\n",
              "1      0.020608\n",
              "2      0.019745\n",
              "3      0.051375\n",
              "4      0.031495\n",
              "5      0.022215\n",
              "6      0.026746\n",
              "7      0.046226\n",
              "8      0.021234\n",
              "9      0.025387\n",
              "10     0.029256\n",
              "11     0.018614\n",
              "12     0.036813\n",
              "13     0.045206\n",
              "14     0.038201\n",
              "15     0.032804\n",
              "16     0.025176\n",
              "17     0.042958\n",
              "18     0.046865\n",
              "19     0.036923\n",
              "20     0.040824\n",
              "21     0.027418\n",
              "22     0.022904\n",
              "23     0.038060\n",
              "24     0.036434\n",
              "25     0.029474\n",
              "26     0.045262\n",
              "27     0.023938\n",
              "28     0.029140\n",
              "29     0.040884\n",
              "         ...   \n",
              "970    0.056639\n",
              "971    0.030024\n",
              "972    0.030305\n",
              "973    0.030478\n",
              "974    0.047668\n",
              "975    0.034680\n",
              "976    0.047340\n",
              "977    0.045719\n",
              "978    0.030737\n",
              "979    0.022694\n",
              "980    0.029091\n",
              "981    0.042681\n",
              "982    0.034201\n",
              "983    0.047140\n",
              "984    0.023857\n",
              "985    0.020348\n",
              "986    0.011023\n",
              "987    0.028536\n",
              "988    0.042532\n",
              "989    0.036781\n",
              "990    0.027116\n",
              "991    0.032984\n",
              "992    0.023351\n",
              "993    0.033162\n",
              "994    0.039878\n",
              "995    0.025482\n",
              "996    0.029432\n",
              "997    0.044094\n",
              "998    0.034535\n",
              "999    0.027392\n",
              "Name: 0, Length: 1000, dtype: float64"
            ]
          },
          "metadata": {
            "tags": []
          },
          "execution_count": 28
        }
      ]
    },
    {
      "cell_type": "markdown",
      "metadata": {
        "id": "TUXJOTODBDGo",
        "colab_type": "text"
      },
      "source": [
        "#Part 2\n",
        "##1"
      ]
    },
    {
      "cell_type": "code",
      "metadata": {
        "id": "w3nmsxhUBCpa",
        "colab_type": "code",
        "colab": {}
      },
      "source": [
        "#PART2\n",
        "def gen_shoe_data(N, block=False, person_variability=5):\n",
        "\n",
        "  # Make N people each with their own randomly wear rate in [0, person_variability].\n",
        "  people = np.arange(0, N)\n",
        "  r_person = np.random.uniform(0, person_variability, size=N)\n",
        "  \n",
        "  # Make left and right feet\n",
        "  df_left = pd.DataFrame({'i': people})\n",
        "  df_left['left_foot'] = 1\n",
        "  df_right = pd.DataFrame({'i': people})\n",
        "  df_right['left_foot'] = 0 \n",
        "  df = pd.concat([df_left, df_right], axis=0)\n",
        "  df['shoe'] = np.arange(0, df.shape[0])\n",
        "  \n",
        "  # Each of the person's feet will have the same Y0 (success probability)\n",
        "  df['r_y0'] = r_person[df['i']]\n",
        "  \n",
        "  # Treatment reduces wear rate by 0.20\n",
        "  ATE = -0.20\n",
        "  # Y outcomes are measures of shoe wear\n",
        "  Y0 = np.random.normal(loc=df['r_y0'])\n",
        "  Y1 = np.random.normal(loc=df['r_y0'] + ATE)\n",
        "  df['y0'] = Y0\n",
        "  df['y1'] = Y1\n",
        "  \n",
        "  P_treatment = 0.5\n",
        "  if block == False:\n",
        "    treatment_shoes = np.random.choice(df['shoe'], int(len(df['shoe']) * P_treatment), replace=False)\n",
        "    df['d'] = df['shoe'].isin(treatment_shoes).astype('float')\n",
        "  else:\n",
        "    # Treat left foot only\n",
        "    # In real life we would treat a random foot.\n",
        "    # Wouldn't do this in real life but it doesn't matter for the simulation.\n",
        "    df['d'] = df['left_foot']\n",
        "         \n",
        "  df['y'] = df.eval(\"y1 * d + y0 * (1 - d)\")\n",
        "  del df['y0']\n",
        "  del df['y1']\n",
        "  return df\n",
        "\n",
        "def estimate_ate(df):\n",
        "  means = df.groupby('d')['y'].mean()\n",
        "  return {'estimated_ate': means[1] - means[0]}\n",
        "\n",
        "\n",
        "def regression_ate(df, formula=\"y ~ d + r_y0\"):\n",
        "  r = sfa.ols(formula, df).fit()\n",
        "  return {\n",
        "      'estimated_ate': r.params['d'],\n",
        "      'estimated_ate_se': r.bse['d']\n",
        "  }"
      ],
      "execution_count": null,
      "outputs": []
    },
    {
      "cell_type": "code",
      "metadata": {
        "id": "DfKO8S-2BCn9",
        "colab_type": "code",
        "colab": {
          "base_uri": "https://localhost:8080/",
          "height": 365
        },
        "outputId": "6cc053b9-d59a-4e40-984d-bff6b410f59f"
      },
      "source": [
        "# Generate simulated data sets without blocking and with blocking\n",
        "B = 500\n",
        "inter_person_variability = 5\n",
        "# Generate simulated data sets without blocking and with blocking\n",
        "noblock = [gen_shoe_data(100, False, inter_person_variability) for _ in progressbar(np.arange(0, B))]\n",
        "block = [gen_shoe_data(100, True, inter_person_variability) for _ in progressbar(np.arange(0, B))]\n",
        "# Estimate the ATE of each data set\n",
        "m_noblock = pd.DataFrame([estimate_ate(d) for d in progressbar(noblock)])\n",
        "m_block = pd.DataFrame([estimate_ate(d) for d in progressbar(block)])\n",
        "# Show results\n",
        "results = pd.concat([\n",
        "    m_noblock['estimated_ate'].describe(),\n",
        "    m_block['estimated_ate'].describe()\n",
        "], axis=1)\n",
        "results.columns = ['noblock', 'block']\n",
        "results"
      ],
      "execution_count": null,
      "outputs": [
        {
          "output_type": "stream",
          "text": [
            "100% (500 of 500) |######################| Elapsed Time: 0:00:06 Time:  0:00:06\n",
            "100% (500 of 500) |######################| Elapsed Time: 0:00:06 Time:  0:00:06\n",
            "100% (500 of 500) |######################| Elapsed Time: 0:00:00 Time:  0:00:00\n",
            "100% (500 of 500) |######################| Elapsed Time: 0:00:00 Time:  0:00:00\n"
          ],
          "name": "stderr"
        },
        {
          "output_type": "execute_result",
          "data": {
            "text/html": [
              "<div>\n",
              "<style scoped>\n",
              "    .dataframe tbody tr th:only-of-type {\n",
              "        vertical-align: middle;\n",
              "    }\n",
              "\n",
              "    .dataframe tbody tr th {\n",
              "        vertical-align: top;\n",
              "    }\n",
              "\n",
              "    .dataframe thead th {\n",
              "        text-align: right;\n",
              "    }\n",
              "</style>\n",
              "<table border=\"1\" class=\"dataframe\">\n",
              "  <thead>\n",
              "    <tr style=\"text-align: right;\">\n",
              "      <th></th>\n",
              "      <th>noblock</th>\n",
              "      <th>block</th>\n",
              "    </tr>\n",
              "  </thead>\n",
              "  <tbody>\n",
              "    <tr>\n",
              "      <th>count</th>\n",
              "      <td>500.000000</td>\n",
              "      <td>500.000000</td>\n",
              "    </tr>\n",
              "    <tr>\n",
              "      <th>mean</th>\n",
              "      <td>-0.183512</td>\n",
              "      <td>-0.194685</td>\n",
              "    </tr>\n",
              "    <tr>\n",
              "      <th>std</th>\n",
              "      <td>0.237137</td>\n",
              "      <td>0.138139</td>\n",
              "    </tr>\n",
              "    <tr>\n",
              "      <th>min</th>\n",
              "      <td>-0.946871</td>\n",
              "      <td>-0.672352</td>\n",
              "    </tr>\n",
              "    <tr>\n",
              "      <th>25%</th>\n",
              "      <td>-0.346674</td>\n",
              "      <td>-0.286918</td>\n",
              "    </tr>\n",
              "    <tr>\n",
              "      <th>50%</th>\n",
              "      <td>-0.188150</td>\n",
              "      <td>-0.195359</td>\n",
              "    </tr>\n",
              "    <tr>\n",
              "      <th>75%</th>\n",
              "      <td>-0.028566</td>\n",
              "      <td>-0.110695</td>\n",
              "    </tr>\n",
              "    <tr>\n",
              "      <th>max</th>\n",
              "      <td>0.615650</td>\n",
              "      <td>0.183850</td>\n",
              "    </tr>\n",
              "  </tbody>\n",
              "</table>\n",
              "</div>"
            ],
            "text/plain": [
              "          noblock       block\n",
              "count  500.000000  500.000000\n",
              "mean    -0.183512   -0.194685\n",
              "std      0.237137    0.138139\n",
              "min     -0.946871   -0.672352\n",
              "25%     -0.346674   -0.286918\n",
              "50%     -0.188150   -0.195359\n",
              "75%     -0.028566   -0.110695\n",
              "max      0.615650    0.183850"
            ]
          },
          "metadata": {
            "tags": []
          },
          "execution_count": 30
        }
      ]
    },
    {
      "cell_type": "code",
      "metadata": {
        "id": "k0DKtD03BCfa",
        "colab_type": "code",
        "colab": {
          "base_uri": "https://localhost:8080/",
          "height": 68
        },
        "outputId": "84af6723-3826-4067-c4ae-1e8384500c56"
      },
      "source": [
        "pd.DataFrame([estimate_ate(d) for d in progressbar(block)]).std()"
      ],
      "execution_count": null,
      "outputs": [
        {
          "output_type": "stream",
          "text": [
            "100% (500 of 500) |######################| Elapsed Time: 0:00:00 Time:  0:00:00\n"
          ],
          "name": "stderr"
        },
        {
          "output_type": "execute_result",
          "data": {
            "text/plain": [
              "estimated_ate    0.138139\n",
              "dtype: float64"
            ]
          },
          "metadata": {
            "tags": []
          },
          "execution_count": 31
        }
      ]
    },
    {
      "cell_type": "code",
      "metadata": {
        "id": "-dVAyolMBCV6",
        "colab_type": "code",
        "colab": {
          "base_uri": "https://localhost:8080/",
          "height": 68
        },
        "outputId": "cbd6d0e1-d66e-4ec2-ee39-352caade1e44"
      },
      "source": [
        "pd.DataFrame([estimate_ate(d) for d in progressbar(noblock)]).std()"
      ],
      "execution_count": null,
      "outputs": [
        {
          "output_type": "stream",
          "text": [
            "100% (500 of 500) |######################| Elapsed Time: 0:00:00 Time:  0:00:00\n"
          ],
          "name": "stderr"
        },
        {
          "output_type": "execute_result",
          "data": {
            "text/plain": [
              "estimated_ate    0.237137\n",
              "dtype: float64"
            ]
          },
          "metadata": {
            "tags": []
          },
          "execution_count": 32
        }
      ]
    },
    {
      "cell_type": "markdown",
      "metadata": {
        "id": "nG7CJLYCFbHX",
        "colab_type": "text"
      },
      "source": [
        "##2"
      ]
    },
    {
      "cell_type": "code",
      "metadata": {
        "id": "-inQDOgvBB9g",
        "colab_type": "code",
        "colab": {}
      },
      "source": [
        "#Example"
      ],
      "execution_count": null,
      "outputs": []
    },
    {
      "cell_type": "code",
      "metadata": {
        "id": "Yxnu2v5_F2Qg",
        "colab_type": "code",
        "colab": {
          "base_uri": "https://localhost:8080/",
          "height": 365
        },
        "outputId": "dbf5358c-871a-4d9d-fa2b-f18d76dfdbce"
      },
      "source": [
        "# Generate simulated data sets without blocking and with blocking\n",
        "B = 500\n",
        "inter_person_variability = 10\n",
        "# Generate simulated data sets without blocking and with blocking\n",
        "noblock = [gen_shoe_data(100, False, inter_person_variability) for _ in progressbar(np.arange(0, B))]\n",
        "block = [gen_shoe_data(100, True, inter_person_variability) for _ in progressbar(np.arange(0, B))]\n",
        "# Estimate the ATE of each data set\n",
        "m_noblock = pd.DataFrame([estimate_ate(d) for d in progressbar(noblock)])\n",
        "m_block = pd.DataFrame([estimate_ate(d) for d in progressbar(block)])\n",
        "# Show results\n",
        "results = pd.concat([\n",
        "    m_noblock['estimated_ate'].describe(),\n",
        "    m_block['estimated_ate'].describe()\n",
        "], axis=1)\n",
        "results.columns = ['noblock', 'block']\n",
        "results"
      ],
      "execution_count": null,
      "outputs": [
        {
          "output_type": "stream",
          "text": [
            "100% (500 of 500) |######################| Elapsed Time: 0:00:06 Time:  0:00:06\n",
            "100% (500 of 500) |######################| Elapsed Time: 0:00:06 Time:  0:00:06\n",
            "100% (500 of 500) |######################| Elapsed Time: 0:00:00 Time:  0:00:00\n",
            "100% (500 of 500) |######################| Elapsed Time: 0:00:00 Time:  0:00:00\n"
          ],
          "name": "stderr"
        },
        {
          "output_type": "execute_result",
          "data": {
            "text/html": [
              "<div>\n",
              "<style scoped>\n",
              "    .dataframe tbody tr th:only-of-type {\n",
              "        vertical-align: middle;\n",
              "    }\n",
              "\n",
              "    .dataframe tbody tr th {\n",
              "        vertical-align: top;\n",
              "    }\n",
              "\n",
              "    .dataframe thead th {\n",
              "        text-align: right;\n",
              "    }\n",
              "</style>\n",
              "<table border=\"1\" class=\"dataframe\">\n",
              "  <thead>\n",
              "    <tr style=\"text-align: right;\">\n",
              "      <th></th>\n",
              "      <th>noblock</th>\n",
              "      <th>block</th>\n",
              "    </tr>\n",
              "  </thead>\n",
              "  <tbody>\n",
              "    <tr>\n",
              "      <th>count</th>\n",
              "      <td>500.000000</td>\n",
              "      <td>500.000000</td>\n",
              "    </tr>\n",
              "    <tr>\n",
              "      <th>mean</th>\n",
              "      <td>-0.201659</td>\n",
              "      <td>-0.201073</td>\n",
              "    </tr>\n",
              "    <tr>\n",
              "      <th>std</th>\n",
              "      <td>0.446926</td>\n",
              "      <td>0.138649</td>\n",
              "    </tr>\n",
              "    <tr>\n",
              "      <th>min</th>\n",
              "      <td>-1.411697</td>\n",
              "      <td>-0.590392</td>\n",
              "    </tr>\n",
              "    <tr>\n",
              "      <th>25%</th>\n",
              "      <td>-0.510755</td>\n",
              "      <td>-0.296850</td>\n",
              "    </tr>\n",
              "    <tr>\n",
              "      <th>50%</th>\n",
              "      <td>-0.223469</td>\n",
              "      <td>-0.200241</td>\n",
              "    </tr>\n",
              "    <tr>\n",
              "      <th>75%</th>\n",
              "      <td>0.099847</td>\n",
              "      <td>-0.100319</td>\n",
              "    </tr>\n",
              "    <tr>\n",
              "      <th>max</th>\n",
              "      <td>1.356847</td>\n",
              "      <td>0.240880</td>\n",
              "    </tr>\n",
              "  </tbody>\n",
              "</table>\n",
              "</div>"
            ],
            "text/plain": [
              "          noblock       block\n",
              "count  500.000000  500.000000\n",
              "mean    -0.201659   -0.201073\n",
              "std      0.446926    0.138649\n",
              "min     -1.411697   -0.590392\n",
              "25%     -0.510755   -0.296850\n",
              "50%     -0.223469   -0.200241\n",
              "75%      0.099847   -0.100319\n",
              "max      1.356847    0.240880"
            ]
          },
          "metadata": {
            "tags": []
          },
          "execution_count": 34
        }
      ]
    },
    {
      "cell_type": "code",
      "metadata": {
        "id": "gPna32dUF86o",
        "colab_type": "code",
        "colab": {
          "base_uri": "https://localhost:8080/",
          "height": 68
        },
        "outputId": "75cb2a27-531b-4354-a60f-2b70a71d8dc6"
      },
      "source": [
        "pd.DataFrame([estimate_ate(d) for d in progressbar(noblock)]).std()"
      ],
      "execution_count": null,
      "outputs": [
        {
          "output_type": "stream",
          "text": [
            "100% (500 of 500) |######################| Elapsed Time: 0:00:00 Time:  0:00:00\n"
          ],
          "name": "stderr"
        },
        {
          "output_type": "execute_result",
          "data": {
            "text/plain": [
              "estimated_ate    0.446926\n",
              "dtype: float64"
            ]
          },
          "metadata": {
            "tags": []
          },
          "execution_count": 35
        }
      ]
    },
    {
      "cell_type": "code",
      "metadata": {
        "id": "ghtkEhSPGH1R",
        "colab_type": "code",
        "colab": {
          "base_uri": "https://localhost:8080/",
          "height": 68
        },
        "outputId": "509a6b5c-8973-47c4-d1a7-4c2e28411659"
      },
      "source": [
        "pd.DataFrame([estimate_ate(d) for d in progressbar(block)]).std()"
      ],
      "execution_count": null,
      "outputs": [
        {
          "output_type": "stream",
          "text": [
            "100% (500 of 500) |######################| Elapsed Time: 0:00:00 Time:  0:00:00\n"
          ],
          "name": "stderr"
        },
        {
          "output_type": "execute_result",
          "data": {
            "text/plain": [
              "estimated_ate    0.138649\n",
              "dtype: float64"
            ]
          },
          "metadata": {
            "tags": []
          },
          "execution_count": 36
        }
      ]
    },
    {
      "cell_type": "code",
      "metadata": {
        "id": "I7RVEWBXGNMs",
        "colab_type": "code",
        "colab": {}
      },
      "source": [
        "#ANSWER:\n",
        "#If we increase inter-person variability, the standard deviations of the estimated ATE will increase too\n",
        "#So if blocking reduces he impact of heterogeneity in the data, concsequently, using non-blocking concept will be more dependent on changing heterogeneity\n",
        "#Particularly, increasing inter-person variability will lead to higher standard deviations of the estimated ATE"
      ],
      "execution_count": null,
      "outputs": []
    },
    {
      "cell_type": "markdown",
      "metadata": {
        "id": "IkoNaL0qHcab",
        "colab_type": "text"
      },
      "source": [
        "##3"
      ]
    },
    {
      "cell_type": "code",
      "metadata": {
        "id": "sxhuHsesHSy8",
        "colab_type": "code",
        "colab": {
          "base_uri": "https://localhost:8080/",
          "height": 365
        },
        "outputId": "a35373d7-0059-468b-f6ea-5d7cd38357b6"
      },
      "source": [
        "B = 500\n",
        "inter_person_variability = 0\n",
        "# Generate simulated data sets without blocking and with blocking\n",
        "noblock = [gen_shoe_data(100, False, inter_person_variability) for _ in progressbar(np.arange(0, B))]\n",
        "block = [gen_shoe_data(100, True, inter_person_variability) for _ in progressbar(np.arange(0, B))]\n",
        "# Estimate the ATE of each data set\n",
        "m_noblock = pd.DataFrame([estimate_ate(d) for d in progressbar(noblock)])\n",
        "m_block = pd.DataFrame([estimate_ate(d) for d in progressbar(block)])\n",
        "# Show results\n",
        "results = pd.concat([\n",
        "    m_noblock['estimated_ate'].describe(),\n",
        "    m_block['estimated_ate'].describe()\n",
        "], axis=1)\n",
        "results.columns = ['noblock', 'block']\n",
        "results"
      ],
      "execution_count": null,
      "outputs": [
        {
          "output_type": "stream",
          "text": [
            "100% (500 of 500) |######################| Elapsed Time: 0:00:06 Time:  0:00:06\n",
            "100% (500 of 500) |######################| Elapsed Time: 0:00:06 Time:  0:00:06\n",
            "100% (500 of 500) |######################| Elapsed Time: 0:00:00 Time:  0:00:00\n",
            "100% (500 of 500) |######################| Elapsed Time: 0:00:00 Time:  0:00:00\n"
          ],
          "name": "stderr"
        },
        {
          "output_type": "execute_result",
          "data": {
            "text/html": [
              "<div>\n",
              "<style scoped>\n",
              "    .dataframe tbody tr th:only-of-type {\n",
              "        vertical-align: middle;\n",
              "    }\n",
              "\n",
              "    .dataframe tbody tr th {\n",
              "        vertical-align: top;\n",
              "    }\n",
              "\n",
              "    .dataframe thead th {\n",
              "        text-align: right;\n",
              "    }\n",
              "</style>\n",
              "<table border=\"1\" class=\"dataframe\">\n",
              "  <thead>\n",
              "    <tr style=\"text-align: right;\">\n",
              "      <th></th>\n",
              "      <th>noblock</th>\n",
              "      <th>block</th>\n",
              "    </tr>\n",
              "  </thead>\n",
              "  <tbody>\n",
              "    <tr>\n",
              "      <th>count</th>\n",
              "      <td>500.000000</td>\n",
              "      <td>500.000000</td>\n",
              "    </tr>\n",
              "    <tr>\n",
              "      <th>mean</th>\n",
              "      <td>-0.201100</td>\n",
              "      <td>-0.198839</td>\n",
              "    </tr>\n",
              "    <tr>\n",
              "      <th>std</th>\n",
              "      <td>0.143413</td>\n",
              "      <td>0.150343</td>\n",
              "    </tr>\n",
              "    <tr>\n",
              "      <th>min</th>\n",
              "      <td>-0.623710</td>\n",
              "      <td>-0.638253</td>\n",
              "    </tr>\n",
              "    <tr>\n",
              "      <th>25%</th>\n",
              "      <td>-0.294631</td>\n",
              "      <td>-0.303390</td>\n",
              "    </tr>\n",
              "    <tr>\n",
              "      <th>50%</th>\n",
              "      <td>-0.199022</td>\n",
              "      <td>-0.191972</td>\n",
              "    </tr>\n",
              "    <tr>\n",
              "      <th>75%</th>\n",
              "      <td>-0.106248</td>\n",
              "      <td>-0.093865</td>\n",
              "    </tr>\n",
              "    <tr>\n",
              "      <th>max</th>\n",
              "      <td>0.248959</td>\n",
              "      <td>0.236294</td>\n",
              "    </tr>\n",
              "  </tbody>\n",
              "</table>\n",
              "</div>"
            ],
            "text/plain": [
              "          noblock       block\n",
              "count  500.000000  500.000000\n",
              "mean    -0.201100   -0.198839\n",
              "std      0.143413    0.150343\n",
              "min     -0.623710   -0.638253\n",
              "25%     -0.294631   -0.303390\n",
              "50%     -0.199022   -0.191972\n",
              "75%     -0.106248   -0.093865\n",
              "max      0.248959    0.236294"
            ]
          },
          "metadata": {
            "tags": []
          },
          "execution_count": 38
        }
      ]
    },
    {
      "cell_type": "code",
      "metadata": {
        "id": "20YH8UKnHeH2",
        "colab_type": "code",
        "colab": {
          "base_uri": "https://localhost:8080/",
          "height": 34
        },
        "outputId": "18c9ab54-4c37-4a34-e79a-e9fd18908782"
      },
      "source": [
        "a1 = float(pd.DataFrame([estimate_ate(d) for d in progressbar(block)]).std())"
      ],
      "execution_count": null,
      "outputs": [
        {
          "output_type": "stream",
          "text": [
            "100% (500 of 500) |######################| Elapsed Time: 0:00:00 Time:  0:00:00\n"
          ],
          "name": "stderr"
        }
      ]
    },
    {
      "cell_type": "code",
      "metadata": {
        "id": "g7Md1I2vHhML",
        "colab_type": "code",
        "colab": {
          "base_uri": "https://localhost:8080/",
          "height": 34
        },
        "outputId": "eee86c28-a8dd-4487-b3a5-5b84e964e239"
      },
      "source": [
        "a2 = float(pd.DataFrame([estimate_ate(d) for d in progressbar(noblock)]).std())"
      ],
      "execution_count": null,
      "outputs": [
        {
          "output_type": "stream",
          "text": [
            "100% (500 of 500) |######################| Elapsed Time: 0:00:00 Time:  0:00:00\n"
          ],
          "name": "stderr"
        }
      ]
    },
    {
      "cell_type": "code",
      "metadata": {
        "id": "igHTpCUEHk_0",
        "colab_type": "code",
        "colab": {
          "base_uri": "https://localhost:8080/",
          "height": 85
        },
        "outputId": "22ed96ec-030a-40fd-abcc-e0a80b8dd506"
      },
      "source": [
        "inter_person_variability = 1\n",
        "noblock = [gen_shoe_data(100, False, inter_person_variability) for _ in progressbar(np.arange(0, B))]\n",
        "block = [gen_shoe_data(100, True, inter_person_variability) for _ in progressbar(np.arange(0, B))]\n",
        "m_noblock = pd.DataFrame([estimate_ate(d) for d in progressbar(noblock)])\n",
        "m_block = pd.DataFrame([estimate_ate(d) for d in progressbar(block)])"
      ],
      "execution_count": null,
      "outputs": [
        {
          "output_type": "stream",
          "text": [
            "100% (500 of 500) |######################| Elapsed Time: 0:00:06 Time:  0:00:06\n",
            "100% (500 of 500) |######################| Elapsed Time: 0:00:06 Time:  0:00:06\n",
            "100% (500 of 500) |######################| Elapsed Time: 0:00:00 Time:  0:00:00\n",
            "100% (500 of 500) |######################| Elapsed Time: 0:00:00 Time:  0:00:00\n"
          ],
          "name": "stderr"
        }
      ]
    },
    {
      "cell_type": "code",
      "metadata": {
        "id": "wgTNdgf_HnVg",
        "colab_type": "code",
        "colab": {
          "base_uri": "https://localhost:8080/",
          "height": 34
        },
        "outputId": "68379965-cda7-45bd-bfcc-26180204ab3b"
      },
      "source": [
        "b1 = float(pd.DataFrame([estimate_ate(d) for d in progressbar(noblock)]).std())"
      ],
      "execution_count": null,
      "outputs": [
        {
          "output_type": "stream",
          "text": [
            "100% (500 of 500) |######################| Elapsed Time: 0:00:00 Time:  0:00:00\n"
          ],
          "name": "stderr"
        }
      ]
    },
    {
      "cell_type": "code",
      "metadata": {
        "id": "_ayEWl3aHpED",
        "colab_type": "code",
        "colab": {
          "base_uri": "https://localhost:8080/",
          "height": 34
        },
        "outputId": "f20ba6e4-595d-44a0-9d68-00cc2272ad68"
      },
      "source": [
        "b2 = float(pd.DataFrame([estimate_ate(d) for d in progressbar(block)]).std())"
      ],
      "execution_count": null,
      "outputs": [
        {
          "output_type": "stream",
          "text": [
            "100% (500 of 500) |######################| Elapsed Time: 0:00:00 Time:  0:00:00\n"
          ],
          "name": "stderr"
        }
      ]
    },
    {
      "cell_type": "code",
      "metadata": {
        "id": "w6P30GooHrfg",
        "colab_type": "code",
        "colab": {
          "base_uri": "https://localhost:8080/",
          "height": 85
        },
        "outputId": "d5fbd12c-7493-4e34-bb00-1c01b21ffc04"
      },
      "source": [
        "inter_person_variability = 5\n",
        "noblock = [gen_shoe_data(100, False, inter_person_variability) for _ in progressbar(np.arange(0, B))]\n",
        "block = [gen_shoe_data(100, True, inter_person_variability) for _ in progressbar(np.arange(0, B))]\n",
        "m_noblock = pd.DataFrame([estimate_ate(d) for d in progressbar(noblock)])\n",
        "m_block = pd.DataFrame([estimate_ate(d) for d in progressbar(block)])"
      ],
      "execution_count": null,
      "outputs": [
        {
          "output_type": "stream",
          "text": [
            "100% (500 of 500) |######################| Elapsed Time: 0:00:06 Time:  0:00:06\n",
            "100% (500 of 500) |######################| Elapsed Time: 0:00:06 Time:  0:00:06\n",
            "100% (500 of 500) |######################| Elapsed Time: 0:00:00 Time:  0:00:00\n",
            "100% (500 of 500) |######################| Elapsed Time: 0:00:00 Time:  0:00:00\n"
          ],
          "name": "stderr"
        }
      ]
    },
    {
      "cell_type": "code",
      "metadata": {
        "id": "HosLrXClHtdz",
        "colab_type": "code",
        "colab": {
          "base_uri": "https://localhost:8080/",
          "height": 34
        },
        "outputId": "c50c4728-cf6e-49da-c3ee-8ce39b971e1f"
      },
      "source": [
        "c1 = float(pd.DataFrame([estimate_ate(d) for d in progressbar(noblock)]).std())"
      ],
      "execution_count": null,
      "outputs": [
        {
          "output_type": "stream",
          "text": [
            "100% (500 of 500) |######################| Elapsed Time: 0:00:00 Time:  0:00:00\n"
          ],
          "name": "stderr"
        }
      ]
    },
    {
      "cell_type": "code",
      "metadata": {
        "id": "G9VXXTl8HwUX",
        "colab_type": "code",
        "colab": {
          "base_uri": "https://localhost:8080/",
          "height": 34
        },
        "outputId": "8a22d980-e7a9-4f65-af00-d4f483060f13"
      },
      "source": [
        "c2 = float(pd.DataFrame([estimate_ate(d) for d in progressbar(block)]).std())"
      ],
      "execution_count": null,
      "outputs": [
        {
          "output_type": "stream",
          "text": [
            "100% (500 of 500) |######################| Elapsed Time: 0:00:00 Time:  0:00:00\n"
          ],
          "name": "stderr"
        }
      ]
    },
    {
      "cell_type": "code",
      "metadata": {
        "id": "aBts9xD-HyGt",
        "colab_type": "code",
        "colab": {
          "base_uri": "https://localhost:8080/",
          "height": 85
        },
        "outputId": "40c586a0-0fe2-449b-cb67-ba2e01408974"
      },
      "source": [
        "inter_person_variability = 10\n",
        "noblock = [gen_shoe_data(100, False, inter_person_variability) for _ in progressbar(np.arange(0, B))]\n",
        "block = [gen_shoe_data(100, True, inter_person_variability) for _ in progressbar(np.arange(0, B))]\n",
        "m_noblock = pd.DataFrame([estimate_ate(d) for d in progressbar(noblock)])\n",
        "m_block = pd.DataFrame([estimate_ate(d) for d in progressbar(block)])"
      ],
      "execution_count": null,
      "outputs": [
        {
          "output_type": "stream",
          "text": [
            "100% (500 of 500) |######################| Elapsed Time: 0:00:06 Time:  0:00:06\n",
            "100% (500 of 500) |######################| Elapsed Time: 0:00:06 Time:  0:00:06\n",
            "100% (500 of 500) |######################| Elapsed Time: 0:00:01 Time:  0:00:01\n",
            "100% (500 of 500) |######################| Elapsed Time: 0:00:01 Time:  0:00:01\n"
          ],
          "name": "stderr"
        }
      ]
    },
    {
      "cell_type": "code",
      "metadata": {
        "id": "youOPuEPHz7h",
        "colab_type": "code",
        "colab": {
          "base_uri": "https://localhost:8080/",
          "height": 34
        },
        "outputId": "d2f43b31-0808-4cd0-956c-569b54aca3ba"
      },
      "source": [
        "d1 = float(pd.DataFrame([estimate_ate(d) for d in progressbar(noblock)]).std())"
      ],
      "execution_count": null,
      "outputs": [
        {
          "output_type": "stream",
          "text": [
            "100% (500 of 500) |######################| Elapsed Time: 0:00:00 Time:  0:00:00\n"
          ],
          "name": "stderr"
        }
      ]
    },
    {
      "cell_type": "code",
      "metadata": {
        "id": "4WoSt7oyH2Ls",
        "colab_type": "code",
        "colab": {
          "base_uri": "https://localhost:8080/",
          "height": 34
        },
        "outputId": "7d95ea9f-8dfb-4aff-874d-7ae370825ae2"
      },
      "source": [
        "d2 = float(pd.DataFrame([estimate_ate(d) for d in progressbar(block)]).std())"
      ],
      "execution_count": null,
      "outputs": [
        {
          "output_type": "stream",
          "text": [
            "100% (500 of 500) |######################| Elapsed Time: 0:00:00 Time:  0:00:00\n"
          ],
          "name": "stderr"
        }
      ]
    },
    {
      "cell_type": "code",
      "metadata": {
        "id": "sl97ny75H3_f",
        "colab_type": "code",
        "colab": {
          "base_uri": "https://localhost:8080/",
          "height": 85
        },
        "outputId": "0d7eb866-e9a1-4934-bfd1-95cc8c2c745c"
      },
      "source": [
        "inter_person_variability = 20\n",
        "noblock = [gen_shoe_data(100, False, inter_person_variability) for _ in progressbar(np.arange(0, B))]\n",
        "block = [gen_shoe_data(100, True, inter_person_variability) for _ in progressbar(np.arange(0, B))]\n",
        "m_noblock = pd.DataFrame([estimate_ate(d) for d in progressbar(noblock)])\n",
        "m_block = pd.DataFrame([estimate_ate(d) for d in progressbar(block)])"
      ],
      "execution_count": null,
      "outputs": [
        {
          "output_type": "stream",
          "text": [
            "100% (500 of 500) |######################| Elapsed Time: 0:00:06 Time:  0:00:06\n",
            "100% (500 of 500) |######################| Elapsed Time: 0:00:05 Time:  0:00:05\n",
            "100% (500 of 500) |######################| Elapsed Time: 0:00:00 Time:  0:00:00\n",
            "100% (500 of 500) |######################| Elapsed Time: 0:00:00 Time:  0:00:00\n"
          ],
          "name": "stderr"
        }
      ]
    },
    {
      "cell_type": "code",
      "metadata": {
        "id": "5o0xbYEEH6YJ",
        "colab_type": "code",
        "colab": {
          "base_uri": "https://localhost:8080/",
          "height": 34
        },
        "outputId": "3a1e7112-ce53-4df4-af6e-802479ee5386"
      },
      "source": [
        "e1 = float(pd.DataFrame([estimate_ate(d) for d in progressbar(noblock)]).std())"
      ],
      "execution_count": null,
      "outputs": [
        {
          "output_type": "stream",
          "text": [
            "100% (500 of 500) |######################| Elapsed Time: 0:00:00 Time:  0:00:00\n"
          ],
          "name": "stderr"
        }
      ]
    },
    {
      "cell_type": "code",
      "metadata": {
        "id": "I4xjG0bRH9k6",
        "colab_type": "code",
        "colab": {
          "base_uri": "https://localhost:8080/",
          "height": 34
        },
        "outputId": "a2882a57-c34e-4b57-8de8-604f80e21330"
      },
      "source": [
        "e2 = float(pd.DataFrame([estimate_ate(d) for d in progressbar(block)]).std())"
      ],
      "execution_count": null,
      "outputs": [
        {
          "output_type": "stream",
          "text": [
            "100% (500 of 500) |######################| Elapsed Time: 0:00:00 Time:  0:00:00\n"
          ],
          "name": "stderr"
        }
      ]
    },
    {
      "cell_type": "code",
      "metadata": {
        "id": "-Fy3FqZsH_lR",
        "colab_type": "code",
        "colab": {
          "base_uri": "https://localhost:8080/",
          "height": 204
        },
        "outputId": "11ee05ac-a65f-4c28-851b-4ba3dca57c4d"
      },
      "source": [
        "d = {'inter_person_variability' : [0,1,5,10,20], 'Block_std': [a1, b2, c2, d2, e2], 'Noblock_std': [a2, b1, c1, d1, e1] }\n",
        "df = pd.DataFrame(data = d)\n",
        "df"
      ],
      "execution_count": null,
      "outputs": [
        {
          "output_type": "execute_result",
          "data": {
            "text/html": [
              "<div>\n",
              "<style scoped>\n",
              "    .dataframe tbody tr th:only-of-type {\n",
              "        vertical-align: middle;\n",
              "    }\n",
              "\n",
              "    .dataframe tbody tr th {\n",
              "        vertical-align: top;\n",
              "    }\n",
              "\n",
              "    .dataframe thead th {\n",
              "        text-align: right;\n",
              "    }\n",
              "</style>\n",
              "<table border=\"1\" class=\"dataframe\">\n",
              "  <thead>\n",
              "    <tr style=\"text-align: right;\">\n",
              "      <th></th>\n",
              "      <th>inter_person_variability</th>\n",
              "      <th>Block_std</th>\n",
              "      <th>Noblock_std</th>\n",
              "    </tr>\n",
              "  </thead>\n",
              "  <tbody>\n",
              "    <tr>\n",
              "      <th>0</th>\n",
              "      <td>0</td>\n",
              "      <td>0.150343</td>\n",
              "      <td>0.143413</td>\n",
              "    </tr>\n",
              "    <tr>\n",
              "      <th>1</th>\n",
              "      <td>1</td>\n",
              "      <td>0.141228</td>\n",
              "      <td>0.147107</td>\n",
              "    </tr>\n",
              "    <tr>\n",
              "      <th>2</th>\n",
              "      <td>5</td>\n",
              "      <td>0.145297</td>\n",
              "      <td>0.249865</td>\n",
              "    </tr>\n",
              "    <tr>\n",
              "      <th>3</th>\n",
              "      <td>10</td>\n",
              "      <td>0.137517</td>\n",
              "      <td>0.454819</td>\n",
              "    </tr>\n",
              "    <tr>\n",
              "      <th>4</th>\n",
              "      <td>20</td>\n",
              "      <td>0.135753</td>\n",
              "      <td>0.785854</td>\n",
              "    </tr>\n",
              "  </tbody>\n",
              "</table>\n",
              "</div>"
            ],
            "text/plain": [
              "   inter_person_variability  Block_std  Noblock_std\n",
              "0                         0   0.150343     0.143413\n",
              "1                         1   0.141228     0.147107\n",
              "2                         5   0.145297     0.249865\n",
              "3                        10   0.137517     0.454819\n",
              "4                        20   0.135753     0.785854"
            ]
          },
          "metadata": {
            "tags": []
          },
          "execution_count": 53
        }
      ]
    },
    {
      "cell_type": "code",
      "metadata": {
        "id": "EP_9SF2xICXx",
        "colab_type": "code",
        "colab": {
          "base_uri": "https://localhost:8080/",
          "height": 303
        },
        "outputId": "a7b16357-2001-4b4b-8d58-60956a43fcc4"
      },
      "source": [
        "plt.scatter(df['inter_person_variability'], df['Block_std'], color='orange', s=40, marker='o')\n",
        "plt.scatter(df['inter_person_variability'], df['Noblock_std'], color='blue', s=40, marker='o')\n",
        "plt.xlabel(\"Inter-Person Variability\", fontsize=18, color = 'white')\n",
        "plt.ylabel(\"Standart Errors\", fontsize = 18, color = 'white')\n",
        "plt.title(\"The standard errors for several different levels of inter-person variability\", color='white', fontsize = 12)\n",
        "plt.legend()\n",
        "plt.grid(True)"
      ],
      "execution_count": null,
      "outputs": [
        {
          "output_type": "display_data",
          "data": {
            "image/png": "[encoded data removed]",
            "text/plain": [
              "<Figure size 432x288 with 1 Axes>"
            ]
          },
          "metadata": {
            "tags": []
          }
        }
      ]
    },
    {
      "cell_type": "markdown",
      "metadata": {
        "id": "nDBopF7IIm95",
        "colab_type": "text"
      },
      "source": [
        "##4"
      ]
    },
    {
      "cell_type": "code",
      "metadata": {
        "id": "lXveeUjbIGbK",
        "colab_type": "code",
        "colab": {}
      },
      "source": [
        "#ANSWER:\n",
        "#Inter person variability shows human changeability in choices.\n",
        "#In other words, Inter person variability = 0 => homogeneity concept\n",
        "#Inter person variability = 20 => heterogeneity concept"
      ],
      "execution_count": null,
      "outputs": []
    },
    {
      "cell_type": "markdown",
      "metadata": {
        "id": "OrOoPh-VIxlP",
        "colab_type": "text"
      },
      "source": [
        "##5"
      ]
    },
    {
      "cell_type": "code",
      "metadata": {
        "id": "coLWvoI1T1mN",
        "colab_type": "code",
        "colab": {
          "base_uri": "https://localhost:8080/",
          "height": 119
        },
        "outputId": "abc47f9c-fb88-42be-d8c2-157a3264dad1"
      },
      "source": [
        "# This cell contains the \"data-generating process.\"\n",
        "# We will make it up, but try to create something close to\n",
        "# what we saw in the Karlan experiment above.\n",
        "# That will help us get a better sense of how the regression is behaving.\n",
        "\n",
        "# Set the same size like the real data.\n",
        "N = 13560\n",
        "\n",
        "# Our \"control variable\" will be an indicator for graduating from high-school.\n",
        "grad_high_school = np.random.binomial(n=1, p=0.5, size=N)\n",
        "beta_hs = 0.1\n",
        "\n",
        "\n",
        "# Set the data-generating process to have on average\n",
        "# 61% of people in the treatment group, like in the paper.\n",
        "# Set the ATE to be 0.032, similar to what we see in the real data.\n",
        "D = np.random.binomial(n=1, p=0.61, size=N)\n",
        "ATE = 0.032\n",
        "\n",
        "# Generate the potential outcomes.\n",
        "# We have to be careful tha the probabilities remain in the valid\n",
        "# range [0, 1] or else we will get an error.\n",
        "baseline_probability = 0.25 + beta_hs * grad_high_school\n",
        "Y0 = np.random.binomial(n=1, p=baseline_probability)\n",
        "Y1 = np.random.binomial(n=1, p=baseline_probability + ATE * D)\n",
        "\n",
        "df = pd.DataFrame({\n",
        "    'grad_high_school': grad_high_school,\n",
        "    'd': D,\n",
        "    'y0': Y0,\n",
        "    'y1': Y1\n",
        "})\n",
        "df['y'] = df.eval(\"y1 * d + y0 * (1 - d)\")\n",
        "print(df.mean())"
      ],
      "execution_count": null,
      "outputs": [
        {
          "output_type": "stream",
          "text": [
            "grad_high_school    0.502434\n",
            "d                   0.610914\n",
            "y0                  0.304204\n",
            "y1                  0.325516\n",
            "y                   0.329941\n",
            "dtype: float64\n"
          ],
          "name": "stdout"
        }
      ]
    },
    {
      "cell_type": "code",
      "metadata": {
        "id": "RRnqCvKoIv6W",
        "colab_type": "code",
        "colab": {}
      },
      "source": [
        "def gen_shoe_data(N, block=False, person_variability=5):\n",
        "\n",
        "  # Make N people each with their own randomly wear rate in [0, person_variability].\n",
        "  people = np.arange(0, N)\n",
        "  r_person = np.random.uniform(0, person_variability, size=N)\n",
        "  \n",
        "  # Make left and right feet\n",
        "  df_left = pd.DataFrame({'i': people})\n",
        "  df_left['left_foot'] = 1\n",
        "  df_right = pd.DataFrame({'i': people})\n",
        "  df_right['left_foot'] = 0 \n",
        "  df = pd.concat([df_left, df_right], axis=0)\n",
        "  df['shoe'] = np.arange(0, df.shape[0])\n",
        "  \n",
        "  # Each of the person's feet will have the same Y0 (success probability)\n",
        "  df['r_y0'] = r_person[df['i']]\n",
        "  \n",
        "  # Treatment reduces wear rate by 0.20\n",
        "  ATE = -0.20\n",
        "  # Y outcomes are measures of shoe wear\n",
        "  Y0 = np.random.normal(loc=df['r_y0'])\n",
        "  Y1 = np.random.normal(loc=df['r_y0'] + ATE)\n",
        "  df['y0'] = Y0\n",
        "  df['y1'] = Y1\n",
        "  \n",
        "  P_treatment = 0.5\n",
        "  if block == False:\n",
        "    treatment_shoes = np.random.choice(df['shoe'], int(len(df['shoe']) * P_treatment), replace=False)\n",
        "    df['d'] = df['shoe'].isin(treatment_shoes).astype('float')\n",
        "  else:\n",
        "    # Treat left foot only\n",
        "    # In real life we would treat a random foot.\n",
        "    # Wouldn't do this in real life but it doesn't matter for the simulation.\n",
        "    df['d'] = df['left_foot']\n",
        "         \n",
        "  df['y'] = df.eval(\"y1 * d + y0 * (1 - d)\")\n",
        "  del df['y0']\n",
        "  del df['y1']\n",
        "  return df\n",
        "\n",
        "def estimate_ate(df):\n",
        "  means = df.groupby('d')['y'].mean()\n",
        "  return {'estimated_ate': means[1] - means[0]}\n",
        "\n",
        "\n",
        "def regression_ate(df, formula=\"y ~ d + r_y0\"):\n",
        "  r = sfa.ols(formula, df).fit()\n",
        "  return {\n",
        "      'estimated_ate': r.params['d'],\n",
        "      'estimated_ate_se': r.bse['d']\n",
        "  }"
      ],
      "execution_count": null,
      "outputs": []
    },
    {
      "cell_type": "code",
      "metadata": {
        "id": "Ss9H0ONxUvyk",
        "colab_type": "code",
        "colab": {
          "base_uri": "https://localhost:8080/",
          "height": 365
        },
        "outputId": "8fb7131d-707b-4dba-93a2-9523abc1b5d9"
      },
      "source": [
        "# Generate simulated data sets without blocking and with blocking\n",
        "B = 500\n",
        "inter_person_variability = 5\n",
        "# Generate simulated data sets without blocking and with blocking\n",
        "noblock = [gen_shoe_data(100, False, inter_person_variability) for _ in progressbar(np.arange(0, B))]\n",
        "block = [gen_shoe_data(100, True, inter_person_variability) for _ in progressbar(np.arange(0, B))]\n",
        "# Estimate the ATE of each data set\n",
        "m_noblock = pd.DataFrame([estimate_ate(d) for d in progressbar(noblock)])\n",
        "m_block = pd.DataFrame([estimate_ate(d) for d in progressbar(block)])\n",
        "# Show results\n",
        "results = pd.concat([\n",
        "    m_noblock['estimated_ate'].describe(),\n",
        "    m_block['estimated_ate'].describe()\n",
        "], axis=1)\n",
        "results.columns = ['noblock', 'block']\n",
        "results"
      ],
      "execution_count": null,
      "outputs": [
        {
          "output_type": "stream",
          "text": [
            "100% (500 of 500) |######################| Elapsed Time: 0:00:06 Time:  0:00:06\n",
            "100% (500 of 500) |######################| Elapsed Time: 0:00:05 Time:  0:00:05\n",
            "100% (500 of 500) |######################| Elapsed Time: 0:00:00 Time:  0:00:00\n",
            "100% (500 of 500) |######################| Elapsed Time: 0:00:00 Time:  0:00:00\n"
          ],
          "name": "stderr"
        },
        {
          "output_type": "execute_result",
          "data": {
            "text/html": [
              "<div>\n",
              "<style scoped>\n",
              "    .dataframe tbody tr th:only-of-type {\n",
              "        vertical-align: middle;\n",
              "    }\n",
              "\n",
              "    .dataframe tbody tr th {\n",
              "        vertical-align: top;\n",
              "    }\n",
              "\n",
              "    .dataframe thead th {\n",
              "        text-align: right;\n",
              "    }\n",
              "</style>\n",
              "<table border=\"1\" class=\"dataframe\">\n",
              "  <thead>\n",
              "    <tr style=\"text-align: right;\">\n",
              "      <th></th>\n",
              "      <th>noblock</th>\n",
              "      <th>block</th>\n",
              "    </tr>\n",
              "  </thead>\n",
              "  <tbody>\n",
              "    <tr>\n",
              "      <th>count</th>\n",
              "      <td>500.000000</td>\n",
              "      <td>500.000000</td>\n",
              "    </tr>\n",
              "    <tr>\n",
              "      <th>mean</th>\n",
              "      <td>-0.224168</td>\n",
              "      <td>-0.207264</td>\n",
              "    </tr>\n",
              "    <tr>\n",
              "      <th>std</th>\n",
              "      <td>0.251069</td>\n",
              "      <td>0.141091</td>\n",
              "    </tr>\n",
              "    <tr>\n",
              "      <th>min</th>\n",
              "      <td>-1.030026</td>\n",
              "      <td>-0.675137</td>\n",
              "    </tr>\n",
              "    <tr>\n",
              "      <th>25%</th>\n",
              "      <td>-0.368359</td>\n",
              "      <td>-0.300423</td>\n",
              "    </tr>\n",
              "    <tr>\n",
              "      <th>50%</th>\n",
              "      <td>-0.232849</td>\n",
              "      <td>-0.202621</td>\n",
              "    </tr>\n",
              "    <tr>\n",
              "      <th>75%</th>\n",
              "      <td>-0.063739</td>\n",
              "      <td>-0.113024</td>\n",
              "    </tr>\n",
              "    <tr>\n",
              "      <th>max</th>\n",
              "      <td>0.471464</td>\n",
              "      <td>0.227972</td>\n",
              "    </tr>\n",
              "  </tbody>\n",
              "</table>\n",
              "</div>"
            ],
            "text/plain": [
              "          noblock       block\n",
              "count  500.000000  500.000000\n",
              "mean    -0.224168   -0.207264\n",
              "std      0.251069    0.141091\n",
              "min     -1.030026   -0.675137\n",
              "25%     -0.368359   -0.300423\n",
              "50%     -0.232849   -0.202621\n",
              "75%     -0.063739   -0.113024\n",
              "max      0.471464    0.227972"
            ]
          },
          "metadata": {
            "tags": []
          },
          "execution_count": 58
        }
      ]
    },
    {
      "cell_type": "code",
      "metadata": {
        "id": "YvuXXojUVKbj",
        "colab_type": "code",
        "colab": {
          "base_uri": "https://localhost:8080/",
          "height": 459
        },
        "outputId": "534ab9db-ce02-459f-d19a-cee8806eab26"
      },
      "source": [
        "print(sfa.ols(\"y ~ d + r_y0\", block[0]).fit().summary())"
      ],
      "execution_count": null,
      "outputs": [
        {
          "output_type": "stream",
          "text": [
            "                            OLS Regression Results                            \n",
            "==============================================================================\n",
            "Dep. Variable:                      y   R-squared:                       0.657\n",
            "Model:                            OLS   Adj. R-squared:                  0.654\n",
            "Method:                 Least Squares   F-statistic:                     188.7\n",
            "Date:                Tue, 17 Sep 2019   Prob (F-statistic):           1.69e-46\n",
            "Time:                        00:20:28   Log-Likelihood:                -283.57\n",
            "No. Observations:                 200   AIC:                             573.1\n",
            "Df Residuals:                     197   BIC:                             583.0\n",
            "Df Model:                           2                                         \n",
            "Covariance Type:            nonrobust                                         \n",
            "==============================================================================\n",
            "                 coef    std err          t      P>|t|      [0.025      0.975]\n",
            "------------------------------------------------------------------------------\n",
            "Intercept      0.0901      0.161      0.560      0.576      -0.227       0.407\n",
            "d             -0.1943      0.142     -1.365      0.174      -0.475       0.086\n",
            "r_y0           0.9949      0.051     19.377      0.000       0.894       1.096\n",
            "==============================================================================\n",
            "Omnibus:                        0.224   Durbin-Watson:                   2.268\n",
            "Prob(Omnibus):                  0.894   Jarque-Bera (JB):                0.369\n",
            "Skew:                          -0.046   Prob(JB):                        0.831\n",
            "Kurtosis:                       2.811   Cond. No.                         7.78\n",
            "==============================================================================\n",
            "\n",
            "Warnings:\n",
            "[1] Standard Errors assume that the covariance matrix of the errors is correctly specified.\n"
          ],
          "name": "stdout"
        }
      ]
    },
    {
      "cell_type": "code",
      "metadata": {
        "id": "I3cylL_pVVQd",
        "colab_type": "code",
        "colab": {
          "base_uri": "https://localhost:8080/",
          "height": 442
        },
        "outputId": "628591a3-7e6b-4af3-cb86-5f3fe3fcc601"
      },
      "source": [
        "print(sfa.ols(\"r_y0 ~ d\", noblock[1]).fit().summary())"
      ],
      "execution_count": null,
      "outputs": [
        {
          "output_type": "stream",
          "text": [
            "                            OLS Regression Results                            \n",
            "==============================================================================\n",
            "Dep. Variable:                   r_y0   R-squared:                       0.005\n",
            "Model:                            OLS   Adj. R-squared:                 -0.000\n",
            "Method:                 Least Squares   F-statistic:                    0.9664\n",
            "Date:                Tue, 17 Sep 2019   Prob (F-statistic):              0.327\n",
            "Time:                        00:20:28   Log-Likelihood:                -361.58\n",
            "No. Observations:                 200   AIC:                             727.2\n",
            "Df Residuals:                     198   BIC:                             733.8\n",
            "Df Model:                           1                                         \n",
            "Covariance Type:            nonrobust                                         \n",
            "==============================================================================\n",
            "                 coef    std err          t      P>|t|      [0.025      0.975]\n",
            "------------------------------------------------------------------------------\n",
            "Intercept      2.7729      0.148     18.700      0.000       2.480       3.065\n",
            "d             -0.2062      0.210     -0.983      0.327      -0.620       0.207\n",
            "==============================================================================\n",
            "Omnibus:                       78.467   Durbin-Watson:                   2.291\n",
            "Prob(Omnibus):                  0.000   Jarque-Bera (JB):               12.422\n",
            "Skew:                          -0.178   Prob(JB):                      0.00201\n",
            "Kurtosis:                       1.832   Cond. No.                         2.62\n",
            "==============================================================================\n",
            "\n",
            "Warnings:\n",
            "[1] Standard Errors assume that the covariance matrix of the errors is correctly specified.\n"
          ],
          "name": "stdout"
        }
      ]
    },
    {
      "cell_type": "code",
      "metadata": {
        "id": "Hvg5Fw9bNOjw",
        "colab_type": "code",
        "colab": {
          "base_uri": "https://localhost:8080/",
          "height": 314
        },
        "outputId": "0c9d092f-dd60-4f41-a938-21108851e24e"
      },
      "source": [
        "m_noblock = pd.DataFrame([regression_ate(d, \"y~d+r_y0\") for d in progressbar(noblock)])\n",
        "m_noblock.describe()"
      ],
      "execution_count": null,
      "outputs": [
        {
          "output_type": "stream",
          "text": [
            "100% (500 of 500) |######################| Elapsed Time: 0:00:07 Time:  0:00:07\n"
          ],
          "name": "stderr"
        },
        {
          "output_type": "execute_result",
          "data": {
            "text/html": [
              "<div>\n",
              "<style scoped>\n",
              "    .dataframe tbody tr th:only-of-type {\n",
              "        vertical-align: middle;\n",
              "    }\n",
              "\n",
              "    .dataframe tbody tr th {\n",
              "        vertical-align: top;\n",
              "    }\n",
              "\n",
              "    .dataframe thead th {\n",
              "        text-align: right;\n",
              "    }\n",
              "</style>\n",
              "<table border=\"1\" class=\"dataframe\">\n",
              "  <thead>\n",
              "    <tr style=\"text-align: right;\">\n",
              "      <th></th>\n",
              "      <th>estimated_ate</th>\n",
              "      <th>estimated_ate_se</th>\n",
              "    </tr>\n",
              "  </thead>\n",
              "  <tbody>\n",
              "    <tr>\n",
              "      <th>count</th>\n",
              "      <td>500.000000</td>\n",
              "      <td>500.000000</td>\n",
              "    </tr>\n",
              "    <tr>\n",
              "      <th>mean</th>\n",
              "      <td>-0.212548</td>\n",
              "      <td>0.141666</td>\n",
              "    </tr>\n",
              "    <tr>\n",
              "      <th>std</th>\n",
              "      <td>0.146562</td>\n",
              "      <td>0.007438</td>\n",
              "    </tr>\n",
              "    <tr>\n",
              "      <th>min</th>\n",
              "      <td>-0.630368</td>\n",
              "      <td>0.124440</td>\n",
              "    </tr>\n",
              "    <tr>\n",
              "      <th>25%</th>\n",
              "      <td>-0.312459</td>\n",
              "      <td>0.136398</td>\n",
              "    </tr>\n",
              "    <tr>\n",
              "      <th>50%</th>\n",
              "      <td>-0.210271</td>\n",
              "      <td>0.141468</td>\n",
              "    </tr>\n",
              "    <tr>\n",
              "      <th>75%</th>\n",
              "      <td>-0.108733</td>\n",
              "      <td>0.147090</td>\n",
              "    </tr>\n",
              "    <tr>\n",
              "      <th>max</th>\n",
              "      <td>0.195095</td>\n",
              "      <td>0.162388</td>\n",
              "    </tr>\n",
              "  </tbody>\n",
              "</table>\n",
              "</div>"
            ],
            "text/plain": [
              "       estimated_ate  estimated_ate_se\n",
              "count     500.000000        500.000000\n",
              "mean       -0.212548          0.141666\n",
              "std         0.146562          0.007438\n",
              "min        -0.630368          0.124440\n",
              "25%        -0.312459          0.136398\n",
              "50%        -0.210271          0.141468\n",
              "75%        -0.108733          0.147090\n",
              "max         0.195095          0.162388"
            ]
          },
          "metadata": {
            "tags": []
          },
          "execution_count": 61
        }
      ]
    },
    {
      "cell_type": "code",
      "metadata": {
        "id": "yMzM4OARNyKx",
        "colab_type": "code",
        "colab": {
          "base_uri": "https://localhost:8080/",
          "height": 314
        },
        "outputId": "47baa2dc-6399-46a9-8c97-d334aec64211"
      },
      "source": [
        "m_block = pd.DataFrame([regression_ate(d, \"y~d+r_y0\") for d in progressbar(block)])\n",
        "m_block.describe()"
      ],
      "execution_count": null,
      "outputs": [
        {
          "output_type": "stream",
          "text": [
            "100% (500 of 500) |######################| Elapsed Time: 0:00:07 Time:  0:00:07\n"
          ],
          "name": "stderr"
        },
        {
          "output_type": "execute_result",
          "data": {
            "text/html": [
              "<div>\n",
              "<style scoped>\n",
              "    .dataframe tbody tr th:only-of-type {\n",
              "        vertical-align: middle;\n",
              "    }\n",
              "\n",
              "    .dataframe tbody tr th {\n",
              "        vertical-align: top;\n",
              "    }\n",
              "\n",
              "    .dataframe thead th {\n",
              "        text-align: right;\n",
              "    }\n",
              "</style>\n",
              "<table border=\"1\" class=\"dataframe\">\n",
              "  <thead>\n",
              "    <tr style=\"text-align: right;\">\n",
              "      <th></th>\n",
              "      <th>estimated_ate</th>\n",
              "      <th>estimated_ate_se</th>\n",
              "    </tr>\n",
              "  </thead>\n",
              "  <tbody>\n",
              "    <tr>\n",
              "      <th>count</th>\n",
              "      <td>500.000000</td>\n",
              "      <td>500.000000</td>\n",
              "    </tr>\n",
              "    <tr>\n",
              "      <th>mean</th>\n",
              "      <td>-0.207264</td>\n",
              "      <td>0.141537</td>\n",
              "    </tr>\n",
              "    <tr>\n",
              "      <th>std</th>\n",
              "      <td>0.141091</td>\n",
              "      <td>0.007115</td>\n",
              "    </tr>\n",
              "    <tr>\n",
              "      <th>min</th>\n",
              "      <td>-0.675137</td>\n",
              "      <td>0.119573</td>\n",
              "    </tr>\n",
              "    <tr>\n",
              "      <th>25%</th>\n",
              "      <td>-0.300423</td>\n",
              "      <td>0.136911</td>\n",
              "    </tr>\n",
              "    <tr>\n",
              "      <th>50%</th>\n",
              "      <td>-0.202621</td>\n",
              "      <td>0.141598</td>\n",
              "    </tr>\n",
              "    <tr>\n",
              "      <th>75%</th>\n",
              "      <td>-0.113024</td>\n",
              "      <td>0.146181</td>\n",
              "    </tr>\n",
              "    <tr>\n",
              "      <th>max</th>\n",
              "      <td>0.227972</td>\n",
              "      <td>0.161244</td>\n",
              "    </tr>\n",
              "  </tbody>\n",
              "</table>\n",
              "</div>"
            ],
            "text/plain": [
              "       estimated_ate  estimated_ate_se\n",
              "count     500.000000        500.000000\n",
              "mean       -0.207264          0.141537\n",
              "std         0.141091          0.007115\n",
              "min        -0.675137          0.119573\n",
              "25%        -0.300423          0.136911\n",
              "50%        -0.202621          0.141598\n",
              "75%        -0.113024          0.146181\n",
              "max         0.227972          0.161244"
            ]
          },
          "metadata": {
            "tags": []
          },
          "execution_count": 62
        }
      ]
    },
    {
      "cell_type": "code",
      "metadata": {
        "id": "wDi3JLwYOdZq",
        "colab_type": "code",
        "colab": {
          "base_uri": "https://localhost:8080/",
          "height": 365
        },
        "outputId": "f761b4cf-2488-4f5e-d14b-e8a708573518"
      },
      "source": [
        "B = 500\n",
        "inter_person_variability = 20\n",
        "# Generate simulated data sets without blocking and with blocking\n",
        "noblock1 = [gen_shoe_data(100, False, inter_person_variability) for _ in progressbar(np.arange(0, B))]\n",
        "block1 = [gen_shoe_data(100, True, inter_person_variability) for _ in progressbar(np.arange(0, B))]\n",
        "# Estimate the ATE of each data set\n",
        "m_noblock1 = pd.DataFrame([estimate_ate(d) for d in progressbar(noblock1)])\n",
        "m_block1 = pd.DataFrame([estimate_ate(d) for d in progressbar(block1)])\n",
        "# Show results\n",
        "results = pd.concat([\n",
        "    m_noblock1['estimated_ate'].describe(),\n",
        "    m_block1['estimated_ate'].describe()\n",
        "], axis=1)\n",
        "results.columns = ['noblock', 'block']\n",
        "results"
      ],
      "execution_count": null,
      "outputs": [
        {
          "output_type": "stream",
          "text": [
            "100% (500 of 500) |######################| Elapsed Time: 0:00:06 Time:  0:00:06\n",
            "100% (500 of 500) |######################| Elapsed Time: 0:00:06 Time:  0:00:06\n",
            "100% (500 of 500) |######################| Elapsed Time: 0:00:01 Time:  0:00:01\n",
            "100% (500 of 500) |######################| Elapsed Time: 0:00:00 Time:  0:00:00\n"
          ],
          "name": "stderr"
        },
        {
          "output_type": "execute_result",
          "data": {
            "text/html": [
              "<div>\n",
              "<style scoped>\n",
              "    .dataframe tbody tr th:only-of-type {\n",
              "        vertical-align: middle;\n",
              "    }\n",
              "\n",
              "    .dataframe tbody tr th {\n",
              "        vertical-align: top;\n",
              "    }\n",
              "\n",
              "    .dataframe thead th {\n",
              "        text-align: right;\n",
              "    }\n",
              "</style>\n",
              "<table border=\"1\" class=\"dataframe\">\n",
              "  <thead>\n",
              "    <tr style=\"text-align: right;\">\n",
              "      <th></th>\n",
              "      <th>noblock</th>\n",
              "      <th>block</th>\n",
              "    </tr>\n",
              "  </thead>\n",
              "  <tbody>\n",
              "    <tr>\n",
              "      <th>count</th>\n",
              "      <td>500.000000</td>\n",
              "      <td>500.000000</td>\n",
              "    </tr>\n",
              "    <tr>\n",
              "      <th>mean</th>\n",
              "      <td>-0.172278</td>\n",
              "      <td>-0.192010</td>\n",
              "    </tr>\n",
              "    <tr>\n",
              "      <th>std</th>\n",
              "      <td>0.833127</td>\n",
              "      <td>0.147150</td>\n",
              "    </tr>\n",
              "    <tr>\n",
              "      <th>min</th>\n",
              "      <td>-3.063269</td>\n",
              "      <td>-0.679533</td>\n",
              "    </tr>\n",
              "    <tr>\n",
              "      <th>25%</th>\n",
              "      <td>-0.721810</td>\n",
              "      <td>-0.289086</td>\n",
              "    </tr>\n",
              "    <tr>\n",
              "      <th>50%</th>\n",
              "      <td>-0.210903</td>\n",
              "      <td>-0.198781</td>\n",
              "    </tr>\n",
              "    <tr>\n",
              "      <th>75%</th>\n",
              "      <td>0.398647</td>\n",
              "      <td>-0.090586</td>\n",
              "    </tr>\n",
              "    <tr>\n",
              "      <th>max</th>\n",
              "      <td>2.104760</td>\n",
              "      <td>0.264366</td>\n",
              "    </tr>\n",
              "  </tbody>\n",
              "</table>\n",
              "</div>"
            ],
            "text/plain": [
              "          noblock       block\n",
              "count  500.000000  500.000000\n",
              "mean    -0.172278   -0.192010\n",
              "std      0.833127    0.147150\n",
              "min     -3.063269   -0.679533\n",
              "25%     -0.721810   -0.289086\n",
              "50%     -0.210903   -0.198781\n",
              "75%      0.398647   -0.090586\n",
              "max      2.104760    0.264366"
            ]
          },
          "metadata": {
            "tags": []
          },
          "execution_count": 63
        }
      ]
    },
    {
      "cell_type": "code",
      "metadata": {
        "id": "kLdj7SHNXDlp",
        "colab_type": "code",
        "colab": {
          "base_uri": "https://localhost:8080/",
          "height": 314
        },
        "outputId": "07d63001-93be-4f4d-e8fa-6701ebf96a3d"
      },
      "source": [
        "m_noblock1 = pd.DataFrame([regression_ate(d, \"y~d+r_y0\") for d in progressbar(noblock1)])\n",
        "m_noblock1.describe()"
      ],
      "execution_count": null,
      "outputs": [
        {
          "output_type": "stream",
          "text": [
            "100% (500 of 500) |######################| Elapsed Time: 0:00:07 Time:  0:00:07\n"
          ],
          "name": "stderr"
        },
        {
          "output_type": "execute_result",
          "data": {
            "text/html": [
              "<div>\n",
              "<style scoped>\n",
              "    .dataframe tbody tr th:only-of-type {\n",
              "        vertical-align: middle;\n",
              "    }\n",
              "\n",
              "    .dataframe tbody tr th {\n",
              "        vertical-align: top;\n",
              "    }\n",
              "\n",
              "    .dataframe thead th {\n",
              "        text-align: right;\n",
              "    }\n",
              "</style>\n",
              "<table border=\"1\" class=\"dataframe\">\n",
              "  <thead>\n",
              "    <tr style=\"text-align: right;\">\n",
              "      <th></th>\n",
              "      <th>estimated_ate</th>\n",
              "      <th>estimated_ate_se</th>\n",
              "    </tr>\n",
              "  </thead>\n",
              "  <tbody>\n",
              "    <tr>\n",
              "      <th>count</th>\n",
              "      <td>500.000000</td>\n",
              "      <td>500.000000</td>\n",
              "    </tr>\n",
              "    <tr>\n",
              "      <th>mean</th>\n",
              "      <td>-0.198704</td>\n",
              "      <td>0.141886</td>\n",
              "    </tr>\n",
              "    <tr>\n",
              "      <th>std</th>\n",
              "      <td>0.139070</td>\n",
              "      <td>0.007104</td>\n",
              "    </tr>\n",
              "    <tr>\n",
              "      <th>min</th>\n",
              "      <td>-0.582760</td>\n",
              "      <td>0.113887</td>\n",
              "    </tr>\n",
              "    <tr>\n",
              "      <th>25%</th>\n",
              "      <td>-0.296421</td>\n",
              "      <td>0.137055</td>\n",
              "    </tr>\n",
              "    <tr>\n",
              "      <th>50%</th>\n",
              "      <td>-0.211674</td>\n",
              "      <td>0.141570</td>\n",
              "    </tr>\n",
              "    <tr>\n",
              "      <th>75%</th>\n",
              "      <td>-0.104446</td>\n",
              "      <td>0.146817</td>\n",
              "    </tr>\n",
              "    <tr>\n",
              "      <th>max</th>\n",
              "      <td>0.245089</td>\n",
              "      <td>0.160868</td>\n",
              "    </tr>\n",
              "  </tbody>\n",
              "</table>\n",
              "</div>"
            ],
            "text/plain": [
              "       estimated_ate  estimated_ate_se\n",
              "count     500.000000        500.000000\n",
              "mean       -0.198704          0.141886\n",
              "std         0.139070          0.007104\n",
              "min        -0.582760          0.113887\n",
              "25%        -0.296421          0.137055\n",
              "50%        -0.211674          0.141570\n",
              "75%        -0.104446          0.146817\n",
              "max         0.245089          0.160868"
            ]
          },
          "metadata": {
            "tags": []
          },
          "execution_count": 64
        }
      ]
    },
    {
      "cell_type": "code",
      "metadata": {
        "id": "lrKTfeDCXL_Q",
        "colab_type": "code",
        "colab": {
          "base_uri": "https://localhost:8080/",
          "height": 314
        },
        "outputId": "3731e763-0573-41c7-abc6-92ada0c88fc4"
      },
      "source": [
        "m_block1 = pd.DataFrame([regression_ate(d, \"y~d+r_y0\") for d in progressbar(block1)])\n",
        "m_block1.describe()"
      ],
      "execution_count": null,
      "outputs": [
        {
          "output_type": "stream",
          "text": [
            "100% (500 of 500) |######################| Elapsed Time: 0:00:07 Time:  0:00:07\n"
          ],
          "name": "stderr"
        },
        {
          "output_type": "execute_result",
          "data": {
            "text/html": [
              "<div>\n",
              "<style scoped>\n",
              "    .dataframe tbody tr th:only-of-type {\n",
              "        vertical-align: middle;\n",
              "    }\n",
              "\n",
              "    .dataframe tbody tr th {\n",
              "        vertical-align: top;\n",
              "    }\n",
              "\n",
              "    .dataframe thead th {\n",
              "        text-align: right;\n",
              "    }\n",
              "</style>\n",
              "<table border=\"1\" class=\"dataframe\">\n",
              "  <thead>\n",
              "    <tr style=\"text-align: right;\">\n",
              "      <th></th>\n",
              "      <th>estimated_ate</th>\n",
              "      <th>estimated_ate_se</th>\n",
              "    </tr>\n",
              "  </thead>\n",
              "  <tbody>\n",
              "    <tr>\n",
              "      <th>count</th>\n",
              "      <td>500.000000</td>\n",
              "      <td>500.000000</td>\n",
              "    </tr>\n",
              "    <tr>\n",
              "      <th>mean</th>\n",
              "      <td>-0.192010</td>\n",
              "      <td>0.141228</td>\n",
              "    </tr>\n",
              "    <tr>\n",
              "      <th>std</th>\n",
              "      <td>0.147150</td>\n",
              "      <td>0.006877</td>\n",
              "    </tr>\n",
              "    <tr>\n",
              "      <th>min</th>\n",
              "      <td>-0.679533</td>\n",
              "      <td>0.122743</td>\n",
              "    </tr>\n",
              "    <tr>\n",
              "      <th>25%</th>\n",
              "      <td>-0.289086</td>\n",
              "      <td>0.136994</td>\n",
              "    </tr>\n",
              "    <tr>\n",
              "      <th>50%</th>\n",
              "      <td>-0.198781</td>\n",
              "      <td>0.141395</td>\n",
              "    </tr>\n",
              "    <tr>\n",
              "      <th>75%</th>\n",
              "      <td>-0.090586</td>\n",
              "      <td>0.145882</td>\n",
              "    </tr>\n",
              "    <tr>\n",
              "      <th>max</th>\n",
              "      <td>0.264366</td>\n",
              "      <td>0.164922</td>\n",
              "    </tr>\n",
              "  </tbody>\n",
              "</table>\n",
              "</div>"
            ],
            "text/plain": [
              "       estimated_ate  estimated_ate_se\n",
              "count     500.000000        500.000000\n",
              "mean       -0.192010          0.141228\n",
              "std         0.147150          0.006877\n",
              "min        -0.679533          0.122743\n",
              "25%        -0.289086          0.136994\n",
              "50%        -0.198781          0.141395\n",
              "75%        -0.090586          0.145882\n",
              "max         0.264366          0.164922"
            ]
          },
          "metadata": {
            "tags": []
          },
          "execution_count": 65
        }
      ]
    },
    {
      "cell_type": "code",
      "metadata": {
        "id": "fYNgZqlNXQgw",
        "colab_type": "code",
        "colab": {
          "base_uri": "https://localhost:8080/",
          "height": 34
        },
        "outputId": "7543d2df-86f1-4ce5-8ed9-2997ec651c5f"
      },
      "source": [
        "b22 = pd.DataFrame([regression_ate(d, \"y~d+r_y0\") for d in progressbar(block1)])"
      ],
      "execution_count": null,
      "outputs": [
        {
          "output_type": "stream",
          "text": [
            "100% (500 of 500) |######################| Elapsed Time: 0:00:07 Time:  0:00:07\n"
          ],
          "name": "stderr"
        }
      ]
    },
    {
      "cell_type": "code",
      "metadata": {
        "id": "T65lO3ZTYsvh",
        "colab_type": "code",
        "colab": {
          "base_uri": "https://localhost:8080/",
          "height": 34
        },
        "outputId": "af842ff6-f06c-4de4-925e-e715b55dde76"
      },
      "source": [
        "b21 = pd.DataFrame([regression_ate(d, \"y~d+r_y0\") for d in progressbar(noblock1)])"
      ],
      "execution_count": null,
      "outputs": [
        {
          "output_type": "stream",
          "text": [
            "100% (500 of 500) |######################| Elapsed Time: 0:00:07 Time:  0:00:07\n"
          ],
          "name": "stderr"
        }
      ]
    },
    {
      "cell_type": "code",
      "metadata": {
        "id": "h1r2pJ4qYvIN",
        "colab_type": "code",
        "colab": {
          "base_uri": "https://localhost:8080/",
          "height": 34
        },
        "outputId": "a748d6b3-6f91-44b4-85d8-f1c5d3d4993f"
      },
      "source": [
        "a22 = pd.DataFrame([regression_ate(d, \"y~d+r_y0\") for d in progressbar(block)])"
      ],
      "execution_count": null,
      "outputs": [
        {
          "output_type": "stream",
          "text": [
            "100% (500 of 500) |######################| Elapsed Time: 0:00:07 Time:  0:00:07\n"
          ],
          "name": "stderr"
        }
      ]
    },
    {
      "cell_type": "code",
      "metadata": {
        "id": "e16l27J6ZJX_",
        "colab_type": "code",
        "colab": {
          "base_uri": "https://localhost:8080/",
          "height": 34
        },
        "outputId": "220de114-9891-4cf3-e349-344907b9c229"
      },
      "source": [
        "a21 = pd.DataFrame([regression_ate(d, \"y~d+r_y0\") for d in progressbar(noblock)])"
      ],
      "execution_count": null,
      "outputs": [
        {
          "output_type": "stream",
          "text": [
            "100% (500 of 500) |######################| Elapsed Time: 0:00:07 Time:  0:00:07\n"
          ],
          "name": "stderr"
        }
      ]
    },
    {
      "cell_type": "code",
      "metadata": {
        "id": "RqLAT13pZNwD",
        "colab_type": "code",
        "colab": {
          "base_uri": "https://localhost:8080/",
          "height": 303
        },
        "outputId": "8753613c-ce4e-4c13-eb4d-7a61e0b1b428"
      },
      "source": [
        "a22['estimated_ate_se'].hist(bins = 100, density = True, color = 'green')\n",
        "b22['estimated_ate_se'].hist(bins = 100, density = True, color = 'red')\n",
        "plt.legend()"
      ],
      "execution_count": null,
      "outputs": [
        {
          "output_type": "stream",
          "text": [
            "No handles with labels found to put in legend.\n"
          ],
          "name": "stderr"
        },
        {
          "output_type": "execute_result",
          "data": {
            "text/plain": [
              "<matplotlib.legend.Legend at 0x7faec1006ac8>"
            ]
          },
          "metadata": {
            "tags": []
          },
          "execution_count": 70
        },
        {
          "output_type": "display_data",
          "data": {
            "image/png": "[encoded data removed]",
            "text/plain": [
              "<Figure size 432x288 with 1 Axes>"
            ]
          },
          "metadata": {
            "tags": []
          }
        }
      ]
    },
    {
      "cell_type": "code",
      "metadata": {
        "id": "weLr_tM4beEw",
        "colab_type": "code",
        "colab": {
          "base_uri": "https://localhost:8080/",
          "height": 303
        },
        "outputId": "4f8ce76b-729e-4305-e9a8-509253efb53f"
      },
      "source": [
        "a21['estimated_ate_se'].hist(bins = 100, density = True, color = 'green')\n",
        "b21['estimated_ate_se'].hist(bins = 100, density = True, color = 'red')\n",
        "plt.legend()"
      ],
      "execution_count": null,
      "outputs": [
        {
          "output_type": "stream",
          "text": [
            "No handles with labels found to put in legend.\n"
          ],
          "name": "stderr"
        },
        {
          "output_type": "execute_result",
          "data": {
            "text/plain": [
              "<matplotlib.legend.Legend at 0x7faec0ee3080>"
            ]
          },
          "metadata": {
            "tags": []
          },
          "execution_count": 71
        },
        {
          "output_type": "display_data",
          "data": {
            "image/png": "[encoded data removed]",
            "text/plain": [
              "<Figure size 432x288 with 1 Axes>"
            ]
          },
          "metadata": {
            "tags": []
          }
        }
      ]
    },
    {
      "cell_type": "code",
      "metadata": {
        "id": "3KcsQgEucdlo",
        "colab_type": "code",
        "colab": {
          "base_uri": "https://localhost:8080/",
          "height": 303
        },
        "outputId": "bd28c9b9-5a86-45bb-8504-fa92f779f0c1"
      },
      "source": [
        "a22['estimated_ate'].hist(bins = 100, density = True, color = 'green')\n",
        "b22['estimated_ate'].hist(bins = 100, density = True, color = 'red')\n",
        "plt.legend()"
      ],
      "execution_count": null,
      "outputs": [
        {
          "output_type": "stream",
          "text": [
            "No handles with labels found to put in legend.\n"
          ],
          "name": "stderr"
        },
        {
          "output_type": "execute_result",
          "data": {
            "text/plain": [
              "<matplotlib.legend.Legend at 0x7faec0bc2860>"
            ]
          },
          "metadata": {
            "tags": []
          },
          "execution_count": 72
        },
        {
          "output_type": "display_data",
          "data": {
            "image/png": "[encoded data removed]",
            "text/plain": [
              "<Figure size 432x288 with 1 Axes>"
            ]
          },
          "metadata": {
            "tags": []
          }
        }
      ]
    },
    {
      "cell_type": "code",
      "metadata": {
        "id": "TIeYB50scjQs",
        "colab_type": "code",
        "colab": {
          "base_uri": "https://localhost:8080/",
          "height": 303
        },
        "outputId": "863a619c-f0e8-4342-f248-4a9385ca6d09"
      },
      "source": [
        "a21['estimated_ate'].hist(bins = 100, density = True, color = 'green')\n",
        "b21['estimated_ate'].hist(bins = 100, density = True, color = 'red')\n",
        "plt.legend()"
      ],
      "execution_count": null,
      "outputs": [
        {
          "output_type": "stream",
          "text": [
            "No handles with labels found to put in legend.\n"
          ],
          "name": "stderr"
        },
        {
          "output_type": "execute_result",
          "data": {
            "text/plain": [
              "<matplotlib.legend.Legend at 0x7faec09d5b70>"
            ]
          },
          "metadata": {
            "tags": []
          },
          "execution_count": 73
        },
        {
          "output_type": "display_data",
          "data": {
            "image/png": "[encoded data removed]",
            "text/plain": [
              "<Figure size 432x288 with 1 Axes>"
            ]
          },
          "metadata": {
            "tags": []
          }
        }
      ]
    },
    {
      "cell_type": "markdown",
      "metadata": {
        "id": "EQE3Y1X5bKvs",
        "colab_type": "text"
      },
      "source": [
        "##6"
      ]
    },
    {
      "cell_type": "code",
      "metadata": {
        "id": "MbWjQEdtbPjD",
        "colab_type": "code",
        "colab": {}
      },
      "source": [
        "def gen_shoe_data(N, block=False, person_variability=5):\n",
        "\n",
        "  # Make N people each with their own randomly wear rate in [0, person_variability].\n",
        "  people = np.arange(0, N)\n",
        "  r_person = np.random.uniform(0, person_variability, size=N)\n",
        "  \n",
        "  # Make left and right feet\n",
        "  df_left = pd.DataFrame({'i': people})\n",
        "  df_left['left_foot'] = 1\n",
        "  df_right = pd.DataFrame({'i': people})\n",
        "  df_right['left_foot'] = 0 \n",
        "  df = pd.concat([df_left, df_right], axis=0)\n",
        "  df = pd.concat([df_left, df_right], axis=0)\n",
        "  df = pd.concat([df_left, df_right], axis=0)\n",
        "  df = pd.concat([df_left, df_right], axis=0)\n",
        "  df = pd.concat([df_left, df_right], axis=0)\n",
        "  df['shoe'] = np.arange(0, df.shape[0])\n",
        "  \n",
        "  # Each of the person's feet will have the same Y0 (success probability)\n",
        "  df['r_y0'] = r_person[df['i']]\n",
        "  \n",
        "  # Treatment reduces wear rate by 0.20\n",
        "  ATE = -0.20\n",
        "  # Y outcomes are measures of shoe wear\n",
        "  Y0 = np.random.normal(loc=df['r_y0'])\n",
        "  Y1 = np.random.normal(loc=df['r_y0'] + ATE)\n",
        "  df['y0'] = Y0\n",
        "  df['y1'] = Y1\n",
        "  \n",
        "  P_treatment = 0.5\n",
        "  if block == False:\n",
        "    treatment_shoes = np.random.choice(df['shoe'], int(len(df['shoe']) * P_treatment), replace=False)\n",
        "    df['d'] = df['shoe'].isin(treatment_shoes).astype('float')\n",
        "  else:\n",
        "    # Treat left foot only\n",
        "    # In real life we would treat a random foot.\n",
        "    # Wouldn't do this in real life but it doesn't matter for the simulation.\n",
        "    df['d'] = df['left_foot']\n",
        "         \n",
        "  df['y'] = df.eval(\"y1 * d + y0 * (1 - d)\")\n",
        "  del df['y0']\n",
        "  del df['y1']\n",
        "  return df\n",
        "\n",
        "def estimate_ate(df):\n",
        "  means = df.groupby('d')['y'].mean()\n",
        "  return {'estimated_ate': means[1] - means[0]}\n",
        "\n",
        "\n",
        "def regression_ate(df, formula=\"y ~ d + r_y0\"):\n",
        "  r = sfa.ols(formula, df).fit()\n",
        "  return {\n",
        "      'estimated_ate': r.params['d'],\n",
        "      'estimated_ate_se': r.bse['d']\n",
        "  }"
      ],
      "execution_count": null,
      "outputs": []
    },
    {
      "cell_type": "code",
      "metadata": {
        "id": "9w9nTGwQbPg3",
        "colab_type": "code",
        "colab": {
          "base_uri": "https://localhost:8080/",
          "height": 365
        },
        "outputId": "1c08969e-1c27-4938-b902-fac58bbdebb4"
      },
      "source": [
        "B = 500\n",
        "inter_person_variability = 20\n",
        "# Generate simulated data sets without blocking and with blocking\n",
        "noblock1 = [gen_shoe_data(20, False, inter_person_variability) for _ in progressbar(np.arange(0, B))]\n",
        "block1 = [gen_shoe_data(20, True, inter_person_variability) for _ in progressbar(np.arange(0, B))]\n",
        "# Estimate the ATE of each data set\n",
        "m_noblock1 = pd.DataFrame([estimate_ate(d) for d in progressbar(noblock1)])\n",
        "m_block1 = pd.DataFrame([estimate_ate(d) for d in progressbar(block1)])\n",
        "# Show results\n",
        "results = pd.concat([\n",
        "    m_noblock1['estimated_ate'].describe(),\n",
        "    m_block1['estimated_ate'].describe()\n",
        "], axis=1)\n",
        "results.columns = ['noblock', 'block']\n",
        "results"
      ],
      "execution_count": null,
      "outputs": [
        {
          "output_type": "stream",
          "text": [
            "100% (500 of 500) |######################| Elapsed Time: 0:00:07 Time:  0:00:07\n",
            "100% (500 of 500) |######################| Elapsed Time: 0:00:06 Time:  0:00:06\n",
            "100% (500 of 500) |######################| Elapsed Time: 0:00:01 Time:  0:00:01\n",
            "100% (500 of 500) |######################| Elapsed Time: 0:00:00 Time:  0:00:00\n"
          ],
          "name": "stderr"
        },
        {
          "output_type": "execute_result",
          "data": {
            "text/html": [
              "<div>\n",
              "<style scoped>\n",
              "    .dataframe tbody tr th:only-of-type {\n",
              "        vertical-align: middle;\n",
              "    }\n",
              "\n",
              "    .dataframe tbody tr th {\n",
              "        vertical-align: top;\n",
              "    }\n",
              "\n",
              "    .dataframe thead th {\n",
              "        text-align: right;\n",
              "    }\n",
              "</style>\n",
              "<table border=\"1\" class=\"dataframe\">\n",
              "  <thead>\n",
              "    <tr style=\"text-align: right;\">\n",
              "      <th></th>\n",
              "      <th>noblock</th>\n",
              "      <th>block</th>\n",
              "    </tr>\n",
              "  </thead>\n",
              "  <tbody>\n",
              "    <tr>\n",
              "      <th>count</th>\n",
              "      <td>500.000000</td>\n",
              "      <td>500.000000</td>\n",
              "    </tr>\n",
              "    <tr>\n",
              "      <th>mean</th>\n",
              "      <td>-0.213726</td>\n",
              "      <td>-0.211386</td>\n",
              "    </tr>\n",
              "    <tr>\n",
              "      <th>std</th>\n",
              "      <td>1.862440</td>\n",
              "      <td>0.305815</td>\n",
              "    </tr>\n",
              "    <tr>\n",
              "      <th>min</th>\n",
              "      <td>-5.305466</td>\n",
              "      <td>-1.111531</td>\n",
              "    </tr>\n",
              "    <tr>\n",
              "      <th>25%</th>\n",
              "      <td>-1.525726</td>\n",
              "      <td>-0.408049</td>\n",
              "    </tr>\n",
              "    <tr>\n",
              "      <th>50%</th>\n",
              "      <td>-0.154956</td>\n",
              "      <td>-0.224399</td>\n",
              "    </tr>\n",
              "    <tr>\n",
              "      <th>75%</th>\n",
              "      <td>0.928169</td>\n",
              "      <td>0.005594</td>\n",
              "    </tr>\n",
              "    <tr>\n",
              "      <th>max</th>\n",
              "      <td>6.212837</td>\n",
              "      <td>0.826867</td>\n",
              "    </tr>\n",
              "  </tbody>\n",
              "</table>\n",
              "</div>"
            ],
            "text/plain": [
              "          noblock       block\n",
              "count  500.000000  500.000000\n",
              "mean    -0.213726   -0.211386\n",
              "std      1.862440    0.305815\n",
              "min     -5.305466   -1.111531\n",
              "25%     -1.525726   -0.408049\n",
              "50%     -0.154956   -0.224399\n",
              "75%      0.928169    0.005594\n",
              "max      6.212837    0.826867"
            ]
          },
          "metadata": {
            "tags": []
          },
          "execution_count": 75
        }
      ]
    },
    {
      "cell_type": "code",
      "metadata": {
        "id": "9UZ68wPTbPd_",
        "colab_type": "code",
        "colab": {
          "base_uri": "https://localhost:8080/",
          "height": 314
        },
        "outputId": "b3e74e17-50b7-4ecf-f5cc-ed2ec3511f8b"
      },
      "source": [
        "m_noblock1 = pd.DataFrame([regression_ate(d, \"y~d+C(i)\") for d in progressbar(noblock1)])\n",
        "m_noblock1.describe()"
      ],
      "execution_count": null,
      "outputs": [
        {
          "output_type": "stream",
          "text": [
            "100% (500 of 500) |######################| Elapsed Time: 0:00:07 Time:  0:00:07\n"
          ],
          "name": "stderr"
        },
        {
          "output_type": "execute_result",
          "data": {
            "text/html": [
              "<div>\n",
              "<style scoped>\n",
              "    .dataframe tbody tr th:only-of-type {\n",
              "        vertical-align: middle;\n",
              "    }\n",
              "\n",
              "    .dataframe tbody tr th {\n",
              "        vertical-align: top;\n",
              "    }\n",
              "\n",
              "    .dataframe thead th {\n",
              "        text-align: right;\n",
              "    }\n",
              "</style>\n",
              "<table border=\"1\" class=\"dataframe\">\n",
              "  <thead>\n",
              "    <tr style=\"text-align: right;\">\n",
              "      <th></th>\n",
              "      <th>estimated_ate</th>\n",
              "      <th>estimated_ate_se</th>\n",
              "    </tr>\n",
              "  </thead>\n",
              "  <tbody>\n",
              "    <tr>\n",
              "      <th>count</th>\n",
              "      <td>500.000000</td>\n",
              "      <td>500.000000</td>\n",
              "    </tr>\n",
              "    <tr>\n",
              "      <th>mean</th>\n",
              "      <td>-0.201915</td>\n",
              "      <td>0.448095</td>\n",
              "    </tr>\n",
              "    <tr>\n",
              "      <th>std</th>\n",
              "      <td>0.462198</td>\n",
              "      <td>0.094789</td>\n",
              "    </tr>\n",
              "    <tr>\n",
              "      <th>min</th>\n",
              "      <td>-1.495914</td>\n",
              "      <td>0.220221</td>\n",
              "    </tr>\n",
              "    <tr>\n",
              "      <th>25%</th>\n",
              "      <td>-0.526280</td>\n",
              "      <td>0.382364</td>\n",
              "    </tr>\n",
              "    <tr>\n",
              "      <th>50%</th>\n",
              "      <td>-0.182086</td>\n",
              "      <td>0.441377</td>\n",
              "    </tr>\n",
              "    <tr>\n",
              "      <th>75%</th>\n",
              "      <td>0.088735</td>\n",
              "      <td>0.503351</td>\n",
              "    </tr>\n",
              "    <tr>\n",
              "      <th>max</th>\n",
              "      <td>1.463598</td>\n",
              "      <td>0.794321</td>\n",
              "    </tr>\n",
              "  </tbody>\n",
              "</table>\n",
              "</div>"
            ],
            "text/plain": [
              "       estimated_ate  estimated_ate_se\n",
              "count     500.000000        500.000000\n",
              "mean       -0.201915          0.448095\n",
              "std         0.462198          0.094789\n",
              "min        -1.495914          0.220221\n",
              "25%        -0.526280          0.382364\n",
              "50%        -0.182086          0.441377\n",
              "75%         0.088735          0.503351\n",
              "max         1.463598          0.794321"
            ]
          },
          "metadata": {
            "tags": []
          },
          "execution_count": 76
        }
      ]
    },
    {
      "cell_type": "code",
      "metadata": {
        "id": "EfIjAAi1bPaX",
        "colab_type": "code",
        "colab": {
          "base_uri": "https://localhost:8080/",
          "height": 314
        },
        "outputId": "6f2e55a3-b353-47a2-cc61-93fb4cf9ead5"
      },
      "source": [
        "m_block1 = pd.DataFrame([regression_ate(d, \"y~d+C(i)\") for d in progressbar(block1)])\n",
        "m_block1.describe()"
      ],
      "execution_count": null,
      "outputs": [
        {
          "output_type": "stream",
          "text": [
            "100% (500 of 500) |######################| Elapsed Time: 0:00:07 Time:  0:00:07\n"
          ],
          "name": "stderr"
        },
        {
          "output_type": "execute_result",
          "data": {
            "text/html": [
              "<div>\n",
              "<style scoped>\n",
              "    .dataframe tbody tr th:only-of-type {\n",
              "        vertical-align: middle;\n",
              "    }\n",
              "\n",
              "    .dataframe tbody tr th {\n",
              "        vertical-align: top;\n",
              "    }\n",
              "\n",
              "    .dataframe thead th {\n",
              "        text-align: right;\n",
              "    }\n",
              "</style>\n",
              "<table border=\"1\" class=\"dataframe\">\n",
              "  <thead>\n",
              "    <tr style=\"text-align: right;\">\n",
              "      <th></th>\n",
              "      <th>estimated_ate</th>\n",
              "      <th>estimated_ate_se</th>\n",
              "    </tr>\n",
              "  </thead>\n",
              "  <tbody>\n",
              "    <tr>\n",
              "      <th>count</th>\n",
              "      <td>500.000000</td>\n",
              "      <td>500.000000</td>\n",
              "    </tr>\n",
              "    <tr>\n",
              "      <th>mean</th>\n",
              "      <td>-0.211386</td>\n",
              "      <td>0.312513</td>\n",
              "    </tr>\n",
              "    <tr>\n",
              "      <th>std</th>\n",
              "      <td>0.305815</td>\n",
              "      <td>0.052608</td>\n",
              "    </tr>\n",
              "    <tr>\n",
              "      <th>min</th>\n",
              "      <td>-1.111531</td>\n",
              "      <td>0.181971</td>\n",
              "    </tr>\n",
              "    <tr>\n",
              "      <th>25%</th>\n",
              "      <td>-0.408049</td>\n",
              "      <td>0.277723</td>\n",
              "    </tr>\n",
              "    <tr>\n",
              "      <th>50%</th>\n",
              "      <td>-0.224399</td>\n",
              "      <td>0.314055</td>\n",
              "    </tr>\n",
              "    <tr>\n",
              "      <th>75%</th>\n",
              "      <td>0.005594</td>\n",
              "      <td>0.346586</td>\n",
              "    </tr>\n",
              "    <tr>\n",
              "      <th>max</th>\n",
              "      <td>0.826867</td>\n",
              "      <td>0.464395</td>\n",
              "    </tr>\n",
              "  </tbody>\n",
              "</table>\n",
              "</div>"
            ],
            "text/plain": [
              "       estimated_ate  estimated_ate_se\n",
              "count     500.000000        500.000000\n",
              "mean       -0.211386          0.312513\n",
              "std         0.305815          0.052608\n",
              "min        -1.111531          0.181971\n",
              "25%        -0.408049          0.277723\n",
              "50%        -0.224399          0.314055\n",
              "75%         0.005594          0.346586\n",
              "max         0.826867          0.464395"
            ]
          },
          "metadata": {
            "tags": []
          },
          "execution_count": 77
        }
      ]
    },
    {
      "cell_type": "code",
      "metadata": {
        "id": "QLIiDGLvbPWP",
        "colab_type": "code",
        "colab": {}
      },
      "source": [
        ""
      ],
      "execution_count": null,
      "outputs": []
    },
    {
      "cell_type": "code",
      "metadata": {
        "id": "3mPfSsxNbPGG",
        "colab_type": "code",
        "colab": {}
      },
      "source": [
        ""
      ],
      "execution_count": null,
      "outputs": []
    },
    {
      "cell_type": "markdown",
      "metadata": {
        "id": "KQgG_8cgZu12",
        "colab_type": "text"
      },
      "source": [
        "#Problem 1\n",
        "##2"
      ]
    },
    {
      "cell_type": "code",
      "metadata": {
        "id": "LdOO6eN_cnEY",
        "colab_type": "code",
        "colab": {}
      },
      "source": [
        "def newfunction2(\n",
        "  N = 10000,\n",
        "  beta_hs = 0.35,\n",
        "  ATE = 0.032\n",
        "):\n",
        "  grad_high_school = np.random.binomial(n=1, p=0.5, size=N)\n",
        "  D = np.random.binomial(n=1, p=0.61, size=N)\n",
        "  baseline_probability = 0.25 + beta_hs * grad_high_school\n",
        "  Y0 = np.random.binomial(n=1, p=baseline_probability)\n",
        "  Y1 = np.random.binomial(n=1, p=baseline_probability + ATE * D)\n",
        "  dff = pd.DataFrame({\n",
        "    'grad_high_school': grad_high_school,\n",
        "    'd': D,\n",
        "    'y0': Y0,\n",
        "    'y1': Y1\n",
        "  })\n",
        "  dff['y'] = dff.eval(\"y1 * d + y0 * (1 - d)\")\n",
        "  return dff"
      ],
      "execution_count": null,
      "outputs": []
    },
    {
      "cell_type": "code",
      "metadata": {
        "id": "kmZ1RqNGcoVi",
        "colab_type": "code",
        "colab": {
          "base_uri": "https://localhost:8080/",
          "height": 51
        },
        "outputId": "9624999d-2a55-44a0-ec57-c8f35f21b1e7"
      },
      "source": [
        "B=1000\n",
        "pvalues1 = []\n",
        "\n",
        "for i in progressbar(np.arange(0, B)):\n",
        "  sample = newfunction2(N = 13560, beta_hs = .35, ATE = 0.018)\n",
        "  model1 = sfa.ols(formula='y ~ d', data=sample).fit()\n",
        "  pvalues1.append(model1.pvalues.d)\n",
        "\n",
        "pvalues1 = pd.Series(pvalues1)\n",
        "stpower = (pvalues1 < .05).mean()\n",
        "print(\"statistical power Model 1= \", stpower)\n",
        "\n"
      ],
      "execution_count": null,
      "outputs": [
        {
          "output_type": "stream",
          "text": [
            "100% (1000 of 1000) |####################| Elapsed Time: 0:00:34 Time:  0:00:34\n"
          ],
          "name": "stderr"
        },
        {
          "output_type": "stream",
          "text": [
            "statistical power Model 1=  0.569\n"
          ],
          "name": "stdout"
        }
      ]
    },
    {
      "cell_type": "code",
      "metadata": {
        "id": "fXwMkkBOdahv",
        "colab_type": "code",
        "colab": {
          "base_uri": "https://localhost:8080/",
          "height": 51
        },
        "outputId": "4b231794-7c74-45ad-a966-aad051b4e001"
      },
      "source": [
        "#Model 2\n",
        "pvalues2= []\n",
        "\n",
        "for i in progressbar(np.arange(0, B)):\n",
        "  sample = newfunction2(N = 13560, beta_hs = .35, ATE = .018)\n",
        "  model2 = sfa.ols(formula='y ~ d + grad_high_school', data=sample).fit()\n",
        "  pvalues2.append(model2.pvalues.d)\n",
        "\n",
        "pvalues2 = pd.Series(pvalues2)\n",
        "stpower2 = (pvalues2 < .05).mean()\n",
        "print(\"statistical power Model 2= \", stpower2)"
      ],
      "execution_count": null,
      "outputs": [
        {
          "output_type": "stream",
          "text": [
            "100% (1000 of 1000) |####################| Elapsed Time: 0:00:42 Time:  0:00:42\n"
          ],
          "name": "stderr"
        },
        {
          "output_type": "stream",
          "text": [
            "statistical power Model 2=  0.573\n"
          ],
          "name": "stdout"
        }
      ]
    },
    {
      "cell_type": "markdown",
      "metadata": {
        "id": "axhT2S5_fCT9",
        "colab_type": "text"
      },
      "source": [
        "##3"
      ]
    },
    {
      "cell_type": "code",
      "metadata": {
        "id": "EcoJilOzebdz",
        "colab_type": "code",
        "colab": {
          "base_uri": "https://localhost:8080/",
          "height": 51
        },
        "outputId": "de5ccb8e-8b1c-471c-ffc0-af0683062a5e"
      },
      "source": [
        "B=1000\n",
        "pvalues1 = []\n",
        "\n",
        "for i in progressbar(np.arange(0, B)):\n",
        "  sample = newfunction2(N = 13560, beta_hs = .1, ATE = 0.018)\n",
        "  model1 = sfa.ols(formula='y ~ d', data=sample).fit()\n",
        "  pvalues1.append(model1.pvalues.d)\n",
        "\n",
        "pvalues1 = pd.Series(pvalues1)\n",
        "stpower = (pvalues1 < .05).mean()\n",
        "print(\"new statistical power Model 1= \", stpower)\n",
        "\n"
      ],
      "execution_count": null,
      "outputs": [
        {
          "output_type": "stream",
          "text": [
            "100% (1000 of 1000) |####################| Elapsed Time: 0:00:34 Time:  0:00:34\n"
          ],
          "name": "stderr"
        },
        {
          "output_type": "stream",
          "text": [
            "new statistical power Model 1=  0.595\n"
          ],
          "name": "stdout"
        }
      ]
    },
    {
      "cell_type": "code",
      "metadata": {
        "id": "VceABQojfJ0u",
        "colab_type": "code",
        "colab": {
          "base_uri": "https://localhost:8080/",
          "height": 51
        },
        "outputId": "b8926b3d-a14a-4879-c53f-56a127c7b7f8"
      },
      "source": [
        "#Model 2\n",
        "pvalues2= []\n",
        "\n",
        "for i in progressbar(np.arange(0, B)):\n",
        "  sample = newfunction2(N = 13560, beta_hs = .1, ATE = .018)\n",
        "  model2 = sfa.ols(formula='y ~ d + grad_high_school', data=sample).fit()\n",
        "  pvalues2.append(model2.pvalues.d)\n",
        "\n",
        "pvalues2 = pd.Series(pvalues2)\n",
        "stpower2 = (pvalues2 < .05).mean()\n",
        "print(\" new statistical power Model 2= \", stpower2)"
      ],
      "execution_count": null,
      "outputs": [
        {
          "output_type": "stream",
          "text": [
            "100% (1000 of 1000) |####################| Elapsed Time: 0:00:41 Time:  0:00:41\n"
          ],
          "name": "stderr"
        },
        {
          "output_type": "stream",
          "text": [
            " new statistical power Model 2=  0.619\n"
          ],
          "name": "stdout"
        }
      ]
    },
    {
      "cell_type": "code",
      "metadata": {
        "id": "8WsPUScvfO_J",
        "colab_type": "code",
        "colab": {}
      },
      "source": [
        ""
      ],
      "execution_count": null,
      "outputs": []
    },
    {
      "cell_type": "markdown",
      "metadata": {
        "id": "jLRlInU4k0uB",
        "colab_type": "text"
      },
      "source": [
        "#Problem 2\n",
        "##1"
      ]
    },
    {
      "cell_type": "code",
      "metadata": {
        "id": "6v_hh4Pnk0QY",
        "colab_type": "code",
        "colab": {
          "base_uri": "https://localhost:8080/",
          "height": 51
        },
        "outputId": "320be811-4694-4aa1-9360-fcafa8962790"
      },
      "source": [
        "B=1000\n",
        "list_noblock = []\n",
        "\n",
        "for i in progressbar(np.arange(0, B)):\n",
        "  sample = gen_shoe_data(N=100, block=False, person_variability=20)\n",
        "  noblock2 = sfa.ols(formula='y ~ d', data=sample).fit()\n",
        "  list_noblock.append(noblock2.pvalues.d)\n",
        "\n",
        "list_noblock = pd.Series(list_noblock)\n",
        "stpower_noblock = (list_noblock < .05).mean()\n",
        "print(\"the statistical power of the non-blocking design = \", stpower_noblock)"
      ],
      "execution_count": null,
      "outputs": [
        {
          "output_type": "stream",
          "text": [
            "100% (1000 of 1000) |####################| Elapsed Time: 0:00:26 Time:  0:00:26\n"
          ],
          "name": "stderr"
        },
        {
          "output_type": "stream",
          "text": [
            "the statistical power of the non-blocking design =  0.055\n"
          ],
          "name": "stdout"
        }
      ]
    },
    {
      "cell_type": "code",
      "metadata": {
        "id": "8H8lN0Kponen",
        "colab_type": "code",
        "colab": {
          "base_uri": "https://localhost:8080/",
          "height": 51
        },
        "outputId": "791f27ec-0ba8-4cb0-9dc9-805222ec5a1f"
      },
      "source": [
        "B=1000\n",
        "list_block = []\n",
        "\n",
        "for i in progressbar(np.arange(0, B)):\n",
        "  sample = gen_shoe_data(N=100, block=False, person_variability=20)\n",
        "  block2 = sfa.ols(formula='y ~ d + r_y0', data=sample).fit()\n",
        "  list_block.append(block2.pvalues.d)\n",
        "\n",
        "list_block = pd.Series(list_block)\n",
        "stpower_block = (list_block < .05).mean()\n",
        "print(\"the statistical power of the blocking design = \", stpower_block)"
      ],
      "execution_count": null,
      "outputs": [
        {
          "output_type": "stream",
          "text": [
            "100% (1000 of 1000) |####################| Elapsed Time: 0:00:30 Time:  0:00:30\n"
          ],
          "name": "stderr"
        },
        {
          "output_type": "stream",
          "text": [
            "the statistical power of the blocking design =  0.271\n"
          ],
          "name": "stdout"
        }
      ]
    },
    {
      "cell_type": "markdown",
      "metadata": {
        "id": "4liurNJepRwL",
        "colab_type": "text"
      },
      "source": [
        "#Bonus"
      ]
    },
    {
      "cell_type": "code",
      "metadata": {
        "id": "HMUowrdqpAo9",
        "colab_type": "code",
        "colab": {
          "base_uri": "https://localhost:8080/",
          "height": 51
        },
        "outputId": "029878ac-ef1d-49b8-ff11-cda381fea695"
      },
      "source": [
        "B=5000\n",
        "\n",
        "list_noblock = []\n",
        "\n",
        "for i in progressbar(np.arange(0, B)):\n",
        "  sample = gen_shoe_data(N=100, block=False, person_variability=20)\n",
        "  noblock3 = sfa.ols(formula='y ~ d', data=sample).fit()\n",
        "  list_noblock.append(noblock3.pvalues.d)\n",
        "\n",
        "list_noblock = pd.Series(list_noblock)\n",
        "stpower_noblock = (list_noblock < .05).mean()\n",
        "print(\"the statistical power of the non-blocking design = \", stpower_noblock)"
      ],
      "execution_count": null,
      "outputs": [
        {
          "output_type": "stream",
          "text": [
            "100% (5000 of 5000) |####################| Elapsed Time: 0:02:14 Time:  0:02:14\n"
          ],
          "name": "stderr"
        },
        {
          "output_type": "stream",
          "text": [
            "the statistical power of the non-blocking design =  0.0588\n"
          ],
          "name": "stdout"
        }
      ]
    },
    {
      "cell_type": "code",
      "metadata": {
        "id": "jxOltAkgqGMu",
        "colab_type": "code",
        "colab": {
          "base_uri": "https://localhost:8080/",
          "height": 51
        },
        "outputId": "7afbfcff-7636-4ca9-8cb4-dc732d1cf29c"
      },
      "source": [
        "B = 5000\n",
        "list_block = []\n",
        "\n",
        "for i in progressbar(np.arange(0, B)):\n",
        "  sample = gen_shoe_data(N=100, block=True, person_variability=20)\n",
        "  block3 = sfa.ols(formula='y ~ d + r_y0', data=sample).fit()\n",
        "  list_block.append(block3.pvalues.d)\n",
        "\n",
        "list_block = pd.Series(list_block)\n",
        "stpower_block = (list_block < .05).mean()\n",
        "print(\"the statistical power of the blocking design = \", stpower_block)"
      ],
      "execution_count": null,
      "outputs": [
        {
          "output_type": "stream",
          "text": [
            "100% (5000 of 5000) |####################| Elapsed Time: 0:02:31 Time:  0:02:31\n"
          ],
          "name": "stderr"
        },
        {
          "output_type": "stream",
          "text": [
            "the statistical power of the blocking design =  0.2946\n"
          ],
          "name": "stdout"
        }
      ]
    },
    {
      "cell_type": "code",
      "metadata": {
        "id": "ykOeaIYYqn1s",
        "colab_type": "code",
        "colab": {}
      },
      "source": [
        ""
      ],
      "execution_count": null,
      "outputs": []
    }
  ]
}