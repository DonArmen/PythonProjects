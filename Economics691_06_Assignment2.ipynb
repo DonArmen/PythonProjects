{
 "cells": [
  {
   "cell_type": "code",
   "execution_count": 137,
   "metadata": {},
   "outputs": [],
   "source": [
    "#libraries\n",
    "import pandas as pd\n",
    "import numpy as np\n",
    "import statsmodels.formula.api as sm\n",
    "from sklearn.linear_model import LinearRegression\n",
    "from sklearn.preprocessing import MinMaxScaler\n",
    "from sklearn.preprocessing import LabelEncoder\n",
    "from sklearn import metrics"
   ]
  },
  {
   "cell_type": "code",
   "execution_count": 138,
   "metadata": {},
   "outputs": [
    {
     "data": {
      "text/html": [
       "<div>\n",
       "<style scoped>\n",
       "    .dataframe tbody tr th:only-of-type {\n",
       "        vertical-align: middle;\n",
       "    }\n",
       "\n",
       "    .dataframe tbody tr th {\n",
       "        vertical-align: top;\n",
       "    }\n",
       "\n",
       "    .dataframe thead th {\n",
       "        text-align: right;\n",
       "    }\n",
       "</style>\n",
       "<table border=\"1\" class=\"dataframe\">\n",
       "  <thead>\n",
       "    <tr style=\"text-align: right;\">\n",
       "      <th></th>\n",
       "      <th>response</th>\n",
       "      <th>treatment</th>\n",
       "      <th>age</th>\n",
       "      <th>party</th>\n",
       "    </tr>\n",
       "  </thead>\n",
       "  <tbody>\n",
       "    <tr>\n",
       "      <th>0</th>\n",
       "      <td>0</td>\n",
       "      <td>0</td>\n",
       "      <td>28.0</td>\n",
       "      <td>d</td>\n",
       "    </tr>\n",
       "    <tr>\n",
       "      <th>1</th>\n",
       "      <td>1</td>\n",
       "      <td>0</td>\n",
       "      <td>54.0</td>\n",
       "      <td>g</td>\n",
       "    </tr>\n",
       "    <tr>\n",
       "      <th>2</th>\n",
       "      <td>1</td>\n",
       "      <td>0</td>\n",
       "      <td>44.0</td>\n",
       "      <td>a</td>\n",
       "    </tr>\n",
       "    <tr>\n",
       "      <th>3</th>\n",
       "      <td>0</td>\n",
       "      <td>0</td>\n",
       "      <td>77.0</td>\n",
       "      <td>a</td>\n",
       "    </tr>\n",
       "    <tr>\n",
       "      <th>4</th>\n",
       "      <td>0</td>\n",
       "      <td>0</td>\n",
       "      <td>44.0</td>\n",
       "      <td>a</td>\n",
       "    </tr>\n",
       "  </tbody>\n",
       "</table>\n",
       "</div>"
      ],
      "text/plain": [
       "   response  treatment   age party\n",
       "0         0          0  28.0     d\n",
       "1         1          0  54.0     g\n",
       "2         1          0  44.0     a\n",
       "3         0          0  77.0     a\n",
       "4         0          0  44.0     a"
      ]
     },
     "execution_count": 138,
     "metadata": {},
     "output_type": "execute_result"
    }
   ],
   "source": [
    "import pandas as pd\n",
    "\n",
    "data = pd.read_csv('data_assignment2_1.csv')\n",
    "data.head()"
   ]
  },
  {
   "cell_type": "markdown",
   "metadata": {},
   "source": [
    "### Problem 1"
   ]
  },
  {
   "cell_type": "code",
   "execution_count": 139,
   "metadata": {},
   "outputs": [
    {
     "data": {
      "text/plain": [
       "response       0\n",
       "treatment      0\n",
       "age          113\n",
       "party          0\n",
       "dtype: int64"
      ]
     },
     "execution_count": 139,
     "metadata": {},
     "output_type": "execute_result"
    }
   ],
   "source": [
    "data.isna().sum()"
   ]
  },
  {
   "cell_type": "code",
   "execution_count": 140,
   "metadata": {},
   "outputs": [],
   "source": [
    "df = data.dropna()"
   ]
  },
  {
   "cell_type": "code",
   "execution_count": 141,
   "metadata": {},
   "outputs": [],
   "source": [
    "#define dummy variable\n",
    "df.loc[df['age'] > 49, 'Mature'] = 1\n",
    "df.loc[df['age'] < 50, 'Mature'] = 0 "
   ]
  },
  {
   "cell_type": "code",
   "execution_count": 142,
   "metadata": {},
   "outputs": [
    {
     "data": {
      "text/html": [
       "<div>\n",
       "<style scoped>\n",
       "    .dataframe tbody tr th:only-of-type {\n",
       "        vertical-align: middle;\n",
       "    }\n",
       "\n",
       "    .dataframe tbody tr th {\n",
       "        vertical-align: top;\n",
       "    }\n",
       "\n",
       "    .dataframe thead th {\n",
       "        text-align: right;\n",
       "    }\n",
       "</style>\n",
       "<table border=\"1\" class=\"dataframe\">\n",
       "  <thead>\n",
       "    <tr style=\"text-align: right;\">\n",
       "      <th></th>\n",
       "      <th>response</th>\n",
       "      <th>treatment</th>\n",
       "      <th>age</th>\n",
       "      <th>party</th>\n",
       "      <th>Mature</th>\n",
       "    </tr>\n",
       "  </thead>\n",
       "  <tbody>\n",
       "    <tr>\n",
       "      <th>0</th>\n",
       "      <td>0</td>\n",
       "      <td>0</td>\n",
       "      <td>28.0</td>\n",
       "      <td>d</td>\n",
       "      <td>0.0</td>\n",
       "    </tr>\n",
       "    <tr>\n",
       "      <th>1</th>\n",
       "      <td>1</td>\n",
       "      <td>0</td>\n",
       "      <td>54.0</td>\n",
       "      <td>g</td>\n",
       "      <td>1.0</td>\n",
       "    </tr>\n",
       "    <tr>\n",
       "      <th>2</th>\n",
       "      <td>1</td>\n",
       "      <td>0</td>\n",
       "      <td>44.0</td>\n",
       "      <td>a</td>\n",
       "      <td>0.0</td>\n",
       "    </tr>\n",
       "    <tr>\n",
       "      <th>3</th>\n",
       "      <td>0</td>\n",
       "      <td>0</td>\n",
       "      <td>77.0</td>\n",
       "      <td>a</td>\n",
       "      <td>1.0</td>\n",
       "    </tr>\n",
       "    <tr>\n",
       "      <th>4</th>\n",
       "      <td>0</td>\n",
       "      <td>0</td>\n",
       "      <td>44.0</td>\n",
       "      <td>a</td>\n",
       "      <td>0.0</td>\n",
       "    </tr>\n",
       "  </tbody>\n",
       "</table>\n",
       "</div>"
      ],
      "text/plain": [
       "   response  treatment   age party  Mature\n",
       "0         0          0  28.0     d     0.0\n",
       "1         1          0  54.0     g     1.0\n",
       "2         1          0  44.0     a     0.0\n",
       "3         0          0  77.0     a     1.0\n",
       "4         0          0  44.0     a     0.0"
      ]
     },
     "execution_count": 142,
     "metadata": {},
     "output_type": "execute_result"
    }
   ],
   "source": [
    "df.head()"
   ]
  },
  {
   "cell_type": "code",
   "execution_count": 143,
   "metadata": {},
   "outputs": [
    {
     "name": "stdout",
     "output_type": "stream",
     "text": [
      "                            OLS Regression Results                            \n",
      "==============================================================================\n",
      "Dep. Variable:               response   R-squared:                       0.152\n",
      "Model:                            OLS   Adj. R-squared:                  0.152\n",
      "Method:                 Least Squares   F-statistic:                     2181.\n",
      "Date:                Tue, 08 Sep 2020   Prob (F-statistic):               0.00\n",
      "Time:                        16:34:25   Log-Likelihood:                -18126.\n",
      "No. Observations:               36388   AIC:                         3.626e+04\n",
      "Df Residuals:                   36384   BIC:                         3.629e+04\n",
      "Df Model:                           3                                         \n",
      "Covariance Type:            nonrobust                                         \n",
      "====================================================================================\n",
      "                       coef    std err          t      P>|t|      [0.025      0.975]\n",
      "------------------------------------------------------------------------------------\n",
      "Intercept            0.4373      0.004    112.193      0.000       0.430       0.445\n",
      "treatment           -0.3515      0.005    -65.896      0.000      -0.362      -0.341\n",
      "Mature              -0.0208      0.006     -3.315      0.001      -0.033      -0.008\n",
      "treatment:Mature     0.0351      0.009      4.085      0.000       0.018       0.052\n",
      "==============================================================================\n",
      "Omnibus:                     3815.521   Durbin-Watson:                   1.891\n",
      "Prob(Omnibus):                  0.000   Jarque-Bera (JB):             4492.710\n",
      "Skew:                           0.827   Prob(JB):                         0.00\n",
      "Kurtosis:                       2.525   Cond. No.                         6.58\n",
      "==============================================================================\n",
      "\n",
      "Warnings:\n",
      "[1] Standard Errors assume that the covariance matrix of the errors is correctly specified.\n"
     ]
    }
   ],
   "source": [
    "#Check hypo 1\n",
    "result_q1 = sm.ols(formula=\"response ~ treatment + Mature + treatment * Mature\", \n",
    "                   data = df).fit()\n",
    "print(result_q1.summary())"
   ]
  },
  {
   "cell_type": "code",
   "execution_count": 144,
   "metadata": {},
   "outputs": [
    {
     "data": {
      "text/plain": [
       "1    19388\n",
       "0    17000\n",
       "Name: treatment, dtype: int64"
      ]
     },
     "execution_count": 144,
     "metadata": {},
     "output_type": "execute_result"
    }
   ],
   "source": [
    "df.treatment.value_counts()"
   ]
  },
  {
   "cell_type": "code",
   "execution_count": 145,
   "metadata": {},
   "outputs": [
    {
     "name": "stdout",
     "output_type": "stream",
     "text": [
      "The Treatment Effect of younger participants (49 and below): -0.355\n",
      "The Treatment Effect of older  participants(those 50 or older): -0.318\n",
      "The difference in Treatment Effects: 0.036\n",
      "The Treatment of younger participants (49 and below) standard error: 0.006\n",
      "The Treatment of older  participants(those 50 or older) standard error: 0.007\n",
      "The difference in Treatment Effects standard error: 0.009\n"
     ]
    }
   ],
   "source": [
    "#bootstrap\n",
    "younger = []\n",
    "older = []\n",
    "difference = []\n",
    "np.random.seed(123)\n",
    "for i in range(2000):\n",
    "    p = np.repeat(sum(df.treatment)/len(df.treatment), len(np.where(df.treatment == 0)[0]))\n",
    "    p = np.append(p, np.repeat(1 - sum(df.treatment)/len(df.treatment), len(np.where(df.treatment == 1)[0])))\n",
    "    index = np.random.choice(range(len(df.treatment)), len(df.treatment), replace = True, p = p/sum(p))\n",
    "    model = sm.ols(formula=\"response ~ treatment + Mature + treatment * Mature\", \n",
    "                   data = df.iloc[index,]).fit()\n",
    "    younger.append(model.params['treatment'])\n",
    "    older.append(model.params['treatment'] + model.params['treatment:Mature'])\n",
    "    difference.append(model.params['treatment:Mature'])\n",
    "    \n",
    "print(\"The Treatment Effect of younger participants (49 and below): \" + str(round(model.params['treatment'], 3)))\n",
    "print(\"The Treatment Effect of older  participants(those 50 or older): \" + str(round(model.params['treatment'] + model.params['treatment:Mature'], 3)))\n",
    "print(\"The difference in Treatment Effects: \" + str(round(model.params['treatment:Mature'], 3)))\n",
    "print(\"The Treatment of younger participants (49 and below) standard error: \" + str(round(np.std(younger), 3)))\n",
    "print(\"The Treatment of older  participants(those 50 or older) standard error: \" + str(round(np.std(older), 3)))\n",
    "print(\"The difference in Treatment Effects standard error: \" + str(round(np.std(difference), 3)))"
   ]
  },
  {
   "cell_type": "code",
   "execution_count": 146,
   "metadata": {},
   "outputs": [
    {
     "name": "stdout",
     "output_type": "stream",
     "text": [
      "                            OLS Regression Results                            \n",
      "==============================================================================\n",
      "Dep. Variable:               response   R-squared:                       0.152\n",
      "Model:                            OLS   Adj. R-squared:                  0.152\n",
      "Method:                 Least Squares   F-statistic:                     2180.\n",
      "Date:                Tue, 08 Sep 2020   Prob (F-statistic):               0.00\n",
      "Time:                        16:36:11   Log-Likelihood:                -18127.\n",
      "No. Observations:               36388   AIC:                         3.626e+04\n",
      "Df Residuals:                   36384   BIC:                         3.630e+04\n",
      "Df Model:                           3                                         \n",
      "Covariance Type:            nonrobust                                         \n",
      "=================================================================================\n",
      "                    coef    std err          t      P>|t|      [0.025      0.975]\n",
      "---------------------------------------------------------------------------------\n",
      "Intercept         0.4413      0.009     50.964      0.000       0.424       0.458\n",
      "treatment        -0.3774      0.012    -31.786      0.000      -0.401      -0.354\n",
      "age              -0.0003      0.000     -1.486      0.137      -0.001    8.32e-05\n",
      "treatment:age     0.0009      0.000      3.549      0.000       0.000       0.001\n",
      "==============================================================================\n",
      "Omnibus:                     3822.938   Durbin-Watson:                   1.892\n",
      "Prob(Omnibus):                  0.000   Jarque-Bera (JB):             4488.351\n",
      "Skew:                           0.826   Prob(JB):                         0.00\n",
      "Kurtosis:                       2.521   Cond. No.                         377.\n",
      "==============================================================================\n",
      "\n",
      "Warnings:\n",
      "[1] Standard Errors assume that the covariance matrix of the errors is correctly specified.\n"
     ]
    }
   ],
   "source": [
    "#Q.2\n",
    "result_q2 = sm.ols(formula=\"response ~ treatment + age + treatment * age\", \n",
    "                   data = df).fit()\n",
    "print(result_q2.summary())"
   ]
  },
  {
   "cell_type": "code",
   "execution_count": 147,
   "metadata": {},
   "outputs": [
    {
     "data": {
      "text/plain": [
       "array(['d', 'g', 'a', 'b', 'f', 'e', 'c', 'i', 'h'], dtype=object)"
      ]
     },
     "execution_count": 147,
     "metadata": {},
     "output_type": "execute_result"
    }
   ],
   "source": [
    "#q.3\n",
    "df.party.unique()"
   ]
  },
  {
   "cell_type": "code",
   "execution_count": 148,
   "metadata": {},
   "outputs": [
    {
     "name": "stdout",
     "output_type": "stream",
     "text": [
      "                            OLS Regression Results                            \n",
      "==============================================================================\n",
      "Dep. Variable:               response   R-squared:                       0.176\n",
      "Model:                            OLS   Adj. R-squared:                  0.175\n",
      "Method:                 Least Squares   F-statistic:                     215.1\n",
      "Date:                Tue, 08 Sep 2020   Prob (F-statistic):               0.00\n",
      "Time:                        16:36:16   Log-Likelihood:                -8786.2\n",
      "No. Observations:               18194   AIC:                         1.761e+04\n",
      "Df Residuals:                   18175   BIC:                         1.776e+04\n",
      "Df Model:                          18                                         \n",
      "Covariance Type:            nonrobust                                         \n",
      "========================================================================================\n",
      "                           coef    std err          t      P>|t|      [0.025      0.975]\n",
      "----------------------------------------------------------------------------------------\n",
      "Intercept                0.2959      0.014     21.186      0.000       0.269       0.323\n",
      "party[T.b]               0.0638      0.015      4.379      0.000       0.035       0.092\n",
      "party[T.c]               0.0626      0.017      3.711      0.000       0.030       0.096\n",
      "party[T.d]               0.1048      0.015      6.794      0.000       0.075       0.135\n",
      "party[T.e]               0.2305      0.018     12.775      0.000       0.195       0.266\n",
      "party[T.f]               0.2130      0.015     14.125      0.000       0.183       0.243\n",
      "party[T.g]               0.2928      0.017     17.008      0.000       0.259       0.327\n",
      "party[T.h]               0.2307      0.035      6.517      0.000       0.161       0.300\n",
      "party[T.i]               0.1008      0.063      1.600      0.110      -0.023       0.224\n",
      "treatment               -0.2589      0.015    -17.408      0.000      -0.288      -0.230\n",
      "treatment:party[T.b]    -0.0402      0.020     -2.027      0.043      -0.079      -0.001\n",
      "treatment:party[T.c]    -0.0404      0.023     -1.762      0.078      -0.085       0.005\n",
      "treatment:party[T.d]    -0.0647      0.021     -3.100      0.002      -0.106      -0.024\n",
      "treatment:party[T.e]    -0.1432      0.025     -5.826      0.000      -0.191      -0.095\n",
      "treatment:party[T.f]    -0.1238      0.021     -5.974      0.000      -0.164      -0.083\n",
      "treatment:party[T.g]    -0.1465      0.023     -6.307      0.000      -0.192      -0.101\n",
      "treatment:party[T.h]    -0.0544      0.052     -1.039      0.299      -0.157       0.048\n",
      "treatment:party[T.i]    -0.0609      0.085     -0.720      0.472      -0.227       0.105\n",
      "age                   6.503e-05      0.000      0.384      0.701      -0.000       0.000\n",
      "==============================================================================\n",
      "Omnibus:                     1705.804   Durbin-Watson:                   2.028\n",
      "Prob(Omnibus):                  0.000   Jarque-Bera (JB):             2124.632\n",
      "Skew:                           0.820   Prob(JB):                         0.00\n",
      "Kurtosis:                       2.667   Cond. No.                     1.69e+03\n",
      "==============================================================================\n",
      "\n",
      "Warnings:\n",
      "[1] Standard Errors assume that the covariance matrix of the errors is correctly specified.\n",
      "[2] The condition number is large, 1.69e+03. This might indicate that there are\n",
      "strong multicollinearity or other numerical problems.\n",
      "                            OLS Regression Results                            \n",
      "==============================================================================\n",
      "Dep. Variable:               response   R-squared:                       0.182\n",
      "Model:                            OLS   Adj. R-squared:                  0.181\n",
      "Method:                 Least Squares   F-statistic:                     224.3\n",
      "Date:                Tue, 08 Sep 2020   Prob (F-statistic):               0.00\n",
      "Time:                        16:36:16   Log-Likelihood:                -8714.5\n",
      "No. Observations:               18194   AIC:                         1.747e+04\n",
      "Df Residuals:                   18175   BIC:                         1.762e+04\n",
      "Df Model:                          18                                         \n",
      "Covariance Type:            nonrobust                                         \n",
      "========================================================================================\n",
      "                           coef    std err          t      P>|t|      [0.025      0.975]\n",
      "----------------------------------------------------------------------------------------\n",
      "Intercept                0.3086      0.014     22.149      0.000       0.281       0.336\n",
      "party[T.b]               0.0527      0.015      3.615      0.000       0.024       0.081\n",
      "party[T.c]               0.0321      0.017      1.915      0.055      -0.001       0.065\n",
      "party[T.d]               0.0778      0.015      5.044      0.000       0.048       0.108\n",
      "party[T.e]               0.2018      0.018     11.454      0.000       0.167       0.236\n",
      "party[T.f]               0.2137      0.015     14.098      0.000       0.184       0.243\n",
      "party[T.g]               0.2872      0.017     16.920      0.000       0.254       0.321\n",
      "party[T.h]               0.2267      0.037      6.121      0.000       0.154       0.299\n",
      "party[T.i]              -0.0583      0.064     -0.918      0.358      -0.183       0.066\n",
      "treatment               -0.2772      0.015    -18.767      0.000      -0.306      -0.248\n",
      "treatment:party[T.b]    -0.0374      0.020     -1.889      0.059      -0.076       0.001\n",
      "treatment:party[T.c]    -0.0033      0.023     -0.147      0.883      -0.048       0.041\n",
      "treatment:party[T.d]    -0.0376      0.021     -1.812      0.070      -0.078       0.003\n",
      "treatment:party[T.e]    -0.1117      0.024     -4.603      0.000      -0.159      -0.064\n",
      "treatment:party[T.f]    -0.1201      0.021     -5.818      0.000      -0.161      -0.080\n",
      "treatment:party[T.g]    -0.1275      0.023     -5.531      0.000      -0.173      -0.082\n",
      "treatment:party[T.h]    -0.1086      0.053     -2.057      0.040      -0.212      -0.005\n",
      "treatment:party[T.i]     0.1042      0.082      1.275      0.202      -0.056       0.264\n",
      "age                      0.0001      0.000      0.759      0.448      -0.000       0.000\n",
      "==============================================================================\n",
      "Omnibus:                     1657.827   Durbin-Watson:                   2.008\n",
      "Prob(Omnibus):                  0.000   Jarque-Bera (JB):             2058.379\n",
      "Skew:                           0.808   Prob(JB):                         0.00\n",
      "Kurtosis:                       2.679   Cond. No.                     1.68e+03\n",
      "==============================================================================\n",
      "\n",
      "Warnings:\n",
      "[1] Standard Errors assume that the covariance matrix of the errors is correctly specified.\n",
      "[2] The condition number is large, 1.68e+03. This might indicate that there are\n",
      "strong multicollinearity or other numerical problems.\n"
     ]
    }
   ],
   "source": [
    "np.random.seed(123)\n",
    "n = len(df)\n",
    "index = np.random.choice(range(n), round(n/2), replace = False)\n",
    "model_p1 = sm.ols(formula=\"response ~ treatment + party + age + treatment*party\", \n",
    "                  data = df.iloc[-index,]).fit()\n",
    "model_p2 = sm.ols(formula=\"response ~ treatment + party + age + treatment*party\", \n",
    "                  data = df.iloc[index,]).fit()\n",
    "print(model_p1.summary())\n",
    "print(model_p2.summary())"
   ]
  },
  {
   "cell_type": "code",
   "execution_count": 149,
   "metadata": {},
   "outputs": [
    {
     "name": "stdout",
     "output_type": "stream",
     "text": [
      "The Treatment Effect of party e group: -0.148\n",
      "The Treatment Effect of party f group: -0.142\n",
      "The Treatment Effect of party g group: -0.164\n",
      "The standard error of party e group: 0.025\n",
      "The standard error of party f group: 0.021\n",
      "The standard error of party g group: 0.025\n"
     ]
    }
   ],
   "source": [
    "#bootstrap\n",
    "\n",
    "party_e =[]\n",
    "party_f =[]\n",
    "party_g =[]\n",
    "for i in range(2000):\n",
    "    p = np.repeat(sum(df.iloc[index].treatment)/len(df.iloc[index].treatment), \n",
    "                  len(np.where(df.iloc[index].treatment == 0)[0]))\n",
    "    p = np.append(p, np.repeat(1 - sum(df.iloc[index].treatment)/len(df.iloc[index].treatment),\n",
    "                               len(np.where(df.iloc[index].treatment == 1)[0])))\n",
    "    index_bs = np.random.choice(range(len(df.iloc[index].treatment)), \n",
    "                                len(df.iloc[index].treatment), \n",
    "                                replace = True, p = p/sum(p))\n",
    "    model_bs = sm.ols(formula=\"response ~ treatment + party + treatment*party\", \n",
    "                      data = df.iloc[index].iloc[index_bs,]).fit()\n",
    "    party_e.append(model_bs.params['treatment:party[T.e]'])\n",
    "    party_f.append(model_bs.params['treatment:party[T.f]'])\n",
    "    party_g.append(model_bs.params['treatment:party[T.g]'])\n",
    "\n",
    "print(\"The Treatment Effect of party e group: \" + str(round(model_bs.params['treatment:party[T.e]'], 3)))\n",
    "print(\"The Treatment Effect of party f group: \" + str(round(model_bs.params['treatment:party[T.f]'], 3)))\n",
    "print(\"The Treatment Effect of party g group: \" + str(round(model_bs.params['treatment:party[T.g]'], 3)))\n",
    "\n",
    "print(\"The standard error of party e group: \" + str(round(np.std(party_e), 3)))\n",
    "print(\"The standard error of party f group: \" + str(round(np.std(party_f), 3)))\n",
    "print(\"The standard error of party g group: \" + str(round(np.std(party_g), 3)))"
   ]
  },
  {
   "cell_type": "markdown",
   "metadata": {},
   "source": [
    "### Problem 2"
   ]
  },
  {
   "cell_type": "code",
   "execution_count": 119,
   "metadata": {},
   "outputs": [
    {
     "data": {
      "text/html": [
       "<div>\n",
       "<style scoped>\n",
       "    .dataframe tbody tr th:only-of-type {\n",
       "        vertical-align: middle;\n",
       "    }\n",
       "\n",
       "    .dataframe tbody tr th {\n",
       "        vertical-align: top;\n",
       "    }\n",
       "\n",
       "    .dataframe thead th {\n",
       "        text-align: right;\n",
       "    }\n",
       "</style>\n",
       "<table border=\"1\" class=\"dataframe\">\n",
       "  <thead>\n",
       "    <tr style=\"text-align: right;\">\n",
       "      <th></th>\n",
       "      <th>revenue</th>\n",
       "      <th>treatment</th>\n",
       "      <th>compliance</th>\n",
       "      <th>age</th>\n",
       "      <th>gender</th>\n",
       "      <th>zone</th>\n",
       "      <th>signal</th>\n",
       "    </tr>\n",
       "  </thead>\n",
       "  <tbody>\n",
       "    <tr>\n",
       "      <th>0</th>\n",
       "      <td>6.878037</td>\n",
       "      <td>1</td>\n",
       "      <td>0</td>\n",
       "      <td>27</td>\n",
       "      <td>m</td>\n",
       "      <td>2</td>\n",
       "      <td>0.071595</td>\n",
       "    </tr>\n",
       "    <tr>\n",
       "      <th>1</th>\n",
       "      <td>16.911885</td>\n",
       "      <td>1</td>\n",
       "      <td>0</td>\n",
       "      <td>62</td>\n",
       "      <td>o</td>\n",
       "      <td>4</td>\n",
       "      <td>0.162294</td>\n",
       "    </tr>\n",
       "    <tr>\n",
       "      <th>2</th>\n",
       "      <td>24.212034</td>\n",
       "      <td>1</td>\n",
       "      <td>0</td>\n",
       "      <td>31</td>\n",
       "      <td>f</td>\n",
       "      <td>2</td>\n",
       "      <td>0.099369</td>\n",
       "    </tr>\n",
       "    <tr>\n",
       "      <th>3</th>\n",
       "      <td>11.106823</td>\n",
       "      <td>1</td>\n",
       "      <td>0</td>\n",
       "      <td>42</td>\n",
       "      <td>m</td>\n",
       "      <td>7</td>\n",
       "      <td>-0.080129</td>\n",
       "    </tr>\n",
       "    <tr>\n",
       "      <th>4</th>\n",
       "      <td>22.507852</td>\n",
       "      <td>1</td>\n",
       "      <td>0</td>\n",
       "      <td>44</td>\n",
       "      <td>m</td>\n",
       "      <td>4</td>\n",
       "      <td>0.150118</td>\n",
       "    </tr>\n",
       "  </tbody>\n",
       "</table>\n",
       "</div>"
      ],
      "text/plain": [
       "     revenue  treatment  compliance  age gender  zone    signal\n",
       "0   6.878037          1           0   27      m     2  0.071595\n",
       "1  16.911885          1           0   62      o     4  0.162294\n",
       "2  24.212034          1           0   31      f     2  0.099369\n",
       "3  11.106823          1           0   42      m     7 -0.080129\n",
       "4  22.507852          1           0   44      m     4  0.150118"
      ]
     },
     "execution_count": 119,
     "metadata": {},
     "output_type": "execute_result"
    }
   ],
   "source": [
    "#q.1\n",
    "data_dd = pd.read_csv('data_assignment2_2.csv')\n",
    "data_dd.head()"
   ]
  },
  {
   "cell_type": "code",
   "execution_count": 122,
   "metadata": {},
   "outputs": [
    {
     "data": {
      "text/plain": [
       "(200000, 7)"
      ]
     },
     "execution_count": 122,
     "metadata": {},
     "output_type": "execute_result"
    }
   ],
   "source": [
    "data_dd.shape"
   ]
  },
  {
   "cell_type": "code",
   "execution_count": 123,
   "metadata": {},
   "outputs": [
    {
     "data": {
      "text/plain": [
       "revenue       0\n",
       "treatment     0\n",
       "compliance    0\n",
       "age           0\n",
       "gender        0\n",
       "zone          0\n",
       "signal        0\n",
       "dtype: int64"
      ]
     },
     "execution_count": 123,
     "metadata": {},
     "output_type": "execute_result"
    }
   ],
   "source": [
    "data_dd.isna().sum()"
   ]
  },
  {
   "cell_type": "markdown",
   "metadata": {},
   "source": [
    "## NEED HELP"
   ]
  },
  {
   "cell_type": "code",
   "execution_count": 124,
   "metadata": {},
   "outputs": [
    {
     "name": "stdout",
     "output_type": "stream",
     "text": [
      "                            OLS Regression Results                            \n",
      "==============================================================================\n",
      "Dep. Variable:                revenue   R-squared:                       0.107\n",
      "Model:                            OLS   Adj. R-squared:                  0.107\n",
      "Method:                 Least Squares   F-statistic:                     1164.\n",
      "Date:                Tue, 08 Sep 2020   Prob (F-statistic):               0.00\n",
      "Time:                        15:32:48   Log-Likelihood:            -3.3324e+05\n",
      "No. Observations:              106565   AIC:                         6.665e+05\n",
      "Df Residuals:                  106553   BIC:                         6.666e+05\n",
      "Df Model:                          11                                         \n",
      "Covariance Type:            nonrobust                                         \n",
      "================================================================================\n",
      "                   coef    std err          t      P>|t|      [0.025      0.975]\n",
      "--------------------------------------------------------------------------------\n",
      "Intercept       13.3999      0.073    182.501      0.000      13.256      13.544\n",
      "gender[T.m]      0.0784      0.041      1.893      0.058      -0.003       0.160\n",
      "gender[T.o]      0.0944      0.041      2.278      0.023       0.013       0.176\n",
      "C(zone)[T.2]     0.0662      0.068      0.973      0.330      -0.067       0.199\n",
      "C(zone)[T.3]    -0.0849      0.063     -1.344      0.179      -0.209       0.039\n",
      "C(zone)[T.4]     0.0523      0.068      0.766      0.443      -0.081       0.186\n",
      "C(zone)[T.5]    -0.0378      0.068     -0.558      0.577      -0.171       0.095\n",
      "C(zone)[T.6]     0.1002      0.068      1.478      0.140      -0.033       0.233\n",
      "C(zone)[T.7]     0.0112      0.068      0.165      0.869      -0.122       0.144\n",
      "C(zone)[T.8]    -0.0075      0.068     -0.110      0.912      -0.140       0.126\n",
      "treatment        6.4412      0.076     84.255      0.000       6.291       6.591\n",
      "age              0.1009      0.001     81.945      0.000       0.099       0.103\n",
      "==============================================================================\n",
      "Omnibus:                     3765.876   Durbin-Watson:                   2.001\n",
      "Prob(Omnibus):                  0.000   Jarque-Bera (JB):             1692.538\n",
      "Skew:                          -0.006   Prob(JB):                         0.00\n",
      "Kurtosis:                       2.383   Cond. No.                         362.\n",
      "==============================================================================\n",
      "\n",
      "Warnings:\n",
      "[1] Standard Errors assume that the covariance matrix of the errors is correctly specified.\n"
     ]
    }
   ],
   "source": [
    "#per protocol\n",
    "\n",
    "data_pp = data_dd.copy()\n",
    "pp_method = data_pp.loc[(data_pp['treatment']==1)&(data_pp['compliance']==0)].index\n",
    "model_pp = sm.ols(formula=\"revenue ~ treatment + age + gender + C(zone)\", \n",
    "                  data = data_pp.drop(pp_method)).fit()\n",
    "print(model_pp.summary())"
   ]
  },
  {
   "cell_type": "code",
   "execution_count": 125,
   "metadata": {},
   "outputs": [
    {
     "name": "stdout",
     "output_type": "stream",
     "text": [
      "                            OLS Regression Results                            \n",
      "==============================================================================\n",
      "Dep. Variable:                revenue   R-squared:                       0.090\n",
      "Model:                            OLS   Adj. R-squared:                  0.090\n",
      "Method:                 Least Squares   F-statistic:                     1797.\n",
      "Date:                Tue, 08 Sep 2020   Prob (F-statistic):               0.00\n",
      "Time:                        15:33:03   Log-Likelihood:            -6.2569e+05\n",
      "No. Observations:              200000   AIC:                         1.251e+06\n",
      "Df Residuals:                  199988   BIC:                         1.252e+06\n",
      "Df Model:                          11                                         \n",
      "Covariance Type:            nonrobust                                         \n",
      "================================================================================\n",
      "                   coef    std err          t      P>|t|      [0.025      0.975]\n",
      "--------------------------------------------------------------------------------\n",
      "Intercept       13.0816      0.055    237.747      0.000      12.974      13.189\n",
      "gender[T.m]      0.0535      0.030      1.767      0.077      -0.006       0.113\n",
      "gender[T.o]      0.0637      0.030      2.105      0.035       0.004       0.123\n",
      "C(zone)[T.2]     0.2520      0.050      5.058      0.000       0.154       0.350\n",
      "C(zone)[T.3]    -0.1944      0.050     -3.907      0.000      -0.292      -0.097\n",
      "C(zone)[T.4]     0.2234      0.050      4.471      0.000       0.125       0.321\n",
      "C(zone)[T.5]     0.1735      0.050      3.476      0.001       0.076       0.271\n",
      "C(zone)[T.6]     0.2812      0.050      5.637      0.000       0.183       0.379\n",
      "C(zone)[T.7]     0.2033      0.050      4.080      0.000       0.106       0.301\n",
      "C(zone)[T.8]     0.1827      0.050      3.669      0.000       0.085       0.280\n",
      "treatment        6.7277      0.073     91.822      0.000       6.584       6.871\n",
      "age              0.1040      0.001    115.628      0.000       0.102       0.106\n",
      "==============================================================================\n",
      "Omnibus:                     7197.893   Durbin-Watson:                   2.005\n",
      "Prob(Omnibus):                  0.000   Jarque-Bera (JB):             3213.158\n",
      "Skew:                           0.001   Prob(JB):                         0.00\n",
      "Kurtosis:                       2.379   Cond. No.                         381.\n",
      "==============================================================================\n",
      "\n",
      "Warnings:\n",
      "[1] Standard Errors assume that the covariance matrix of the errors is correctly specified.\n"
     ]
    }
   ],
   "source": [
    "#as_treated\n",
    "data_at  = data_dd.copy()\n",
    "data_at.loc[data_at['compliance'] == 1, 'treatment'] = 1\n",
    "data_at.loc[data_at['compliance'] == 0, 'treatment'] = 0\n",
    "model_at = sm.ols(formula=\"revenue ~ treatment + age + gender + C(zone)\", data = data_at).fit()\n",
    "print(model_at.summary())"
   ]
  },
  {
   "cell_type": "code",
   "execution_count": 127,
   "metadata": {},
   "outputs": [
    {
     "name": "stdout",
     "output_type": "stream",
     "text": [
      "The intent-to-treat estimator is: 0.283\n"
     ]
    }
   ],
   "source": [
    "#q.2\n",
    "ITT = data_dd[data_dd['treatment']==1]['revenue'].mean() - data_dd[data_dd['treatment']==0]['revenue'].mean()\n",
    "print(\"The intent-to-treat estimator is: \" + str(round(ITT, 3)))"
   ]
  },
  {
   "cell_type": "code",
   "execution_count": 128,
   "metadata": {},
   "outputs": [
    {
     "name": "stdout",
     "output_type": "stream",
     "text": [
      "Wald = 4.31\n"
     ]
    }
   ],
   "source": [
    "wald_est = ITT/(data_dd.compliance.sum()/data_dd.treatment.sum())\n",
    "print (\"Wald = \"+ str(round(wald_est,3)))"
   ]
  },
  {
   "cell_type": "code",
   "execution_count": 131,
   "metadata": {},
   "outputs": [
    {
     "name": "stdout",
     "output_type": "stream",
     "text": [
      "The standard error of Wald estimator = 0.403\n",
      "Wald estimator: 4.307\n"
     ]
    }
   ],
   "source": [
    "#q.3\n",
    "\n",
    "np.random.seed(123)\n",
    "wald_bs = []\n",
    "\n",
    "for i in range(2000):\n",
    "    treatment_mean = data_dd.revenue[np.random.choice(np.where(data_dd.treatment == 1)[0], \n",
    "    len(np.where(data_dd.treatment == 1)[0]), replace = True)].mean()\n",
    "    control_mean = data_dd.revenue[np.random.choice(np.where(data_dd.treatment == 0)[0], \n",
    "    len(np.where(data_dd.treatment == 0)[0]), replace = True)].mean()\n",
    "  \n",
    "    wald_bs.append((treatment_mean-control_mean)/(data_dd.compliance.sum()/data_dd.treatment.sum()))\n",
    "\n",
    "print(\"The standard error of Wald estimator = \" + str(round(np.std(wald_bs), 3)))\n",
    "print(\"Wald estimator: \" + str(round(np.mean(wald_bs), 3)))"
   ]
  },
  {
   "cell_type": "code",
   "execution_count": null,
   "metadata": {},
   "outputs": [],
   "source": []
  },
  {
   "cell_type": "code",
   "execution_count": null,
   "metadata": {},
   "outputs": [],
   "source": []
  },
  {
   "cell_type": "code",
   "execution_count": null,
   "metadata": {},
   "outputs": [],
   "source": []
  },
  {
   "cell_type": "code",
   "execution_count": null,
   "metadata": {},
   "outputs": [],
   "source": []
  },
  {
   "cell_type": "markdown",
   "metadata": {},
   "source": [
    "## BEFORE THIS SECTION"
   ]
  },
  {
   "cell_type": "code",
   "execution_count": 150,
   "metadata": {},
   "outputs": [],
   "source": [
    "#q.4.1\n",
    "from sklearn.preprocessing import LabelEncoder #LabelEncoder\n",
    "labelencoder = LabelEncoder()\n",
    "data_dd['gender_cat'] = labelencoder.fit_transform(data_dd['gender'])\n",
    "columns = ['age', 'gender_cat', 'zone']\n",
    "train_set = data_dd.loc[data_dd.treatment == 1]\n",
    "test_set = data_dd.loc[data_dd.treatment == 0]\n",
    "X_train = train_set[columns]\n",
    "X_test = test_set[columns]\n",
    "y_train = train_set['compliance'].values.reshape(-1,1)\n",
    "y_test = test_set['compliance'].values.reshape(-1,1)\n",
    "\n",
    "from sklearn.model_selection import train_test_split\n",
    "#Splitting training into 2 groups A1 and A2\n",
    "X_train1, X_train2, y_train1, y_train2 = train_test_split(X_train, y_train, test_size = 0.5, \n",
    "                                                           random_state =123, stratify = y_train)\n",
    "#Splitting testing set into 2 groups B1 and B2\n",
    "X_test1, X_test2, y_test1, y_test2 = train_test_split(X_test, y_test, test_size = 0.5, \n",
    "                                                      random_state =123, stratify = y_test)"
   ]
  },
  {
   "cell_type": "code",
   "execution_count": 151,
   "metadata": {},
   "outputs": [
    {
     "name": "stdout",
     "output_type": "stream",
     "text": [
      "Compliance rate for 1st part of training set:  6.566\n",
      "Compliance rate for 2nd part of training set:  6.564\n"
     ]
    }
   ],
   "source": [
    "print('Compliance rate for 1st part of training set: ', y_train1.sum()*100/50000)\n",
    "print('Compliance rate for 2nd part of training set: ', y_train2.sum()*100/50000)"
   ]
  },
  {
   "cell_type": "code",
   "execution_count": 152,
   "metadata": {},
   "outputs": [
    {
     "name": "stdout",
     "output_type": "stream",
     "text": [
      "Mean Squared Error for predicting Test part 1: 0.009255407461838776\n",
      "Mean Squared Error for predicting Test part 2: 0.009329699855418934\n"
     ]
    }
   ],
   "source": [
    "from sklearn import metrics\n",
    "regressor1 = LinearRegression()\n",
    "regressor1.fit(X_train1, y_train1)#first model: train A1\n",
    "y_pred2 = regressor1.predict(X_test2) #predict B2\n",
    "regressor2 = LinearRegression()\n",
    "regressor2.fit(X_train2, y_train2)#second model: train A2\n",
    "y_pred1 = regressor2.predict(X_test1) #predict B1\n",
    "print('Mean Squared Error for predicting Test part 1:', metrics.mean_squared_error(y_test1, y_pred1))\n",
    "print('Mean Squared Error for predicting Test part 2:', metrics.mean_squared_error(y_test2, y_pred2))"
   ]
  },
  {
   "cell_type": "code",
   "execution_count": 153,
   "metadata": {},
   "outputs": [
    {
     "name": "stdout",
     "output_type": "stream",
     "text": [
      "Mean Squared Error for predicting Train part 1: 0.05633350577656833\n",
      "Mean Squared Error for predicting Train part 2: 0.056379584822794634\n"
     ]
    }
   ],
   "source": [
    "#with training part \n",
    "\n",
    "y_pred22 = regressor1.predict(X_train2) #predict A2\n",
    "\n",
    "y_pred12 = regressor2.predict(X_train1) #predict A1\n",
    "print('Mean Squared Error for predicting Train part 1:', metrics.mean_squared_error(y_train1, y_pred12))\n",
    "print('Mean Squared Error for predicting Train part 2:', metrics.mean_squared_error(y_train2, y_pred22))"
   ]
  },
  {
   "cell_type": "code",
   "execution_count": 154,
   "metadata": {},
   "outputs": [],
   "source": [
    "data_dd['weights'] = 0\n",
    "data_dd.iloc[X_train1.index,8] = np.array(pd.DataFrame(y_pred12))\n",
    "data_dd.iloc[X_train2.index,8] = np.array(pd.DataFrame(y_pred22))\n",
    "data_dd.iloc[X_test1.index,8] = np.array(pd.DataFrame(y_pred1))\n",
    "data_dd.iloc[X_test2.index,8] = np.array(pd.DataFrame(y_pred2))"
   ]
  },
  {
   "cell_type": "code",
   "execution_count": 155,
   "metadata": {},
   "outputs": [
    {
     "data": {
      "text/html": [
       "<div>\n",
       "<style scoped>\n",
       "    .dataframe tbody tr th:only-of-type {\n",
       "        vertical-align: middle;\n",
       "    }\n",
       "\n",
       "    .dataframe tbody tr th {\n",
       "        vertical-align: top;\n",
       "    }\n",
       "\n",
       "    .dataframe thead th {\n",
       "        text-align: right;\n",
       "    }\n",
       "</style>\n",
       "<table border=\"1\" class=\"dataframe\">\n",
       "  <thead>\n",
       "    <tr style=\"text-align: right;\">\n",
       "      <th></th>\n",
       "      <th>revenue</th>\n",
       "      <th>treatment</th>\n",
       "      <th>compliance</th>\n",
       "      <th>age</th>\n",
       "      <th>gender</th>\n",
       "      <th>zone</th>\n",
       "      <th>signal</th>\n",
       "      <th>gender_cat</th>\n",
       "      <th>weights</th>\n",
       "    </tr>\n",
       "  </thead>\n",
       "  <tbody>\n",
       "    <tr>\n",
       "      <th>0</th>\n",
       "      <td>6.878037</td>\n",
       "      <td>1</td>\n",
       "      <td>0</td>\n",
       "      <td>27</td>\n",
       "      <td>m</td>\n",
       "      <td>2</td>\n",
       "      <td>0.071595</td>\n",
       "      <td>1</td>\n",
       "      <td>0.172547</td>\n",
       "    </tr>\n",
       "    <tr>\n",
       "      <th>1</th>\n",
       "      <td>16.911885</td>\n",
       "      <td>1</td>\n",
       "      <td>0</td>\n",
       "      <td>62</td>\n",
       "      <td>o</td>\n",
       "      <td>4</td>\n",
       "      <td>0.162294</td>\n",
       "      <td>2</td>\n",
       "      <td>0.016690</td>\n",
       "    </tr>\n",
       "    <tr>\n",
       "      <th>2</th>\n",
       "      <td>24.212034</td>\n",
       "      <td>1</td>\n",
       "      <td>0</td>\n",
       "      <td>31</td>\n",
       "      <td>f</td>\n",
       "      <td>2</td>\n",
       "      <td>0.099369</td>\n",
       "      <td>0</td>\n",
       "      <td>0.158531</td>\n",
       "    </tr>\n",
       "    <tr>\n",
       "      <th>3</th>\n",
       "      <td>11.106823</td>\n",
       "      <td>1</td>\n",
       "      <td>0</td>\n",
       "      <td>42</td>\n",
       "      <td>m</td>\n",
       "      <td>7</td>\n",
       "      <td>-0.080129</td>\n",
       "      <td>1</td>\n",
       "      <td>0.003591</td>\n",
       "    </tr>\n",
       "    <tr>\n",
       "      <th>4</th>\n",
       "      <td>22.507852</td>\n",
       "      <td>1</td>\n",
       "      <td>0</td>\n",
       "      <td>44</td>\n",
       "      <td>m</td>\n",
       "      <td>4</td>\n",
       "      <td>0.150118</td>\n",
       "      <td>1</td>\n",
       "      <td>0.070550</td>\n",
       "    </tr>\n",
       "    <tr>\n",
       "      <th>...</th>\n",
       "      <td>...</td>\n",
       "      <td>...</td>\n",
       "      <td>...</td>\n",
       "      <td>...</td>\n",
       "      <td>...</td>\n",
       "      <td>...</td>\n",
       "      <td>...</td>\n",
       "      <td>...</td>\n",
       "      <td>...</td>\n",
       "    </tr>\n",
       "    <tr>\n",
       "      <th>199995</th>\n",
       "      <td>17.327427</td>\n",
       "      <td>0</td>\n",
       "      <td>0</td>\n",
       "      <td>51</td>\n",
       "      <td>o</td>\n",
       "      <td>8</td>\n",
       "      <td>-0.325757</td>\n",
       "      <td>2</td>\n",
       "      <td>-0.049271</td>\n",
       "    </tr>\n",
       "    <tr>\n",
       "      <th>199996</th>\n",
       "      <td>24.031569</td>\n",
       "      <td>0</td>\n",
       "      <td>0</td>\n",
       "      <td>45</td>\n",
       "      <td>m</td>\n",
       "      <td>4</td>\n",
       "      <td>0.286122</td>\n",
       "      <td>1</td>\n",
       "      <td>0.067359</td>\n",
       "    </tr>\n",
       "    <tr>\n",
       "      <th>199997</th>\n",
       "      <td>19.875541</td>\n",
       "      <td>0</td>\n",
       "      <td>0</td>\n",
       "      <td>41</td>\n",
       "      <td>f</td>\n",
       "      <td>7</td>\n",
       "      <td>-0.214485</td>\n",
       "      <td>0</td>\n",
       "      <td>0.004625</td>\n",
       "    </tr>\n",
       "    <tr>\n",
       "      <th>199998</th>\n",
       "      <td>14.151477</td>\n",
       "      <td>0</td>\n",
       "      <td>0</td>\n",
       "      <td>25</td>\n",
       "      <td>f</td>\n",
       "      <td>1</td>\n",
       "      <td>1.104870</td>\n",
       "      <td>0</td>\n",
       "      <td>0.201740</td>\n",
       "    </tr>\n",
       "    <tr>\n",
       "      <th>199999</th>\n",
       "      <td>21.862460</td>\n",
       "      <td>0</td>\n",
       "      <td>0</td>\n",
       "      <td>27</td>\n",
       "      <td>f</td>\n",
       "      <td>3</td>\n",
       "      <td>-0.055327</td>\n",
       "      <td>0</td>\n",
       "      <td>0.145801</td>\n",
       "    </tr>\n",
       "  </tbody>\n",
       "</table>\n",
       "<p>200000 rows × 9 columns</p>\n",
       "</div>"
      ],
      "text/plain": [
       "          revenue  treatment  compliance  age gender  zone    signal  \\\n",
       "0        6.878037          1           0   27      m     2  0.071595   \n",
       "1       16.911885          1           0   62      o     4  0.162294   \n",
       "2       24.212034          1           0   31      f     2  0.099369   \n",
       "3       11.106823          1           0   42      m     7 -0.080129   \n",
       "4       22.507852          1           0   44      m     4  0.150118   \n",
       "...           ...        ...         ...  ...    ...   ...       ...   \n",
       "199995  17.327427          0           0   51      o     8 -0.325757   \n",
       "199996  24.031569          0           0   45      m     4  0.286122   \n",
       "199997  19.875541          0           0   41      f     7 -0.214485   \n",
       "199998  14.151477          0           0   25      f     1  1.104870   \n",
       "199999  21.862460          0           0   27      f     3 -0.055327   \n",
       "\n",
       "        gender_cat   weights  \n",
       "0                1  0.172547  \n",
       "1                2  0.016690  \n",
       "2                0  0.158531  \n",
       "3                1  0.003591  \n",
       "4                1  0.070550  \n",
       "...            ...       ...  \n",
       "199995           2 -0.049271  \n",
       "199996           1  0.067359  \n",
       "199997           0  0.004625  \n",
       "199998           0  0.201740  \n",
       "199999           0  0.145801  \n",
       "\n",
       "[200000 rows x 9 columns]"
      ]
     },
     "execution_count": 155,
     "metadata": {},
     "output_type": "execute_result"
    }
   ],
   "source": [
    "data_dd"
   ]
  },
  {
   "cell_type": "code",
   "execution_count": 158,
   "metadata": {},
   "outputs": [
    {
     "name": "stdout",
     "output_type": "stream",
     "text": [
      "Weighted Wald estimator:  4.073\n"
     ]
    }
   ],
   "source": [
    "#q.4.2\n",
    "weighted_wald_num1 = (data_dd.revenue[data_dd.treatment==1] * \n",
    "                      data_dd.weights[data_dd.treatment==1]).mean()\n",
    "weighted_wald_num2 = (data_dd.revenue[data_dd.treatment==0] * \n",
    "                      data_dd.weights[data_dd.treatment==0]).mean()\n",
    "weighted_wald_den = (data_dd.compliance[data_dd.treatment==1] * \n",
    "                     data_dd.weights[data_dd.treatment==1]).mean()\n",
    "weighted_wald = (weighted_wald_num1 - weighted_wald_num2)/weighted_wald_den\n",
    "print('Weighted Wald estimator: ', round(weighted_wald, 3))"
   ]
  },
  {
   "cell_type": "code",
   "execution_count": 93,
   "metadata": {},
   "outputs": [
    {
     "name": "stdout",
     "output_type": "stream",
     "text": [
      "w_wald_est SE = 0.6295\n",
      "w_wald_est = 4.0841\n"
     ]
    }
   ],
   "source": [
    "#q.4.3\n",
    "\n",
    "np.random.seed(123)\n",
    "weighted_wald_bs = []\n",
    "\n",
    "for i in range(1000):\n",
    "    treatment = data_dd.revenue[np.random.choice(np.where(data_dd.treatment == 1)[0], \n",
    "                                                 len(np.where(data_dd.treatment == 1)[0]), \n",
    "                                                 replace = True)]\n",
    "    control = data_dd.revenue[np.random.choice(np.where(data_dd.treatment == 0)[0], \n",
    "                                               len(np.where(data_dd.treatment == 0)[0]), \n",
    "                                               replace = True)]\n",
    "    weighted_wald_num_e = (data_dd.weights*treatment).mean()-(data_dd.weights*control).mean()\n",
    "    weighted_wald_den_e = (data_dd.compliance[data_dd.treatment==1] * \n",
    "                      data_dd.weights[data_dd.treatment==1]).mean()\n",
    "    \n",
    "    weighted_wald_bs.append(weighted_wald_num_e/weighted_wald_den_e)    \n",
    "print(\"The standard error of Weighted Wald estimator for expanded model: \",  round(np.std(weighted_wald_bs), 4))\n",
    "print(\"Weighted Wald estimator for expanded model: \", round(np.mean(weighted_wald_bs), 4))"
   ]
  },
  {
   "cell_type": "code",
   "execution_count": 159,
   "metadata": {},
   "outputs": [
    {
     "name": "stdout",
     "output_type": "stream",
     "text": [
      "Mean Squared Error for predicting Test part 1(expanded model): 0.0491262923124877\n",
      "Mean Squared Error for predicting Test part 2(expanded model): 0.048899021111859384\n"
     ]
    }
   ],
   "source": [
    "#q.5.1\n",
    "columns_exp = ['age', 'gender_cat', 'zone', 'signal']\n",
    "\n",
    "X_train_exp = train_set[columns_exp]\n",
    "X_test_exp = test_set[columns_exp]\n",
    "\n",
    "#Splitting training into 2 groups A1 and A2\n",
    "X_train1e, X_train2e, y_train1, y_train2 = train_test_split(X_train_exp, y_train, test_size = 0.5, \n",
    "                                                            random_state =123, stratify = y_train)\n",
    "#Splitting testing set into 2 groups B1 and B2\n",
    "X_test1e, X_test2e, y_test1, y_test2 = train_test_split(X_test_exp, y_test, test_size = 0.5, \n",
    "                                                        random_state =123, stratify = y_test)\n",
    "lr1_exp = LinearRegression()\n",
    "lr1_exp.fit(X_train1e, y_train1)#first model: train A1\n",
    "y_pred2e = lr1_exp.predict(X_test2e) #predict B2\n",
    "lr2_exp = LinearRegression()\n",
    "lr2_exp.fit(X_train2e, y_train2)#second model: train A2\n",
    "y_pred1e = lr2_exp.predict(X_test1e) #predict B1\n",
    "print('Mean Squared Error for predicting Test part 1(expanded model):', \n",
    "      metrics.mean_squared_error(y_test1, y_pred1e))\n",
    "print('Mean Squared Error for predicting Test part 2(expanded model):', \n",
    "      metrics.mean_squared_error(y_test2, y_pred2e))"
   ]
  },
  {
   "cell_type": "code",
   "execution_count": 160,
   "metadata": {},
   "outputs": [
    {
     "name": "stdout",
     "output_type": "stream",
     "text": [
      "Mean Squared Error for predicting Train part 1(expanded model): 0.016012866258591704\n",
      "Mean Squared Error for predicting Train part 2(expanded model): 0.016064226864385727\n"
     ]
    }
   ],
   "source": [
    "#with training part \n",
    "\n",
    "y_pred22e = lr1_exp.predict(X_train2e) #predict A2\n",
    "y_pred12e = lr2_exp.predict(X_train1e) #predict A1\n",
    "print('Mean Squared Error for predicting Train part 1(expanded model):', \n",
    "      metrics.mean_squared_error(y_train1, y_pred12e))\n",
    "print('Mean Squared Error for predicting Train part 2(expanded model):', \n",
    "      metrics.mean_squared_error(y_train2, y_pred22e))"
   ]
  },
  {
   "cell_type": "code",
   "execution_count": 161,
   "metadata": {},
   "outputs": [],
   "source": [
    "data_dd['weights_exp'] = 0\n",
    "data_dd.iloc[X_train1e.index,9] = np.array(pd.DataFrame(y_pred12e))\n",
    "data_dd.iloc[X_train2e.index,9] = np.array(pd.DataFrame(y_pred22e))\n",
    "data_dd.iloc[X_test1e.index,9] = np.array(pd.DataFrame(y_pred1e))\n",
    "data_dd.iloc[X_test2e.index,9] = np.array(pd.DataFrame(y_pred2e))"
   ]
  },
  {
   "cell_type": "code",
   "execution_count": 97,
   "metadata": {},
   "outputs": [
    {
     "data": {
      "text/plain": [
       "3.9740259342789694"
      ]
     },
     "execution_count": 97,
     "metadata": {},
     "output_type": "execute_result"
    }
   ],
   "source": [
    "weighted_wald_num1e = (data_dd.revenue[data_dd.treatment==1] * \n",
    "                       data_dd.weights_exp[data_dd.treatment==1]).mean()\n",
    "weighted_wald_num2e = (data_dd.revenue[data_dd.treatment==0] * \n",
    "                       data_dd.weights_exp[data_dd.treatment==0]).mean()\n",
    "weighted_wald_dene = (data_dd.compliance[data_dd.treatment==1] * \n",
    "                      data_dd.weights_exp[data_dd.treatment==1]).mean()\n",
    "weighted_wald_exp = (weighted_wald_num1e - weighted_wald_num2e)/weighted_wald_dene\n",
    "weighted_wald_exp#new Wald estimator value\n"
   ]
  },
  {
   "cell_type": "code",
   "execution_count": 98,
   "metadata": {},
   "outputs": [
    {
     "name": "stdout",
     "output_type": "stream",
     "text": [
      "w_wald_est exp SE = 0.4009\n",
      "w_wald_est exp = 3.9806\n"
     ]
    }
   ],
   "source": [
    "np.random.seed(123)\n",
    "\n",
    "\n",
    "weighted_wald_exp_bs = []\n",
    "for i in range(1000):\n",
    "    treatment = data_dd.revenue[np.random.choice(np.where(data_dd.treatment == 1)[0], \n",
    "                                                 len(np.where(data_dd.treatment == 1)[0]), \n",
    "                                                 replace = True)]\n",
    "    control = data_dd.revenue[np.random.choice(np.where(data_dd.treatment == 0)[0], \n",
    "                                               len(np.where(data_dd.treatment == 0)[0]), \n",
    "                                               replace = True)]\n",
    "    weighted_wald_num_e = (data_dd.weights_exp*treatment).mean()-(data_dd.weights_exp*control).mean()\n",
    "    weighted_wald_den_e = (data_dd.compliance[data_dd.treatment==1] * \n",
    "                      data_dd.weights_exp[data_dd.treatment==1]).mean()\n",
    "    \n",
    "    weighted_wald_exp_bs.append(weighted_wald_num_e/weighted_wald_den_e)\n",
    "print(\"The standard error of Weighted Wald estimator for expanded model: \", round(np.std(weighted_wald_exp_bs), 4))\n",
    "print(\"Weighted Wald estimator for expanded model: \", round(np.mean(weighted_wald_exp_bs), 4))"
   ]
  },
  {
   "cell_type": "code",
   "execution_count": 99,
   "metadata": {},
   "outputs": [
    {
     "name": "stdout",
     "output_type": "stream",
     "text": [
      "The R2 of original weighted is -0.0339\n",
      "The R2 of enhanceed weighted is -0.0245\n"
     ]
    }
   ],
   "source": [
    "#q.5.2\n",
    "from sklearn.metrics import r2_score\n",
    "print(\"The R2 of original weighted is \" + str(round(r2_score(data_dd.compliance, data_dd.weights),4))) \n",
    "print(\"The R2 of enhanceed weighted is \" + str(round(r2_score(data_dd.compliance, data_dd.weights_exp),4))) "
   ]
  },
  {
   "cell_type": "code",
   "execution_count": null,
   "metadata": {},
   "outputs": [],
   "source": [
    "#q.6"
   ]
  },
  {
   "cell_type": "code",
   "execution_count": 164,
   "metadata": {},
   "outputs": [
    {
     "data": {
      "text/plain": [
       "Text(0, 0.5, 'Density')"
      ]
     },
     "execution_count": 164,
     "metadata": {},
     "output_type": "execute_result"
    },
    {
     "data": {
      "image/png": "[encoded data removed]",
      "text/plain": [
       "<Figure size 1080x576 with 1 Axes>"
      ]
     },
     "metadata": {
      "needs_background": "light"
     },
     "output_type": "display_data"
    }
   ],
   "source": [
    "import seaborn as sns\n",
    "import matplotlib.pyplot as plt\n",
    "%matplotlib inline\n",
    "\n",
    "fig = plt.figure(figsize =(15,8))\n",
    "ax = sns.kdeplot(weighted_wald_exp_bs, color = 'orange', label = 'Weighted Wald expanded model', shade = True)\n",
    "ax = sns.kdeplot(weighted_wald_bs, color = 'blue', label = 'Weighted Wald original model', shade = True)\n",
    "ax = sns.kdeplot(wald_bs, color = 'red', label = 'Wald original model', shade = True)\n",
    "\n",
    "plt.axvline(x = np.mean(weighted_wald_exp_bs), color = 'orange')\n",
    "plt.axvline(x = np.mean(weighted_wald_bs), color = 'blue')\n",
    "plt.axvline(x = np.mean(wald_bs), color = 'red')\n",
    "\n",
    "plt.xlabel('Estimators')\n",
    "plt.ylabel('Density')"
   ]
  },
  {
   "cell_type": "code",
   "execution_count": 105,
   "metadata": {},
   "outputs": [
    {
     "data": {
      "text/html": [
       "<div>\n",
       "<style scoped>\n",
       "    .dataframe tbody tr th:only-of-type {\n",
       "        vertical-align: middle;\n",
       "    }\n",
       "\n",
       "    .dataframe tbody tr th {\n",
       "        vertical-align: top;\n",
       "    }\n",
       "\n",
       "    .dataframe thead th {\n",
       "        text-align: right;\n",
       "    }\n",
       "</style>\n",
       "<table border=\"1\" class=\"dataframe\">\n",
       "  <thead>\n",
       "    <tr style=\"text-align: right;\">\n",
       "      <th></th>\n",
       "      <th>response</th>\n",
       "      <th>treatment</th>\n",
       "      <th>age</th>\n",
       "      <th>party</th>\n",
       "    </tr>\n",
       "  </thead>\n",
       "  <tbody>\n",
       "    <tr>\n",
       "      <th>0</th>\n",
       "      <td>0</td>\n",
       "      <td>0</td>\n",
       "      <td>28.0</td>\n",
       "      <td>d</td>\n",
       "    </tr>\n",
       "    <tr>\n",
       "      <th>1</th>\n",
       "      <td>1</td>\n",
       "      <td>0</td>\n",
       "      <td>54.0</td>\n",
       "      <td>g</td>\n",
       "    </tr>\n",
       "    <tr>\n",
       "      <th>2</th>\n",
       "      <td>1</td>\n",
       "      <td>0</td>\n",
       "      <td>44.0</td>\n",
       "      <td>a</td>\n",
       "    </tr>\n",
       "    <tr>\n",
       "      <th>3</th>\n",
       "      <td>0</td>\n",
       "      <td>0</td>\n",
       "      <td>77.0</td>\n",
       "      <td>a</td>\n",
       "    </tr>\n",
       "    <tr>\n",
       "      <th>4</th>\n",
       "      <td>0</td>\n",
       "      <td>0</td>\n",
       "      <td>44.0</td>\n",
       "      <td>a</td>\n",
       "    </tr>\n",
       "  </tbody>\n",
       "</table>\n",
       "</div>"
      ],
      "text/plain": [
       "   response  treatment   age party\n",
       "0         0          0  28.0     d\n",
       "1         1          0  54.0     g\n",
       "2         1          0  44.0     a\n",
       "3         0          0  77.0     a\n",
       "4         0          0  44.0     a"
      ]
     },
     "execution_count": 105,
     "metadata": {},
     "output_type": "execute_result"
    }
   ],
   "source": [
    "data.head()"
   ]
  },
  {
   "cell_type": "code",
   "execution_count": 106,
   "metadata": {},
   "outputs": [
    {
     "data": {
      "text/plain": [
       "(36501, 4)"
      ]
     },
     "execution_count": 106,
     "metadata": {},
     "output_type": "execute_result"
    }
   ],
   "source": [
    "data.shape"
   ]
  },
  {
   "cell_type": "code",
   "execution_count": 116,
   "metadata": {},
   "outputs": [
    {
     "data": {
      "text/plain": [
       "3559616.671172841"
      ]
     },
     "execution_count": 116,
     "metadata": {},
     "output_type": "execute_result"
    }
   ],
   "source": [
    "data_dd.revenue.sum()"
   ]
  },
  {
   "cell_type": "code",
   "execution_count": 121,
   "metadata": {},
   "outputs": [
    {
     "data": {
      "text/plain": [
       "6565"
      ]
     },
     "execution_count": 121,
     "metadata": {},
     "output_type": "execute_result"
    }
   ],
   "source": [
    "data_dd.compliance.sum()"
   ]
  },
  {
   "cell_type": "code",
   "execution_count": 120,
   "metadata": {},
   "outputs": [
    {
     "data": {
      "text/plain": [
       "100000"
      ]
     },
     "execution_count": 120,
     "metadata": {},
     "output_type": "execute_result"
    }
   ],
   "source": [
    "data_dd.treatment.sum()"
   ]
  },
  {
   "cell_type": "code",
   "execution_count": null,
   "metadata": {},
   "outputs": [],
   "source": []
  }
 ],
 "metadata": {
  "kernelspec": {
   "display_name": "Python 3",
   "language": "python",
   "name": "python3"
  },
  "language_info": {
   "codemirror_mode": {
    "name": "ipython",
    "version": 3
   },
   "file_extension": ".py",
   "mimetype": "text/x-python",
   "name": "python",
   "nbconvert_exporter": "python",
   "pygments_lexer": "ipython3",
   "version": "3.8.5"
  }
 },
 "nbformat": 4,
 "nbformat_minor": 2
}
