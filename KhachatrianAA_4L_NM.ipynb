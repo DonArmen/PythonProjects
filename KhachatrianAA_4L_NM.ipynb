{
  "nbformat": 4,
  "nbformat_minor": 0,
  "metadata": {
    "kernelspec": {
      "display_name": "Python 3",
      "language": "python",
      "name": "python3"
    },
    "language_info": {
      "codemirror_mode": {
        "name": "ipython",
        "version": 3
      },
      "file_extension": ".py",
      "mimetype": "text/x-python",
      "name": "python",
      "nbconvert_exporter": "python",
      "pygments_lexer": "ipython3",
      "version": "3.6.3"
    },
    "colab": {
      "name": "KhachatrianAA_4L_NM.ipynb",
      "provenance": []
    }
  },
  "cells": [
    {
      "cell_type": "markdown",
      "metadata": {
        "id": "OIU1J_DEO1h-",
        "colab_type": "text"
      },
      "source": [
        "Лабораторная работа 4\n",
        "\n",
        "Хачатрян Армен БПМ153\n",
        "4.1.28 $$ sin(x_2+1)-x_1-1=0 $$\n",
        "       $$ 2x_2+cos(x_1)-0.5=0 $$\n",
        "       \n",
        "28 Вариант"
      ]
    },
    {
      "cell_type": "markdown",
      "metadata": {
        "id": "Ri7pHsGGO1iA",
        "colab_type": "text"
      },
      "source": [
        "![%D0%A1%D0%BD%D0%B8%D0%BC%D0%BE%D0%BA%20%D1%8D%D0%BA%D1%80%D0%B0%D0%BD%D0%B0%202018-06-11%20%D0%B2%2012.26.51.png](attachment:%D0%A1%D0%BD%D0%B8%D0%BC%D0%BE%D0%BA%20%D1%8D%D0%BA%D1%80%D0%B0%D0%BD%D0%B0%202018-06-11%20%D0%B2%2012.26.51.png)"
      ]
    },
    {
      "cell_type": "markdown",
      "metadata": {
        "id": "xjRLCAllO1iC",
        "colab_type": "text"
      },
      "source": [
        "#  Теория"
      ]
    },
    {
      "cell_type": "markdown",
      "metadata": {
        "id": "nBgo86B6O1iD",
        "colab_type": "text"
      },
      "source": [
        "Численное решение системы нелинейных уравнений\n",
        "$$ \\begin{cases}\n",
        "   f_1(x_1,x_2,\\ldots, x_m) = 0\\\\\n",
        "   f_2(x_1,x_2,\\ldots, x_m) = 0\\\\\n",
        "   \\ldots \\\\\n",
        "   f_m(x_1,x_2,\\ldots, x_m) = 0\n",
        " \\end{cases} $$\n",
        "$$\\text{Задача состоит в поиске приближенного решения } \\overline x^{*} = (x_1^{*},x_2^{*},\\ldots,x_m^{*})^T: ||\\overline x^{*} - \\overline x||<\\varepsilon $$\n",
        "$$\\overline f(\\overline x) = \\overline 0, \\overline x \\in R^m, \\overline f \\in R^m$$ \n",
        "$$\\textbf{Матрица Якоби: }\\overline f'(\\overline x) = (\\frac{\\partial f_i}{\\partial x_j}), i,j = 1,\\ldots, m $$ \n",
        "$$\\text{Общая схема: } $$\n",
        "$$\\text{1) Локализация корней: малая окрестность решения } \\overline x \\text{ в } R^m $$\n",
        "$$\\text{2) Итерационная схема }$$\n",
        "$$\\textbf{Метод Ньютона (линеаризация): } $$\n",
        "$$\\overline x^{(k)}, f_i(\\overline x) = \\overline 0, i = 1,\\ldots, m$$\n",
        "$$\\text{Линейная часть разложения во формуле Тейлора в точке } x^{(k)}: $$\n",
        "$$ f_i(\\overline x) = f_i(\\overline x^{(k)}) + \\sum_{l=1}^m \\frac{\\partial f_i(\\overline x^{(k)})}{\\partial x_l}(x_l-x_l^{(k)}) $$\n",
        "$$\\text{В результате получим систему: } $$\n",
        "$$ \\overline f(\\overline x)\\approx \\overline f(\\overline x^{(k)})+\\overline f'(\\overline x^{(k)})(\\overline x - \\overline x^{(k)}) = 0$$\n",
        "$$ \\overline x^{(k+1)} = \\overline x^{(k)} + \\Delta\\overline x^{(k+1)} $$ \n",
        "$$\\textbf{Теорема(сходимость) : } $$\n",
        "$$ ||x^{(n+1)} - \\overline x||<{{1}\\over{\\delta}}||x^{(n)} - \\overline x||^2, n\\geq 0 \\text{ Метод сходится с квадратичной скоростью} $$\n",
        "$$ ||x^{(n)} - x^{(n-1)}||<\\varepsilon $$"
      ]
    },
    {
      "cell_type": "markdown",
      "metadata": {
        "id": "EoACd55cO1iF",
        "colab_type": "text"
      },
      "source": [
        "НАЧАЛО"
      ]
    },
    {
      "cell_type": "code",
      "metadata": {
        "id": "nRWFZgm3O1iG",
        "colab_type": "code",
        "colab": {}
      },
      "source": [
        "import numpy as np\n",
        "import matplotlib.pyplot as plt\n",
        "%matplotlib inline"
      ],
      "execution_count": null,
      "outputs": []
    },
    {
      "cell_type": "markdown",
      "metadata": {
        "id": "llJXWYCAO1iO",
        "colab_type": "text"
      },
      "source": [
        "Построим график функций, выраженных через $x_{2}$"
      ]
    },
    {
      "cell_type": "code",
      "metadata": {
        "id": "m3Gdqt1EO1iO",
        "colab_type": "code",
        "colab": {},
        "outputId": "a2208fe6-444c-4cbe-b938-d44ac2f6c628"
      },
      "source": [
        "def f1(x):\n",
        "    return np.arcsin(x+1)-1\n",
        "def f2(x):\n",
        "    return 0.25-np.cos(x)/2\n",
        "X = np.linspace(-3,0.5,1000)\n",
        "plt.plot(X,f1(X),'r', label='$f_{1}$')\n",
        "plt.plot(X,f2(X),'b', label='$f_{2}$')\n",
        "plt.legend()\n",
        "plt.grid()\n",
        "plt.xlabel('$x_{1}$', fontsize = 14)\n",
        "plt.ylabel('$x_{2}$', fontsize = 14)"
      ],
      "execution_count": null,
      "outputs": [
        {
          "output_type": "stream",
          "text": [
            "/Users/donarmenito/anaconda3/lib/python3.6/site-packages/ipykernel_launcher.py:2: RuntimeWarning: invalid value encountered in arcsin\n",
            "  \n"
          ],
          "name": "stderr"
        },
        {
          "output_type": "execute_result",
          "data": {
            "text/plain": [
              "Text(0,0.5,'$x_{2}$')"
            ]
          },
          "metadata": {
            "tags": []
          },
          "execution_count": 42
        },
        {
          "output_type": "display_data",
          "data": {
            "image/png": "[encoded data removed]",
            "text/plain": [
              "<matplotlib.figure.Figure at 0x151aebbbe0>"
            ]
          },
          "metadata": {
            "tags": []
          }
        }
      ]
    },
    {
      "cell_type": "markdown",
      "metadata": {
        "id": "hCS4VwQHO1iV",
        "colab_type": "text"
      },
      "source": [
        "### Область нахождения корня уравнения \n",
        "$$x_{1} \\in (-0.5;0) $$\n",
        "$$x_{2} \\in (-0.5,0) $$"
      ]
    },
    {
      "cell_type": "markdown",
      "metadata": {
        "id": "JSYCj5nJO1iW",
        "colab_type": "text"
      },
      "source": [
        "Зададим функцию, состоящую из 2ух функций по условию, и ее матрицу Якоби"
      ]
    },
    {
      "cell_type": "code",
      "metadata": {
        "id": "z4w0VbJxO1iX",
        "colab_type": "code",
        "colab": {}
      },
      "source": [
        "def f(x1,x2):\n",
        "    return [np.sin(x2+1)-x1-1, 2*x2+np.cos(x1)-0.5]\n",
        "def df(x1,x2):\n",
        "    df1x1 = -1\n",
        "    df1x2 = np.cos(x2+1)\n",
        "    df2x1 = -np.sin(x1)\n",
        "    df2x2 = 2\n",
        "    return [[df1x1, df1x2], [df2x1, df2x2]]"
      ],
      "execution_count": null,
      "outputs": []
    },
    {
      "cell_type": "markdown",
      "metadata": {
        "id": "7m570ErRO1ia",
        "colab_type": "text"
      },
      "source": [
        "Воспользуемся методом Ньютона, основная идея которого заключается в том, что решение нелинейной системы превращается в решение некоторого количества линейных систем вида: `\n",
        "$$ \\vec{x}^{(k+1)}: \\quad f(x^{k}) + f'(x^{k})(x^{k+1}-x^{k}) = 0 $$"
      ]
    },
    {
      "cell_type": "code",
      "metadata": {
        "id": "e9wVPtwmO1ib",
        "colab_type": "code",
        "colab": {}
      },
      "source": [
        "from sympy.solvers import solve\n",
        "from sympy import Symbol\n",
        "x1 = Symbol('x1')\n",
        "x2 = Symbol('x2')\n",
        "def newton(f, df, x0, eps):\n",
        "    xn = x0\n",
        "    xn1=solve(f(xn[0],xn[1]) + np.dot(df(xn[0],xn[1]), [x1-xn[0], x2-xn[1]]), x1, x2)\n",
        "    xn1=np.array([xn1[x1],xn1[x2]], dtype='float')\n",
        "    k = 1\n",
        "    while np.linalg.norm(np.array([xn1[0] - xn[0], xn1[1] - xn[1]], dtype='float')) > eps:\n",
        "        xn = xn1\n",
        "        xn1 = solve(f(xn[0],xn[1]) + np.dot(df(xn[0],xn[1]), [x1-xn[0], x2-xn[1]]),  x1, x2)\n",
        "        xn1 = np.array([xn1[x1],xn1[x2]], dtype='float')\n",
        "        k=k+1\n",
        "    return xn1, k"
      ],
      "execution_count": null,
      "outputs": []
    },
    {
      "cell_type": "markdown",
      "metadata": {
        "id": "0ub8cmfGO1ie",
        "colab_type": "text"
      },
      "source": [
        "Зададим начальное приближение"
      ]
    },
    {
      "cell_type": "code",
      "metadata": {
        "id": "FMZ_sJSJO1ie",
        "colab_type": "code",
        "colab": {}
      },
      "source": [
        "x01 = [-1,0]"
      ],
      "execution_count": null,
      "outputs": []
    },
    {
      "cell_type": "markdown",
      "metadata": {
        "id": "MHjyhLxWO1ig",
        "colab_type": "text"
      },
      "source": [
        "Запустим метод"
      ]
    },
    {
      "cell_type": "code",
      "metadata": {
        "id": "sC3bKdKOO1ih",
        "colab_type": "code",
        "colab": {}
      },
      "source": [
        "solution = newton(f,df,x01,10**(-6))"
      ],
      "execution_count": null,
      "outputs": []
    },
    {
      "cell_type": "code",
      "metadata": {
        "id": "fMY9z6HwO1ij",
        "colab_type": "code",
        "colab": {},
        "outputId": "927985d7-8116-45ee-bb71-75c10578630c"
      },
      "source": [
        "print('x1 = ', solution[0][0], '\\n', 'x2 = ', solution[0][1], '\\n', 'steps = ', solution[1])"
      ],
      "execution_count": null,
      "outputs": [
        {
          "output_type": "stream",
          "text": [
            "x1 =  -0.301982225698 \n",
            " x2 =  -0.22737441245 \n",
            " steps =  4\n"
          ],
          "name": "stdout"
        }
      ]
    },
    {
      "cell_type": "markdown",
      "metadata": {
        "id": "DMCvJiY0O1im",
        "colab_type": "text"
      },
      "source": [
        "Найдем решение через SciPy"
      ]
    },
    {
      "cell_type": "code",
      "metadata": {
        "id": "McRcPSSTO1im",
        "colab_type": "code",
        "colab": {}
      },
      "source": [
        "def f_mod(x):\n",
        "    return [np.sin(x[1]+1)-x[0]-1, 2*x[1]+np.cos(x[0])-0.5]"
      ],
      "execution_count": null,
      "outputs": []
    },
    {
      "cell_type": "code",
      "metadata": {
        "id": "hmJYTmzEO1io",
        "colab_type": "code",
        "colab": {},
        "outputId": "78eab0c0-8bde-4c0a-fafc-19139a141ef4"
      },
      "source": [
        "from scipy.optimize import root\n",
        "r = root(f_mod,x01)\n",
        "r"
      ],
      "execution_count": null,
      "outputs": [
        {
          "output_type": "execute_result",
          "data": {
            "text/plain": [
              "    fjac: array([[-0.93602157,  0.35194263],\n",
              "       [-0.35194263, -0.93602157]])\n",
              "     fun: array([  6.66133815e-15,  -3.49165141e-14])\n",
              " message: 'The solution converged.'\n",
              "    nfev: 11\n",
              "     qtf: array([ -3.31704796e-11,   5.42565114e-11])\n",
              "       r: array([ 1.08564645, -0.01805924, -2.03950017])\n",
              "  status: 1\n",
              " success: True\n",
              "       x: array([-0.30198223, -0.22737441])"
            ]
          },
          "metadata": {
            "tags": []
          },
          "execution_count": 49
        }
      ]
    },
    {
      "cell_type": "code",
      "metadata": {
        "id": "7oSdXBnQO1iq",
        "colab_type": "code",
        "colab": {},
        "outputId": "9cadd9eb-9421-4b07-e736-dda20f11a214"
      },
      "source": [
        "# Погрешность корня\n",
        "r.x-solution[0]"
      ],
      "execution_count": null,
      "outputs": [
        {
          "output_type": "execute_result",
          "data": {
            "text/plain": [
              "array([ -1.15962795e-13,   3.78586051e-14])"
            ]
          },
          "metadata": {
            "tags": []
          },
          "execution_count": 50
        }
      ]
    },
    {
      "cell_type": "markdown",
      "metadata": {
        "id": "nB1ZiGNdO1is",
        "colab_type": "text"
      },
      "source": [
        "КОНЕЦ"
      ]
    }
  ]
}