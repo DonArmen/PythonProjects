{
  "nbformat": 4,
  "nbformat_minor": 0,
  "metadata": {
    "colab": {
      "name": "Khachatrian_selection_bias.ipynb",
      "provenance": [],
      "collapsed_sections": []
    },
    "kernelspec": {
      "name": "python3",
      "display_name": "Python 3"
    }
  },
  "cells": [
    {
      "cell_type": "markdown",
      "metadata": {
        "id": "p8pG2Dm6LJ1V",
        "colab_type": "text"
      },
      "source": [
        "#Khachatrian Armen \n",
        "##Selection bias\n",
        "\n"
      ]
    },
    {
      "cell_type": "code",
      "metadata": {
        "id": "PrHZVBAmNq9g",
        "colab_type": "code",
        "colab": {}
      },
      "source": [
        "%matplotlib inline\n",
        "from google.colab import files\n",
        "import pandas as pd\n",
        "import numpy as np\n",
        "import matplotlib as mpl\n",
        "import matplotlib.pyplot as plt\n",
        "import scipy.special\n",
        "plt.style.use('seaborn-dark')\n"
      ],
      "execution_count": null,
      "outputs": []
    },
    {
      "cell_type": "code",
      "metadata": {
        "id": "PofoqXwPNsq1",
        "colab_type": "code",
        "colab": {}
      },
      "source": [
        "# Total number of persons in the study\n",
        "# Set large enough to make sampling variation negligible.\n",
        "N = 10 ** 6\n",
        "\n",
        "# Each person has an individual level of \"charitability\".\n",
        "# We'll model this charitability as being normally distributed.\n",
        "charitability = np.random.normal(loc=-1, scale=0.5, size=N)\n",
        "\n",
        "\n",
        "# Draw the potential outcomes from a lognormal distribution.\n",
        "# The outcome Y0 has a mean based on the charitability level:\n",
        "# A higher charitability tends to increase the donation amount.\n",
        "# Y1 is set to be identical to Y0. This means the ad has no effect!\n",
        "Y0 = np.random.lognormal(mean=(charitability + 0.5), sigma=0.1, size=N)\n",
        "Y1 = Y0.copy()\n",
        "\n",
        "# The probability of searching for Doctors Without Borders is\n",
        "# a function of the charitability level. People who are more \n",
        "# charitable are more likely to search for DWB.\n",
        "# We assume that anyone who searches for DWB will see the DWB ad.\n",
        "prob_search_dwb = scipy.special.expit(charitability)\n",
        "D = np.random.binomial(n=1, p=prob_search_dwb)\n",
        "\n",
        "# Calculate the *actual* outcome.\n",
        "Y = Y1 * D + Y0 * (1 - D)\n",
        "\n",
        "# Put the data together for analysis.\n",
        "df = pd.DataFrame({\n",
        "    'D': D, \n",
        "    'Y0': Y0, \n",
        "    'Y1': Y1, \n",
        "    'Y': Y, \n",
        "    'delta': Y1 - Y0,\n",
        "    'C': charitability,\n",
        "})\n"
      ],
      "execution_count": null,
      "outputs": []
    },
    {
      "cell_type": "code",
      "metadata": {
        "id": "tZSlpfKWOmiN",
        "colab_type": "code",
        "colab": {
          "base_uri": "https://localhost:8080/",
          "height": 304
        },
        "outputId": "df4c2bd0-336b-4b7b-a782-ba2fc866ae65"
      },
      "source": [
        "column_to_plot = 'Y0'\n",
        "ax = df.query('D==0')[column_to_plot].hist(bins=100, alpha=0.5, density=True, label='D = 0')\n",
        "ax = df.query('D==1')[column_to_plot].hist(bins=100, alpha=0.5, density=True, ax=ax, label='D = 1')\n",
        "ax.legend(fontsize=16)\n",
        "ax.set_xlabel(column_to_plot, fontsize=16)\n",
        "ax.set_ylabel('Density', fontsize=16)\n",
        "ax.set_title(\"Figure 1: Density of {} by treatment group\".format(column_to_plot), fontsize=16)\n",
        "ax.tick_params(labelsize=16)\n",
        " "
      ],
      "execution_count": null,
      "outputs": [
        {
          "output_type": "display_data",
          "data": {
            "image/png": "[encoded data removed]",
            "text/plain": [
              "<Figure size 432x288 with 1 Axes>"
            ]
          },
          "metadata": {
            "tags": []
          }
        }
      ]
    },
    {
      "cell_type": "code",
      "metadata": {
        "id": "ZcUCzmEkb4RU",
        "colab_type": "code",
        "colab": {
          "base_uri": "https://localhost:8080/",
          "height": 142
        },
        "outputId": "a0de102e-f477-40ff-e311-d9e0aaf42e58"
      },
      "source": [
        "# Tabulate all the averages sliced by treatment vs. control\n",
        "df.groupby('D').mean()"
      ],
      "execution_count": null,
      "outputs": [
        {
          "output_type": "execute_result",
          "data": {
            "text/html": [
              "<div>\n",
              "<style scoped>\n",
              "    .dataframe tbody tr th:only-of-type {\n",
              "        vertical-align: middle;\n",
              "    }\n",
              "\n",
              "    .dataframe tbody tr th {\n",
              "        vertical-align: top;\n",
              "    }\n",
              "\n",
              "    .dataframe thead th {\n",
              "        text-align: right;\n",
              "    }\n",
              "</style>\n",
              "<table border=\"1\" class=\"dataframe\">\n",
              "  <thead>\n",
              "    <tr style=\"text-align: right;\">\n",
              "      <th></th>\n",
              "      <th>Y0</th>\n",
              "      <th>Y1</th>\n",
              "      <th>Y</th>\n",
              "      <th>delta</th>\n",
              "      <th>C</th>\n",
              "    </tr>\n",
              "    <tr>\n",
              "      <th>D</th>\n",
              "      <th></th>\n",
              "      <th></th>\n",
              "      <th></th>\n",
              "      <th></th>\n",
              "      <th></th>\n",
              "    </tr>\n",
              "  </thead>\n",
              "  <tbody>\n",
              "    <tr>\n",
              "      <th>0</th>\n",
              "      <td>0.64158</td>\n",
              "      <td>0.64158</td>\n",
              "      <td>0.64158</td>\n",
              "      <td>0.0</td>\n",
              "      <td>-1.067874</td>\n",
              "    </tr>\n",
              "    <tr>\n",
              "      <th>1</th>\n",
              "      <td>0.81539</td>\n",
              "      <td>0.81539</td>\n",
              "      <td>0.81539</td>\n",
              "      <td>0.0</td>\n",
              "      <td>-0.827938</td>\n",
              "    </tr>\n",
              "  </tbody>\n",
              "</table>\n",
              "</div>"
            ],
            "text/plain": [
              "        Y0       Y1        Y  delta         C\n",
              "D                                            \n",
              "0  0.64158  0.64158  0.64158    0.0 -1.067874\n",
              "1  0.81539  0.81539  0.81539    0.0 -0.827938"
            ]
          },
          "metadata": {
            "tags": []
          },
          "execution_count": 38
        }
      ]
    },
    {
      "cell_type": "code",
      "metadata": {
        "id": "HoVN21MmRGnU",
        "colab_type": "code",
        "colab": {
          "base_uri": "https://localhost:8080/",
          "height": 68
        },
        "outputId": "686a4908-f956-47b2-d887-668d9a727e8e"
      },
      "source": [
        "# Here's another way to calculate the averages from the table.\n",
        "\n",
        "# Calculate E[Y]\n",
        "df['Y'].mean()\n",
        "\n",
        "# Calculate E[Y0 | D=0]\n",
        "print(\"E[Y0|D=0] = {}\".format(df.query(\"D == 0\")['Y0'].mean()))\n",
        "\n",
        "print(\"E[Y1|D=1] = {}\".format(df.query(\"D == 1\")['Y1'].mean()))\n",
        "\n",
        "print(\"E[Y1|D=1] - E[Y0|D=0] = {}\".format(df.query(\"D == 1\")['Y1'].mean() - df.query(\"D == 0\")['Y0'].mean()))"
      ],
      "execution_count": null,
      "outputs": [
        {
          "output_type": "stream",
          "text": [
            "E[Y0|D=0] = 0.6415796421899248\n",
            "E[Y1|D=1] = 0.8153898355300789\n",
            "E[Y1|D=1] - E[Y0|D=0] = 0.17381019334015413\n"
          ],
          "name": "stdout"
        }
      ]
    },
    {
      "cell_type": "markdown",
      "metadata": {
        "id": "OM1RVRbGlKD8",
        "colab_type": "text"
      },
      "source": [
        "# Exercises\n",
        "\n",
        "Read the comments in the code. They should help you!\n",
        "\n",
        "## Warm-up\n",
        "\n",
        "1. Calculate $E[Y^1 - Y^0]$\n",
        "\n",
        "2. Calculate the $NATE$\n",
        "\n",
        "3. Calculate the selection bias\n",
        "\n",
        "4. What is the key line of code fundamentally creates the selection bias? Explain.\n",
        "\n",
        "5. Calculate $P(D = 1)$\n",
        "\n",
        "## Experiment\n",
        "\n",
        "7. Make a version of this data-generating process that is a true randomized experiment. The new treatment variable should be $D_\\text{exp}$. Make the overall probability of treatment the same, i.e., $P(D=1) = P(D_\\text{exp}=1)$. Show that the experiment eliminates selection bias. Calculate the $NATE$.\n",
        "\n",
        "8. Interpret figure 1 w.r.t. the *independence assumption*: $(Y^1, Y^0) \\perp D$.\n",
        "\n",
        "9. Make a new version of figure 1 using the experiment data. Compare.\n",
        "\n",
        "## Adding a treatment effect\n",
        "\n",
        "10. Make a version of the biased data-generating process with an ATE=0.3. Calculate the NATE. (Hint: This only requires changing one line.)\n",
        "\n",
        "11. Repeat the $D_\\text{exp}$ experiment to show that NATE=ATE=0.3.\n",
        "\n",
        "## Extensions\n",
        "\n",
        "In the homework you will build on these exercises to explore the differential effect bias and understand the meaning of \"identification.\""
      ]
    },
    {
      "cell_type": "markdown",
      "metadata": {
        "id": "Ref8gc3SGctx",
        "colab_type": "text"
      },
      "source": [
        "# Exercises"
      ]
    },
    {
      "cell_type": "markdown",
      "metadata": {
        "id": "qAMBkwj2GrlS",
        "colab_type": "text"
      },
      "source": [
        "## Warm-up"
      ]
    },
    {
      "cell_type": "code",
      "metadata": {
        "id": "xGm7dK6_LCqK",
        "colab_type": "code",
        "colab": {
          "base_uri": "https://localhost:8080/",
          "height": 34
        },
        "outputId": "46675118-714d-4441-d07f-db5a7d5c24b9"
      },
      "source": [
        "#1\n",
        "#E[Y_1 - Y_0] = E[Y_1]-E[Y_0]\n",
        "#ATE = 0 as variables are the same, consequently, the mean will be the same\n",
        "Y1mean = df['Y1'].mean()\n",
        "Y0mean = df['Y0'].mean() \n",
        "ate = Y1mean - Y0mean\n",
        "print (\"E[Y_1 - Y_0] = \", ate)"
      ],
      "execution_count": null,
      "outputs": [
        {
          "output_type": "stream",
          "text": [
            "E[Y_1 - Y_0] =  0.0\n"
          ],
          "name": "stdout"
        }
      ]
    },
    {
      "cell_type": "code",
      "metadata": {
        "id": "KAcLit7snlSI",
        "colab_type": "code",
        "colab": {
          "base_uri": "https://localhost:8080/",
          "height": 34
        },
        "outputId": "f4ca6e14-bf9c-4341-fd61-565cfa3deeaf"
      },
      "source": [
        "#2\n",
        "#NATE = E[Y_1|D=1]-E[Y_0|D=0]\n",
        "nate = df.query(\"D == 1\")['Y1'].mean() - df.query(\"D == 0\")['Y0'].mean()\n",
        "print(\"NATE =\", nate)"
      ],
      "execution_count": null,
      "outputs": [
        {
          "output_type": "stream",
          "text": [
            "NATE = 0.17381019334015413\n"
          ],
          "name": "stdout"
        }
      ]
    },
    {
      "cell_type": "code",
      "metadata": {
        "id": "e5bzoYpf_nfx",
        "colab_type": "code",
        "colab": {
          "base_uri": "https://localhost:8080/",
          "height": 34
        },
        "outputId": "88e5abab-4726-44ed-c172-0b34dd26af4a"
      },
      "source": [
        "#3\n",
        "#Selection bias is a difference in Y0 between the treatment and the control groups\n",
        "#Selection bias = E[Y_0|D=1] - E[Y_0|D=0]\n",
        "Selbias = df.query(\"D == 1\")['Y0'].mean() - df.query(\"D == 0\")['Y0'].mean()\n",
        "print(\"Selection bias = \", Selbias)"
      ],
      "execution_count": null,
      "outputs": [
        {
          "output_type": "stream",
          "text": [
            "Selection bias =  0.17381019334015413\n"
          ],
          "name": "stdout"
        }
      ]
    },
    {
      "cell_type": "code",
      "metadata": {
        "id": "Sn4gTkaPBeoG",
        "colab_type": "code",
        "colab": {
          "base_uri": "https://localhost:8080/",
          "height": 51
        },
        "outputId": "b5297992-93d8-462b-d6e0-f086705b6697"
      },
      "source": [
        "#4\n",
        "print(\"I suppose that selection bias could exist only if the both groups are different even in the absence of the treatment\")\n",
        "print(\"D = np.random.binomial(n=1, p=prob_search_dwb)\")"
      ],
      "execution_count": null,
      "outputs": [
        {
          "output_type": "stream",
          "text": [
            "I suppose that selection bias could exist only if the both groups are different even in the absence of the treatment\n",
            "D = np.random.binomial(n=1, p=prob_search_dwb)\n"
          ],
          "name": "stdout"
        }
      ]
    },
    {
      "cell_type": "code",
      "metadata": {
        "id": "EGwu0uOnOrQH",
        "colab_type": "code",
        "colab": {
          "base_uri": "https://localhost:8080/",
          "height": 34
        },
        "outputId": "7cbadc01-15fc-4022-dca3-6d3b256ed62f"
      },
      "source": [
        "#5\n",
        "#P(Y=k) = n!/((n-k)!k!) *p^k*(1-p)^(n-k) \n",
        "#pd = P(D=1)\n",
        "pdd = prob_search_dwb.mean()\n",
        "print(\"𝑃(𝐷=1) = \", pdd)"
      ],
      "execution_count": null,
      "outputs": [
        {
          "output_type": "stream",
          "text": [
            "𝑃(𝐷=1) =  0.2792499088212677\n"
          ],
          "name": "stdout"
        }
      ]
    },
    {
      "cell_type": "markdown",
      "metadata": {
        "id": "Cb8pVH_3H9MP",
        "colab_type": "text"
      },
      "source": [
        "## Experiment"
      ]
    },
    {
      "cell_type": "code",
      "metadata": {
        "id": "lRCxRMmhfsKT",
        "colab_type": "code",
        "colab": {}
      },
      "source": [
        "#ADDED\n",
        "Y0 = np.random.lognormal(mean=(charitability + 0.5), sigma=0.1, size=N)\n",
        "Y1 = Y0.copy() + 0.3"
      ],
      "execution_count": null,
      "outputs": []
    },
    {
      "cell_type": "code",
      "metadata": {
        "id": "IQGlf7eaDTK6",
        "colab_type": "code",
        "colab": {}
      },
      "source": [
        "#7\n",
        "Dexp = np.random.binomial(n=1, p=pdd, size = N)\n",
        "dd = {'Dexp': Dexp, 'Y0': Y0, 'Y1': Y1, 'Y': Y, 'delta': Y1 - Y0}"
      ],
      "execution_count": null,
      "outputs": []
    },
    {
      "cell_type": "code",
      "metadata": {
        "id": "b1byk-A3E_IC",
        "colab_type": "code",
        "colab": {}
      },
      "source": [
        "dff = pd.DataFrame({'Dexp': Dexp, 'Y0': Y0, 'Y1': Y1, 'Y': Y, 'delta': Y1 - Y0})"
      ],
      "execution_count": null,
      "outputs": []
    },
    {
      "cell_type": "code",
      "metadata": {
        "id": "BvWUkAoUO3Su",
        "colab_type": "code",
        "colab": {
          "base_uri": "https://localhost:8080/",
          "height": 34
        },
        "outputId": "1ebd2774-0483-4609-a3b7-3a6a468c3101"
      },
      "source": [
        "Selbiasnew = dff.query(\"Dexp == 1\")['Y0'].mean() - dff.query(\"Dexp == 0\")['Y0'].mean()\n",
        "Selbiasnew"
      ],
      "execution_count": null,
      "outputs": [
        {
          "output_type": "execute_result",
          "data": {
            "text/plain": [
              "0.00065273894989748"
            ]
          },
          "metadata": {
            "tags": []
          },
          "execution_count": 51
        }
      ]
    },
    {
      "cell_type": "code",
      "metadata": {
        "id": "BQor4WCFL_z0",
        "colab_type": "code",
        "colab": {
          "base_uri": "https://localhost:8080/",
          "height": 34
        },
        "outputId": "f5d57a6e-4288-47d8-afd7-7ed13758d98e"
      },
      "source": [
        "nate1 = dff.query(\"Dexp == 1\")['Y1'].mean() - dff.query(\"Dexp == 0\")['Y0'].mean()\n",
        "nate1"
      ],
      "execution_count": null,
      "outputs": [
        {
          "output_type": "execute_result",
          "data": {
            "text/plain": [
              "0.30065273894987843"
            ]
          },
          "metadata": {
            "tags": []
          },
          "execution_count": 52
        }
      ]
    },
    {
      "cell_type": "code",
      "metadata": {
        "id": "uYs4X2UENWE7",
        "colab_type": "code",
        "colab": {}
      },
      "source": [
        "#8\n",
        "# the graph will be approximately the same as we have no dependence between Y0 and D where D=0 or D=1\n",
        " "
      ],
      "execution_count": null,
      "outputs": []
    },
    {
      "cell_type": "code",
      "metadata": {
        "id": "kwG6lqc1oTFb",
        "colab_type": "code",
        "colab": {
          "base_uri": "https://localhost:8080/",
          "height": 304
        },
        "outputId": "cb11b194-5ff9-481c-d412-332d7c8e962f"
      },
      "source": [
        "#9\n",
        "column_to_plot = 'Y0'\n",
        "ax = dff.query('Dexp==0')[column_to_plot].hist(bins=100, alpha=0.5, density=True, label='Dexp = 0')\n",
        "ax = dff.query('Dexp==1')[column_to_plot].hist(bins=100, alpha=0.5, density=True, ax=ax, label='Dexp = 1')\n",
        "ax.legend(fontsize=16)\n",
        "ax.set_xlabel(column_to_plot, fontsize=16)\n",
        "ax.set_ylabel('Density', fontsize=16)\n",
        "ax.set_title(\"Figure 1: Density of {} by treatment group\".format(column_to_plot), fontsize=16)\n",
        "ax.tick_params(labelsize=16)"
      ],
      "execution_count": null,
      "outputs": [
        {
          "output_type": "display_data",
          "data": {
            "image/png": "[encoded data removed]",
            "text/plain": [
              "<Figure size 432x288 with 1 Axes>"
            ]
          },
          "metadata": {
            "tags": []
          }
        }
      ]
    },
    {
      "cell_type": "code",
      "metadata": {
        "id": "NGMdQfSWd9eg",
        "colab_type": "code",
        "colab": {
          "base_uri": "https://localhost:8080/",
          "height": 34
        },
        "outputId": "a505f8d4-9da1-4fcb-8aea-ae970f29b057"
      },
      "source": [
        "ate_exp = dff['Y1'].mean() - dff['Y0'].mean()\n",
        "print(ate_exp)"
      ],
      "execution_count": null,
      "outputs": [
        {
          "output_type": "stream",
          "text": [
            "0.300000000000024\n"
          ],
          "name": "stdout"
        }
      ]
    },
    {
      "cell_type": "code",
      "metadata": {
        "id": "DOj87_204Y38",
        "colab_type": "code",
        "colab": {
          "base_uri": "https://localhost:8080/",
          "height": 34
        },
        "outputId": "6fedd840-4f0a-435f-96b4-76e2ea61f68c"
      },
      "source": [
        "#10\n",
        "Y0 = np.random.lognormal(mean=(charitability + 0.5), sigma=0.1, size=N)\n",
        "Y1 = Y0.copy() + 0.3 \n",
        "\n",
        "\n",
        "prob_search_dwb = scipy.special.expit(charitability)\n",
        "D = np.random.binomial(n=1, p=prob_search_dwb)\n",
        "\n",
        "# Calculate the *actual* outcome.\n",
        "Y = Y1 * D + Y0 * (1 - D)\n",
        "\n",
        "# Put the data together for analysis.\n",
        "df = pd.DataFrame({\n",
        "    'D': D, \n",
        "    'Y0': Y0, \n",
        "    'Y1': Y1, \n",
        "    'Y': Y, \n",
        "    'delta': Y1 - Y0,\n",
        "    'C': charitability,\n",
        "})\n",
        "nate = df.query(\"D == 1\")['Y1'].mean() - df.query(\"D == 0\")['Y0'].mean() \n",
        "nate"
      ],
      "execution_count": null,
      "outputs": [
        {
          "output_type": "execute_result",
          "data": {
            "text/plain": [
              "0.4737513288218915"
            ]
          },
          "metadata": {
            "tags": []
          },
          "execution_count": 16
        }
      ]
    },
    {
      "cell_type": "code",
      "metadata": {
        "id": "m3wBeet_ZiaP",
        "colab_type": "code",
        "colab": {
          "base_uri": "https://localhost:8080/",
          "height": 142
        },
        "outputId": "e10df51a-712b-421a-82a2-7ef0b8ce8a7f"
      },
      "source": [
        "#ADDED\n",
        "# Tabulate all the averages sliced by treatment vs. control\n",
        "df.groupby('D').mean()"
      ],
      "execution_count": null,
      "outputs": [
        {
          "output_type": "execute_result",
          "data": {
            "text/html": [
              "<div>\n",
              "<style scoped>\n",
              "    .dataframe tbody tr th:only-of-type {\n",
              "        vertical-align: middle;\n",
              "    }\n",
              "\n",
              "    .dataframe tbody tr th {\n",
              "        vertical-align: top;\n",
              "    }\n",
              "\n",
              "    .dataframe thead th {\n",
              "        text-align: right;\n",
              "    }\n",
              "</style>\n",
              "<table border=\"1\" class=\"dataframe\">\n",
              "  <thead>\n",
              "    <tr style=\"text-align: right;\">\n",
              "      <th></th>\n",
              "      <th>Y0</th>\n",
              "      <th>Y1</th>\n",
              "      <th>Y</th>\n",
              "      <th>delta</th>\n",
              "      <th>C</th>\n",
              "    </tr>\n",
              "    <tr>\n",
              "      <th>D</th>\n",
              "      <th></th>\n",
              "      <th></th>\n",
              "      <th></th>\n",
              "      <th></th>\n",
              "      <th></th>\n",
              "    </tr>\n",
              "  </thead>\n",
              "  <tbody>\n",
              "    <tr>\n",
              "      <th>0</th>\n",
              "      <td>0.642836</td>\n",
              "      <td>0.942836</td>\n",
              "      <td>0.642836</td>\n",
              "      <td>0.3</td>\n",
              "      <td>-1.066179</td>\n",
              "    </tr>\n",
              "    <tr>\n",
              "      <th>1</th>\n",
              "      <td>0.816587</td>\n",
              "      <td>1.116587</td>\n",
              "      <td>1.116587</td>\n",
              "      <td>0.3</td>\n",
              "      <td>-0.827034</td>\n",
              "    </tr>\n",
              "  </tbody>\n",
              "</table>\n",
              "</div>"
            ],
            "text/plain": [
              "         Y0        Y1         Y  delta         C\n",
              "D                                               \n",
              "0  0.642836  0.942836  0.642836    0.3 -1.066179\n",
              "1  0.816587  1.116587  1.116587    0.3 -0.827034"
            ]
          },
          "metadata": {
            "tags": []
          },
          "execution_count": 18
        }
      ]
    },
    {
      "cell_type": "code",
      "metadata": {
        "id": "OTmJnnoG-3o6",
        "colab_type": "code",
        "colab": {
          "base_uri": "https://localhost:8080/",
          "height": 34
        },
        "outputId": "e57199d4-0b05-47f4-e147-2812c95dda58"
      },
      "source": [
        "#11\n",
        "Dexp = np.random.binomial(n=1, p=pdd, size = N)\n",
        "Y0 = np.random.lognormal(mean=(charitability + 0.5), sigma=0.1, size=N)\n",
        "Y1 = Y0.copy() + 0.3 \n",
        "dd = {'Dexp': Dexp, 'Y0': Y0, 'Y1': Y1, 'Y': Y, 'delta': Y1 - Y0}\n",
        "dff = pd.DataFrame({'Dexp': Dexp, 'Y0': Y0, 'Y1': Y1, 'Y': Y, 'delta': Y1 - Y0})\n",
        "nate = dff.query(\"Dexp == 1\")['Y1'].mean() - dff.query(\"Dexp == 0\")['Y0'].mean() \n",
        "nate"
      ],
      "execution_count": null,
      "outputs": [
        {
          "output_type": "execute_result",
          "data": {
            "text/plain": [
              "0.30065806408444773"
            ]
          },
          "metadata": {
            "tags": []
          },
          "execution_count": 17
        }
      ]
    },
    {
      "cell_type": "code",
      "metadata": {
        "id": "882MyvVLHH_3",
        "colab_type": "code",
        "colab": {}
      },
      "source": [
        ""
      ],
      "execution_count": null,
      "outputs": []
    }
  ]
}