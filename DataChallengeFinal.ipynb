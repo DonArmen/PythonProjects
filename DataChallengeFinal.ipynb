{
 "cells": [
  {
   "cell_type": "markdown",
   "metadata": {},
   "source": [
    "## Data Challenge\n",
    "### Armen Khachatrian\n",
    "### CS663 - Machine Learning"
   ]
  },
  {
   "cell_type": "code",
   "execution_count": 1,
   "metadata": {},
   "outputs": [],
   "source": [
    "import pandas as pd"
   ]
  },
  {
   "cell_type": "markdown",
   "metadata": {},
   "source": [
    "### Background"
   ]
  },
  {
   "cell_type": "markdown",
   "metadata": {},
   "source": [
    "Health Inspectors from the Health Department of the City and County of San Francisco routinely conduct inspections of restaurants (“facilities”). ​After conducting an inspection of a facility, a Health Inspector calculates a score based on the violations observed. Violations can fall into:\n",
    "\n",
    "● High risk category: records specific violations that directly relate to the transmission of food borne illnesses, the adulteration of food products and the contamination of food-contact surfaces\n",
    "\n",
    "● Moderate risk category: records specific violations that are of a moderate risk to the public health and safety\n",
    "\n",
    "● Low risk category: records violations that are low risk or have no immediate risk to the public health and safety.\n",
    "\n",
    "These violations may also be graded — i.e. converted to an inspection score — and posted, for example, on the windows of the facilities. By design, some inspections do not contain violations or inspection scores."
   ]
  },
  {
   "cell_type": "markdown",
   "metadata": {},
   "source": [
    "### Data"
   ]
  },
  {
   "cell_type": "markdown",
   "metadata": {},
   "source": [
    "With these instructions, we have provided two CSV files:\n",
    "\n",
    "● facility_scores_known.csv​(9MB):       43,199 facility records plus 1 header\n",
    "\n",
    "● facility_scores_unknown.csv​(2MB):          10,774 facility records plus 1 header"
   ]
  },
  {
   "cell_type": "markdown",
   "metadata": {},
   "source": [
    "### Requirements (Process)"
   ]
  },
  {
   "cell_type": "markdown",
   "metadata": {},
   "source": [
    "There are two (2) parts for this challenge:\n",
    "1. Predict inspection scores.\n",
    "2. Explain inspection scores."
   ]
  },
  {
   "cell_type": "markdown",
   "metadata": {},
   "source": [
    "**Predict inspection scores**\n",
    "\n",
    "You may use the train data to create a model for predicting inspection scores of a facility. \n",
    "\n",
    "The inspection score for each facility is missing from the test set. \n",
    "\n",
    "You must use a model to predict the inspection scores of facilities for each instance in this set.\n",
    "\n",
    "You will submit your prediction for inspection scores, which the grader will compare against the actual values using MSE (mean squared error). \n",
    "\n",
    "Your prediction must be named “​preds.csv​”, a file in CSV format with the one field: inspection score. This file must have one prediction for each facility appearing in the test.csv file, in order."
   ]
  },
  {
   "cell_type": "code",
   "execution_count": 2,
   "metadata": {},
   "outputs": [
    {
     "data": {
      "text/plain": [
       "(43199, 23)"
      ]
     },
     "execution_count": 2,
     "metadata": {},
     "output_type": "execute_result"
    }
   ],
   "source": [
    "df_train = pd.read_csv(\"facility_scores_known.csv\")\n",
    "df_train.shape"
   ]
  },
  {
   "cell_type": "code",
   "execution_count": 3,
   "metadata": {},
   "outputs": [
    {
     "data": {
      "text/plain": [
       "(43199, 24)"
      ]
     },
     "execution_count": 3,
     "metadata": {},
     "output_type": "execute_result"
    }
   ],
   "source": [
    "df_train['type_data'] = 'train'\n",
    "df_train.shape"
   ]
  },
  {
   "cell_type": "code",
   "execution_count": 4,
   "metadata": {},
   "outputs": [
    {
     "data": {
      "text/plain": [
       "(10774, 23)"
      ]
     },
     "execution_count": 4,
     "metadata": {},
     "output_type": "execute_result"
    }
   ],
   "source": [
    "df_test = pd.read_csv(\"facility_scores_unknown.csv\")\n",
    "df_test.shape"
   ]
  },
  {
   "cell_type": "code",
   "execution_count": 5,
   "metadata": {},
   "outputs": [
    {
     "data": {
      "text/plain": [
       "(10774, 24)"
      ]
     },
     "execution_count": 5,
     "metadata": {},
     "output_type": "execute_result"
    }
   ],
   "source": [
    "df_test['type_data'] = 'test'\n",
    "df_test.shape"
   ]
  },
  {
   "cell_type": "code",
   "execution_count": 6,
   "metadata": {},
   "outputs": [],
   "source": [
    "frames = [df_train, df_test]\n",
    "df = pd.concat(frames)"
   ]
  },
  {
   "cell_type": "code",
   "execution_count": 7,
   "metadata": {},
   "outputs": [
    {
     "data": {
      "text/plain": [
       "(53973, 24)"
      ]
     },
     "execution_count": 7,
     "metadata": {},
     "output_type": "execute_result"
    }
   ],
   "source": [
    "df.shape"
   ]
  },
  {
   "cell_type": "code",
   "execution_count": 8,
   "metadata": {},
   "outputs": [
    {
     "data": {
      "text/html": [
       "<div>\n",
       "<style scoped>\n",
       "    .dataframe tbody tr th:only-of-type {\n",
       "        vertical-align: middle;\n",
       "    }\n",
       "\n",
       "    .dataframe tbody tr th {\n",
       "        vertical-align: top;\n",
       "    }\n",
       "\n",
       "    .dataframe thead th {\n",
       "        text-align: right;\n",
       "    }\n",
       "</style>\n",
       "<table border=\"1\" class=\"dataframe\">\n",
       "  <thead>\n",
       "    <tr style=\"text-align: right;\">\n",
       "      <th></th>\n",
       "      <th>business_id</th>\n",
       "      <th>business_latitude</th>\n",
       "      <th>business_longitude</th>\n",
       "      <th>business_phone_number</th>\n",
       "      <th>inspection_score</th>\n",
       "      <th>Neighborhoods (old)</th>\n",
       "      <th>Police Districts</th>\n",
       "      <th>Supervisor Districts</th>\n",
       "      <th>Fire Prevention Districts</th>\n",
       "      <th>Zip Codes</th>\n",
       "      <th>Analysis Neighborhoods</th>\n",
       "    </tr>\n",
       "  </thead>\n",
       "  <tbody>\n",
       "    <tr>\n",
       "      <th>count</th>\n",
       "      <td>53973.000000</td>\n",
       "      <td>27475.000000</td>\n",
       "      <td>27475.000000</td>\n",
       "      <td>1.767200e+04</td>\n",
       "      <td>31650.000000</td>\n",
       "      <td>27447.000000</td>\n",
       "      <td>27447.000000</td>\n",
       "      <td>27447.000000</td>\n",
       "      <td>27405.000000</td>\n",
       "      <td>27460.000000</td>\n",
       "      <td>27447.000000</td>\n",
       "    </tr>\n",
       "    <tr>\n",
       "      <th>mean</th>\n",
       "      <td>55218.877883</td>\n",
       "      <td>37.750969</td>\n",
       "      <td>-122.360157</td>\n",
       "      <td>1.415541e+10</td>\n",
       "      <td>86.220632</td>\n",
       "      <td>18.937990</td>\n",
       "      <td>4.810653</td>\n",
       "      <td>7.067512</td>\n",
       "      <td>7.461814</td>\n",
       "      <td>19974.613838</td>\n",
       "      <td>19.459868</td>\n",
       "    </tr>\n",
       "    <tr>\n",
       "      <th>std</th>\n",
       "      <td>36165.556449</td>\n",
       "      <td>0.882643</td>\n",
       "      <td>2.859985</td>\n",
       "      <td>1.356438e+06</td>\n",
       "      <td>8.487814</td>\n",
       "      <td>11.818465</td>\n",
       "      <td>2.954345</td>\n",
       "      <td>3.149427</td>\n",
       "      <td>4.469203</td>\n",
       "      <td>13340.267760</td>\n",
       "      <td>11.615126</td>\n",
       "    </tr>\n",
       "    <tr>\n",
       "      <th>min</th>\n",
       "      <td>19.000000</td>\n",
       "      <td>0.000000</td>\n",
       "      <td>-122.510896</td>\n",
       "      <td>1.415020e+10</td>\n",
       "      <td>45.000000</td>\n",
       "      <td>1.000000</td>\n",
       "      <td>1.000000</td>\n",
       "      <td>1.000000</td>\n",
       "      <td>1.000000</td>\n",
       "      <td>54.000000</td>\n",
       "      <td>1.000000</td>\n",
       "    </tr>\n",
       "    <tr>\n",
       "      <th>25%</th>\n",
       "      <td>7558.000000</td>\n",
       "      <td>37.756133</td>\n",
       "      <td>-122.437069</td>\n",
       "      <td>1.415537e+10</td>\n",
       "      <td>81.000000</td>\n",
       "      <td>6.000000</td>\n",
       "      <td>2.000000</td>\n",
       "      <td>5.000000</td>\n",
       "      <td>3.000000</td>\n",
       "      <td>308.000000</td>\n",
       "      <td>8.000000</td>\n",
       "    </tr>\n",
       "    <tr>\n",
       "      <th>50%</th>\n",
       "      <td>69186.000000</td>\n",
       "      <td>37.780133</td>\n",
       "      <td>-122.419107</td>\n",
       "      <td>1.415561e+10</td>\n",
       "      <td>87.000000</td>\n",
       "      <td>19.000000</td>\n",
       "      <td>4.000000</td>\n",
       "      <td>8.000000</td>\n",
       "      <td>8.000000</td>\n",
       "      <td>28855.000000</td>\n",
       "      <td>20.000000</td>\n",
       "    </tr>\n",
       "    <tr>\n",
       "      <th>75%</th>\n",
       "      <td>86385.000000</td>\n",
       "      <td>37.788864</td>\n",
       "      <td>-122.407417</td>\n",
       "      <td>1.415580e+10</td>\n",
       "      <td>92.000000</td>\n",
       "      <td>28.000000</td>\n",
       "      <td>8.000000</td>\n",
       "      <td>10.000000</td>\n",
       "      <td>11.000000</td>\n",
       "      <td>28859.000000</td>\n",
       "      <td>30.000000</td>\n",
       "    </tr>\n",
       "    <tr>\n",
       "      <th>max</th>\n",
       "      <td>102705.000000</td>\n",
       "      <td>37.824494</td>\n",
       "      <td>0.000000</td>\n",
       "      <td>1.415988e+10</td>\n",
       "      <td>100.000000</td>\n",
       "      <td>41.000000</td>\n",
       "      <td>10.000000</td>\n",
       "      <td>11.000000</td>\n",
       "      <td>15.000000</td>\n",
       "      <td>29492.000000</td>\n",
       "      <td>41.000000</td>\n",
       "    </tr>\n",
       "  </tbody>\n",
       "</table>\n",
       "</div>"
      ],
      "text/plain": [
       "         business_id  business_latitude  business_longitude  \\\n",
       "count   53973.000000       27475.000000        27475.000000   \n",
       "mean    55218.877883          37.750969         -122.360157   \n",
       "std     36165.556449           0.882643            2.859985   \n",
       "min        19.000000           0.000000         -122.510896   \n",
       "25%      7558.000000          37.756133         -122.437069   \n",
       "50%     69186.000000          37.780133         -122.419107   \n",
       "75%     86385.000000          37.788864         -122.407417   \n",
       "max    102705.000000          37.824494            0.000000   \n",
       "\n",
       "       business_phone_number  inspection_score  Neighborhoods (old)  \\\n",
       "count           1.767200e+04      31650.000000         27447.000000   \n",
       "mean            1.415541e+10         86.220632            18.937990   \n",
       "std             1.356438e+06          8.487814            11.818465   \n",
       "min             1.415020e+10         45.000000             1.000000   \n",
       "25%             1.415537e+10         81.000000             6.000000   \n",
       "50%             1.415561e+10         87.000000            19.000000   \n",
       "75%             1.415580e+10         92.000000            28.000000   \n",
       "max             1.415988e+10        100.000000            41.000000   \n",
       "\n",
       "       Police Districts  Supervisor Districts  Fire Prevention Districts  \\\n",
       "count      27447.000000          27447.000000               27405.000000   \n",
       "mean           4.810653              7.067512                   7.461814   \n",
       "std            2.954345              3.149427                   4.469203   \n",
       "min            1.000000              1.000000                   1.000000   \n",
       "25%            2.000000              5.000000                   3.000000   \n",
       "50%            4.000000              8.000000                   8.000000   \n",
       "75%            8.000000             10.000000                  11.000000   \n",
       "max           10.000000             11.000000                  15.000000   \n",
       "\n",
       "          Zip Codes  Analysis Neighborhoods  \n",
       "count  27460.000000            27447.000000  \n",
       "mean   19974.613838               19.459868  \n",
       "std    13340.267760               11.615126  \n",
       "min       54.000000                1.000000  \n",
       "25%      308.000000                8.000000  \n",
       "50%    28855.000000               20.000000  \n",
       "75%    28859.000000               30.000000  \n",
       "max    29492.000000               41.000000  "
      ]
     },
     "execution_count": 8,
     "metadata": {},
     "output_type": "execute_result"
    }
   ],
   "source": [
    "df.describe()"
   ]
  },
  {
   "cell_type": "code",
   "execution_count": 9,
   "metadata": {},
   "outputs": [
    {
     "data": {
      "text/plain": [
       "Index(['business_id', 'business_name', 'business_address', 'business_city',\n",
       "       'business_state', 'business_postal_code', 'business_latitude',\n",
       "       'business_longitude', 'business_location', 'business_phone_number',\n",
       "       'inspection_id', 'inspection_date', 'inspection_score',\n",
       "       'inspection_type', 'violation_id', 'violation_description',\n",
       "       'risk_category', 'Neighborhoods (old)', 'Police Districts',\n",
       "       'Supervisor Districts', 'Fire Prevention Districts', 'Zip Codes',\n",
       "       'Analysis Neighborhoods', 'type_data'],\n",
       "      dtype='object')"
      ]
     },
     "execution_count": 9,
     "metadata": {},
     "output_type": "execute_result"
    }
   ],
   "source": [
    "df.columns"
   ]
  },
  {
   "cell_type": "code",
   "execution_count": 10,
   "metadata": {},
   "outputs": [
    {
     "data": {
      "text/plain": [
       "business_id                      0\n",
       "business_name                    0\n",
       "business_address                 0\n",
       "business_city                    0\n",
       "business_state                   0\n",
       "business_postal_code          1186\n",
       "business_latitude            26498\n",
       "business_longitude           26498\n",
       "business_location            26498\n",
       "business_phone_number        36301\n",
       "inspection_id                    0\n",
       "inspection_date                  0\n",
       "inspection_score             22323\n",
       "inspection_type                  0\n",
       "violation_id                 13720\n",
       "violation_description        13720\n",
       "risk_category                13720\n",
       "Neighborhoods (old)          26526\n",
       "Police Districts             26526\n",
       "Supervisor Districts         26526\n",
       "Fire Prevention Districts    26568\n",
       "Zip Codes                    26513\n",
       "Analysis Neighborhoods       26526\n",
       "type_data                        0\n",
       "dtype: int64"
      ]
     },
     "execution_count": 10,
     "metadata": {},
     "output_type": "execute_result"
    }
   ],
   "source": [
    "df.isna().sum()"
   ]
  },
  {
   "cell_type": "code",
   "execution_count": 11,
   "metadata": {},
   "outputs": [
    {
     "data": {
      "text/plain": [
       "array(['San Francisco'], dtype=object)"
      ]
     },
     "execution_count": 11,
     "metadata": {},
     "output_type": "execute_result"
    }
   ],
   "source": [
    "df.business_city.unique() # All observations are in SF"
   ]
  },
  {
   "cell_type": "code",
   "execution_count": 12,
   "metadata": {},
   "outputs": [],
   "source": [
    "# temporarly cut all points that are not in SF region\n",
    "df_sf = df[(df['business_latitude'] > 35) & (df['business_longitude'] < 110)] "
   ]
  },
  {
   "cell_type": "code",
   "execution_count": 13,
   "metadata": {},
   "outputs": [],
   "source": [
    "import matplotlib\n",
    "import matplotlib.pyplot as plt\n",
    "df_sf.plot(kind='scatter', x = 'business_longitude',y = 'business_latitude', color = 'orange')\n",
    "plt.xlabel(\"Longitude\")\n",
    "plt.ylabel(\"Latitude\")\n",
    "plt.suptitle('Map San Francisco', size=15)\n",
    "matplotlib.rcParams['figure.figsize'] = (8.0, 8.0)"
   ]
  },
  {
   "cell_type": "code",
   "execution_count": 14,
   "metadata": {},
   "outputs": [],
   "source": [
    "temp = df[['inspection_score', 'inspection_type']]"
   ]
  },
  {
   "cell_type": "code",
   "execution_count": 15,
   "metadata": {},
   "outputs": [
    {
     "data": {
      "text/plain": [
       "array(['Complaint', 'Non-inspection site visit',\n",
       "       'New Ownership - Followup', 'New Ownership',\n",
       "       'Reinspection/Followup', 'Structural Inspection',\n",
       "       'New Construction', 'Routine - Scheduled',\n",
       "       'Complaint Reinspection/Followup',\n",
       "       'Foodborne Illness Investigation', 'Routine - Unscheduled',\n",
       "       'Multi-agency Investigation', 'Special Event',\n",
       "       'Administrative or Document Review', 'Community Health Assessment'],\n",
       "      dtype=object)"
      ]
     },
     "execution_count": 15,
     "metadata": {},
     "output_type": "execute_result"
    }
   ],
   "source": [
    "temp[temp.isnull().any(axis=1)].inspection_type.unique() ## for which types we have missing values"
   ]
  },
  {
   "cell_type": "code",
   "execution_count": 16,
   "metadata": {},
   "outputs": [],
   "source": [
    "#All values of inspection type with score values which include missing values\n",
    "types_nans = ['New Construction', 'Complaint', 'Non-inspection site visit',\n",
    "       'Reinspection/Followup', 'Complaint Reinspection/Followup',\n",
    "       'Foodborne Illness Investigation', 'Routine - Scheduled',\n",
    "       'Structural Inspection', 'Multi-agency Investigation',\n",
    "       'Routine - Unscheduled', 'New Ownership',\n",
    "       'New Ownership - Followup', 'Special Event',\n",
    "       'Administrative or Document Review']"
   ]
  },
  {
   "cell_type": "code",
   "execution_count": 17,
   "metadata": {},
   "outputs": [
    {
     "name": "stdout",
     "output_type": "stream",
     "text": [
      "Routine - Unscheduled\n",
      "All values:  39638\n",
      "Missing values:  7988\n"
     ]
    }
   ],
   "source": [
    "for i in types_nans:\n",
    "    if temp[temp['inspection_type'] == i].shape[0]  != temp[temp['inspection_type'] == i].isnull().sum()[0]:\n",
    "        print(i)\n",
    "        print(\"All values: \", temp[temp['inspection_type'] == i].shape[0])\n",
    "        print(\"Missing values: \", temp[temp['inspection_type'] == i].isnull().sum()[0])"
   ]
  },
  {
   "cell_type": "markdown",
   "metadata": {},
   "source": [
    "*Note*: Here we see that type 'Routine - Unscheduled' has both actual values and missing values"
   ]
  },
  {
   "cell_type": "markdown",
   "metadata": {},
   "source": [
    "-----------------"
   ]
  },
  {
   "cell_type": "code",
   "execution_count": 18,
   "metadata": {},
   "outputs": [
    {
     "data": {
      "text/plain": [
       "array(['Complaint', 'Non-inspection site visit',\n",
       "       'New Ownership - Followup', 'New Ownership',\n",
       "       'Reinspection/Followup', 'Structural Inspection',\n",
       "       'New Construction', 'Routine - Scheduled',\n",
       "       'Complaint Reinspection/Followup',\n",
       "       'Foodborne Illness Investigation', 'Routine - Unscheduled',\n",
       "       'Multi-agency Investigation', 'Special Event',\n",
       "       'Administrative or Document Review', 'Community Health Assessment'],\n",
       "      dtype=object)"
      ]
     },
     "execution_count": 18,
     "metadata": {},
     "output_type": "execute_result"
    }
   ],
   "source": [
    "df[df.inspection_score.isnull()].inspection_type.unique()"
   ]
  },
  {
   "cell_type": "code",
   "execution_count": 19,
   "metadata": {},
   "outputs": [
    {
     "name": "stdout",
     "output_type": "stream",
     "text": [
      "Routine - Unscheduled\n",
      "All values:  39638\n",
      "Missing values:  7988\n",
      "Existing values:  31650\n"
     ]
    }
   ],
   "source": [
    "for i in types_nans:\n",
    "    if df[df['inspection_type'] == i].inspection_score.shape  != df[df['inspection_type'] == i].inspection_score.isnull().sum():\n",
    "        print(i)\n",
    "        print(\"All values: \", df[df['inspection_type'] == i].inspection_score.shape[0])\n",
    "        print(\"Missing values: \", df[df['inspection_type'] == i].inspection_score.isnull().sum())\n",
    "        print(\"Existing values: \", df[df['inspection_type'] == i].inspection_score.shape[0] - df[df['inspection_type'] == i].inspection_score.isnull().sum())"
   ]
  },
  {
   "cell_type": "code",
   "execution_count": 20,
   "metadata": {},
   "outputs": [
    {
     "data": {
      "text/plain": [
       "False"
      ]
     },
     "execution_count": 20,
     "metadata": {},
     "output_type": "execute_result"
    }
   ],
   "source": [
    "#Put 0 for missing values in business_score \n",
    "df.inspection_score = df.inspection_score.fillna(0)\n",
    "df.inspection_score.isna().any()"
   ]
  },
  {
   "cell_type": "code",
   "execution_count": 21,
   "metadata": {},
   "outputs": [
    {
     "data": {
      "text/plain": [
       "business_id                      0\n",
       "business_name                    0\n",
       "business_address                 0\n",
       "business_city                    0\n",
       "business_state                   0\n",
       "business_postal_code          1186\n",
       "business_latitude            26498\n",
       "business_longitude           26498\n",
       "business_location            26498\n",
       "business_phone_number        36301\n",
       "inspection_id                    0\n",
       "inspection_date                  0\n",
       "inspection_score                 0\n",
       "inspection_type                  0\n",
       "violation_id                 13720\n",
       "violation_description        13720\n",
       "risk_category                13720\n",
       "Neighborhoods (old)          26526\n",
       "Police Districts             26526\n",
       "Supervisor Districts         26526\n",
       "Fire Prevention Districts    26568\n",
       "Zip Codes                    26513\n",
       "Analysis Neighborhoods       26526\n",
       "type_data                        0\n",
       "dtype: int64"
      ]
     },
     "execution_count": 21,
     "metadata": {},
     "output_type": "execute_result"
    }
   ],
   "source": [
    "df.isnull().sum()"
   ]
  },
  {
   "cell_type": "code",
   "execution_count": 22,
   "metadata": {},
   "outputs": [
    {
     "data": {
      "text/html": [
       "<div>\n",
       "<style scoped>\n",
       "    .dataframe tbody tr th:only-of-type {\n",
       "        vertical-align: middle;\n",
       "    }\n",
       "\n",
       "    .dataframe tbody tr th {\n",
       "        vertical-align: top;\n",
       "    }\n",
       "\n",
       "    .dataframe thead th {\n",
       "        text-align: right;\n",
       "    }\n",
       "</style>\n",
       "<table border=\"1\" class=\"dataframe\">\n",
       "  <thead>\n",
       "    <tr style=\"text-align: right;\">\n",
       "      <th></th>\n",
       "      <th>business_address</th>\n",
       "      <th>business_postal_code</th>\n",
       "    </tr>\n",
       "  </thead>\n",
       "  <tbody>\n",
       "    <tr>\n",
       "      <th>0</th>\n",
       "      <td>1362 Stockton St</td>\n",
       "      <td>94133</td>\n",
       "    </tr>\n",
       "    <tr>\n",
       "      <th>1</th>\n",
       "      <td>1408 Clement St</td>\n",
       "      <td>94118</td>\n",
       "    </tr>\n",
       "    <tr>\n",
       "      <th>2</th>\n",
       "      <td>1 Kearny St</td>\n",
       "      <td>94108</td>\n",
       "    </tr>\n",
       "    <tr>\n",
       "      <th>3</th>\n",
       "      <td>4615 Mission St</td>\n",
       "      <td>94112</td>\n",
       "    </tr>\n",
       "    <tr>\n",
       "      <th>4</th>\n",
       "      <td>552 Jones St</td>\n",
       "      <td>94102</td>\n",
       "    </tr>\n",
       "    <tr>\n",
       "      <th>...</th>\n",
       "      <td>...</td>\n",
       "      <td>...</td>\n",
       "    </tr>\n",
       "    <tr>\n",
       "      <th>10769</th>\n",
       "      <td>510 Mission St</td>\n",
       "      <td>94105</td>\n",
       "    </tr>\n",
       "    <tr>\n",
       "      <th>10770</th>\n",
       "      <td>345 Taylor St</td>\n",
       "      <td>94102</td>\n",
       "    </tr>\n",
       "    <tr>\n",
       "      <th>10771</th>\n",
       "      <td>142 McAllister St</td>\n",
       "      <td>94102</td>\n",
       "    </tr>\n",
       "    <tr>\n",
       "      <th>10772</th>\n",
       "      <td>2298 Mission St</td>\n",
       "      <td>94110</td>\n",
       "    </tr>\n",
       "    <tr>\n",
       "      <th>10773</th>\n",
       "      <td>2 South Park</td>\n",
       "      <td>94107</td>\n",
       "    </tr>\n",
       "  </tbody>\n",
       "</table>\n",
       "<p>53973 rows × 2 columns</p>\n",
       "</div>"
      ],
      "text/plain": [
       "        business_address business_postal_code\n",
       "0       1362 Stockton St                94133\n",
       "1        1408 Clement St                94118\n",
       "2            1 Kearny St                94108\n",
       "3        4615 Mission St                94112\n",
       "4           552 Jones St                94102\n",
       "...                  ...                  ...\n",
       "10769     510 Mission St                94105\n",
       "10770      345 Taylor St                94102\n",
       "10771  142 McAllister St                94102\n",
       "10772    2298 Mission St                94110\n",
       "10773       2 South Park                94107\n",
       "\n",
       "[53973 rows x 2 columns]"
      ]
     },
     "execution_count": 22,
     "metadata": {},
     "output_type": "execute_result"
    }
   ],
   "source": [
    "#The next part is to eliminate missing values for other columns\n",
    "#Clearly, latitude, longitude,location, phone number do not make sense for building model\n",
    "#Lets focus on postal code\n",
    "df[['business_address','business_postal_code']]"
   ]
  },
  {
   "cell_type": "code",
   "execution_count": 23,
   "metadata": {},
   "outputs": [
    {
     "data": {
      "text/plain": [
       "array(['Off The Grid', 'Off the Grid', '298 King St',\n",
       "       '370 Golden Gate Ave', '101 Horne Ave',\n",
       "       '24 Willie Mays Pl Field Level Rm 1.11.11', 'Approved Locations',\n",
       "       'Off the grid', '699 Avenue of the Palms', '2948 Folsom St',\n",
       "       '510 Stevenson St', '625 Clement St',\n",
       "       '24 Willie Mays Pl View Lvl Sect 331', '705 Natoma St',\n",
       "       '3435 Mission St', 'OFF THE GRID', '582 Sutter St',\n",
       "       '450 Church St', '1 franklin Ct', '140 New Montgomery St',\n",
       "       'Hunters Point Building 110 Shipyard', '1975 Bryant',\n",
       "       '3914 Judah St', '839 Clay', '2462 San Bruno Ave',\n",
       "       '2277 Shafter Ave', '2078 Hayes St', '484 Ellis St',\n",
       "       'Golden Gate Park, Carousel Snack Bar', 'Various Farmers Markets',\n",
       "       '842 Geary St', '1552 Ocean Ave', '3200 24th St', '3251 Pierce',\n",
       "       '1737 Post St 368', '1 Warriors Way Level 300 South West',\n",
       "       'Approved private locations', '833 Bryant St', '2229 Clement St',\n",
       "       '3109 24th St', 'OTG', '2399 Van Ness Ave',\n",
       "       '24 Willie Mays Pl Room 2142', 'OFF The Grid', '3200 Fillmore St',\n",
       "       '151 3rd St', '24 Willie Mays Pl View Sect 320 Rm 5319',\n",
       "       '420 Mason St', '845 Market St #13', '3611 18th St',\n",
       "       '1001 Potrero Ave', '2 Marina Blvd Fort Mason', '144 Taylor St',\n",
       "       '425 Barneveld Ave', '24 Willie Mays Pl Rm 2103', '871 Sutter St',\n",
       "       'TFF Event Operations', '79 Sansome St',\n",
       "       'Soma Street @ 428 11th St.', '610 Long Bridge', '1801 Vicente St',\n",
       "       'Golden Gate Park, JFK Dr.@Conservatory of Flowers',\n",
       "       '6134 Geary Blvd', '10 29th St', 'Soma Street Food Park',\n",
       "       'NW Corner Grant at Geary St on Grant', '1800 Owens St',\n",
       "       'Macys - Geary Entrance', '500 Post St', 'Treasure Island',\n",
       "       '1051 Market St', '255 Winston St', '400 California',\n",
       "       'Golden Gate Park, Music Concourse', '428 11th St', '66 Kearny St',\n",
       "       '655 Montgomery St', '491 Bayshore St', '2351 Mission St',\n",
       "       \"333 O'Farrell\", '942 Mission St',\n",
       "       'Mission St, betw 10th & 11th St', '928 Toland',\n",
       "       'Approved Private Locations', '1400 Stockton St',\n",
       "       '659 Merchant St', '11 Phelan Ave', '1111 California St',\n",
       "       'Beach Chalet Soccer Field Parking Lot', 'Private & Public',\n",
       "       '1143 Taraval St', '3861 24th St', '235 Front St', '550 Gough St',\n",
       "       '855 Bush St', 'Private Location', '135 04th St FC-3',\n",
       "       '201 2nd St', \"170 O'Farrell St\", '1760 Polk St', '2206 Polk St',\n",
       "       '681 Broadway St', '115 Sansome', 'Pier 39 West Perimeter',\n",
       "       '525 Market/360 Valencia', '301 25th Ave', '55 Stockton St',\n",
       "       '250 WEST PORTAL AVENUE', '100 Diamond St', '1605 Jerrold Ave',\n",
       "       '1717 Harrison St', '515 CORTLAND AVE', 'Justin Herman Plaza',\n",
       "       '550 Gene Friends Way', '550 D Gene Friend Way',\n",
       "       'Golden Gate Park, JFK Dr.@8th Ave', '203 Parnassus Ave',\n",
       "       '3801 18th St', '685 Market St 520', '3918 Judah St',\n",
       "       '24 Willie Mays Plaza', '750 Font Blvd', '3055 23rd St',\n",
       "       'Golden Gate Park, Spreckles Lake',\n",
       "       '2 Embarcadero Center  Street Level', '1301 Cesar Chavez St',\n",
       "       '550 A Gene Friend Way', '428 11th', '4033 Judah St',\n",
       "       'Off The Grid-Upper Haight', '2826 Jones St',\n",
       "       'Treasure Island Flea Market', 'Golden Gate Park',\n",
       "       'Music Concourse in Golden Gate Park', '3251 20th Ave'],\n",
       "      dtype=object)"
      ]
     },
     "execution_count": 23,
     "metadata": {},
     "output_type": "execute_result"
    }
   ],
   "source": [
    "df[df.business_postal_code.isna()]['business_address'].unique()"
   ]
  },
  {
   "cell_type": "markdown",
   "metadata": {},
   "source": [
    "#### Replacing values in Business postal code"
   ]
  },
  {
   "cell_type": "code",
   "execution_count": 24,
   "metadata": {},
   "outputs": [
    {
     "data": {
      "text/plain": [
       "array(['94133', '94118', '94108', '94112', '94102', '94114', '94103',\n",
       "       '94107', '94110', '94104', nan, '94105', '94115', '94123', '94134',\n",
       "       '94122', '94117', '94121', '94130', '94124', '94116', '94158',\n",
       "       '94111', '94109', '94127', '94131', '95133', '94132', '94188',\n",
       "       '95122', '95109', 'Ca', '94101', '95117', '94901', '941102019',\n",
       "       '94602', '94013', '94080', '95132', '94143', '94544', '94122-1909',\n",
       "       '94102-5917', '64110', '94301', '94105-1420', '94518',\n",
       "       '94117-3504', '94123-3106', '94621', '94124-1917', '00000',\n",
       "       '94129', '95105', '941033148', 'CA', '94105-2907', '94120',\n",
       "       '95112', '94014', '941', '92672', '0'], dtype=object)"
      ]
     },
     "execution_count": 24,
     "metadata": {},
     "output_type": "execute_result"
    }
   ],
   "source": [
    "df.business_postal_code.unique() #some postal codes are not in a proper value"
   ]
  },
  {
   "cell_type": "code",
   "execution_count": 25,
   "metadata": {},
   "outputs": [
    {
     "name": "stdout",
     "output_type": "stream",
     "text": [
      "Data type of each column of Dataframe :\n",
      "business_id                    int64\n",
      "business_name                 object\n",
      "business_address              object\n",
      "business_city                 object\n",
      "business_state                object\n",
      "business_postal_code          object\n",
      "business_latitude            float64\n",
      "business_longitude           float64\n",
      "business_location             object\n",
      "business_phone_number        float64\n",
      "inspection_id                 object\n",
      "inspection_date               object\n",
      "inspection_score             float64\n",
      "inspection_type               object\n",
      "violation_id                  object\n",
      "violation_description         object\n",
      "risk_category                 object\n",
      "Neighborhoods (old)          float64\n",
      "Police Districts             float64\n",
      "Supervisor Districts         float64\n",
      "Fire Prevention Districts    float64\n",
      "Zip Codes                    float64\n",
      "Analysis Neighborhoods       float64\n",
      "type_data                     object\n",
      "dtype: object\n"
     ]
    }
   ],
   "source": [
    "dataTypeSeries = df.dtypes\n",
    "print('Data type of each column of Dataframe :')\n",
    "print(dataTypeSeries)\n",
    "#We have to change the type of business postal code to numeric"
   ]
  },
  {
   "cell_type": "code",
   "execution_count": 26,
   "metadata": {},
   "outputs": [
    {
     "data": {
      "text/html": [
       "<div>\n",
       "<style scoped>\n",
       "    .dataframe tbody tr th:only-of-type {\n",
       "        vertical-align: middle;\n",
       "    }\n",
       "\n",
       "    .dataframe tbody tr th {\n",
       "        vertical-align: top;\n",
       "    }\n",
       "\n",
       "    .dataframe thead th {\n",
       "        text-align: right;\n",
       "    }\n",
       "</style>\n",
       "<table border=\"1\" class=\"dataframe\">\n",
       "  <thead>\n",
       "    <tr style=\"text-align: right;\">\n",
       "      <th></th>\n",
       "      <th>business_address</th>\n",
       "      <th>business_postal_code</th>\n",
       "    </tr>\n",
       "  </thead>\n",
       "  <tbody>\n",
       "    <tr>\n",
       "      <th>1474</th>\n",
       "      <td>2929 19th St</td>\n",
       "      <td>941102019</td>\n",
       "    </tr>\n",
       "    <tr>\n",
       "      <th>4232</th>\n",
       "      <td>1518 IRVING ST</td>\n",
       "      <td>94122-1909</td>\n",
       "    </tr>\n",
       "    <tr>\n",
       "      <th>5711</th>\n",
       "      <td>2929 19th St</td>\n",
       "      <td>941102019</td>\n",
       "    </tr>\n",
       "    <tr>\n",
       "      <th>10952</th>\n",
       "      <td>1518 IRVING ST</td>\n",
       "      <td>94122-1909</td>\n",
       "    </tr>\n",
       "    <tr>\n",
       "      <th>26291</th>\n",
       "      <td>1 YACHT Rd</td>\n",
       "      <td>941</td>\n",
       "    </tr>\n",
       "    <tr>\n",
       "      <th>27581</th>\n",
       "      <td>2929 19th St</td>\n",
       "      <td>941102019</td>\n",
       "    </tr>\n",
       "    <tr>\n",
       "      <th>32402</th>\n",
       "      <td>1 YACHT Rd</td>\n",
       "      <td>941</td>\n",
       "    </tr>\n",
       "    <tr>\n",
       "      <th>35279</th>\n",
       "      <td>1 YACHT Rd</td>\n",
       "      <td>941</td>\n",
       "    </tr>\n",
       "    <tr>\n",
       "      <th>36700</th>\n",
       "      <td>1 YACHT Rd</td>\n",
       "      <td>941</td>\n",
       "    </tr>\n",
       "    <tr>\n",
       "      <th>36872</th>\n",
       "      <td>2929 19th St</td>\n",
       "      <td>941102019</td>\n",
       "    </tr>\n",
       "    <tr>\n",
       "      <th>37948</th>\n",
       "      <td>2929 19th St</td>\n",
       "      <td>941102019</td>\n",
       "    </tr>\n",
       "    <tr>\n",
       "      <th>39146</th>\n",
       "      <td>1 YACHT Rd</td>\n",
       "      <td>941</td>\n",
       "    </tr>\n",
       "    <tr>\n",
       "      <th>39284</th>\n",
       "      <td>1 YACHT Rd</td>\n",
       "      <td>941</td>\n",
       "    </tr>\n",
       "    <tr>\n",
       "      <th>42683</th>\n",
       "      <td>1 YACHT Rd</td>\n",
       "      <td>941</td>\n",
       "    </tr>\n",
       "    <tr>\n",
       "      <th>1621</th>\n",
       "      <td>2929 19th St</td>\n",
       "      <td>941102019</td>\n",
       "    </tr>\n",
       "    <tr>\n",
       "      <th>7349</th>\n",
       "      <td>2929 19th St</td>\n",
       "      <td>941102019</td>\n",
       "    </tr>\n",
       "  </tbody>\n",
       "</table>\n",
       "</div>"
      ],
      "text/plain": [
       "      business_address business_postal_code\n",
       "1474      2929 19th St            941102019\n",
       "4232    1518 IRVING ST           94122-1909\n",
       "5711      2929 19th St            941102019\n",
       "10952   1518 IRVING ST           94122-1909\n",
       "26291       1 YACHT Rd                  941\n",
       "27581     2929 19th St            941102019\n",
       "32402       1 YACHT Rd                  941\n",
       "35279       1 YACHT Rd                  941\n",
       "36700       1 YACHT Rd                  941\n",
       "36872     2929 19th St            941102019\n",
       "37948     2929 19th St            941102019\n",
       "39146       1 YACHT Rd                  941\n",
       "39284       1 YACHT Rd                  941\n",
       "42683       1 YACHT Rd                  941\n",
       "1621      2929 19th St            941102019\n",
       "7349      2929 19th St            941102019"
      ]
     },
     "execution_count": 26,
     "metadata": {},
     "output_type": "execute_result"
    }
   ],
   "source": [
    "df[(df.business_postal_code == '941102019')|(df.business_postal_code == '941')|(df.business_postal_code == '94122-1909')][['business_address', \n",
    "                                                                                                                    'business_postal_code']]\n",
    "#Checked with map - postal code is 94110 for 2929 19th St\n",
    "#1 YACHT Rd\t: 94123 - map\n",
    "#1518 IRVING ST = 94122"
   ]
  },
  {
   "cell_type": "code",
   "execution_count": 27,
   "metadata": {},
   "outputs": [
    {
     "data": {
      "text/html": [
       "<div>\n",
       "<style scoped>\n",
       "    .dataframe tbody tr th:only-of-type {\n",
       "        vertical-align: middle;\n",
       "    }\n",
       "\n",
       "    .dataframe tbody tr th {\n",
       "        vertical-align: top;\n",
       "    }\n",
       "\n",
       "    .dataframe thead th {\n",
       "        text-align: right;\n",
       "    }\n",
       "</style>\n",
       "<table border=\"1\" class=\"dataframe\">\n",
       "  <thead>\n",
       "    <tr style=\"text-align: right;\">\n",
       "      <th></th>\n",
       "      <th>business_address</th>\n",
       "      <th>business_postal_code</th>\n",
       "    </tr>\n",
       "  </thead>\n",
       "  <tbody>\n",
       "    <tr>\n",
       "      <th>422</th>\n",
       "      <td>2250 Chestnut St</td>\n",
       "      <td>Ca</td>\n",
       "    </tr>\n",
       "    <tr>\n",
       "      <th>2330</th>\n",
       "      <td>2250 Chestnut St</td>\n",
       "      <td>Ca</td>\n",
       "    </tr>\n",
       "    <tr>\n",
       "      <th>7068</th>\n",
       "      <td>1 MARKET ST. FL</td>\n",
       "      <td>94105-1420</td>\n",
       "    </tr>\n",
       "    <tr>\n",
       "      <th>13779</th>\n",
       "      <td>2301 Mission St</td>\n",
       "      <td>CA</td>\n",
       "    </tr>\n",
       "    <tr>\n",
       "      <th>21673</th>\n",
       "      <td>2250 Chestnut St</td>\n",
       "      <td>Ca</td>\n",
       "    </tr>\n",
       "    <tr>\n",
       "      <th>23743</th>\n",
       "      <td>Public</td>\n",
       "      <td>CA</td>\n",
       "    </tr>\n",
       "    <tr>\n",
       "      <th>24973</th>\n",
       "      <td>2250 Chestnut St</td>\n",
       "      <td>Ca</td>\n",
       "    </tr>\n",
       "    <tr>\n",
       "      <th>25759</th>\n",
       "      <td>2250 Chestnut St</td>\n",
       "      <td>Ca</td>\n",
       "    </tr>\n",
       "    <tr>\n",
       "      <th>28164</th>\n",
       "      <td>Public</td>\n",
       "      <td>CA</td>\n",
       "    </tr>\n",
       "    <tr>\n",
       "      <th>28289</th>\n",
       "      <td>2250 Chestnut St</td>\n",
       "      <td>Ca</td>\n",
       "    </tr>\n",
       "    <tr>\n",
       "      <th>29009</th>\n",
       "      <td>2250 Chestnut St</td>\n",
       "      <td>Ca</td>\n",
       "    </tr>\n",
       "    <tr>\n",
       "      <th>31354</th>\n",
       "      <td>2301 Mission St</td>\n",
       "      <td>CA</td>\n",
       "    </tr>\n",
       "    <tr>\n",
       "      <th>37132</th>\n",
       "      <td>Public</td>\n",
       "      <td>CA</td>\n",
       "    </tr>\n",
       "    <tr>\n",
       "      <th>38049</th>\n",
       "      <td>2301 Mission St</td>\n",
       "      <td>CA</td>\n",
       "    </tr>\n",
       "    <tr>\n",
       "      <th>38494</th>\n",
       "      <td>Public</td>\n",
       "      <td>CA</td>\n",
       "    </tr>\n",
       "    <tr>\n",
       "      <th>38795</th>\n",
       "      <td>Public</td>\n",
       "      <td>CA</td>\n",
       "    </tr>\n",
       "    <tr>\n",
       "      <th>40912</th>\n",
       "      <td>Public</td>\n",
       "      <td>CA</td>\n",
       "    </tr>\n",
       "    <tr>\n",
       "      <th>4600</th>\n",
       "      <td>2250 Chestnut St</td>\n",
       "      <td>Ca</td>\n",
       "    </tr>\n",
       "    <tr>\n",
       "      <th>4618</th>\n",
       "      <td>2250 Chestnut St</td>\n",
       "      <td>Ca</td>\n",
       "    </tr>\n",
       "    <tr>\n",
       "      <th>5375</th>\n",
       "      <td>2250 Chestnut St</td>\n",
       "      <td>Ca</td>\n",
       "    </tr>\n",
       "    <tr>\n",
       "      <th>6012</th>\n",
       "      <td>Public</td>\n",
       "      <td>CA</td>\n",
       "    </tr>\n",
       "    <tr>\n",
       "      <th>6730</th>\n",
       "      <td>Public</td>\n",
       "      <td>CA</td>\n",
       "    </tr>\n",
       "    <tr>\n",
       "      <th>7164</th>\n",
       "      <td>2250 Chestnut St</td>\n",
       "      <td>Ca</td>\n",
       "    </tr>\n",
       "    <tr>\n",
       "      <th>8673</th>\n",
       "      <td>Public</td>\n",
       "      <td>CA</td>\n",
       "    </tr>\n",
       "    <tr>\n",
       "      <th>9172</th>\n",
       "      <td>Public</td>\n",
       "      <td>CA</td>\n",
       "    </tr>\n",
       "  </tbody>\n",
       "</table>\n",
       "</div>"
      ],
      "text/plain": [
       "       business_address business_postal_code\n",
       "422    2250 Chestnut St                   Ca\n",
       "2330   2250 Chestnut St                   Ca\n",
       "7068    1 MARKET ST. FL           94105-1420\n",
       "13779   2301 Mission St                   CA\n",
       "21673  2250 Chestnut St                   Ca\n",
       "23743            Public                   CA\n",
       "24973  2250 Chestnut St                   Ca\n",
       "25759  2250 Chestnut St                   Ca\n",
       "28164            Public                   CA\n",
       "28289  2250 Chestnut St                   Ca\n",
       "29009  2250 Chestnut St                   Ca\n",
       "31354   2301 Mission St                   CA\n",
       "37132            Public                   CA\n",
       "38049   2301 Mission St                   CA\n",
       "38494            Public                   CA\n",
       "38795            Public                   CA\n",
       "40912            Public                   CA\n",
       "4600   2250 Chestnut St                   Ca\n",
       "4618   2250 Chestnut St                   Ca\n",
       "5375   2250 Chestnut St                   Ca\n",
       "6012             Public                   CA\n",
       "6730             Public                   CA\n",
       "7164   2250 Chestnut St                   Ca\n",
       "8673             Public                   CA\n",
       "9172             Public                   CA"
      ]
     },
     "execution_count": 27,
     "metadata": {},
     "output_type": "execute_result"
    }
   ],
   "source": [
    "#Part 2\n",
    "df[(df.business_postal_code == 'Ca')|(df.business_postal_code == 'CA')|(df.business_postal_code == '94105-1420')][['business_address', \n",
    "                                                                                                                    'business_postal_code']]\n",
    "#2250 Chestnut St: 94123 - map\n",
    "#1 MARKET ST. FL - 94105\n",
    "#2301 Mission St - 94110\n",
    "#for Public just put 94118"
   ]
  },
  {
   "cell_type": "code",
   "execution_count": 28,
   "metadata": {},
   "outputs": [
    {
     "data": {
      "text/html": [
       "<div>\n",
       "<style scoped>\n",
       "    .dataframe tbody tr th:only-of-type {\n",
       "        vertical-align: middle;\n",
       "    }\n",
       "\n",
       "    .dataframe tbody tr th {\n",
       "        vertical-align: top;\n",
       "    }\n",
       "\n",
       "    .dataframe thead th {\n",
       "        text-align: right;\n",
       "    }\n",
       "</style>\n",
       "<table border=\"1\" class=\"dataframe\">\n",
       "  <thead>\n",
       "    <tr style=\"text-align: right;\">\n",
       "      <th></th>\n",
       "      <th>business_address</th>\n",
       "      <th>business_postal_code</th>\n",
       "    </tr>\n",
       "  </thead>\n",
       "  <tbody>\n",
       "    <tr>\n",
       "      <th>4265</th>\n",
       "      <td>45 ROSE ST</td>\n",
       "      <td>94102-5917</td>\n",
       "    </tr>\n",
       "    <tr>\n",
       "      <th>5139</th>\n",
       "      <td>332 Valencia St</td>\n",
       "      <td>64110</td>\n",
       "    </tr>\n",
       "    <tr>\n",
       "      <th>5913</th>\n",
       "      <td>332 Valencia St</td>\n",
       "      <td>64110</td>\n",
       "    </tr>\n",
       "    <tr>\n",
       "      <th>8634</th>\n",
       "      <td>200 FILLMORE ST</td>\n",
       "      <td>94117-3504</td>\n",
       "    </tr>\n",
       "    <tr>\n",
       "      <th>10583</th>\n",
       "      <td>332 Valencia St</td>\n",
       "      <td>64110</td>\n",
       "    </tr>\n",
       "    <tr>\n",
       "      <th>10591</th>\n",
       "      <td>332 Valencia St</td>\n",
       "      <td>64110</td>\n",
       "    </tr>\n",
       "    <tr>\n",
       "      <th>10985</th>\n",
       "      <td>200 FILLMORE ST</td>\n",
       "      <td>94117-3504</td>\n",
       "    </tr>\n",
       "    <tr>\n",
       "      <th>11134</th>\n",
       "      <td>332 Valencia St</td>\n",
       "      <td>64110</td>\n",
       "    </tr>\n",
       "    <tr>\n",
       "      <th>11848</th>\n",
       "      <td>200 FILLMORE ST</td>\n",
       "      <td>94117-3504</td>\n",
       "    </tr>\n",
       "    <tr>\n",
       "      <th>12707</th>\n",
       "      <td>332 Valencia St</td>\n",
       "      <td>64110</td>\n",
       "    </tr>\n",
       "    <tr>\n",
       "      <th>12898</th>\n",
       "      <td>200 FILLMORE ST</td>\n",
       "      <td>94117-3504</td>\n",
       "    </tr>\n",
       "    <tr>\n",
       "      <th>1244</th>\n",
       "      <td>45 ROSE ST</td>\n",
       "      <td>94102-5917</td>\n",
       "    </tr>\n",
       "    <tr>\n",
       "      <th>1559</th>\n",
       "      <td>45 ROSE ST</td>\n",
       "      <td>94102-5917</td>\n",
       "    </tr>\n",
       "  </tbody>\n",
       "</table>\n",
       "</div>"
      ],
      "text/plain": [
       "      business_address business_postal_code\n",
       "4265        45 ROSE ST           94102-5917\n",
       "5139   332 Valencia St                64110\n",
       "5913   332 Valencia St                64110\n",
       "8634   200 FILLMORE ST           94117-3504\n",
       "10583  332 Valencia St                64110\n",
       "10591  332 Valencia St                64110\n",
       "10985  200 FILLMORE ST           94117-3504\n",
       "11134  332 Valencia St                64110\n",
       "11848  200 FILLMORE ST           94117-3504\n",
       "12707  332 Valencia St                64110\n",
       "12898  200 FILLMORE ST           94117-3504\n",
       "1244        45 ROSE ST           94102-5917\n",
       "1559        45 ROSE ST           94102-5917"
      ]
     },
     "execution_count": 28,
     "metadata": {},
     "output_type": "execute_result"
    }
   ],
   "source": [
    "#Part 3 \n",
    "df[(df.business_postal_code == '94102-5917')|(df.business_postal_code == '94117-3504')|(df.business_postal_code == '64110')][['business_address', \n",
    "                                                                                                                    'business_postal_code']]\n",
    "\n",
    "#332 Valencia St - mistake: should be 94103\n",
    "#45 ROSE ST - 94102\n",
    "#200 FILLMORE ST - 94117"
   ]
  },
  {
   "cell_type": "code",
   "execution_count": 29,
   "metadata": {},
   "outputs": [
    {
     "data": {
      "text/html": [
       "<div>\n",
       "<style scoped>\n",
       "    .dataframe tbody tr th:only-of-type {\n",
       "        vertical-align: middle;\n",
       "    }\n",
       "\n",
       "    .dataframe tbody tr th {\n",
       "        vertical-align: top;\n",
       "    }\n",
       "\n",
       "    .dataframe thead th {\n",
       "        text-align: right;\n",
       "    }\n",
       "</style>\n",
       "<table border=\"1\" class=\"dataframe\">\n",
       "  <thead>\n",
       "    <tr style=\"text-align: right;\">\n",
       "      <th></th>\n",
       "      <th>business_address</th>\n",
       "      <th>business_postal_code</th>\n",
       "    </tr>\n",
       "  </thead>\n",
       "  <tbody>\n",
       "    <tr>\n",
       "      <th>8915</th>\n",
       "      <td>1312 CHESTNUT ST</td>\n",
       "      <td>94123-3106</td>\n",
       "    </tr>\n",
       "    <tr>\n",
       "      <th>10377</th>\n",
       "      <td>240 INDUSTRIAL ST</td>\n",
       "      <td>94124-1917</td>\n",
       "    </tr>\n",
       "    <tr>\n",
       "      <th>11423</th>\n",
       "      <td>1312 CHESTNUT ST</td>\n",
       "      <td>94123-3106</td>\n",
       "    </tr>\n",
       "    <tr>\n",
       "      <th>11862</th>\n",
       "      <td>OFF THE GRID</td>\n",
       "      <td>00000</td>\n",
       "    </tr>\n",
       "    <tr>\n",
       "      <th>12665</th>\n",
       "      <td>240 INDUSTRIAL ST</td>\n",
       "      <td>94124-1917</td>\n",
       "    </tr>\n",
       "    <tr>\n",
       "      <th>14336</th>\n",
       "      <td>240 INDUSTRIAL ST</td>\n",
       "      <td>94124-1917</td>\n",
       "    </tr>\n",
       "    <tr>\n",
       "      <th>19124</th>\n",
       "      <td>OFF THE GRID</td>\n",
       "      <td>00000</td>\n",
       "    </tr>\n",
       "    <tr>\n",
       "      <th>21852</th>\n",
       "      <td>1312 CHESTNUT ST</td>\n",
       "      <td>94123-3106</td>\n",
       "    </tr>\n",
       "    <tr>\n",
       "      <th>22709</th>\n",
       "      <td>OFF THE GRID</td>\n",
       "      <td>00000</td>\n",
       "    </tr>\n",
       "    <tr>\n",
       "      <th>2648</th>\n",
       "      <td>240 INDUSTRIAL ST</td>\n",
       "      <td>94124-1917</td>\n",
       "    </tr>\n",
       "    <tr>\n",
       "      <th>3856</th>\n",
       "      <td>1312 CHESTNUT ST</td>\n",
       "      <td>94123-3106</td>\n",
       "    </tr>\n",
       "    <tr>\n",
       "      <th>3907</th>\n",
       "      <td>1312 CHESTNUT ST</td>\n",
       "      <td>94123-3106</td>\n",
       "    </tr>\n",
       "  </tbody>\n",
       "</table>\n",
       "</div>"
      ],
      "text/plain": [
       "        business_address business_postal_code\n",
       "8915    1312 CHESTNUT ST           94123-3106\n",
       "10377  240 INDUSTRIAL ST           94124-1917\n",
       "11423   1312 CHESTNUT ST           94123-3106\n",
       "11862       OFF THE GRID                00000\n",
       "12665  240 INDUSTRIAL ST           94124-1917\n",
       "14336  240 INDUSTRIAL ST           94124-1917\n",
       "19124       OFF THE GRID                00000\n",
       "21852   1312 CHESTNUT ST           94123-3106\n",
       "22709       OFF THE GRID                00000\n",
       "2648   240 INDUSTRIAL ST           94124-1917\n",
       "3856    1312 CHESTNUT ST           94123-3106\n",
       "3907    1312 CHESTNUT ST           94123-3106"
      ]
     },
     "execution_count": 29,
     "metadata": {},
     "output_type": "execute_result"
    }
   ],
   "source": [
    "#Part 4\n",
    "df[(df.business_postal_code == '94123-3106')|(df.business_postal_code == '94124-1917')|(df.business_postal_code == '00000')][['business_address', \n",
    "                                                                                                                    'business_postal_code']]\n",
    "#1312 CHESTNUT ST - 94123\n",
    "#240 INDUSTRIAL ST - 94124\n",
    "#OFF THE GRID - 94129"
   ]
  },
  {
   "cell_type": "code",
   "execution_count": 30,
   "metadata": {},
   "outputs": [
    {
     "data": {
      "text/html": [
       "<div>\n",
       "<style scoped>\n",
       "    .dataframe tbody tr th:only-of-type {\n",
       "        vertical-align: middle;\n",
       "    }\n",
       "\n",
       "    .dataframe tbody tr th {\n",
       "        vertical-align: top;\n",
       "    }\n",
       "\n",
       "    .dataframe thead th {\n",
       "        text-align: right;\n",
       "    }\n",
       "</style>\n",
       "<table border=\"1\" class=\"dataframe\">\n",
       "  <thead>\n",
       "    <tr style=\"text-align: right;\">\n",
       "      <th></th>\n",
       "      <th>business_address</th>\n",
       "      <th>business_postal_code</th>\n",
       "    </tr>\n",
       "  </thead>\n",
       "  <tbody>\n",
       "    <tr>\n",
       "      <th>12475</th>\n",
       "      <td>390 CLEMENTINA St</td>\n",
       "      <td>941033148</td>\n",
       "    </tr>\n",
       "    <tr>\n",
       "      <th>13921</th>\n",
       "      <td>560 MISSION ST</td>\n",
       "      <td>94105-2907</td>\n",
       "    </tr>\n",
       "    <tr>\n",
       "      <th>21559</th>\n",
       "      <td>390 CLEMENTINA St</td>\n",
       "      <td>941033148</td>\n",
       "    </tr>\n",
       "    <tr>\n",
       "      <th>23008</th>\n",
       "      <td>390 CLEMENTINA St</td>\n",
       "      <td>941033148</td>\n",
       "    </tr>\n",
       "    <tr>\n",
       "      <th>23457</th>\n",
       "      <td>390 CLEMENTINA St</td>\n",
       "      <td>941033148</td>\n",
       "    </tr>\n",
       "    <tr>\n",
       "      <th>736</th>\n",
       "      <td>560 MISSION ST</td>\n",
       "      <td>94105-2907</td>\n",
       "    </tr>\n",
       "    <tr>\n",
       "      <th>1875</th>\n",
       "      <td>OFF THE GRID</td>\n",
       "      <td>0</td>\n",
       "    </tr>\n",
       "    <tr>\n",
       "      <th>2085</th>\n",
       "      <td>OFF THE GRID</td>\n",
       "      <td>0</td>\n",
       "    </tr>\n",
       "    <tr>\n",
       "      <th>5471</th>\n",
       "      <td>390 CLEMENTINA St</td>\n",
       "      <td>941033148</td>\n",
       "    </tr>\n",
       "    <tr>\n",
       "      <th>5734</th>\n",
       "      <td>OFF THE GRID</td>\n",
       "      <td>0</td>\n",
       "    </tr>\n",
       "  </tbody>\n",
       "</table>\n",
       "</div>"
      ],
      "text/plain": [
       "        business_address business_postal_code\n",
       "12475  390 CLEMENTINA St            941033148\n",
       "13921     560 MISSION ST           94105-2907\n",
       "21559  390 CLEMENTINA St            941033148\n",
       "23008  390 CLEMENTINA St            941033148\n",
       "23457  390 CLEMENTINA St            941033148\n",
       "736       560 MISSION ST           94105-2907\n",
       "1875        OFF THE GRID                    0\n",
       "2085        OFF THE GRID                    0\n",
       "5471   390 CLEMENTINA St            941033148\n",
       "5734        OFF THE GRID                    0"
      ]
     },
     "execution_count": 30,
     "metadata": {},
     "output_type": "execute_result"
    }
   ],
   "source": [
    "df[(df.business_postal_code == '94105-2907')|(df.business_postal_code == '0')|(df.business_postal_code == '941033148')][['business_address', \n",
    "                                                                                                                         'business_postal_code']]\n",
    "#560 MISSION ST - 94105\n",
    "#OFF THE GRID - 94129 \n",
    "#390 CLEMENTINA St - 94103"
   ]
  },
  {
   "cell_type": "code",
   "execution_count": 31,
   "metadata": {},
   "outputs": [],
   "source": [
    "import numpy as np\n",
    "df.loc[df['business_address'] == '560 MISSION ST', 'business_postal_code'] = 94105\n",
    "df.loc[df['business_address'] == 'OFF THE GRID', 'business_postal_code'] = 94129\n",
    "df.loc[df['business_address'] == '1312 CHESTNUT ST', 'business_postal_code'] = 94123\n",
    "df.loc[df['business_address'] == '240 INDUSTRIAL ST', 'business_postal_code'] = 94124\n",
    "df.loc[df['business_address'] == '332 Valencia St', 'business_postal_code'] = 94103\n",
    "df.loc[df['business_address'] == '45 ROSE ST', 'business_postal_code'] = 94102\n",
    "df.loc[df['business_address'] == '200 FILLMORE ST', 'business_postal_code'] = 94117\n",
    "df.loc[df['business_address'] == '2250 Chestnut St', 'business_postal_code'] = 94123\n",
    "df.loc[df['business_address'] == '1 MARKET ST. FL', 'business_postal_code'] = 94105\n",
    "df.loc[df['business_address'] == 'Public', 'business_postal_code'] = 94118\n",
    "df.loc[df['business_address'] == '2929 19th St', 'business_postal_code'] = 94110\n",
    "df.loc[df['business_address'] == '1 YACHT Rd', 'business_postal_code'] = 94123\n",
    "df.loc[df['business_address'] == '1518 IRVING ST', 'business_postal_code'] = 94122\n",
    "df.loc[df['business_address'] == '2301 Mission St', 'business_postal_code'] = 94110\n",
    "df.loc[df['business_address'] == '390 CLEMENTINA St', 'business_postal_code'] = 94103"
   ]
  },
  {
   "cell_type": "code",
   "execution_count": 32,
   "metadata": {},
   "outputs": [
    {
     "data": {
      "text/plain": [
       "array(['94133', '94118', '94108', '94112', '94102', '94114', '94103',\n",
       "       '94107', '94110', '94104', nan, '94105', '94115', '94123', '94134',\n",
       "       '94122', '94117', '94121', '94130', '94124', '94116', '94158',\n",
       "       '94111', '94109', '94127', '94131', '95133', '94132', '94188',\n",
       "       '95122', '95109', 94123, '94101', '95117', '94901', 94110, 94129,\n",
       "       '94602', '94013', '94080', '95132', '94143', '94544', 94122, 94102,\n",
       "       94103, '94301', 94105, '94518', 94117, '94621', 94124, '94129',\n",
       "       '95105', '94120', '95112', '94014', 94118, '92672'], dtype=object)"
      ]
     },
     "execution_count": 32,
     "metadata": {},
     "output_type": "execute_result"
    }
   ],
   "source": [
    "df.business_postal_code.unique() #checking values --- GOOD!"
   ]
  },
  {
   "cell_type": "code",
   "execution_count": 33,
   "metadata": {},
   "outputs": [
    {
     "data": {
      "text/html": [
       "<div>\n",
       "<style scoped>\n",
       "    .dataframe tbody tr th:only-of-type {\n",
       "        vertical-align: middle;\n",
       "    }\n",
       "\n",
       "    .dataframe tbody tr th {\n",
       "        vertical-align: top;\n",
       "    }\n",
       "\n",
       "    .dataframe thead th {\n",
       "        text-align: right;\n",
       "    }\n",
       "</style>\n",
       "<table border=\"1\" class=\"dataframe\">\n",
       "  <thead>\n",
       "    <tr style=\"text-align: right;\">\n",
       "      <th></th>\n",
       "      <th>business_address</th>\n",
       "      <th>business_postal_code</th>\n",
       "    </tr>\n",
       "  </thead>\n",
       "  <tbody>\n",
       "    <tr>\n",
       "      <th>15</th>\n",
       "      <td>Off The Grid</td>\n",
       "      <td>NaN</td>\n",
       "    </tr>\n",
       "    <tr>\n",
       "      <th>16</th>\n",
       "      <td>Off the Grid</td>\n",
       "      <td>NaN</td>\n",
       "    </tr>\n",
       "    <tr>\n",
       "      <th>21</th>\n",
       "      <td>298 King St</td>\n",
       "      <td>NaN</td>\n",
       "    </tr>\n",
       "    <tr>\n",
       "      <th>53</th>\n",
       "      <td>298 King St</td>\n",
       "      <td>NaN</td>\n",
       "    </tr>\n",
       "    <tr>\n",
       "      <th>65</th>\n",
       "      <td>370 Golden Gate Ave</td>\n",
       "      <td>NaN</td>\n",
       "    </tr>\n",
       "    <tr>\n",
       "      <th>...</th>\n",
       "      <td>...</td>\n",
       "      <td>...</td>\n",
       "    </tr>\n",
       "    <tr>\n",
       "      <th>10004</th>\n",
       "      <td>Golden Gate Park</td>\n",
       "      <td>NaN</td>\n",
       "    </tr>\n",
       "    <tr>\n",
       "      <th>10243</th>\n",
       "      <td>Off The Grid</td>\n",
       "      <td>NaN</td>\n",
       "    </tr>\n",
       "    <tr>\n",
       "      <th>10255</th>\n",
       "      <td>685 Market St 520</td>\n",
       "      <td>NaN</td>\n",
       "    </tr>\n",
       "    <tr>\n",
       "      <th>10437</th>\n",
       "      <td>1717 Harrison St</td>\n",
       "      <td>NaN</td>\n",
       "    </tr>\n",
       "    <tr>\n",
       "      <th>10764</th>\n",
       "      <td>Off The Grid</td>\n",
       "      <td>NaN</td>\n",
       "    </tr>\n",
       "  </tbody>\n",
       "</table>\n",
       "<p>1172 rows × 2 columns</p>\n",
       "</div>"
      ],
      "text/plain": [
       "          business_address business_postal_code\n",
       "15            Off The Grid                  NaN\n",
       "16            Off the Grid                  NaN\n",
       "21             298 King St                  NaN\n",
       "53             298 King St                  NaN\n",
       "65     370 Golden Gate Ave                  NaN\n",
       "...                    ...                  ...\n",
       "10004     Golden Gate Park                  NaN\n",
       "10243         Off The Grid                  NaN\n",
       "10255    685 Market St 520                  NaN\n",
       "10437     1717 Harrison St                  NaN\n",
       "10764         Off The Grid                  NaN\n",
       "\n",
       "[1172 rows x 2 columns]"
      ]
     },
     "execution_count": 33,
     "metadata": {},
     "output_type": "execute_result"
    }
   ],
   "source": [
    "df[df.business_postal_code.isna()][['business_address', 'business_postal_code']]\n",
    "#1172 rows with NaNs"
   ]
  },
  {
   "cell_type": "code",
   "execution_count": 34,
   "metadata": {},
   "outputs": [
    {
     "data": {
      "text/plain": [
       "array(['Off The Grid', 'Off the Grid', '298 King St',\n",
       "       '370 Golden Gate Ave', '101 Horne Ave',\n",
       "       '24 Willie Mays Pl Field Level Rm 1.11.11', 'Approved Locations',\n",
       "       'Off the grid', '699 Avenue of the Palms', '2948 Folsom St',\n",
       "       '510 Stevenson St', '625 Clement St',\n",
       "       '24 Willie Mays Pl View Lvl Sect 331', '705 Natoma St',\n",
       "       '3435 Mission St', '582 Sutter St', '450 Church St',\n",
       "       '1 franklin Ct', '140 New Montgomery St',\n",
       "       'Hunters Point Building 110 Shipyard', '1975 Bryant',\n",
       "       '3914 Judah St', '839 Clay', '2462 San Bruno Ave',\n",
       "       '2277 Shafter Ave', '2078 Hayes St', '484 Ellis St',\n",
       "       'Golden Gate Park, Carousel Snack Bar', 'Various Farmers Markets',\n",
       "       '842 Geary St', '1552 Ocean Ave', '3200 24th St', '3251 Pierce',\n",
       "       '1737 Post St 368', '1 Warriors Way Level 300 South West',\n",
       "       'Approved private locations', '833 Bryant St', '2229 Clement St',\n",
       "       '3109 24th St', 'OTG', '2399 Van Ness Ave',\n",
       "       '24 Willie Mays Pl Room 2142', 'OFF The Grid', '3200 Fillmore St',\n",
       "       '151 3rd St', '24 Willie Mays Pl View Sect 320 Rm 5319',\n",
       "       '420 Mason St', '845 Market St #13', '3611 18th St',\n",
       "       '1001 Potrero Ave', '2 Marina Blvd Fort Mason', '144 Taylor St',\n",
       "       '425 Barneveld Ave', '24 Willie Mays Pl Rm 2103', '871 Sutter St',\n",
       "       'TFF Event Operations', '79 Sansome St',\n",
       "       'Soma Street @ 428 11th St.', '610 Long Bridge', '1801 Vicente St',\n",
       "       'Golden Gate Park, JFK Dr.@Conservatory of Flowers',\n",
       "       '6134 Geary Blvd', '10 29th St', 'Soma Street Food Park',\n",
       "       'NW Corner Grant at Geary St on Grant', '1800 Owens St',\n",
       "       'Macys - Geary Entrance', '500 Post St', 'Treasure Island',\n",
       "       '1051 Market St', '255 Winston St', '400 California',\n",
       "       'Golden Gate Park, Music Concourse', '428 11th St', '66 Kearny St',\n",
       "       '655 Montgomery St', '491 Bayshore St', '2351 Mission St',\n",
       "       \"333 O'Farrell\", '942 Mission St',\n",
       "       'Mission St, betw 10th & 11th St', '928 Toland',\n",
       "       'Approved Private Locations', '1400 Stockton St',\n",
       "       '659 Merchant St', '11 Phelan Ave', '1111 California St',\n",
       "       'Beach Chalet Soccer Field Parking Lot', 'Private & Public',\n",
       "       '1143 Taraval St', '3861 24th St', '235 Front St', '550 Gough St',\n",
       "       '855 Bush St', 'Private Location', '135 04th St FC-3',\n",
       "       '201 2nd St', \"170 O'Farrell St\", '1760 Polk St', '2206 Polk St',\n",
       "       '681 Broadway St', '115 Sansome', 'Pier 39 West Perimeter',\n",
       "       '525 Market/360 Valencia', '301 25th Ave', '55 Stockton St',\n",
       "       '250 WEST PORTAL AVENUE', '100 Diamond St', '1605 Jerrold Ave',\n",
       "       '1717 Harrison St', '515 CORTLAND AVE', 'Justin Herman Plaza',\n",
       "       '550 Gene Friends Way', '550 D Gene Friend Way',\n",
       "       'Golden Gate Park, JFK Dr.@8th Ave', '203 Parnassus Ave',\n",
       "       '3801 18th St', '685 Market St 520', '3918 Judah St',\n",
       "       '24 Willie Mays Plaza', '750 Font Blvd', '3055 23rd St',\n",
       "       'Golden Gate Park, Spreckles Lake',\n",
       "       '2 Embarcadero Center  Street Level', '1301 Cesar Chavez St',\n",
       "       '550 A Gene Friend Way', '428 11th', '4033 Judah St',\n",
       "       'Off The Grid-Upper Haight', '2826 Jones St',\n",
       "       'Treasure Island Flea Market', 'Golden Gate Park',\n",
       "       'Music Concourse in Golden Gate Park', '3251 20th Ave'],\n",
       "      dtype=object)"
      ]
     },
     "execution_count": 34,
     "metadata": {},
     "output_type": "execute_result"
    }
   ],
   "source": [
    "df[df.business_postal_code.isna()]['business_address'].unique()"
   ]
  },
  {
   "cell_type": "code",
   "execution_count": 35,
   "metadata": {},
   "outputs": [
    {
     "name": "stdout",
     "output_type": "stream",
     "text": [
      "Missing Values:  business_address           0\n",
      "business_postal_code    1172\n",
      "dtype: int64\n",
      "All Values:  53973\n"
     ]
    }
   ],
   "source": [
    "resul = df[['business_address', 'business_postal_code']]\n",
    "print(\"Missing Values: \", resul.isna().sum())\n",
    "print(\"All Values: \", resul.shape[0])"
   ]
  },
  {
   "cell_type": "code",
   "execution_count": 36,
   "metadata": {},
   "outputs": [],
   "source": [
    "df.loc[(df['business_address'] == 'Off The Grid') & (df['business_postal_code'].isna()), ['business_postal_code']] = 94129.0\n",
    "df.loc[(df['business_address'] == 'Off the Grid') & (df['business_postal_code'].isna()), ['business_postal_code']] = 94129.0\n",
    "df.loc[(df['business_address'] == '298 King St') & (df['business_postal_code'].isna()), ['business_postal_code']] = 94107.0\n",
    "df.loc[(df['business_address'] == '370 Golden Gate Ave') & (df['business_postal_code'].isna()), ['business_postal_code']] = 94102.0\n",
    "df.loc[(df['business_address'] == '101 Horne Ave') & (df['business_postal_code'].isna()), ['business_postal_code']] = 94124.0\n",
    "df.loc[(df['business_address'] == '24 Willie Mays Pl Field Level Rm 1.11.11') & (df['business_postal_code'].isna()), ['business_postal_code']] = 94107.0\n",
    "df.loc[(df['business_address'] == 'Approved Locations') & (df['business_postal_code'].isna()), ['business_postal_code']] = 94118.0\n",
    "df.loc[(df['business_address'] == 'Off the grid') & (df['business_postal_code'].isna()), ['business_postal_code']] = 94129.0\n",
    "df.loc[(df['business_address'] == '699 Avenue of the Palms') & (df['business_postal_code'].isna()), ['business_postal_code']] = 94130.0\n",
    "df.loc[(df['business_address'] == '2948 Folsom St') & (df['business_postal_code'].isna()), ['business_postal_code']] = 94110.0\n",
    "df.loc[(df['business_address'] == '510 Stevenson St') & (df['business_postal_code'].isna()), ['business_postal_code']] = 94103.0\n",
    "df.loc[(df['business_address'] == '625 Clement St') & (df['business_postal_code'].isna()), ['business_postal_code']] = 94118.0\n",
    "df.loc[(df['business_address'] == '24 Willie Mays Pl View Lvl Sect 331') & (df['business_postal_code'].isna()), ['business_postal_code']] = 94107.0\n",
    "df.loc[(df['business_address'] == '705 Natoma St') & (df['business_postal_code'].isna()), ['business_postal_code']] = 94103.0\n",
    "df.loc[(df['business_address'] == '3435 Mission St') & (df['business_postal_code'].isna()), ['business_postal_code']] = 94110.0\n",
    "df.loc[(df['business_address'] == '582 Sutter St') & (df['business_postal_code'].isna()), ['business_postal_code']] = 94102.0\n",
    "df.loc[(df['business_address'] == '450 Church St') & (df['business_postal_code'].isna()), ['business_postal_code']] = 94114.0\n",
    "df.loc[(df['business_address'] == '1 franklin Ct') & (df['business_postal_code'].isna()), ['business_postal_code']] = 94123.0\n",
    "df.loc[(df['business_address'] == '140 New Montgomery St') & (df['business_postal_code'].isna()), ['business_postal_code']] = 94105.0\n",
    "df.loc[(df['business_address'] == 'Hunters Point Building 110 Shipyard') & (df['business_postal_code'].isna()), ['business_postal_code']] = 94134.0\n",
    "df.loc[(df['business_address'] == '1975 Bryant') & (df['business_postal_code'].isna()), ['business_postal_code']] = 94110.0\n",
    "df.loc[(df['business_address'] == '3914 Judah St') & (df['business_postal_code'].isna()), ['business_postal_code']] = 94122.0\n",
    "df.loc[(df['business_address'] == '839 Clay') & (df['business_postal_code'].isna()), ['business_postal_code']] = 94108.0\n",
    "df.loc[(df['business_address'] == '2462 San Bruno Ave') & (df['business_postal_code'].isna()), ['business_postal_code']] = 94134.0\n",
    "df.loc[(df['business_address'] == '2277 Shafter Ave') & (df['business_postal_code'].isna()), ['business_postal_code']] = 94124.0\n",
    "df.loc[(df['business_address'] == '2078 Hayes St') & (df['business_postal_code'].isna()), ['business_postal_code']] = 94117.0\n",
    "df.loc[(df['business_address'] == '484 Ellis St') & (df['business_postal_code'].isna()), ['business_postal_code']] = 94102.0\n",
    "df.loc[(df['business_address'] == 'Golden Gate Park, Carousel Snack Bar') & (df['business_postal_code'].isna()), ['business_postal_code']] = 94118.0\n",
    "df.loc[(df['business_address'] == 'Various Farmers Markets') & (df['business_postal_code'].isna()), ['business_postal_code']] = 94117.0\n",
    "df.loc[(df['business_address'] == '842 Geary St') & (df['business_postal_code'].isna()), ['business_postal_code']] = 94109.0\n",
    "df.loc[(df['business_address'] == '1552 Ocean Ave') & (df['business_postal_code'].isna()), ['business_postal_code']] = 94112.0\n",
    "df.loc[(df['business_address'] == '3200 24th St') & (df['business_postal_code'].isna()), ['business_postal_code']] = 94110.0\n",
    "df.loc[(df['business_address'] == '3251 Pierce') & (df['business_postal_code'].isna()), ['business_postal_code']] = 94123.0\n",
    "df.loc[(df['business_address'] == '1737 Post St 368') & (df['business_postal_code'].isna()), ['business_postal_code']] = 94115.0\n",
    "\n",
    "df.loc[(df['business_address'] == '1 Warriors Way Level 300 South West') & (df['business_postal_code'].isna()), ['business_postal_code']] = 94158.0\n",
    "df.loc[(df['business_address'] == 'Approved private locations') & (df['business_postal_code'].isna()), ['business_postal_code']] = 94120.0\n",
    "df.loc[(df['business_address'] == '833 Bryant St') & (df['business_postal_code'].isna()), ['business_postal_code']] = 94103.0\n",
    "df.loc[(df['business_address'] == '2229 Clement St') & (df['business_postal_code'].isna()), ['business_postal_code']] = 94121.0\n",
    "df.loc[(df['business_address'] == '3109 24th St') & (df['business_postal_code'].isna()), ['business_postal_code']] = 94110.0\n",
    "df.loc[(df['business_address'] == 'OTG') & (df['business_postal_code'].isna()), ['business_postal_code']] = 94129.0\n",
    "df.loc[(df['business_address'] == '2399 Van Ness Ave') & (df['business_postal_code'].isna()), ['business_postal_code']] = 94109.0\n",
    "df.loc[(df['business_address'] == '24 Willie Mays Pl Room 2142') & (df['business_postal_code'].isna()), ['business_postal_code']] = 94107.0\n",
    "df.loc[(df['business_address'] == 'OFF The Grid') & (df['business_postal_code'].isna()), ['business_postal_code']] = 94129.0\n",
    "df.loc[(df['business_address'] == '3200 Fillmore St') & (df['business_postal_code'].isna()), ['business_postal_code']] = 94123.0\n",
    "df.loc[(df['business_address'] == '151 3rd St') & (df['business_postal_code'].isna()), ['business_postal_code']] = 93463.0\n",
    "df.loc[(df['business_address'] == '24 Willie Mays Pl View Sect 320 Rm 5319') & (df['business_postal_code'].isna()), ['business_postal_code']] = 94107.0\n",
    "df.loc[(df['business_address'] == '420 Mason St') & (df['business_postal_code'].isna()), ['business_postal_code']] = 94102.0\n",
    "df.loc[(df['business_address'] == '845 Market St #13') & (df['business_postal_code'].isna()), ['business_postal_code']] = 94103.0\n",
    "df.loc[(df['business_address'] == '3611 18th St') & (df['business_postal_code'].isna()), ['business_postal_code']] = 94110.0\n",
    "df.loc[(df['business_address'] == '1001 Potrero Ave') & (df['business_postal_code'].isna()), ['business_postal_code']] = 94110.0\n",
    "df.loc[(df['business_address'] == '2 Marina Blvd Fort Mason') & (df['business_postal_code'].isna()), ['business_postal_code']] = 94123.0\n",
    "df.loc[(df['business_address'] == '144 Taylor St') & (df['business_postal_code'].isna()), ['business_postal_code']] = 94122.0\n",
    "df.loc[(df['business_address'] == '425 Barneveld Ave') & (df['business_postal_code'].isna()), ['business_postal_code']] = 94124.0\n",
    "df.loc[(df['business_address'] == '24 Willie Mays Pl Rm 2103') & (df['business_postal_code'].isna()), ['business_postal_code']] = 94107.0\n",
    "df.loc[(df['business_address'] == '871 Sutter St') & (df['business_postal_code'].isna()), ['business_postal_code']] = 94109.0\n",
    "df.loc[(df['business_address'] == 'TFF Event Operations') & (df['business_postal_code'].isna()), ['business_postal_code']] = 94109.0\n",
    "df.loc[(df['business_address'] == '79 Sansome St') & (df['business_postal_code'].isna()), ['business_postal_code']] = 94104.0\n",
    "df.loc[(df['business_address'] == 'Soma Street @ 428 11th St.') & (df['business_postal_code'].isna()), ['business_postal_code']] = 94103.0\n",
    "df.loc[(df['business_address'] == '610 Long Bridge') & (df['business_postal_code'].isna()), ['business_postal_code']] = 94158.0\n",
    "df.loc[(df['business_address'] == '1801 Vicente St') & (df['business_postal_code'].isna()), ['business_postal_code']] = 94116.0\n",
    "df.loc[(df['business_address'] == 'Golden Gate Park, JFK Dr.@Conservatory of Flowers') & (df['business_postal_code'].isna()), ['business_postal_code']] = 94118.0\n",
    "df.loc[(df['business_address'] == '6134 Geary Blvd') & (df['business_postal_code'].isna()), ['business_postal_code']] = 94121.0\n",
    "df.loc[(df['business_address'] == '10 29th St') & (df['business_postal_code'].isna()), ['business_postal_code']] = 94110.0\n",
    "df.loc[(df['business_address'] == 'Soma Street Food Park') & (df['business_postal_code'].isna()), ['business_postal_code']] = 94103.0\n",
    "df.loc[(df['business_address'] == 'NW Corner Grant at Geary St on Grant') & (df['business_postal_code'].isna()), ['business_postal_code']] = 94108.0\n",
    "df.loc[(df['business_address'] == '1800 Owens St') & (df['business_postal_code'].isna()), ['business_postal_code']] = 94158.0\n",
    "df.loc[(df['business_address'] == 'Macys - Geary Entrance') & (df['business_postal_code'].isna()), ['business_postal_code']] = 94102.0\n",
    "\n",
    "\n",
    "df.loc[(df['business_address'] == '500 Post St') & (df['business_postal_code'].isna()), ['business_postal_code']] = 94102.0\n",
    "df.loc[(df['business_address'] == 'Treasure Island') & (df['business_postal_code'].isna()), ['business_postal_code']] = 94130.0\n",
    "df.loc[(df['business_address'] == '1051 Market St') & (df['business_postal_code'].isna()), ['business_postal_code']] = 94103.0\n",
    "df.loc[(df['business_address'] == '255 Winston St') & (df['business_postal_code'].isna()), ['business_postal_code']] = 94132.0\n",
    "df.loc[(df['business_address'] == '400 California') & (df['business_postal_code'].isna()), ['business_postal_code']] = 94104.0\n",
    "df.loc[(df['business_address'] == 'Golden Gate Park, Music Concourse') & (df['business_postal_code'].isna()), ['business_postal_code']] = 94118.0\n",
    "df.loc[(df['business_address'] == '428 11th St') & (df['business_postal_code'].isna()), ['business_postal_code']] = 94103.0\n",
    "df.loc[(df['business_address'] == '66 Kearny St') & (df['business_postal_code'].isna()), ['business_postal_code']] = 94108.0\n",
    "df.loc[(df['business_address'] == '655 Montgomery St') & (df['business_postal_code'].isna()), ['business_postal_code']] = 94111.0\n",
    "df.loc[(df['business_address'] == '491 Bayshore St') & (df['business_postal_code'].isna()), ['business_postal_code']] = 94124.0\n",
    "df.loc[(df['business_address'] == '2351 Mission St') & (df['business_postal_code'].isna()), ['business_postal_code']] = 94110.0\n",
    "df.loc[(df['business_address'] == \"333 O'Farrell\") & (df['business_postal_code'].isna()), ['business_postal_code']] = 94102.0\n",
    "df.loc[(df['business_address'] == '942 Mission St') & (df['business_postal_code'].isna()), ['business_postal_code']] = 94103.0\n",
    "df.loc[(df['business_address'] == 'Mission St, betw 10th & 11th St') & (df['business_postal_code'].isna()), ['business_postal_code']] = 94103.0\n",
    "df.loc[(df['business_address'] == '928 Toland') & (df['business_postal_code'].isna()), ['business_postal_code']] = 94124.0\n",
    "df.loc[(df['business_address'] == 'Approved Private Locations') & (df['business_postal_code'].isna()), ['business_postal_code']] = 94120.0\n",
    "df.loc[(df['business_address'] == '1400 Stockton St') & (df['business_postal_code'].isna()), ['business_postal_code']] = 94133.0\n",
    "df.loc[(df['business_address'] == '659 Merchant St') & (df['business_postal_code'].isna()), ['business_postal_code']] = 94111.0\n",
    "df.loc[(df['business_address'] == '11 Phelan Ave') & (df['business_postal_code'].isna()), ['business_postal_code']] = 94112.0\n",
    "df.loc[(df['business_address'] == '1111 California St') & (df['business_postal_code'].isna()), ['business_postal_code']] = 94108.0\n",
    "df.loc[(df['business_address'] == 'Beach Chalet Soccer Field Parking Lot') & (df['business_postal_code'].isna()), ['business_postal_code']] = 94121.0\n",
    "df.loc[(df['business_address'] == 'Private & Public') & (df['business_postal_code'].isna()), ['business_postal_code']] = 94118.0\n",
    "df.loc[(df['business_address'] == '1143 Taraval St') & (df['business_postal_code'].isna()), ['business_postal_code']] = 94116.0\n",
    "\n",
    "df.loc[(df['business_address'] == '3861 24th St') & (df['business_postal_code'].isna()), ['business_postal_code']] = 94114.0\n",
    "df.loc[(df['business_address'] == '235 Front St') & (df['business_postal_code'].isna()), ['business_postal_code']] = 94111.0\n",
    "df.loc[(df['business_address'] == '550 Gough St') & (df['business_postal_code'].isna()), ['business_postal_code']] = 94102.0\n",
    "df.loc[(df['business_address'] == '855 Bush St') & (df['business_postal_code'].isna()), ['business_postal_code']] = 94108.0\n",
    "df.loc[(df['business_address'] == 'Private Location') & (df['business_postal_code'].isna()), ['business_postal_code']] = 94129.0\n",
    "df.loc[(df['business_address'] == '135 04th St FC-3') & (df['business_postal_code'].isna()), ['business_postal_code']] = 94103.0\n",
    "df.loc[(df['business_address'] == '201 2nd St') & (df['business_postal_code'].isna()), ['business_postal_code']] = 94105.0\n",
    "df.loc[(df['business_address'] == \"170 O'Farrell St\") & (df['business_postal_code'].isna()), ['business_postal_code']] = 94102.0\n",
    "df.loc[(df['business_address'] == '1760 Polk St') & (df['business_postal_code'].isna()), ['business_postal_code']] = 94109.0\n",
    "df.loc[(df['business_address'] == '2206 Polk St') & (df['business_postal_code'].isna()), ['business_postal_code']] = 94109.0\n",
    "df.loc[(df['business_address'] == '681 Broadway St') & (df['business_postal_code'].isna()), ['business_postal_code']] = 94133.0\n",
    "df.loc[(df['business_address'] == '115 Sansome') & (df['business_postal_code'].isna()), ['business_postal_code']] = 94104.0\n",
    "df.loc[(df['business_address'] == 'Pier 39 West Perimeter') & (df['business_postal_code'].isna()), ['business_postal_code']] = 94133.0\n",
    "df.loc[(df['business_address'] == '525 Market/360 Valencia') & (df['business_postal_code'].isna()), ['business_postal_code']] = 94103.0\n",
    "df.loc[(df['business_address'] == '301 25th Ave') & (df['business_postal_code'].isna()), ['business_postal_code']] = 94121.0\n",
    "df.loc[(df['business_address'] == '55 Stockton St') & (df['business_postal_code'].isna()), ['business_postal_code']] = 94108.0\n",
    "df.loc[(df['business_address'] == '250 WEST PORTAL AVENUE') & (df['business_postal_code'].isna()), ['business_postal_code']] = 94127.0\n",
    "df.loc[(df['business_address'] == '100 Diamond St') & (df['business_postal_code'].isna()), ['business_postal_code']] = 94114.0\n",
    "df.loc[(df['business_address'] == '1605 Jerrold Ave') & (df['business_postal_code'].isna()), ['business_postal_code']] = 94124.0\n",
    "df.loc[(df['business_address'] == '1717 Harrison St') & (df['business_postal_code'].isna()), ['business_postal_code']] = 94103.0\n",
    "df.loc[(df['business_address'] == '515 CORTLAND AVE') & (df['business_postal_code'].isna()), ['business_postal_code']] = 94110.0\n",
    "df.loc[(df['business_address'] == 'Justin Herman Plaza') & (df['business_postal_code'].isna()), ['business_postal_code']] = 94105.0\n",
    "df.loc[(df['business_address'] == '550 Gene Friends Way') & (df['business_postal_code'].isna()), ['business_postal_code']] = 94158.0\n",
    "df.loc[(df['business_address'] == '550 D Gene Friend Way') & (df['business_postal_code'].isna()), ['business_postal_code']] = 94158.0\n",
    "df.loc[(df['business_address'] == 'Golden Gate Park, JFK Dr.@8th Ave') & (df['business_postal_code'].isna()), ['business_postal_code']] = 94118.0\n",
    "df.loc[(df['business_address'] == '203 Parnassus Ave') & (df['business_postal_code'].isna()), ['business_postal_code']] = 94117.0\n",
    "df.loc[(df['business_address'] == '3801 18th St') & (df['business_postal_code'].isna()), ['business_postal_code']] = 94114.0\n",
    "df.loc[(df['business_address'] == '685 Market St 520') & (df['business_postal_code'].isna()), ['business_postal_code']] = 94105.0\n",
    "df.loc[(df['business_address'] == '3918 Judah St') & (df['business_postal_code'].isna()), ['business_postal_code']] = 94122.0\n",
    "df.loc[(df['business_address'] == '24 Willie Mays Plaza') & (df['business_postal_code'].isna()), ['business_postal_code']] = 94107.0\n",
    "df.loc[(df['business_address'] == '750 Font Blvd') & (df['business_postal_code'].isna()), ['business_postal_code']] = 94132.0\n",
    "df.loc[(df['business_address'] == '3055 23rd St') & (df['business_postal_code'].isna()), ['business_postal_code']] = 94110.0\n",
    "df.loc[(df['business_address'] == 'Golden Gate Park, Spreckles Lake') & (df['business_postal_code'].isna()), ['business_postal_code']] = 94121.0\n",
    "df.loc[(df['business_address'] == '2 Embarcadero Center  Street Level') & (df['business_postal_code'].isna()), ['business_postal_code']] = 94111.0\n",
    "df.loc[(df['business_address'] == '1301 Cesar Chavez St') & (df['business_postal_code'].isna()), ['business_postal_code']] = 94124.0\n",
    "df.loc[(df['business_address'] == '550 A Gene Friend Way') & (df['business_postal_code'].isna()), ['business_postal_code']] = 94158.0\n",
    "df.loc[(df['business_address'] == '428 11th') & (df['business_postal_code'].isna()), ['business_postal_code']] = 94103.0\n",
    "df.loc[(df['business_address'] == '4033 Judah St') & (df['business_postal_code'].isna()), ['business_postal_code']] = 94122.0\n",
    "df.loc[(df['business_address'] == 'Off The Grid-Upper Haight') & (df['business_postal_code'].isna()), ['business_postal_code']] = 94117.0\n",
    "df.loc[(df['business_address'] == '2826 Jones St') & (df['business_postal_code'].isna()), ['business_postal_code']] = 94133.0\n",
    "df.loc[(df['business_address'] == 'Treasure Island Flea Market') & (df['business_postal_code'].isna()), ['business_postal_code']] = 94130.0\n",
    "df.loc[(df['business_address'] == 'Off The Grid') & (df['business_postal_code'].isna()), ['business_postal_code']] = 94129.0\n",
    "df.loc[(df['business_address'] == 'Golden Gate Park') & (df['business_postal_code'].isna()), ['business_postal_code']] = 94118.0\n",
    "df.loc[(df['business_address'] == 'Music Concourse in Golden Gate Park') & (df['business_postal_code'].isna()), ['business_postal_code']] = 94118.0\n",
    "df.loc[(df['business_address'] == '3251 20th Ave') & (df['business_postal_code'].isna()), ['business_postal_code']] = 94132.0\n",
    "\n",
    "##### Replacing all NaNs via Google Map"
   ]
  },
  {
   "cell_type": "code",
   "execution_count": 37,
   "metadata": {},
   "outputs": [
    {
     "name": "stdout",
     "output_type": "stream",
     "text": [
      "Missing Values:  business_address        0\n",
      "business_postal_code    0\n",
      "dtype: int64\n",
      "All Values:  53973\n"
     ]
    }
   ],
   "source": [
    "resul = df[['business_address', 'business_postal_code']]\n",
    "print(\"Missing Values: \", resul.isna().sum())\n",
    "print(\"All Values: \", resul.shape[0])\n",
    "#No misssing Values anymore ---- GOOD!"
   ]
  },
  {
   "cell_type": "code",
   "execution_count": 38,
   "metadata": {},
   "outputs": [
    {
     "data": {
      "text/plain": [
       "business_id                    int64\n",
       "business_name                 object\n",
       "business_address              object\n",
       "business_city                 object\n",
       "business_state                object\n",
       "business_postal_code           int64\n",
       "business_latitude            float64\n",
       "business_longitude           float64\n",
       "business_location             object\n",
       "business_phone_number        float64\n",
       "inspection_id                 object\n",
       "inspection_date               object\n",
       "inspection_score             float64\n",
       "inspection_type               object\n",
       "violation_id                  object\n",
       "violation_description         object\n",
       "risk_category                 object\n",
       "Neighborhoods (old)          float64\n",
       "Police Districts             float64\n",
       "Supervisor Districts         float64\n",
       "Fire Prevention Districts    float64\n",
       "Zip Codes                    float64\n",
       "Analysis Neighborhoods       float64\n",
       "type_data                     object\n",
       "dtype: object"
      ]
     },
     "execution_count": 38,
     "metadata": {},
     "output_type": "execute_result"
    }
   ],
   "source": [
    "#to numeric\n",
    "df.business_postal_code = df.business_postal_code.apply(int)\n",
    "df.dtypes"
   ]
  },
  {
   "cell_type": "code",
   "execution_count": 39,
   "metadata": {},
   "outputs": [
    {
     "data": {
      "text/plain": [
       "business_id                      0\n",
       "business_name                    0\n",
       "business_address                 0\n",
       "business_city                    0\n",
       "business_state                   0\n",
       "business_postal_code             0\n",
       "business_latitude            26498\n",
       "business_longitude           26498\n",
       "business_location            26498\n",
       "business_phone_number        36301\n",
       "inspection_id                    0\n",
       "inspection_date                  0\n",
       "inspection_score                 0\n",
       "inspection_type                  0\n",
       "violation_id                 13720\n",
       "violation_description        13720\n",
       "risk_category                13720\n",
       "Neighborhoods (old)          26526\n",
       "Police Districts             26526\n",
       "Supervisor Districts         26526\n",
       "Fire Prevention Districts    26568\n",
       "Zip Codes                    26513\n",
       "Analysis Neighborhoods       26526\n",
       "type_data                        0\n",
       "dtype: int64"
      ]
     },
     "execution_count": 39,
     "metadata": {},
     "output_type": "execute_result"
    }
   ],
   "source": [
    "#Check other missing values\n",
    "df.isna().sum()"
   ]
  },
  {
   "cell_type": "code",
   "execution_count": 40,
   "metadata": {},
   "outputs": [],
   "source": [
    "#Date converting\n",
    "#Implicit connections can be related to the time or date\n",
    "df[\"inspection_date\"] = pd.to_datetime(df[\"inspection_date\"], format='%m/%d/%Y %I:%M:%S %p')\n",
    "\n",
    "df[\"Minute\"] = df[\"inspection_date\"].dt.minute\n",
    "df[\"Hour\"] = df[\"inspection_date\"].dt.hour\n",
    "df[\"Day\"] = df[\"inspection_date\"].dt.day\n",
    "df[\"Month\"] = df[\"inspection_date\"].dt.month\n",
    "df['weekday'] = df['inspection_date'].dt.weekday_name\n",
    "df['week_year'] = df['inspection_date'].dt.weekofyear"
   ]
  },
  {
   "cell_type": "code",
   "execution_count": 41,
   "metadata": {},
   "outputs": [
    {
     "name": "stdout",
     "output_type": "stream",
     "text": [
      "40210\n",
      "65\n",
      "3\n",
      "15\n"
     ]
    }
   ],
   "source": [
    "#Decide which column will be encoded\n",
    "print(df.violation_id.nunique())\n",
    "print(df.violation_description.nunique())\n",
    "print(df.risk_category.nunique())\n",
    "print(df.inspection_type.nunique())\n",
    "#Here we see that using id or risk category is useless. \n",
    "#Violation_id has 40210 unique values -- almost equal to number of instances\n",
    "#Risk category is very poor\n",
    "#Decision: to encode violation description and inspection type"
   ]
  },
  {
   "cell_type": "code",
   "execution_count": 42,
   "metadata": {},
   "outputs": [],
   "source": [
    "df.violation_description = df.violation_description.fillna('No Info') \n",
    "#replaced missing value with \"No information\""
   ]
  },
  {
   "cell_type": "code",
   "execution_count": 43,
   "metadata": {},
   "outputs": [
    {
     "data": {
      "text/plain": [
       "False"
      ]
     },
     "execution_count": 43,
     "metadata": {},
     "output_type": "execute_result"
    }
   ],
   "source": [
    "df.violation_description.isna().any() "
   ]
  },
  {
   "cell_type": "code",
   "execution_count": 44,
   "metadata": {},
   "outputs": [],
   "source": [
    "#Using Encoding\n",
    "from sklearn import preprocessing\n",
    "le = preprocessing.LabelEncoder()\n",
    "\n",
    "df['inspection_type_num'] = le.fit_transform(df['inspection_type'])\n",
    "df['violation_description_num'] = le.fit_transform(df['violation_description'])\n",
    "df['weekday_num'] = le.fit_transform(df['weekday'])"
   ]
  },
  {
   "cell_type": "code",
   "execution_count": 45,
   "metadata": {},
   "outputs": [
    {
     "name": "stdout",
     "output_type": "stream",
     "text": [
      "Data type of each column of Dataframe :\n",
      "business_id                           int64\n",
      "business_name                        object\n",
      "business_address                     object\n",
      "business_city                        object\n",
      "business_state                       object\n",
      "business_postal_code                  int64\n",
      "business_latitude                   float64\n",
      "business_longitude                  float64\n",
      "business_location                    object\n",
      "business_phone_number               float64\n",
      "inspection_id                        object\n",
      "inspection_date              datetime64[ns]\n",
      "inspection_score                    float64\n",
      "inspection_type                      object\n",
      "violation_id                         object\n",
      "violation_description                object\n",
      "risk_category                        object\n",
      "Neighborhoods (old)                 float64\n",
      "Police Districts                    float64\n",
      "Supervisor Districts                float64\n",
      "Fire Prevention Districts           float64\n",
      "Zip Codes                           float64\n",
      "Analysis Neighborhoods              float64\n",
      "type_data                            object\n",
      "Minute                                int64\n",
      "Hour                                  int64\n",
      "Day                                   int64\n",
      "Month                                 int64\n",
      "weekday                              object\n",
      "week_year                             int64\n",
      "inspection_type_num                   int64\n",
      "violation_description_num             int64\n",
      "weekday_num                           int64\n",
      "dtype: object\n"
     ]
    }
   ],
   "source": [
    "dataTypeSeries = df.dtypes\n",
    "print('Data type of each column of Dataframe :')\n",
    "print(dataTypeSeries)"
   ]
  },
  {
   "cell_type": "code",
   "execution_count": 46,
   "metadata": {},
   "outputs": [
    {
     "data": {
      "text/plain": [
       "business_id                      0\n",
       "business_name                    0\n",
       "business_address                 0\n",
       "business_city                    0\n",
       "business_state                   0\n",
       "business_postal_code             0\n",
       "business_latitude            26498\n",
       "business_longitude           26498\n",
       "business_location            26498\n",
       "business_phone_number        36301\n",
       "inspection_id                    0\n",
       "inspection_date                  0\n",
       "inspection_score                 0\n",
       "inspection_type                  0\n",
       "violation_id                 13720\n",
       "violation_description            0\n",
       "risk_category                13720\n",
       "Neighborhoods (old)          26526\n",
       "Police Districts             26526\n",
       "Supervisor Districts         26526\n",
       "Fire Prevention Districts    26568\n",
       "Zip Codes                    26513\n",
       "Analysis Neighborhoods       26526\n",
       "type_data                        0\n",
       "Minute                           0\n",
       "Hour                             0\n",
       "Day                              0\n",
       "Month                            0\n",
       "weekday                          0\n",
       "week_year                        0\n",
       "inspection_type_num              0\n",
       "violation_description_num        0\n",
       "weekday_num                      0\n",
       "dtype: int64"
      ]
     },
     "execution_count": 46,
     "metadata": {},
     "output_type": "execute_result"
    }
   ],
   "source": [
    "df.isna().sum() "
   ]
  },
  {
   "cell_type": "code",
   "execution_count": 47,
   "metadata": {},
   "outputs": [
    {
     "data": {
      "text/html": [
       "<div>\n",
       "<style scoped>\n",
       "    .dataframe tbody tr th:only-of-type {\n",
       "        vertical-align: middle;\n",
       "    }\n",
       "\n",
       "    .dataframe tbody tr th {\n",
       "        vertical-align: top;\n",
       "    }\n",
       "\n",
       "    .dataframe thead th {\n",
       "        text-align: right;\n",
       "    }\n",
       "</style>\n",
       "<table border=\"1\" class=\"dataframe\">\n",
       "  <thead>\n",
       "    <tr style=\"text-align: right;\">\n",
       "      <th></th>\n",
       "      <th>business_postal_code</th>\n",
       "      <th>Neighborhoods (old)</th>\n",
       "      <th>Police Districts</th>\n",
       "      <th>Supervisor Districts</th>\n",
       "      <th>Analysis Neighborhoods</th>\n",
       "    </tr>\n",
       "  </thead>\n",
       "  <tbody>\n",
       "    <tr>\n",
       "      <th>0</th>\n",
       "      <td>94133</td>\n",
       "      <td>NaN</td>\n",
       "      <td>NaN</td>\n",
       "      <td>NaN</td>\n",
       "      <td>NaN</td>\n",
       "    </tr>\n",
       "    <tr>\n",
       "      <th>1</th>\n",
       "      <td>94118</td>\n",
       "      <td>NaN</td>\n",
       "      <td>NaN</td>\n",
       "      <td>NaN</td>\n",
       "      <td>NaN</td>\n",
       "    </tr>\n",
       "    <tr>\n",
       "      <th>2</th>\n",
       "      <td>94108</td>\n",
       "      <td>NaN</td>\n",
       "      <td>NaN</td>\n",
       "      <td>NaN</td>\n",
       "      <td>NaN</td>\n",
       "    </tr>\n",
       "    <tr>\n",
       "      <th>3</th>\n",
       "      <td>94112</td>\n",
       "      <td>NaN</td>\n",
       "      <td>NaN</td>\n",
       "      <td>NaN</td>\n",
       "      <td>NaN</td>\n",
       "    </tr>\n",
       "    <tr>\n",
       "      <th>4</th>\n",
       "      <td>94102</td>\n",
       "      <td>NaN</td>\n",
       "      <td>NaN</td>\n",
       "      <td>NaN</td>\n",
       "      <td>NaN</td>\n",
       "    </tr>\n",
       "    <tr>\n",
       "      <th>...</th>\n",
       "      <td>...</td>\n",
       "      <td>...</td>\n",
       "      <td>...</td>\n",
       "      <td>...</td>\n",
       "      <td>...</td>\n",
       "    </tr>\n",
       "    <tr>\n",
       "      <th>10769</th>\n",
       "      <td>94105</td>\n",
       "      <td>NaN</td>\n",
       "      <td>NaN</td>\n",
       "      <td>NaN</td>\n",
       "      <td>NaN</td>\n",
       "    </tr>\n",
       "    <tr>\n",
       "      <th>10770</th>\n",
       "      <td>94102</td>\n",
       "      <td>NaN</td>\n",
       "      <td>NaN</td>\n",
       "      <td>NaN</td>\n",
       "      <td>NaN</td>\n",
       "    </tr>\n",
       "    <tr>\n",
       "      <th>10771</th>\n",
       "      <td>94102</td>\n",
       "      <td>NaN</td>\n",
       "      <td>NaN</td>\n",
       "      <td>NaN</td>\n",
       "      <td>NaN</td>\n",
       "    </tr>\n",
       "    <tr>\n",
       "      <th>10772</th>\n",
       "      <td>94110</td>\n",
       "      <td>NaN</td>\n",
       "      <td>NaN</td>\n",
       "      <td>NaN</td>\n",
       "      <td>NaN</td>\n",
       "    </tr>\n",
       "    <tr>\n",
       "      <th>10773</th>\n",
       "      <td>94107</td>\n",
       "      <td>NaN</td>\n",
       "      <td>NaN</td>\n",
       "      <td>NaN</td>\n",
       "      <td>NaN</td>\n",
       "    </tr>\n",
       "  </tbody>\n",
       "</table>\n",
       "<p>26526 rows × 5 columns</p>\n",
       "</div>"
      ],
      "text/plain": [
       "       business_postal_code  Neighborhoods (old)  Police Districts  \\\n",
       "0                     94133                  NaN               NaN   \n",
       "1                     94118                  NaN               NaN   \n",
       "2                     94108                  NaN               NaN   \n",
       "3                     94112                  NaN               NaN   \n",
       "4                     94102                  NaN               NaN   \n",
       "...                     ...                  ...               ...   \n",
       "10769                 94105                  NaN               NaN   \n",
       "10770                 94102                  NaN               NaN   \n",
       "10771                 94102                  NaN               NaN   \n",
       "10772                 94110                  NaN               NaN   \n",
       "10773                 94107                  NaN               NaN   \n",
       "\n",
       "       Supervisor Districts  Analysis Neighborhoods  \n",
       "0                       NaN                     NaN  \n",
       "1                       NaN                     NaN  \n",
       "2                       NaN                     NaN  \n",
       "3                       NaN                     NaN  \n",
       "4                       NaN                     NaN  \n",
       "...                     ...                     ...  \n",
       "10769                   NaN                     NaN  \n",
       "10770                   NaN                     NaN  \n",
       "10771                   NaN                     NaN  \n",
       "10772                   NaN                     NaN  \n",
       "10773                   NaN                     NaN  \n",
       "\n",
       "[26526 rows x 5 columns]"
      ]
     },
     "execution_count": 47,
     "metadata": {},
     "output_type": "execute_result"
    }
   ],
   "source": [
    "temp = df[df['Neighborhoods (old)'].isna()][['business_postal_code', 'Neighborhoods (old)', 'Police Districts', 'Supervisor Districts', 'Analysis Neighborhoods']]\n",
    "temp"
   ]
  },
  {
   "cell_type": "code",
   "execution_count": 48,
   "metadata": {},
   "outputs": [
    {
     "name": "stdout",
     "output_type": "stream",
     "text": [
      "41\n",
      "10\n",
      "11\n",
      "41\n"
     ]
    }
   ],
   "source": [
    "print(df['Neighborhoods (old)'].nunique())\n",
    "print(df['Police Districts'].nunique())\n",
    "print(df['Supervisor Districts'].nunique())\n",
    "print(df['Analysis Neighborhoods'].nunique())"
   ]
  },
  {
   "cell_type": "code",
   "execution_count": 49,
   "metadata": {},
   "outputs": [
    {
     "data": {
      "text/html": [
       "<div>\n",
       "<style scoped>\n",
       "    .dataframe tbody tr th:only-of-type {\n",
       "        vertical-align: middle;\n",
       "    }\n",
       "\n",
       "    .dataframe tbody tr th {\n",
       "        vertical-align: top;\n",
       "    }\n",
       "\n",
       "    .dataframe thead th {\n",
       "        text-align: right;\n",
       "    }\n",
       "</style>\n",
       "<table border=\"1\" class=\"dataframe\">\n",
       "  <thead>\n",
       "    <tr style=\"text-align: right;\">\n",
       "      <th></th>\n",
       "      <th>Neighborhoods (old)</th>\n",
       "      <th>Analysis Neighborhoods</th>\n",
       "    </tr>\n",
       "  </thead>\n",
       "  <tbody>\n",
       "    <tr>\n",
       "      <th>26</th>\n",
       "      <td>5.0</td>\n",
       "      <td>7.0</td>\n",
       "    </tr>\n",
       "    <tr>\n",
       "      <th>63</th>\n",
       "      <td>19.0</td>\n",
       "      <td>20.0</td>\n",
       "    </tr>\n",
       "    <tr>\n",
       "      <th>78</th>\n",
       "      <td>6.0</td>\n",
       "      <td>8.0</td>\n",
       "    </tr>\n",
       "    <tr>\n",
       "      <th>97</th>\n",
       "      <td>10.0</td>\n",
       "      <td>9.0</td>\n",
       "    </tr>\n",
       "    <tr>\n",
       "      <th>147</th>\n",
       "      <td>19.0</td>\n",
       "      <td>20.0</td>\n",
       "    </tr>\n",
       "    <tr>\n",
       "      <th>...</th>\n",
       "      <td>...</td>\n",
       "      <td>...</td>\n",
       "    </tr>\n",
       "    <tr>\n",
       "      <th>10751</th>\n",
       "      <td>6.0</td>\n",
       "      <td>8.0</td>\n",
       "    </tr>\n",
       "    <tr>\n",
       "      <th>10752</th>\n",
       "      <td>19.0</td>\n",
       "      <td>20.0</td>\n",
       "    </tr>\n",
       "    <tr>\n",
       "      <th>10753</th>\n",
       "      <td>35.0</td>\n",
       "      <td>35.0</td>\n",
       "    </tr>\n",
       "    <tr>\n",
       "      <th>10754</th>\n",
       "      <td>19.0</td>\n",
       "      <td>20.0</td>\n",
       "    </tr>\n",
       "    <tr>\n",
       "      <th>10755</th>\n",
       "      <td>8.0</td>\n",
       "      <td>12.0</td>\n",
       "    </tr>\n",
       "  </tbody>\n",
       "</table>\n",
       "<p>27447 rows × 2 columns</p>\n",
       "</div>"
      ],
      "text/plain": [
       "       Neighborhoods (old)  Analysis Neighborhoods\n",
       "26                     5.0                     7.0\n",
       "63                    19.0                    20.0\n",
       "78                     6.0                     8.0\n",
       "97                    10.0                     9.0\n",
       "147                   19.0                    20.0\n",
       "...                    ...                     ...\n",
       "10751                  6.0                     8.0\n",
       "10752                 19.0                    20.0\n",
       "10753                 35.0                    35.0\n",
       "10754                 19.0                    20.0\n",
       "10755                  8.0                    12.0\n",
       "\n",
       "[27447 rows x 2 columns]"
      ]
     },
     "execution_count": 49,
     "metadata": {},
     "output_type": "execute_result"
    }
   ],
   "source": [
    "df[df['Neighborhoods (old)'].notna()][['Neighborhoods (old)', 'Analysis Neighborhoods']]\n",
    "#difficult to see any correlations between these two variables"
   ]
  },
  {
   "cell_type": "code",
   "execution_count": 50,
   "metadata": {},
   "outputs": [
    {
     "data": {
      "text/plain": [
       "46"
      ]
     },
     "execution_count": 50,
     "metadata": {},
     "output_type": "execute_result"
    }
   ],
   "source": [
    "temp.business_postal_code.nunique()#46 different postal codes for Neighborhoods (old) missing values"
   ]
  },
  {
   "cell_type": "code",
   "execution_count": 51,
   "metadata": {},
   "outputs": [],
   "source": [
    "#eliminating NaNs\n",
    "#Imputer\n",
    "from sklearn.impute import SimpleImputer\n",
    "columns = ['Neighborhoods (old)','Police Districts','Supervisor Districts','Fire Prevention Districts','Zip Codes','Analysis Neighborhoods']\n",
    "\n",
    "imp_mean = SimpleImputer(missing_values=np.nan, strategy='mean')\n",
    "imp_mean=imp_mean.fit(df[columns])\n",
    "df[columns] = imp_mean.fit_transform(df[columns])\n",
    "#Added the most frequent values "
   ]
  },
  {
   "cell_type": "code",
   "execution_count": 52,
   "metadata": {},
   "outputs": [],
   "source": [
    "data = df[['business_id', 'business_postal_code', 'inspection_score',\n",
    "          'Neighborhoods (old)', 'Police Districts', 'Supervisor Districts',\n",
    "          'Fire Prevention Districts', 'Analysis Neighborhoods', 'type_data', \n",
    "            'Day', 'Month', 'week_year', 'violation_description_num',\n",
    "          'weekday_num', 'inspection_type_num']]"
   ]
  },
  {
   "cell_type": "code",
   "execution_count": 53,
   "metadata": {},
   "outputs": [
    {
     "data": {
      "text/plain": [
       "business_id                    int64\n",
       "business_postal_code           int64\n",
       "inspection_score             float64\n",
       "Neighborhoods (old)          float64\n",
       "Police Districts             float64\n",
       "Supervisor Districts         float64\n",
       "Fire Prevention Districts    float64\n",
       "Analysis Neighborhoods       float64\n",
       "type_data                     object\n",
       "Day                            int64\n",
       "Month                          int64\n",
       "week_year                      int64\n",
       "violation_description_num      int64\n",
       "weekday_num                    int64\n",
       "inspection_type_num            int64\n",
       "dtype: object"
      ]
     },
     "execution_count": 53,
     "metadata": {},
     "output_type": "execute_result"
    }
   ],
   "source": [
    "data.dtypes \n",
    "#all values are numeric, except type of data, this variable i will use an initially split by train/test "
   ]
  },
  {
   "cell_type": "code",
   "execution_count": 54,
   "metadata": {},
   "outputs": [
    {
     "data": {
      "text/plain": [
       "business_id                  False\n",
       "business_postal_code         False\n",
       "inspection_score             False\n",
       "Neighborhoods (old)          False\n",
       "Police Districts             False\n",
       "Supervisor Districts         False\n",
       "Fire Prevention Districts    False\n",
       "Analysis Neighborhoods       False\n",
       "type_data                    False\n",
       "Day                          False\n",
       "Month                        False\n",
       "week_year                    False\n",
       "violation_description_num    False\n",
       "weekday_num                  False\n",
       "inspection_type_num          False\n",
       "dtype: bool"
      ]
     },
     "execution_count": 54,
     "metadata": {},
     "output_type": "execute_result"
    }
   ],
   "source": [
    "data.isna().any() #no missing values"
   ]
  },
  {
   "cell_type": "code",
   "execution_count": 55,
   "metadata": {},
   "outputs": [
    {
     "data": {
      "text/plain": [
       "(53973, 15)"
      ]
     },
     "execution_count": 55,
     "metadata": {},
     "output_type": "execute_result"
    }
   ],
   "source": [
    "data.shape #number of instances is exactly as same as number of observations in raw data "
   ]
  },
  {
   "cell_type": "code",
   "execution_count": 56,
   "metadata": {},
   "outputs": [
    {
     "data": {
      "text/html": [
       "<div>\n",
       "<style scoped>\n",
       "    .dataframe tbody tr th:only-of-type {\n",
       "        vertical-align: middle;\n",
       "    }\n",
       "\n",
       "    .dataframe tbody tr th {\n",
       "        vertical-align: top;\n",
       "    }\n",
       "\n",
       "    .dataframe thead th {\n",
       "        text-align: right;\n",
       "    }\n",
       "</style>\n",
       "<table border=\"1\" class=\"dataframe\">\n",
       "  <thead>\n",
       "    <tr style=\"text-align: right;\">\n",
       "      <th></th>\n",
       "      <th>business_id</th>\n",
       "      <th>business_postal_code</th>\n",
       "      <th>inspection_score</th>\n",
       "      <th>Neighborhoods (old)</th>\n",
       "      <th>Police Districts</th>\n",
       "      <th>Supervisor Districts</th>\n",
       "      <th>Fire Prevention Districts</th>\n",
       "      <th>Analysis Neighborhoods</th>\n",
       "      <th>Day</th>\n",
       "      <th>Month</th>\n",
       "      <th>week_year</th>\n",
       "      <th>violation_description_num</th>\n",
       "      <th>weekday_num</th>\n",
       "      <th>inspection_type_num</th>\n",
       "    </tr>\n",
       "  </thead>\n",
       "  <tbody>\n",
       "    <tr>\n",
       "      <th>business_id</th>\n",
       "      <td>1.000000</td>\n",
       "      <td>0.012200</td>\n",
       "      <td>-0.084730</td>\n",
       "      <td>-0.003990</td>\n",
       "      <td>0.002146</td>\n",
       "      <td>0.040323</td>\n",
       "      <td>0.046261</td>\n",
       "      <td>-0.005268</td>\n",
       "      <td>0.028517</td>\n",
       "      <td>-0.025758</td>\n",
       "      <td>-0.023683</td>\n",
       "      <td>-0.005186</td>\n",
       "      <td>-0.047103</td>\n",
       "      <td>-0.087538</td>\n",
       "    </tr>\n",
       "    <tr>\n",
       "      <th>business_postal_code</th>\n",
       "      <td>0.012200</td>\n",
       "      <td>1.000000</td>\n",
       "      <td>-0.015189</td>\n",
       "      <td>-0.000173</td>\n",
       "      <td>0.011040</td>\n",
       "      <td>-0.065566</td>\n",
       "      <td>-0.042687</td>\n",
       "      <td>0.003672</td>\n",
       "      <td>0.000325</td>\n",
       "      <td>0.021310</td>\n",
       "      <td>0.021142</td>\n",
       "      <td>0.010261</td>\n",
       "      <td>-0.009203</td>\n",
       "      <td>-0.020933</td>\n",
       "    </tr>\n",
       "    <tr>\n",
       "      <th>inspection_score</th>\n",
       "      <td>-0.084730</td>\n",
       "      <td>-0.015189</td>\n",
       "      <td>1.000000</td>\n",
       "      <td>-0.000668</td>\n",
       "      <td>-0.007990</td>\n",
       "      <td>-0.001807</td>\n",
       "      <td>-0.013850</td>\n",
       "      <td>-0.001381</td>\n",
       "      <td>-0.007485</td>\n",
       "      <td>-0.000320</td>\n",
       "      <td>0.000011</td>\n",
       "      <td>-0.039579</td>\n",
       "      <td>0.034541</td>\n",
       "      <td>0.533207</td>\n",
       "    </tr>\n",
       "    <tr>\n",
       "      <th>Neighborhoods (old)</th>\n",
       "      <td>-0.003990</td>\n",
       "      <td>-0.000173</td>\n",
       "      <td>-0.000668</td>\n",
       "      <td>1.000000</td>\n",
       "      <td>0.341318</td>\n",
       "      <td>-0.194044</td>\n",
       "      <td>0.113504</td>\n",
       "      <td>0.982804</td>\n",
       "      <td>0.007623</td>\n",
       "      <td>-0.016422</td>\n",
       "      <td>-0.015939</td>\n",
       "      <td>0.005077</td>\n",
       "      <td>-0.005419</td>\n",
       "      <td>-0.013140</td>\n",
       "    </tr>\n",
       "    <tr>\n",
       "      <th>Police Districts</th>\n",
       "      <td>0.002146</td>\n",
       "      <td>0.011040</td>\n",
       "      <td>-0.007990</td>\n",
       "      <td>0.341318</td>\n",
       "      <td>1.000000</td>\n",
       "      <td>-0.426838</td>\n",
       "      <td>0.251943</td>\n",
       "      <td>0.328704</td>\n",
       "      <td>0.009189</td>\n",
       "      <td>-0.014723</td>\n",
       "      <td>-0.014854</td>\n",
       "      <td>0.017302</td>\n",
       "      <td>-0.001129</td>\n",
       "      <td>-0.019729</td>\n",
       "    </tr>\n",
       "    <tr>\n",
       "      <th>Supervisor Districts</th>\n",
       "      <td>0.040323</td>\n",
       "      <td>-0.065566</td>\n",
       "      <td>-0.001807</td>\n",
       "      <td>-0.194044</td>\n",
       "      <td>-0.426838</td>\n",
       "      <td>1.000000</td>\n",
       "      <td>-0.080216</td>\n",
       "      <td>-0.207931</td>\n",
       "      <td>-0.007982</td>\n",
       "      <td>0.005110</td>\n",
       "      <td>0.004807</td>\n",
       "      <td>-0.015296</td>\n",
       "      <td>-0.008410</td>\n",
       "      <td>0.005514</td>\n",
       "    </tr>\n",
       "    <tr>\n",
       "      <th>Fire Prevention Districts</th>\n",
       "      <td>0.046261</td>\n",
       "      <td>-0.042687</td>\n",
       "      <td>-0.013850</td>\n",
       "      <td>0.113504</td>\n",
       "      <td>0.251943</td>\n",
       "      <td>-0.080216</td>\n",
       "      <td>1.000000</td>\n",
       "      <td>0.078185</td>\n",
       "      <td>0.012811</td>\n",
       "      <td>-0.035946</td>\n",
       "      <td>-0.034575</td>\n",
       "      <td>0.007014</td>\n",
       "      <td>-0.025093</td>\n",
       "      <td>-0.010006</td>\n",
       "    </tr>\n",
       "    <tr>\n",
       "      <th>Analysis Neighborhoods</th>\n",
       "      <td>-0.005268</td>\n",
       "      <td>0.003672</td>\n",
       "      <td>-0.001381</td>\n",
       "      <td>0.982804</td>\n",
       "      <td>0.328704</td>\n",
       "      <td>-0.207931</td>\n",
       "      <td>0.078185</td>\n",
       "      <td>1.000000</td>\n",
       "      <td>0.010035</td>\n",
       "      <td>-0.014835</td>\n",
       "      <td>-0.014143</td>\n",
       "      <td>0.003046</td>\n",
       "      <td>-0.005609</td>\n",
       "      <td>-0.011881</td>\n",
       "    </tr>\n",
       "    <tr>\n",
       "      <th>Day</th>\n",
       "      <td>0.028517</td>\n",
       "      <td>0.000325</td>\n",
       "      <td>-0.007485</td>\n",
       "      <td>0.007623</td>\n",
       "      <td>0.009189</td>\n",
       "      <td>-0.007982</td>\n",
       "      <td>0.012811</td>\n",
       "      <td>0.010035</td>\n",
       "      <td>1.000000</td>\n",
       "      <td>-0.027299</td>\n",
       "      <td>0.058015</td>\n",
       "      <td>0.001998</td>\n",
       "      <td>-0.007746</td>\n",
       "      <td>0.000485</td>\n",
       "    </tr>\n",
       "    <tr>\n",
       "      <th>Month</th>\n",
       "      <td>-0.025758</td>\n",
       "      <td>0.021310</td>\n",
       "      <td>-0.000320</td>\n",
       "      <td>-0.016422</td>\n",
       "      <td>-0.014723</td>\n",
       "      <td>0.005110</td>\n",
       "      <td>-0.035946</td>\n",
       "      <td>-0.014835</td>\n",
       "      <td>-0.027299</td>\n",
       "      <td>1.000000</td>\n",
       "      <td>0.995421</td>\n",
       "      <td>0.002122</td>\n",
       "      <td>0.000626</td>\n",
       "      <td>-0.017845</td>\n",
       "    </tr>\n",
       "    <tr>\n",
       "      <th>week_year</th>\n",
       "      <td>-0.023683</td>\n",
       "      <td>0.021142</td>\n",
       "      <td>0.000011</td>\n",
       "      <td>-0.015939</td>\n",
       "      <td>-0.014854</td>\n",
       "      <td>0.004807</td>\n",
       "      <td>-0.034575</td>\n",
       "      <td>-0.014143</td>\n",
       "      <td>0.058015</td>\n",
       "      <td>0.995421</td>\n",
       "      <td>1.000000</td>\n",
       "      <td>0.002054</td>\n",
       "      <td>0.002238</td>\n",
       "      <td>-0.016954</td>\n",
       "    </tr>\n",
       "    <tr>\n",
       "      <th>violation_description_num</th>\n",
       "      <td>-0.005186</td>\n",
       "      <td>0.010261</td>\n",
       "      <td>-0.039579</td>\n",
       "      <td>0.005077</td>\n",
       "      <td>0.017302</td>\n",
       "      <td>-0.015296</td>\n",
       "      <td>0.007014</td>\n",
       "      <td>0.003046</td>\n",
       "      <td>0.001998</td>\n",
       "      <td>0.002122</td>\n",
       "      <td>0.002054</td>\n",
       "      <td>1.000000</td>\n",
       "      <td>-0.009342</td>\n",
       "      <td>-0.038568</td>\n",
       "    </tr>\n",
       "    <tr>\n",
       "      <th>weekday_num</th>\n",
       "      <td>-0.047103</td>\n",
       "      <td>-0.009203</td>\n",
       "      <td>0.034541</td>\n",
       "      <td>-0.005419</td>\n",
       "      <td>-0.001129</td>\n",
       "      <td>-0.008410</td>\n",
       "      <td>-0.025093</td>\n",
       "      <td>-0.005609</td>\n",
       "      <td>-0.007746</td>\n",
       "      <td>0.000626</td>\n",
       "      <td>0.002238</td>\n",
       "      <td>-0.009342</td>\n",
       "      <td>1.000000</td>\n",
       "      <td>0.030580</td>\n",
       "    </tr>\n",
       "    <tr>\n",
       "      <th>inspection_type_num</th>\n",
       "      <td>-0.087538</td>\n",
       "      <td>-0.020933</td>\n",
       "      <td>0.533207</td>\n",
       "      <td>-0.013140</td>\n",
       "      <td>-0.019729</td>\n",
       "      <td>0.005514</td>\n",
       "      <td>-0.010006</td>\n",
       "      <td>-0.011881</td>\n",
       "      <td>0.000485</td>\n",
       "      <td>-0.017845</td>\n",
       "      <td>-0.016954</td>\n",
       "      <td>-0.038568</td>\n",
       "      <td>0.030580</td>\n",
       "      <td>1.000000</td>\n",
       "    </tr>\n",
       "  </tbody>\n",
       "</table>\n",
       "</div>"
      ],
      "text/plain": [
       "                           business_id  business_postal_code  \\\n",
       "business_id                   1.000000              0.012200   \n",
       "business_postal_code          0.012200              1.000000   \n",
       "inspection_score             -0.084730             -0.015189   \n",
       "Neighborhoods (old)          -0.003990             -0.000173   \n",
       "Police Districts              0.002146              0.011040   \n",
       "Supervisor Districts          0.040323             -0.065566   \n",
       "Fire Prevention Districts     0.046261             -0.042687   \n",
       "Analysis Neighborhoods       -0.005268              0.003672   \n",
       "Day                           0.028517              0.000325   \n",
       "Month                        -0.025758              0.021310   \n",
       "week_year                    -0.023683              0.021142   \n",
       "violation_description_num    -0.005186              0.010261   \n",
       "weekday_num                  -0.047103             -0.009203   \n",
       "inspection_type_num          -0.087538             -0.020933   \n",
       "\n",
       "                           inspection_score  Neighborhoods (old)  \\\n",
       "business_id                       -0.084730            -0.003990   \n",
       "business_postal_code              -0.015189            -0.000173   \n",
       "inspection_score                   1.000000            -0.000668   \n",
       "Neighborhoods (old)               -0.000668             1.000000   \n",
       "Police Districts                  -0.007990             0.341318   \n",
       "Supervisor Districts              -0.001807            -0.194044   \n",
       "Fire Prevention Districts         -0.013850             0.113504   \n",
       "Analysis Neighborhoods            -0.001381             0.982804   \n",
       "Day                               -0.007485             0.007623   \n",
       "Month                             -0.000320            -0.016422   \n",
       "week_year                          0.000011            -0.015939   \n",
       "violation_description_num         -0.039579             0.005077   \n",
       "weekday_num                        0.034541            -0.005419   \n",
       "inspection_type_num                0.533207            -0.013140   \n",
       "\n",
       "                           Police Districts  Supervisor Districts  \\\n",
       "business_id                        0.002146              0.040323   \n",
       "business_postal_code               0.011040             -0.065566   \n",
       "inspection_score                  -0.007990             -0.001807   \n",
       "Neighborhoods (old)                0.341318             -0.194044   \n",
       "Police Districts                   1.000000             -0.426838   \n",
       "Supervisor Districts              -0.426838              1.000000   \n",
       "Fire Prevention Districts          0.251943             -0.080216   \n",
       "Analysis Neighborhoods             0.328704             -0.207931   \n",
       "Day                                0.009189             -0.007982   \n",
       "Month                             -0.014723              0.005110   \n",
       "week_year                         -0.014854              0.004807   \n",
       "violation_description_num          0.017302             -0.015296   \n",
       "weekday_num                       -0.001129             -0.008410   \n",
       "inspection_type_num               -0.019729              0.005514   \n",
       "\n",
       "                           Fire Prevention Districts  Analysis Neighborhoods  \\\n",
       "business_id                                 0.046261               -0.005268   \n",
       "business_postal_code                       -0.042687                0.003672   \n",
       "inspection_score                           -0.013850               -0.001381   \n",
       "Neighborhoods (old)                         0.113504                0.982804   \n",
       "Police Districts                            0.251943                0.328704   \n",
       "Supervisor Districts                       -0.080216               -0.207931   \n",
       "Fire Prevention Districts                   1.000000                0.078185   \n",
       "Analysis Neighborhoods                      0.078185                1.000000   \n",
       "Day                                         0.012811                0.010035   \n",
       "Month                                      -0.035946               -0.014835   \n",
       "week_year                                  -0.034575               -0.014143   \n",
       "violation_description_num                   0.007014                0.003046   \n",
       "weekday_num                                -0.025093               -0.005609   \n",
       "inspection_type_num                        -0.010006               -0.011881   \n",
       "\n",
       "                                Day     Month  week_year  \\\n",
       "business_id                0.028517 -0.025758  -0.023683   \n",
       "business_postal_code       0.000325  0.021310   0.021142   \n",
       "inspection_score          -0.007485 -0.000320   0.000011   \n",
       "Neighborhoods (old)        0.007623 -0.016422  -0.015939   \n",
       "Police Districts           0.009189 -0.014723  -0.014854   \n",
       "Supervisor Districts      -0.007982  0.005110   0.004807   \n",
       "Fire Prevention Districts  0.012811 -0.035946  -0.034575   \n",
       "Analysis Neighborhoods     0.010035 -0.014835  -0.014143   \n",
       "Day                        1.000000 -0.027299   0.058015   \n",
       "Month                     -0.027299  1.000000   0.995421   \n",
       "week_year                  0.058015  0.995421   1.000000   \n",
       "violation_description_num  0.001998  0.002122   0.002054   \n",
       "weekday_num               -0.007746  0.000626   0.002238   \n",
       "inspection_type_num        0.000485 -0.017845  -0.016954   \n",
       "\n",
       "                           violation_description_num  weekday_num  \\\n",
       "business_id                                -0.005186    -0.047103   \n",
       "business_postal_code                        0.010261    -0.009203   \n",
       "inspection_score                           -0.039579     0.034541   \n",
       "Neighborhoods (old)                         0.005077    -0.005419   \n",
       "Police Districts                            0.017302    -0.001129   \n",
       "Supervisor Districts                       -0.015296    -0.008410   \n",
       "Fire Prevention Districts                   0.007014    -0.025093   \n",
       "Analysis Neighborhoods                      0.003046    -0.005609   \n",
       "Day                                         0.001998    -0.007746   \n",
       "Month                                       0.002122     0.000626   \n",
       "week_year                                   0.002054     0.002238   \n",
       "violation_description_num                   1.000000    -0.009342   \n",
       "weekday_num                                -0.009342     1.000000   \n",
       "inspection_type_num                        -0.038568     0.030580   \n",
       "\n",
       "                           inspection_type_num  \n",
       "business_id                          -0.087538  \n",
       "business_postal_code                 -0.020933  \n",
       "inspection_score                      0.533207  \n",
       "Neighborhoods (old)                  -0.013140  \n",
       "Police Districts                     -0.019729  \n",
       "Supervisor Districts                  0.005514  \n",
       "Fire Prevention Districts            -0.010006  \n",
       "Analysis Neighborhoods               -0.011881  \n",
       "Day                                   0.000485  \n",
       "Month                                -0.017845  \n",
       "week_year                            -0.016954  \n",
       "violation_description_num            -0.038568  \n",
       "weekday_num                           0.030580  \n",
       "inspection_type_num                   1.000000  "
      ]
     },
     "execution_count": 56,
     "metadata": {},
     "output_type": "execute_result"
    }
   ],
   "source": [
    "data.corr()"
   ]
  },
  {
   "cell_type": "code",
   "execution_count": 57,
   "metadata": {},
   "outputs": [],
   "source": [
    "#Conclusion for Matrix correlation:\n",
    "#Analysis Neighborhoods and Neighborhoods (old) are higly correlated >0.98 - so we will drop one of them\n",
    "#Month and week_year are also higly correlated >0.99 - so we will drop one of them\n",
    "#We avoid multicollinearity because otherwise \n",
    "#assumption (explanatory variables have to be independent) will be violated"
   ]
  },
  {
   "cell_type": "code",
   "execution_count": 58,
   "metadata": {},
   "outputs": [
    {
     "data": {
      "text/plain": [
       "Index(['business_id', 'business_postal_code', 'inspection_score',\n",
       "       'Neighborhoods (old)', 'Police Districts', 'Supervisor Districts',\n",
       "       'Fire Prevention Districts', 'type_data', 'Day', 'week_year',\n",
       "       'violation_description_num', 'weekday_num'],\n",
       "      dtype='object')"
      ]
     },
     "execution_count": 58,
     "metadata": {},
     "output_type": "execute_result"
    }
   ],
   "source": [
    "data = data.drop(columns = ['Analysis Neighborhoods', 'Month', 'inspection_type_num'])\n",
    "data.columns"
   ]
  },
  {
   "cell_type": "code",
   "execution_count": 59,
   "metadata": {},
   "outputs": [],
   "source": [
    "train = data[data['type_data'] == 'train']\n",
    "test = data[data['type_data'] == 'test']\n",
    "train = train.drop(columns = ['type_data'])\n",
    "test = test.drop(columns = ['type_data'])\n",
    "\n",
    "X_train = train.drop('inspection_score', axis=1)\n",
    "y_train = train['inspection_score'] "
   ]
  },
  {
   "cell_type": "markdown",
   "metadata": {},
   "source": [
    "#### Model"
   ]
  },
  {
   "cell_type": "code",
   "execution_count": 60,
   "metadata": {},
   "outputs": [
    {
     "name": "stderr",
     "output_type": "stream",
     "text": [
      "/Users/a.khachatryan/anaconda3/lib/python3.6/site-packages/sklearn/ensemble/forest.py:245: FutureWarning: The default value of n_estimators will change from 10 in version 0.20 to 100 in 0.22.\n",
      "  \"10 in version 0.20 to 100 in 0.22.\", FutureWarning)\n",
      "/Users/a.khachatryan/anaconda3/lib/python3.6/site-packages/sklearn/ensemble/forest.py:245: FutureWarning: The default value of n_estimators will change from 10 in version 0.20 to 100 in 0.22.\n",
      "  \"10 in version 0.20 to 100 in 0.22.\", FutureWarning)\n",
      "/Users/a.khachatryan/anaconda3/lib/python3.6/site-packages/sklearn/ensemble/forest.py:245: FutureWarning: The default value of n_estimators will change from 10 in version 0.20 to 100 in 0.22.\n",
      "  \"10 in version 0.20 to 100 in 0.22.\", FutureWarning)\n",
      "/Users/a.khachatryan/anaconda3/lib/python3.6/site-packages/sklearn/ensemble/forest.py:245: FutureWarning: The default value of n_estimators will change from 10 in version 0.20 to 100 in 0.22.\n",
      "  \"10 in version 0.20 to 100 in 0.22.\", FutureWarning)\n",
      "/Users/a.khachatryan/anaconda3/lib/python3.6/site-packages/sklearn/ensemble/forest.py:245: FutureWarning: The default value of n_estimators will change from 10 in version 0.20 to 100 in 0.22.\n",
      "  \"10 in version 0.20 to 100 in 0.22.\", FutureWarning)\n",
      "/Users/a.khachatryan/anaconda3/lib/python3.6/site-packages/sklearn/ensemble/forest.py:245: FutureWarning: The default value of n_estimators will change from 10 in version 0.20 to 100 in 0.22.\n",
      "  \"10 in version 0.20 to 100 in 0.22.\", FutureWarning)\n",
      "/Users/a.khachatryan/anaconda3/lib/python3.6/site-packages/sklearn/ensemble/forest.py:245: FutureWarning: The default value of n_estimators will change from 10 in version 0.20 to 100 in 0.22.\n",
      "  \"10 in version 0.20 to 100 in 0.22.\", FutureWarning)\n",
      "/Users/a.khachatryan/anaconda3/lib/python3.6/site-packages/sklearn/ensemble/forest.py:245: FutureWarning: The default value of n_estimators will change from 10 in version 0.20 to 100 in 0.22.\n",
      "  \"10 in version 0.20 to 100 in 0.22.\", FutureWarning)\n",
      "/Users/a.khachatryan/anaconda3/lib/python3.6/site-packages/sklearn/ensemble/forest.py:245: FutureWarning: The default value of n_estimators will change from 10 in version 0.20 to 100 in 0.22.\n",
      "  \"10 in version 0.20 to 100 in 0.22.\", FutureWarning)\n",
      "/Users/a.khachatryan/anaconda3/lib/python3.6/site-packages/sklearn/ensemble/forest.py:245: FutureWarning: The default value of n_estimators will change from 10 in version 0.20 to 100 in 0.22.\n",
      "  \"10 in version 0.20 to 100 in 0.22.\", FutureWarning)\n"
     ]
    },
    {
     "name": "stdout",
     "output_type": "stream",
     "text": [
      "0.586642793196853\n"
     ]
    }
   ],
   "source": [
    "from sklearn.ensemble import RandomForestRegressor\n",
    "from sklearn.model_selection import cross_val_score\n",
    "\n",
    "model = RandomForestRegressor() \n",
    "\n",
    "# 10-Fold Cross validation\n",
    "print(np.mean(cross_val_score(model, X_train, y_train, cv=10)))"
   ]
  },
  {
   "cell_type": "code",
   "execution_count": 61,
   "metadata": {},
   "outputs": [
    {
     "data": {
      "text/plain": [
       "GridSearchCV(cv=10, error_score='raise-deprecating',\n",
       "             estimator=RandomForestRegressor(bootstrap=True, criterion='mse',\n",
       "                                             max_depth=None,\n",
       "                                             max_features='auto',\n",
       "                                             max_leaf_nodes=None,\n",
       "                                             min_impurity_decrease=0.0,\n",
       "                                             min_impurity_split=None,\n",
       "                                             min_samples_leaf=1,\n",
       "                                             min_samples_split=2,\n",
       "                                             min_weight_fraction_leaf=0.0,\n",
       "                                             n_estimators='warn', n_jobs=None,\n",
       "                                             oob_score=False, random_state=None,\n",
       "                                             verbose=0, warm_start=False),\n",
       "             iid='warn', n_jobs=None,\n",
       "             param_grid={'max_depth': [2, 5, 7, 9, 11, 13],\n",
       "                         'n_estimators': [5, 10, 15, 20, 25, 30]},\n",
       "             pre_dispatch='2*n_jobs', refit=True, return_train_score=False,\n",
       "             scoring=None, verbose=0)"
      ]
     },
     "execution_count": 61,
     "metadata": {},
     "output_type": "execute_result"
    }
   ],
   "source": [
    "from sklearn.model_selection import GridSearchCV\n",
    "param_grid = {\n",
    "                 'n_estimators': [5, 10, 15, 20, 25, 30],\n",
    "                 'max_depth': [2, 5, 7, 9, 11, 13]\n",
    "             }\n",
    "\n",
    "grid = GridSearchCV(model, param_grid, cv=10)\n",
    "grid.fit(X_train, y_train)"
   ]
  },
  {
   "cell_type": "code",
   "execution_count": 62,
   "metadata": {},
   "outputs": [
    {
     "name": "stdout",
     "output_type": "stream",
     "text": [
      "Best estimators:  RandomForestRegressor(bootstrap=True, criterion='mse', max_depth=13,\n",
      "                      max_features='auto', max_leaf_nodes=None,\n",
      "                      min_impurity_decrease=0.0, min_impurity_split=None,\n",
      "                      min_samples_leaf=1, min_samples_split=2,\n",
      "                      min_weight_fraction_leaf=0.0, n_estimators=25,\n",
      "                      n_jobs=None, oob_score=False, random_state=None,\n",
      "                      verbose=0, warm_start=False)\n",
      "Best parameters:  {'max_depth': 13, 'n_estimators': 25}\n",
      "CV results:  {'mean_fit_time': array([0.0852685 , 0.1592334 , 0.25692289, 0.38806901, 0.40175972,\n",
      "       0.48466611, 0.181322  , 0.33765576, 0.52119954, 0.68900807,\n",
      "       0.84605308, 1.07205641, 0.23280032, 0.47797112, 0.7009109 ,\n",
      "       0.95586805, 1.17157612, 1.37036633, 0.32686138, 0.61017954,\n",
      "       0.88277798, 1.13970282, 1.44321451, 1.78300745, 0.34314902,\n",
      "       0.7120065 , 1.09413066, 1.4482908 , 1.81217351, 2.07774367,\n",
      "       0.41938834, 0.80457621, 1.21551294, 1.60701025, 2.03513315,\n",
      "       2.41921182]), 'std_fit_time': array([0.00287412, 0.00708429, 0.05600663, 0.0553016 , 0.01349868,\n",
      "       0.03011324, 0.00594421, 0.01018945, 0.01552144, 0.01526292,\n",
      "       0.02962274, 0.02464523, 0.01349946, 0.0190736 , 0.02975212,\n",
      "       0.02828533, 0.036626  , 0.05436734, 0.01520746, 0.02276638,\n",
      "       0.03543768, 0.03339268, 0.05026329, 0.05445392, 0.01631921,\n",
      "       0.02937691, 0.04333204, 0.06803272, 0.07110517, 0.06453909,\n",
      "       0.01268953, 0.03275216, 0.02016461, 0.04846741, 0.08078425,\n",
      "       0.04481315]), 'mean_score_time': array([0.00244458, 0.00299444, 0.00375116, 0.00550165, 0.00512817,\n",
      "       0.00587974, 0.0028084 , 0.00356336, 0.00470016, 0.00552959,\n",
      "       0.00586305, 0.00816815, 0.00294018, 0.00427265, 0.00506678,\n",
      "       0.00661206, 0.00746815, 0.00834298, 0.00389569, 0.00537853,\n",
      "       0.0062572 , 0.0079077 , 0.00929031, 0.01073833, 0.00379744,\n",
      "       0.00595932, 0.00768931, 0.00999715, 0.01194632, 0.01311648,\n",
      "       0.00473204, 0.00659044, 0.00902631, 0.01150584, 0.01406007,\n",
      "       0.01596963]), 'std_score_time': array([0.00023251, 0.000143  , 0.00055498, 0.00158523, 0.00052476,\n",
      "       0.00206563, 0.00018586, 0.0002982 , 0.00072213, 0.00065046,\n",
      "       0.00023426, 0.00226257, 0.00031986, 0.00065549, 0.00037587,\n",
      "       0.00059214, 0.0006006 , 0.00055181, 0.00061433, 0.00042458,\n",
      "       0.00018254, 0.00099167, 0.00087961, 0.0006329 , 0.00033257,\n",
      "       0.00072268, 0.00093368, 0.00096173, 0.0007484 , 0.00090417,\n",
      "       0.00082967, 0.00048122, 0.00048886, 0.00084864, 0.00085798,\n",
      "       0.00077098]), 'param_max_depth': masked_array(data=[2, 2, 2, 2, 2, 2, 5, 5, 5, 5, 5, 5, 7, 7, 7, 7, 7, 7,\n",
      "                   9, 9, 9, 9, 9, 9, 11, 11, 11, 11, 11, 11, 13, 13, 13,\n",
      "                   13, 13, 13],\n",
      "             mask=[False, False, False, False, False, False, False, False,\n",
      "                   False, False, False, False, False, False, False, False,\n",
      "                   False, False, False, False, False, False, False, False,\n",
      "                   False, False, False, False, False, False, False, False,\n",
      "                   False, False, False, False],\n",
      "       fill_value='?',\n",
      "            dtype=object), 'param_n_estimators': masked_array(data=[5, 10, 15, 20, 25, 30, 5, 10, 15, 20, 25, 30, 5, 10,\n",
      "                   15, 20, 25, 30, 5, 10, 15, 20, 25, 30, 5, 10, 15, 20,\n",
      "                   25, 30, 5, 10, 15, 20, 25, 30],\n",
      "             mask=[False, False, False, False, False, False, False, False,\n",
      "                   False, False, False, False, False, False, False, False,\n",
      "                   False, False, False, False, False, False, False, False,\n",
      "                   False, False, False, False, False, False, False, False,\n",
      "                   False, False, False, False],\n",
      "       fill_value='?',\n",
      "            dtype=object), 'params': [{'max_depth': 2, 'n_estimators': 5}, {'max_depth': 2, 'n_estimators': 10}, {'max_depth': 2, 'n_estimators': 15}, {'max_depth': 2, 'n_estimators': 20}, {'max_depth': 2, 'n_estimators': 25}, {'max_depth': 2, 'n_estimators': 30}, {'max_depth': 5, 'n_estimators': 5}, {'max_depth': 5, 'n_estimators': 10}, {'max_depth': 5, 'n_estimators': 15}, {'max_depth': 5, 'n_estimators': 20}, {'max_depth': 5, 'n_estimators': 25}, {'max_depth': 5, 'n_estimators': 30}, {'max_depth': 7, 'n_estimators': 5}, {'max_depth': 7, 'n_estimators': 10}, {'max_depth': 7, 'n_estimators': 15}, {'max_depth': 7, 'n_estimators': 20}, {'max_depth': 7, 'n_estimators': 25}, {'max_depth': 7, 'n_estimators': 30}, {'max_depth': 9, 'n_estimators': 5}, {'max_depth': 9, 'n_estimators': 10}, {'max_depth': 9, 'n_estimators': 15}, {'max_depth': 9, 'n_estimators': 20}, {'max_depth': 9, 'n_estimators': 25}, {'max_depth': 9, 'n_estimators': 30}, {'max_depth': 11, 'n_estimators': 5}, {'max_depth': 11, 'n_estimators': 10}, {'max_depth': 11, 'n_estimators': 15}, {'max_depth': 11, 'n_estimators': 20}, {'max_depth': 11, 'n_estimators': 25}, {'max_depth': 11, 'n_estimators': 30}, {'max_depth': 13, 'n_estimators': 5}, {'max_depth': 13, 'n_estimators': 10}, {'max_depth': 13, 'n_estimators': 15}, {'max_depth': 13, 'n_estimators': 20}, {'max_depth': 13, 'n_estimators': 25}, {'max_depth': 13, 'n_estimators': 30}], 'split0_test_score': array([0.46842897, 0.46866842, 0.46869826, 0.4685244 , 0.46817519,\n",
      "       0.4683548 , 0.49313345, 0.49331626, 0.49459728, 0.49169256,\n",
      "       0.49357284, 0.49323387, 0.50341272, 0.50373539, 0.50748176,\n",
      "       0.50805701, 0.5054322 , 0.50575617, 0.51682742, 0.51755561,\n",
      "       0.5252197 , 0.52463939, 0.52535721, 0.53011445, 0.53374769,\n",
      "       0.53913757, 0.54352315, 0.5461729 , 0.5452679 , 0.5450033 ,\n",
      "       0.52976857, 0.55005276, 0.55249918, 0.55623053, 0.56391037,\n",
      "       0.56099847]), 'split1_test_score': array([0.36083928, 0.35920843, 0.35995931, 0.36075455, 0.36021394,\n",
      "       0.36059577, 0.38762825, 0.38821283, 0.38607268, 0.38570145,\n",
      "       0.3873873 , 0.38998162, 0.40721485, 0.40760597, 0.40799435,\n",
      "       0.41395102, 0.41209605, 0.41197659, 0.43017767, 0.43052481,\n",
      "       0.43957041, 0.44042201, 0.44013252, 0.43896676, 0.43505486,\n",
      "       0.45461987, 0.45603056, 0.46267364, 0.45437819, 0.45547284,\n",
      "       0.44924626, 0.4674801 , 0.47915053, 0.47961034, 0.48186265,\n",
      "       0.48534767]), 'split2_test_score': array([0.25438345, 0.25040292, 0.25320789, 0.25296753, 0.25165794,\n",
      "       0.2524666 , 0.2780574 , 0.27375081, 0.2803315 , 0.27657387,\n",
      "       0.279962  , 0.27643445, 0.28567222, 0.30226577, 0.30253973,\n",
      "       0.30256968, 0.30300158, 0.30387841, 0.31655088, 0.33242792,\n",
      "       0.33285059, 0.33196959, 0.3314794 , 0.33073609, 0.33645688,\n",
      "       0.35815945, 0.36389514, 0.36204902, 0.35987924, 0.36150365,\n",
      "       0.35600378, 0.35475104, 0.38453735, 0.38234756, 0.38249808,\n",
      "       0.38262555]), 'split3_test_score': array([0.4574083 , 0.45747974, 0.45749292, 0.45792033, 0.45813252,\n",
      "       0.45794051, 0.46290273, 0.46984069, 0.4700917 , 0.47217932,\n",
      "       0.47171507, 0.47004842, 0.47614108, 0.47906399, 0.4824882 ,\n",
      "       0.48205737, 0.48121204, 0.48248688, 0.4814585 , 0.48691993,\n",
      "       0.48907806, 0.49152119, 0.49059616, 0.49028529, 0.48857228,\n",
      "       0.4884962 , 0.49607015, 0.4945496 , 0.50044642, 0.5019344 ,\n",
      "       0.47466673, 0.49004805, 0.50050911, 0.50305737, 0.50477963,\n",
      "       0.50816819]), 'split4_test_score': array([0.65717525, 0.65756223, 0.6579705 , 0.65861892, 0.65809502,\n",
      "       0.65773419, 0.66821501, 0.66609147, 0.66698432, 0.66834004,\n",
      "       0.66836195, 0.66862459, 0.66769621, 0.67198739, 0.67053217,\n",
      "       0.67222777, 0.67379453, 0.67185393, 0.67494226, 0.67493159,\n",
      "       0.67640678, 0.67841813, 0.67776465, 0.67815003, 0.66314226,\n",
      "       0.68411656, 0.68087695, 0.68120336, 0.68096382, 0.6813562 ,\n",
      "       0.66681629, 0.67730108, 0.68259749, 0.6816123 , 0.69006951,\n",
      "       0.68841862]), 'split5_test_score': array([0.64571654, 0.64505015, 0.64501728, 0.64522403, 0.64564009,\n",
      "       0.64514678, 0.65736938, 0.66014575, 0.65851054, 0.66096445,\n",
      "       0.66103207, 0.66039964, 0.66401879, 0.66535741, 0.66545703,\n",
      "       0.66650188, 0.66629933, 0.66605789, 0.6685943 , 0.67275097,\n",
      "       0.67389973, 0.67644445, 0.67770507, 0.67464357, 0.67286489,\n",
      "       0.67534741, 0.67911463, 0.68221446, 0.68217277, 0.68372285,\n",
      "       0.66934388, 0.68320363, 0.68109655, 0.69226538, 0.68552798,\n",
      "       0.68335821]), 'split6_test_score': array([0.60387825, 0.60355173, 0.60314077, 0.60366136, 0.60365878,\n",
      "       0.60344496, 0.64879868, 0.64672204, 0.64781476, 0.64907677,\n",
      "       0.64703461, 0.64800319, 0.6548511 , 0.65724437, 0.65894103,\n",
      "       0.66077209, 0.66167956, 0.66182024, 0.66020251, 0.66612951,\n",
      "       0.66887664, 0.66934774, 0.66920279, 0.66662769, 0.66353056,\n",
      "       0.66023424, 0.6713601 , 0.67235671, 0.67451361, 0.67305722,\n",
      "       0.65168573, 0.66248838, 0.66305124, 0.67372607, 0.67525877,\n",
      "       0.67584975]), 'split7_test_score': array([0.60390013, 0.60479607, 0.60520936, 0.60498372, 0.60479679,\n",
      "       0.60447004, 0.64248121, 0.65746186, 0.66324065, 0.65863464,\n",
      "       0.6613812 , 0.66148043, 0.67844737, 0.68026093, 0.67670949,\n",
      "       0.68555205, 0.68049249, 0.68264713, 0.69179389, 0.6919819 ,\n",
      "       0.69510682, 0.69677912, 0.70019756, 0.69877904, 0.69128846,\n",
      "       0.69470252, 0.70324985, 0.69965534, 0.70543496, 0.70696274,\n",
      "       0.68088267, 0.69054977, 0.70109072, 0.70368952, 0.71304714,\n",
      "       0.71065626]), 'split8_test_score': array([0.58884042, 0.5880897 , 0.58987855, 0.58942293, 0.58942857,\n",
      "       0.58865544, 0.637103  , 0.63257103, 0.63644105, 0.63883659,\n",
      "       0.63899377, 0.62961574, 0.64322653, 0.64188947, 0.64962586,\n",
      "       0.65222064, 0.65218055, 0.65027691, 0.64760308, 0.65432893,\n",
      "       0.6568607 , 0.657011  , 0.65713317, 0.65904672, 0.64205455,\n",
      "       0.65729828, 0.65524562, 0.66216864, 0.66358652, 0.66888671,\n",
      "       0.64035547, 0.65409968, 0.66658503, 0.66751441, 0.66645267,\n",
      "       0.67013078]), 'split9_test_score': array([0.62500447, 0.62514793, 0.62483648, 0.62509337, 0.62519435,\n",
      "       0.62518885, 0.67939282, 0.68504152, 0.68922049, 0.68956066,\n",
      "       0.68879296, 0.68805285, 0.68961397, 0.69945131, 0.70018001,\n",
      "       0.70122837, 0.69837222, 0.69901617, 0.69466022, 0.70195885,\n",
      "       0.70223077, 0.70067919, 0.70917297, 0.70605255, 0.69119151,\n",
      "       0.70101169, 0.70555125, 0.70633783, 0.71064819, 0.7138623 ,\n",
      "       0.6680433 , 0.69662493, 0.70229471, 0.70717897, 0.7134179 ,\n",
      "       0.70999161]), 'mean_test_score': array([0.52655523, 0.52599344, 0.52653886, 0.52671484, 0.52649703,\n",
      "       0.52639751, 0.55550533, 0.55731247, 0.55932749, 0.55915302,\n",
      "       0.55982039, 0.55858448, 0.56702665, 0.57088322, 0.572192  ,\n",
      "       0.57451085, 0.57345316, 0.57357413, 0.57827838, 0.58294825,\n",
      "       0.58600733, 0.58672054, 0.58787134, 0.58733747, 0.58178786,\n",
      "       0.59130984, 0.59548919, 0.59693562, 0.59772655, 0.59917357,\n",
      "       0.5786792 , 0.59265754, 0.60133885, 0.60472087, 0.60768002,\n",
      "       0.60755214]), 'std_test_score': array([0.12903279, 0.13005647, 0.1294665 , 0.12949957, 0.12983174,\n",
      "       0.12946174, 0.13378365, 0.13533635, 0.13523434, 0.13626371,\n",
      "       0.13529741, 0.13528163, 0.13323337, 0.13110887, 0.13080633,\n",
      "       0.13136732, 0.13116734, 0.13086692, 0.12610901, 0.12413014,\n",
      "       0.12321451, 0.12350915, 0.12483126, 0.1242429 , 0.11912281,\n",
      "       0.11568973, 0.11532863, 0.11536701, 0.11746551, 0.11769461,\n",
      "       0.11095166, 0.11358696, 0.10754413, 0.10971017, 0.11054122,\n",
      "       0.10934421]), 'rank_test_score': array([32, 36, 33, 31, 34, 35, 30, 29, 26, 27, 25, 28, 24, 23, 22, 19, 21,\n",
      "       20, 18, 15, 14, 13, 11, 12, 16, 10,  8,  7,  6,  5, 17,  9,  4,  3,\n",
      "        1,  2], dtype=int32)}\n"
     ]
    }
   ],
   "source": [
    "print(\"Best estimators: \", grid.best_estimator_)\n",
    "print(\"Best parameters: \", grid.best_params_)\n",
    "print(\"CV results: \", grid.cv_results_)"
   ]
  },
  {
   "cell_type": "code",
   "execution_count": 63,
   "metadata": {},
   "outputs": [],
   "source": [
    "X_test = test.drop('inspection_score', axis=1)\n",
    "y_test = test['inspection_score'] "
   ]
  },
  {
   "cell_type": "code",
   "execution_count": 64,
   "metadata": {},
   "outputs": [
    {
     "data": {
      "text/plain": [
       "array([ 0,  1, 55, ..., 12, 10, 82])"
      ]
     },
     "execution_count": 64,
     "metadata": {},
     "output_type": "execute_result"
    }
   ],
   "source": [
    "model = RandomForestRegressor(bootstrap=True, criterion='mse', max_depth=13,\n",
    "                      max_features='auto', max_leaf_nodes=None,\n",
    "                      min_impurity_decrease=0.0, min_impurity_split=None,\n",
    "                      min_samples_leaf=1, min_samples_split=2,\n",
    "                      min_weight_fraction_leaf=0.0, n_estimators=30,\n",
    "                      n_jobs=None, oob_score=False, random_state=None,\n",
    "                      verbose=0, warm_start=False)\n",
    "\n",
    "model.fit(X_train, y_train)\n",
    "y_pred = model.predict(X_test)\n",
    "y_pred = np.array(y_pred, dtype='int')\n",
    "y_pred[y_pred > 100] = 100 # the maximum can be only 100.\n",
    "y_pred"
   ]
  },
  {
   "cell_type": "code",
   "execution_count": 65,
   "metadata": {},
   "outputs": [
    {
     "data": {
      "text/plain": [
       "DescribeResult(nobs=10774, minmax=(0, 99), mean=62.38787822535734, variance=916.0113298891889, skewness=-1.146380655116475, kurtosis=-0.4831125908639291)"
      ]
     },
     "execution_count": 65,
     "metadata": {},
     "output_type": "execute_result"
    }
   ],
   "source": [
    "from scipy import stats\n",
    "stats.describe(y_pred)"
   ]
  },
  {
   "cell_type": "code",
   "execution_count": 66,
   "metadata": {},
   "outputs": [],
   "source": [
    "names = X_train.columns"
   ]
  },
  {
   "cell_type": "code",
   "execution_count": 67,
   "metadata": {},
   "outputs": [
    {
     "name": "stdout",
     "output_type": "stream",
     "text": [
      "[(0.703989386, 'violation_description_num'), (0.117877252, 'business_id'), (0.049016398, 'week_year'), (0.038640868, 'Day'), (0.032442903, 'business_postal_code'), (0.021727143, 'weekday_num'), (0.010690966, 'Neighborhoods (old)'), (0.01066583, 'Fire Prevention Districts'), (0.007758749, 'Police Districts'), (0.007190506, 'Supervisor Districts')]\n"
     ]
    }
   ],
   "source": [
    "#feature importance\n",
    "print(sorted(zip(map(lambda x: round(x, 9), model.feature_importances_), names), reverse=True))"
   ]
  },
  {
   "cell_type": "code",
   "execution_count": 68,
   "metadata": {},
   "outputs": [],
   "source": [
    "df_test['inspection_score'] = y_pred"
   ]
  },
  {
   "cell_type": "code",
   "execution_count": 69,
   "metadata": {},
   "outputs": [
    {
     "data": {
      "text/plain": [
       "0         0\n",
       "1         1\n",
       "2        55\n",
       "3        16\n",
       "4        72\n",
       "         ..\n",
       "10769    82\n",
       "10770    76\n",
       "10771    12\n",
       "10772    10\n",
       "10773    82\n",
       "Name: inspection_score, Length: 10774, dtype: int64"
      ]
     },
     "execution_count": 69,
     "metadata": {},
     "output_type": "execute_result"
    }
   ],
   "source": [
    "df_test['inspection_score']"
   ]
  },
  {
   "cell_type": "code",
   "execution_count": 70,
   "metadata": {},
   "outputs": [],
   "source": [
    "np.savetxt(\"preds.csv\", df_test['inspection_score'], delimiter=\"\\n\")"
   ]
  },
  {
   "cell_type": "code",
   "execution_count": 83,
   "metadata": {},
   "outputs": [],
   "source": [
    "np.savetxt(\"preds_otherformat.csv\", df_test['inspection_score'], delimiter=\",\")"
   ]
  },
  {
   "cell_type": "markdown",
   "metadata": {},
   "source": [
    "#### Visualizations"
   ]
  },
  {
   "cell_type": "code",
   "execution_count": 82,
   "metadata": {},
   "outputs": [
    {
     "data": {
      "image/png": "[encoded data removed]",
      "text/plain": [
       "<Figure size 1440x1080 with 20 Axes>"
      ]
     },
     "metadata": {
      "needs_background": "light"
     },
     "output_type": "display_data"
    }
   ],
   "source": [
    "import matplotlib.pyplot as plt\n",
    "%matplotlib inline\n",
    "\n",
    "temp = df[df.inspection_score>0]\n",
    "temp.hist(bins=50, figsize=(20,15))\n",
    "plt.show()"
   ]
  },
  {
   "cell_type": "code",
   "execution_count": 81,
   "metadata": {},
   "outputs": [
    {
     "data": {
      "image/png": "[encoded data removed]",
      "text/plain": [
       "<Figure size 1440x1080 with 1 Axes>"
      ]
     },
     "metadata": {
      "needs_background": "light"
     },
     "output_type": "display_data"
    }
   ],
   "source": [
    "temp.inspection_score.hist(bins=50, figsize=(20,15))\n",
    "plt.show()"
   ]
  },
  {
   "cell_type": "code",
   "execution_count": 74,
   "metadata": {},
   "outputs": [
    {
     "data": {
      "text/plain": [
       "10"
      ]
     },
     "execution_count": 74,
     "metadata": {},
     "output_type": "execute_result"
    }
   ],
   "source": [
    "names.shape[0]"
   ]
  },
  {
   "cell_type": "code",
   "execution_count": 77,
   "metadata": {},
   "outputs": [
    {
     "data": {
      "image/png": "[encoded data removed]",
      "text/plain": [
       "<Figure size 432x288 with 1 Axes>"
      ]
     },
     "metadata": {
      "needs_background": "light"
     },
     "output_type": "display_data"
    }
   ],
   "source": [
    "import matplotlib.pyplot as plt\n",
    "%matplotlib inline\n",
    "\n",
    "plt.figure()\n",
    "plt.title(\"Feature importances\")\n",
    "importances = model.feature_importances_\n",
    "indices = np.argsort(importances)\n",
    "std = np.std([feat.feature_importances_ for feat in model.estimators_],\n",
    "             axis=0)\n",
    "plt.barh(range(names.shape[0]), importances[indices],\n",
    "       color=\"r\", xerr=std[indices], align=\"center\")\n",
    "# If you want to define your own labels,\n",
    "# change indices to a list of labels on the following line.\n",
    "plt.yticks(range(names.shape[0]), names)\n",
    "plt.ylim([-1, names.shape[0]])\n",
    "plt.show()"
   ]
  },
  {
   "cell_type": "code",
   "execution_count": null,
   "metadata": {},
   "outputs": [],
   "source": []
  }
 ],
 "metadata": {
  "kernelspec": {
   "display_name": "Python 3",
   "language": "python",
   "name": "python3"
  },
  "language_info": {
   "codemirror_mode": {
    "name": "ipython",
    "version": 3
   },
   "file_extension": ".py",
   "mimetype": "text/x-python",
   "name": "python",
   "nbconvert_exporter": "python",
   "pygments_lexer": "ipython3",
   "version": "3.6.8"
  }
 },
 "nbformat": 4,
 "nbformat_minor": 2
}
